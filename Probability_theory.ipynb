{
  "nbformat": 4,
  "nbformat_minor": 0,
  "metadata": {
    "colab": {
      "provenance": [],
      "toc_visible": true,
      "authorship_tag": "ABX9TyMtIodtTs6/HQHx+Ri5shTf",
      "include_colab_link": true
    },
    "kernelspec": {
      "name": "python3",
      "display_name": "Python 3"
    },
    "language_info": {
      "name": "python"
    }
  },
  "cells": [
    {
      "cell_type": "markdown",
      "metadata": {
        "id": "view-in-github",
        "colab_type": "text"
      },
      "source": [
        "<a href=\"https://colab.research.google.com/github/Felgaba/Math_Programming_Yandex_OZON/blob/main/Probability_theory.ipynb\" target=\"_parent\"><img src=\"https://colab.research.google.com/assets/colab-badge.svg\" alt=\"Open In Colab\"/></a>"
      ]
    },
    {
      "cell_type": "markdown",
      "metadata": {
        "id": "04e29b0f"
      },
      "source": [
        "## **Теория вероятности**"
      ]
    },
    {
      "cell_type": "markdown",
      "source": [
        "#### **Принцип Дирихле**\n",
        "&ensp; Если 5 кроликов помещены в 4 клетки, то в одной из клеток находятся не менее 2-х кроликов; или, другими словами, нельзя посадить 5 кроликов в 4 клетки так, чтобы в каждой клетке находилось не более 1-го кролика. Или $(2n+1)$ кролик помещён в $n$ клетках, то, по крайней мере,в 1-й клетке находятся не менее 3-х кроликов.  \n",
        "В общем случае принцип Дирихле говорит: если $(kn+1)$ кролик помещён в $n$ клетках, то в одной из клеток находятся не менее $(k+1)$ кролика."
      ],
      "metadata": {
        "id": "z36oDsZg-k3F"
      }
    },
    {
      "cell_type": "markdown",
      "source": [
        "**1)** Можно ли в клетках квадратной таблицы $5 \\times 5$ расставить числа $0, +1, -1$ так, чтобы все суммы в каждом столбце, в каждой строке и на каждой из двух диагоналей были различны?  \n"
      ],
      "metadata": {
        "id": "e3oXs1IgEZ_x"
      }
    },
    {
      "cell_type": "markdown",
      "source": [
        "&ensp; Допустим такая расстановка возможна, тогда можно составить  \n",
        "$$5 \\space (строк) + 5 \\space (столбцов) + 2 \\space (диагонали) = 12$$\n",
        "различных сумм чисел. Но из чисел $0, +1, -1$ можно составить только $11$ их сумм от $-5$ $5\\cdot(-1)$ до $5\\cdot(+1)$.  \n",
        "&ensp; Таком образом 12 \"ячеек\" (кроликов) *нельзя* разместить на 11 сумм (клеток)."
      ],
      "metadata": {
        "id": "xVAY_klvFMpg"
      }
    },
    {
      "cell_type": "markdown",
      "source": [
        "**2)** В ряд выписано пять натуральных чисел: $a_1, a_2, a_3, a_4, a_5$. Докажите, что либо одно из них делится на 5, либо сумма нескольких рядом стоящих чисел* делится на 5.   \n",
        "' * нескольких рядом стоящих == любая комбинация от 2-х до 5-и чисел, составленная без пропусков: $a_1a_2$, $a_2a_3$ или $a_3a_4a_5$ подходит, НО $a_2a_4a_5$ - нет."
      ],
      "metadata": {
        "id": "2MurmCoiISvp"
      }
    },
    {
      "cell_type": "markdown",
      "source": [
        "Рассмотрим пять чисел:  \n",
        "$$a_1, (a_1+a_2), (a_1+a_2+a_3), (a_1+a_2+a_3+a_4), (a_1+a_2+a_3+a_4+a_5)$$\n",
        "&ensp; Если одно из них днлится на 5, то доказывать нечего. В противнос случае, при делении на 5 они дают в остатке какие-то из четырёх чисел: $1, 2, 3, 4$. По принципу Дирихле остатки, по крайней мере, двух из выписанных 5 чисел совпадут (5 чисел распределить на 4 остатка).  \n",
        "&ensp; Разность двух таких чисел, тем самым, делится на 5 (остаток равен нулю). Но эта разность - либо одно из чисел, данных в задаче, либо сумма нескольких из них, стоящих рядом. "
      ],
      "metadata": {
        "id": "1aKJek4fKEtE"
      }
    },
    {
      "cell_type": "markdown",
      "source": [
        "**3)** Имеется 6 точек на плоскости, никакие 3 из которых не лежат на одной прямой. Тем самым, имеется $C_6^2 = 15$ отрезков, которые эти точки соединяют попарно.  \n",
        "&ensp; Предположим, что все 15 отрезков окрашены либо в красный, либо в синий цвет. Докажите, что найдётся, по крайнем мере, один хроматический треугольник, т.е. такой, все стороны которого окрашены в один цвет. "
      ],
      "metadata": {
        "id": "43UG0uX6c8WU"
      }
    },
    {
      "cell_type": "markdown",
      "source": [
        "&ensp; Выберем какую-либо точку $A$ и рассмотрим $AB, AC, AD, AE, AF$, которые содержат $A$:  \n",
        "![](https://drive.google.com/uc?export=view&id=1a0zG3uhL8duvROomFL6nfXZ0seQYstEQ)"
      ],
      "metadata": {
        "id": "Z6fskObxeqdN"
      }
    },
    {
      "cell_type": "markdown",
      "source": [
        "&ensp; По принципу Дирихле, по крайней мере, три из этих пяти отрезков окрашены в один (например, красный) цвет: 5 отрезков на 2 цвета. Пусть это отрезки $AB, AC, AD$ (*это не приводит к потере общности, т.к. мы всегда можем переобозначить точки*). Выбор цвета также не играет роли, так как, перекрасив все отрезки синего цвета в красный и наоборот, мы получим другую раскраску, никак не влияющую на ситуацию с существованием одноцветного треугольника."
      ],
      "metadata": {
        "id": "rH2O1GI0hbbk"
      }
    },
    {
      "cell_type": "markdown",
      "source": [
        "![](https://drive.google.com/uc?export=view&id=19rusLPlG-pl-WrJzuHxcIcGqpe_F70mW)  \n",
        "&ensp; Рассмотрим треугольник $\\Delta BCD$. Имеется две возможности: или все его стороны синие, или, по крайней мере, одна из его сторон красная. В первом случае $\\Delta BCD$ искомый, а во втором - если, например, сторона $BC$ красная, то треугольник $\\Delta ABC$ хроматический."
      ],
      "metadata": {
        "id": "dJZcOxTglqIJ"
      }
    },
    {
      "cell_type": "markdown",
      "source": [
        "##### **Замечание**  "
      ],
      "metadata": {
        "id": "jE_6FxDKr4mj"
      }
    },
    {
      "cell_type": "markdown",
      "source": [
        "![](https://drive.google.com/uc?export=view&id=1atf7Fx10JWYRiVZDYvkNme-X9Hor7JyP)  \n",
        "&ensp; Число 6 является наименьшим числом, которое обеспечивает существование хроматического треугольника, так как на рис. выше *нельзя* выбрать хроматического треугольника, если стороны пятиугольника покрашены в один цвет, а его диагонали - в другой."
      ],
      "metadata": {
        "id": "3Uis6YbQruzp"
      }
    },
    {
      "cell_type": "markdown",
      "source": [
        "**4)** Верно ли, что из ста произвольных целых чисел всегда можно выбрать 15 таких, у которых разность любых двух делится на 7? А 16 таких чисел?"
      ],
      "metadata": {
        "id": "4rZRbm5Y7Ii1"
      }
    },
    {
      "cell_type": "markdown",
      "source": [
        "**Свойство:** разность двух чисел делится на 7 в том и только в том случае, когда равны остатки от деления на 7 (13 и 20, например).  \n",
        "&ensp; При делении на 7 существует семь возможных остатков: 0, 1, 2, 3, 4, 5, 6. Допустим, что *нельзя* выбрать 15 нужных чисел из 100. Это значит, что не более 14 чисел - остаток 1, аналогично - остатки 2, 3, 4, 5, 6. Но тогда всего получается не более чем $14 \\cdot 7 = 98 < 100$ чисел, т.е. **наше допущение неверно**.  \n",
        "**ЗЫ:** По принципу Дирихле мы получаем, что в 7 ячеек (остатков) размещаем 100 элементов, тогда получим, что $7k+1 = 100$, откуда целочисленное решение $k = 14$ (остаток от деления равен 2) $\\Rightarrow$ найдётся хотя бы 1 клетка, где будет $k+1 = 14+1 = 15$ элементов."
      ],
      "metadata": {
        "id": "NEcgZkmr7NsW"
      }
    },
    {
      "cell_type": "markdown",
      "source": [
        "&ensp; **Нельзя**. Покажем это: в наборе $[1, 100]$ имеется **1)** 14 чисел с остатком 0; **2)** по 15 чисел, дающих в остатке 1 или 2; **3)** по 14 чисел, дающих в остатке 3, 4, 5, 6.  \n",
        "Мы перебрали все возможные остатки, и можно заметить, что ни один набор не содержит более 15 элементов $\\Rightarrow$ не существует 16 чисел, разность которых делится на 7. "
      ],
      "metadata": {
        "id": "lK3TNidGByxD"
      }
    },
    {
      "cell_type": "markdown",
      "source": [
        "#### **Сочетания-перестановки**"
      ],
      "metadata": {
        "id": "kKvwPc3TQcsQ"
      }
    },
    {
      "cell_type": "markdown",
      "source": [
        "**1)** Сколько автомобилей в **одном регионе** можно обеспечить государственными регистрационными знаками, если каждый регистрационный знак состоит из кода региона, трёх букв, имеющих одинаковое начертание как в русском, так и в латинском алфавите (\"А\", \"В\", \"Е\", \"К\", \"М\", \"Н\", \"О\", \"Р\", \"С\", \"Т\", \"У\", \"Х\"), и трёх цифр?"
      ],
      "metadata": {
        "id": "BjTM71S_Qi1j"
      }
    },
    {
      "cell_type": "markdown",
      "source": [
        "* 3 буквы: $12 \\cdot 12 \\cdot 12 = 12^3$  \n",
        "* 3 цифры: $10 \\cdot 10 \\cdot 10 = 10^3$  \n",
        "* Всего: $1 \\space 728 \\space 000$"
      ],
      "metadata": {
        "id": "dzvt0_qTRShw"
      }
    },
    {
      "cell_type": "markdown",
      "source": [
        "**2)** В сессию в течение 20 дней студенты одной группы должны сдать 5 экзаменов. Сколькими способами можно составить расписание экзаменов, если между двумя экзаменами должен пройти хотя бы один день для подготовки? [link, p. 36](https://books.google.ru/books?id=JiFVEAAAQBAJ&pg=PA36&lpg=PA36&dq=%D0%92+%D1%81%D0%B5%D1%81%D1%81%D0%B8%D1%8E+%D0%B2+%D1%82%D0%B5%D1%87%D0%B5%D0%BD%D0%B8%D0%B5+20+%D0%B4%D0%BD%D0%B5%D0%B9+%D1%81%D1%82%D1%83%D0%B4%D0%B5%D0%BD%D1%82%D1%8B+%D0%BE%D0%B4%D0%BD%D0%BE%D0%B9+%D0%B3%D1%80%D1%83%D0%BF%D0%BF%D1%8B+%D0%B4%D0%BE%D0%BB%D0%B6%D0%BD%D1%8B+%D1%81%D0%B4%D0%B0%D1%82%D1%8C+5+%D1%8D%D0%BA%D0%B7%D0%B0%D0%BC%D0%B5%D0%BD%D0%BE%D0%B2.+%D0%A1%D0%BA%D0%BE%D0%BB%D1%8C%D0%BA%D0%B8%D0%BC%D0%B8+%D1%81%D0%BF%D0%BE%D1%81%D0%BE%D0%B1%D0%B0%D0%BC%D0%B8+%D0%BC%D0%BE%D0%B6%D0%BD%D0%BE+%D1%81%D0%BE%D1%81%D1%82%D0%B0%D0%B2%D0%B8%D1%82%D1%8C+%D1%80%D0%B0%D1%81%D0%BF%D0%B8%D1%81%D0%B0%D0%BD%D0%B8%D0%B5+%D1%8D%D0%BA%D0%B7%D0%B0%D0%BC%D0%B5%D0%BD%D0%BE%D0%B2,+%D0%B5%D1%81%D0%BB%D0%B8+%D0%BC%D0%B5%D0%B6%D0%B4%D1%83+%D0%B4%D0%B2%D1%83%D0%BC%D1%8F+%D1%8D%D0%BA%D0%B7%D0%B0%D0%BC%D0%B5%D0%BD%D0%B0%D0%BC%D0%B8+%D0%B4%D0%BE%D0%BB%D0%B6%D0%B5%D0%BD+%D0%BF%D1%80%D0%BE%D0%B9%D1%82%D0%B8+%D1%85%D0%BE%D1%82%D1%8F+%D0%B1%D1%8B+%D0%BE%D0%B4%D0%B8%D0%BD+%D0%B4%D0%B5%D0%BD%D1%8C+%D0%B4%D0%BB%D1%8F+%D0%BF%D0%BE%D0%B4%D0%B3%D0%BE%D1%82%D0%BE%D0%B2%D0%BA%D0%B8&source=bl&ots=GII2lj9LGh&sig=ACfU3U2OutA1sh4GJNJU6PTZWwO4z3828Q&hl=ru&sa=X&ved=2ahUKEwjnwabnzL73AhXxoosKHZM_AHQQ6AF6BAgsEAM#v=onepage&q=%D0%92%20%D1%81%D0%B5%D1%81%D1%81%D0%B8%D1%8E%20%D0%B2%20%D1%82%D0%B5%D1%87%D0%B5%D0%BD%D0%B8%D0%B5%2020%20%D0%B4%D0%BD%D0%B5%D0%B9%20%D1%81%D1%82%D1%83%D0%B4%D0%B5%D0%BD%D1%82%D1%8B%20%D0%BE%D0%B4%D0%BD%D0%BE%D0%B9%20%D0%B3%D1%80%D1%83%D0%BF%D0%BF%D1%8B%20%D0%B4%D0%BE%D0%BB%D0%B6%D0%BD%D1%8B%20%D1%81%D0%B4%D0%B0%D1%82%D1%8C%205%20%D1%8D%D0%BA%D0%B7%D0%B0%D0%BC%D0%B5%D0%BD%D0%BE%D0%B2.%20%D0%A1%D0%BA%D0%BE%D0%BB%D1%8C%D0%BA%D0%B8%D0%BC%D0%B8%20%D1%81%D0%BF%D0%BE%D1%81%D0%BE%D0%B1%D0%B0%D0%BC%D0%B8%20%D0%BC%D0%BE%D0%B6%D0%BD%D0%BE%20%D1%81%D0%BE%D1%81%D1%82%D0%B0%D0%B2%D0%B8%D1%82%D1%8C%20%D1%80%D0%B0%D1%81%D0%BF%D0%B8%D1%81%D0%B0%D0%BD%D0%B8%D0%B5%20%D1%8D%D0%BA%D0%B7%D0%B0%D0%BC%D0%B5%D0%BD%D0%BE%D0%B2%2C%20%D0%B5%D1%81%D0%BB%D0%B8%20%D0%BC%D0%B5%D0%B6%D0%B4%D1%83%20%D0%B4%D0%B2%D1%83%D0%BC%D1%8F%20%D1%8D%D0%BA%D0%B7%D0%B0%D0%BC%D0%B5%D0%BD%D0%B0%D0%BC%D0%B8%20%D0%B4%D0%BE%D0%BB%D0%B6%D0%B5%D0%BD%20%D0%BF%D1%80%D0%BE%D0%B9%D1%82%D0%B8%20%D1%85%D0%BE%D1%82%D1%8F%20%D0%B1%D1%8B%20%D0%BE%D0%B4%D0%B8%D0%BD%20%D0%B4%D0%B5%D0%BD%D1%8C%20%D0%B4%D0%BB%D1%8F%20%D0%BF%D0%BE%D0%B4%D0%B3%D0%BE%D1%82%D0%BE%D0%B2%D0%BA%D0%B8&f=false)"
      ],
      "metadata": {
        "id": "LdoBp8TQXWUM"
      }
    },
    {
      "cell_type": "markdown",
      "source": [
        "&ensp; Среди имеющихся 20 дней есть 4 дня, в которые *нельзя* проводить экзамен (после 1-4 экзаменов), но при этом каждый набор выглядит как размещение из 16 по 5 (с плавающими \"запретными\" днями), так как порядок проведения имеет значение. $A_{20-4}^{5} = \\frac{16!}{(16-11)!} = 524 160$  \n",
        "**ЗЫ:** пояснение, почему 5 подряд экзаменов в 16 днях не совсем то, чем кажутся.  Можно взять изначально 16 дней (без привязки к календарю и летоисчислению), как-то расставить 5 экзаменов, а потом после первых 4-х вставить day-off, чтобы добрать до 20 дней. Итого, в любой расстановке будет минимум 1 день для подготовки."
      ],
      "metadata": {
        "id": "wgX4lauOYRyD"
      }
    },
    {
      "cell_type": "markdown",
      "source": [
        "**3)** В конкурсе по 3 номинациям участвуют 10 кинофильмов. Вычислите число вариантов распределения призов, если призы в разных номинациях:  \n",
        "&ensp; **a)** различны;  \n",
        "&ensp; **б)** одинаковы."
      ],
      "metadata": {
        "id": "kMKc-si7SY5C"
      }
    },
    {
      "cell_type": "markdown",
      "source": [
        "а) Для различных призов имеет значение порядок $\\Rightarrow$ размещения: $10^3 = 1000$  \n",
        "б) Могут оказаться одинаковые, и отличающиеся друг от друга только составом элементов $\\Rightarrow$ Сочетаниями с повторениями из n элементов по k: $C_{n+k-1}^{k} = C_{12}^{3} = 220$"
      ],
      "metadata": {
        "id": "bt39HQCzS6pA"
      }
    },
    {
      "cell_type": "markdown",
      "metadata": {
        "id": "5756612d"
      },
      "source": [
        "**3)** События $A, B, C$ имеют одинаковые вероятности $p$, попарно независимы, но не являются независимыми в совокупности,  \n",
        "$$ \\mathbb{P}(A \\cap B \\cap C) = 0 $$\n",
        "Каково наибольшее значение $p$?"
      ]
    },
    {
      "cell_type": "markdown",
      "metadata": {
        "id": "b3c1102e"
      },
      "source": [
        "* $\\left\\{\n",
        "    \\begin{array}\\\\\n",
        "        \\mathbb{P}(A) = \\mathbb{P}(B) = \\mathbb{P}(C) = p \\\\\n",
        "        \\mathbb{P}(AB) = p^2 \\\\\n",
        "        \\mathbb{P}(ABC) = 0 \\neq p^3\n",
        "    \\end{array}\n",
        "\\right. $  \n",
        "* Задача состоит в $\\{ max(p^2) | p^3 \\neq 0, p \\neq 1 \\}$  \n",
        "* Воспользуемся свойством для объединения событий: $\\mathbb{P}(A \\cup B \\cup C) = \\sum_{j=1}^{3} p_{i}-\\sum_{j=1}^{3} p^2_{i}+\\mathbb{P}(A \\cap B \\cap C) = -3p^2+3p \\leq 1 \\Rightarrow 3p^2-3p+1 \\geq 0$\n",
        "* $max(3p^2-3p+1)$ через производную функции: $p = \\frac{1}{2}$ (подставим найденное решение в функцию и сравним с нулём: $\\frac{1}{4} > 0$)  \n",
        " **Ответ:** $p = \\frac{1}{2}$"
      ]
    },
    {
      "cell_type": "markdown",
      "source": [
        "[Statistics Lecture notes](https://www.stat.cmu.edu/~cshalizi/mreg/15/)"
      ],
      "metadata": {
        "id": "ldFUCMhLESsE"
      }
    },
    {
      "cell_type": "markdown",
      "source": [
        "**4)** У банка $n = 4$ учредителей. Регистрационные документы хранятся в сейфе. Определим, сколько замков должен иметь сейф и сколько ключей к ним нужно изготовить, чтобы доступ к содержимому сейфа был возможен только тогда, когда соберётся не менее $m = 3$ учредителей?  \n",
        "**ЗЫ:** в оригинале задачи рассматриваются $9$ учредителей и не менее $6$ должны собраться, чтобы открыть сейф."
      ],
      "metadata": {
        "id": "nlDGMPy_ORDa"
      }
    },
    {
      "cell_type": "markdown",
      "source": [
        "&ensp; Не менее $3$ учредителей могут открыть сейф $\\Rightarrow$ $2$ учредителя не могут $\\Rightarrow$ на каждую двойку должен приходиться хотя бы $1$ замок, который они не могут открыть $\\Rightarrow$ всего количество двоек из $4$ человек равно числу сочетаний без повторений $C_4^2=\\dfrac{4!}{2!(4-2)!}=6 \\Rightarrow$ замков должно быть не менее $6$. Также можно рассмотреть как подсчёт от обратного: кол-ва неоткрытых замков для каждой пары: каждой двойке соответствует \"свой\" замок\" - поочерёдно считая эти замки, получаем, что прошли по всем замкам, т.е всего их $6$).  \n",
        "&ensp; А что по количеству ключей? По условию любая тройка сможет открыть сейф, т.е оставшиеся учредители (не выбранные в двойке) имеют ключ от заветного замка: для каждой двойки имеем $2$ ключа от нужного замка; \"прокручиваем\" по всем возможным двойкам и получаем, что всего ключей $2 \\cdot 6 = 12$.  \n"
      ],
      "metadata": {
        "id": "NfJSchrjO5vb"
      }
    },
    {
      "cell_type": "code",
      "source": [
        "import scipy.special\n",
        "def n_keys(n, m):\n",
        "  lock_number  = scipy.special.comb(n, m-1)\n",
        "  keys_number = lock_number * (n - (m-1) )\n",
        "  return lock_number, keys_number"
      ],
      "metadata": {
        "id": "6DDhRN8OBnj4"
      },
      "execution_count": null,
      "outputs": []
    },
    {
      "cell_type": "code",
      "source": [
        "n_keys(4, 3)\n",
        "#n_keys(9, 6)"
      ],
      "metadata": {
        "colab": {
          "base_uri": "https://localhost:8080/"
        },
        "id": "VuQ-1JzjDk_y",
        "outputId": "089265ee-97a1-43c5-e44f-a16877f8c1be"
      },
      "execution_count": null,
      "outputs": [
        {
          "output_type": "execute_result",
          "data": {
            "text/plain": [
              "(6.0, 12.0)"
            ]
          },
          "metadata": {},
          "execution_count": 11
        }
      ]
    },
    {
      "cell_type": "markdown",
      "source": [
        "### **[Задача о рассеянной секретарше](https://www.coursera.org/learn/theory-of-chances/lecture/FJtVC/1-10-zadacha-o-rassieiannoi-siekrietarshie)**"
      ],
      "metadata": {
        "id": "2HHgSu_Y5H_D"
      }
    },
    {
      "cell_type": "markdown",
      "source": [
        "&ensp; Есть $n$ писем и $n$ подписанных конвертов. Письма раскладываются в конверты наудачу по одному.\n",
        "Найти вероятность того, что хотя бы одно письмо попадёт в предназначенный ему конверт, и предел этой вероятности при $n \\rightarrow \\infty$."
      ],
      "metadata": {
        "id": "_zWI6yHY5SBN"
      }
    },
    {
      "cell_type": "markdown",
      "source": [
        "&ensp; Введём события $A_i$, $i = 1, 2, 3, . . . , n$: $A_i = \\{$i-ое письмо попало в свой конверт$\\}$. Тогда $A = \\{$хотя бы одно письмо попало в свой конверт$\\}=A_1 \\cup A_2 \\cup ... \\cup A_n$. Так как события $A_i$ совместны - нужно воспользоваться формулой для объединения $n$ событий.  \n",
        "&ensp; По классическому определению вероятности вычислим вероятности всех событий $A_i$ и их пересечений. Элементарными исходами будут всевозможные перестановки (размещения) $n$ писем по $n$ конвертам. Их общее число равно  \n",
        "$$|\\Omega| = n!$$\n",
        "и событию Ai благоприятны $(n − 1)!$ из них, а именно любые перестановки всех писем, кроме $i$-го, лежащего в своём конверте. Поэтому для всех $i$ имеем:  \n",
        "$$\\mathbb{P}(A_i) = \\frac{(n − 1)!}{n!} = \\frac{1}{n}.$$  \n",
        "Совершенно так же получим, что при любых $i \\neq j$:  \n",
        "$$\\mathbb{P}(A_i A_j) = \\frac{(n − 2)!}{n!} = \\frac{1}{n(n-1)}.$$\n",
        "Вероятность пересечения любых трёх событий равна:\n",
        "$$\\mathbb{P}(A_i A_j A_k) = \\frac{(n − 3)!}{n!} = \\frac{1}{n(n-1)(n-2}.$$\n",
        "Аналогично посчитаем вероятности пересечений любого другого числа событий, в том числе:\n",
        "$$\\mathbb{P}(A_1 A_2 ... A_n) = \\frac{1}{n!}.$$\n",
        "Вычислим количество слагаемых в каждой сумме в формуле объединения. Например, в сумме по $1 \\leq i < j < k \\leq n$ получится $C_n ^ 3$ слагаемых - ровно столько трёхэлементных множеств можно образовать из n элементов, и каждое такое множество $\\{i, j, k\\}$ встречается в индексах данной суммы единожды:  \n",
        "$\\mathbb{P}(A) = n \\cdot \\frac{1}{n} - C_n ^2 \\cdot \\frac{1}{n(n-1)} + C_n ^3 \\cdot \\frac{1}{n(n-1)(n-2)} - ... + (-1)^{n-1} \\cdot \\frac{1}{n!} = 1-\\frac{1}{2!} + \\frac{1}{3!} - ... + (-1)^{n-1} \\cdot \\frac{1}{n!} \\longrightarrow 1 - e^{-1}$ при $n \\rightarrow \\infty$\n",
        "**ЗЫ:** добавление пересечений после соответствующего вычитания нужно, чтоюы заполнить \"пробел\" на пересечении всех предыдущих элементов (хорошо демонстрируется на примере пересечения 3-х событий)."
      ],
      "metadata": {
        "id": "ZyP0bKqI5ig9"
      }
    },
    {
      "cell_type": "markdown",
      "source": [
        "### **[Задача о поделенном выигрыше](https://www.coursera.org/learn/theory-of-chances/lecture/552AI/1-1-zadacha-o-razdielie-stavki)**"
      ],
      "metadata": {
        "id": "DqpFnsyKbib5"
      }
    },
    {
      "cell_type": "markdown",
      "source": [
        "&ensp; **Усложнённый вариант задачи, разобранной по ссылке выше**.  \n",
        "Петя и Маша часто играют друг с другом в бильярд (смотрят, как играет 3-е лицо), причём Петя выигрывает в два раза чаще, чем Маша. Исходя из этого, они оценили свои вероятности победить как $\\frac{2}{3}$ - для Пети (шар закатили в лунку) и $\\frac{1}{3}$ - для Маши (шар не закатили в лунку).  \n",
        "* каждый выигрыш даёт 1 очко;\n",
        "* Пете нужно набрать 12 очков для победы;\n",
        "* Маше нужно набрать 6 очков.  \n",
        "Игру останавливают при счёте 8:4. Кому присудить победу исходя из вероятности выигрыша?"
      ],
      "metadata": {
        "id": "jwSkHoRObrNK"
      }
    },
    {
      "cell_type": "markdown",
      "source": [
        "&ensp; Минимальное число ударов для **однозначного** определения победителя равно пяти (отсутствие спорных исходов; полностью доопределить подпростарнство событий). Маша выигрывает при 3-х попаданиях и 2-х промахах. Петя выигрывает при 4-х попаданиях и 1-м промахе (т.к попыток так или иначе 5, то случай 5 попаданий и 0 промахов тоже котируется):  \n",
        "$$\\mathbb{P}(выигрыш \\space Пети) = \\mathbb{P}(0 \\space или \\space 1 \\space выигрыш \\space Маши) = C_5 ^ 0 \\left(\\frac{1}{3} \\right)^0 \\left(\\frac{2}{3} \\right)^5 + C_5 ^1 \\left(\\frac{1}{3} \\right)^1 \\left(\\frac{2}{3} \\right)^4 = \\frac{112}{243}$$\n",
        "$$\\mathbb{P}(выигрыш \\space Маши) = 1 - \\mathbb{P}(выигрыш \\space Пети) = \\frac{131}{243} > \\frac{112}{243}$$\n",
        "Победу нужно присудить Маше."
      ],
      "metadata": {
        "id": "tQXNhEyRyeFF"
      }
    },
    {
      "cell_type": "markdown",
      "source": [
        "### **[Теор вер 3](https://drive.google.com/file/d/1UNkvb5wZ7hEKt_9_3oYrJqR0gTYMVtoY/view?usp=sharing)**"
      ],
      "metadata": {
        "id": "VzEXN_AqlpPm"
      }
    },
    {
      "cell_type": "markdown",
      "source": [
        "### **Алгебра событий (конечный набор)**"
      ],
      "metadata": {
        "id": "CQMR3of02k_7"
      }
    },
    {
      "cell_type": "markdown",
      "source": [
        "&ensp; Доказать, что если $\\Omega$ содержит $n$ элементов, то множество всех его подмножеств состоит из $2^n$ элементов.  \n",
        "Множество из 4-х элементов: $\\{1, 2, 3, 4\\}$"
      ],
      "metadata": {
        "id": "PALJsDM6GXLU"
      }
    },
    {
      "cell_type": "markdown",
      "source": [
        "&ensp; Вообще говоря, каждый из элементов может быть либо включён в i-ое подмножество, либо нет, в совокупности это значит следующее: в каждый шаг 1 или 0, т.е всего $2^n$ элементов.  \n",
        "**ЗЫ:** можно проверить через число сочетаний, что для 4-х элементов 16 комбинаций."
      ],
      "metadata": {
        "id": "QyrvtdcDGsqj"
      }
    },
    {
      "cell_type": "markdown",
      "source": [
        "### **$\\sigma$-Алгебра событий (счётный набор)**"
      ],
      "metadata": {
        "id": "OI5diCHuhX2C"
      }
    },
    {
      "cell_type": "markdown",
      "source": [
        "Докажите, что если $A \\in$ $\\mathcal{F}$ и $B \\in$ $\\mathcal{F}$, то $(A \\setminus B) \\in$ $\\mathcal{F}$."
      ],
      "metadata": {
        "id": "rJa37OZChdqo"
      }
    },
    {
      "cell_type": "markdown",
      "source": [
        "**1)** Запишем $A \\setminus B$ как  $A \\cup \\bar B$.  \n",
        "**2)** По свойствам $\\sigma$-алгебры, если событие $A \\in \\mathcal{F}$, то и $\\bar A \\in \\mathcal{F}$. Аналогично для $B$.  \n",
        "**3)** вместе с любым счётным набором событий σ-алгебра содержит их объединение: $(A \\cup \\bar B) \\in \\mathcal{F} \\Leftrightarrow (A \\setminus B) \\in \\mathcal{F}$"
      ],
      "metadata": {
        "id": "3XhtMN3RioBD"
      }
    },
    {
      "cell_type": "markdown",
      "source": [
        "### **Боррелева $\\sigma$-алгебра в $\\mathbb{R}$**"
      ],
      "metadata": {
        "id": "bQnpNumOl_VQ"
      }
    },
    {
      "cell_type": "markdown",
      "source": [
        "Докажите, что любое одноточечное множество $\\{ b \\in \\mathbb{R}\\}$ принадлежит $\\mathcal{B}(\\mathbb{R})$.  \n"
      ],
      "metadata": {
        "id": "5gL1E1wGf3jn"
      }
    },
    {
      "cell_type": "markdown",
      "source": [
        "&ensp; Пусть множество $A$ подмножеств вещественной прямой $\\mathbb{R}$ состоит из всевозможных открытых интервалов $(a, b)$, где $a < b$:  \n",
        "$$\\mathcal{U} = \\{(a, b) | -\\infty < a < b < \\infty \\}$$  \n",
        "&ensp; Минимальная $\\sigma$-алгебра, содержащая множество $\\mathcal{U}$ всех интервалов на вещественной прямой, определённое выше, называется **борелевской $\\sigma$-алгеброй в $\\mathbb{R}$ и обозначают $\\mathcal{B}(\\mathbb{R})$**.  \n",
        "Рассмотрим промежуток $\\left(b, b + \\dfrac{1}{n} \\right)$ - принадлежит $\\mathcal{B}(\\mathbb{R}) \\space \\forall \\space n \\in \\mathbb{N}$.  \n",
        "Таким образом, она является и $\\sigma$-алгеброй - счётное пересечение её множеств лежит в $\\mathcal{B}(\\mathbb{R})$:  \n",
        "$$\\{b\\} = \\bigcap_{n=1}^{\\infty}\\left(b - \\dfrac{1}{n}, b + \\dfrac{1}{n} \\right) \\in \\mathcal{B}(\\mathbb{R})$$"
      ],
      "metadata": {
        "id": "-Z7OaYFLgnNX"
      }
    },
    {
      "cell_type": "markdown",
      "source": [
        "### **Геометрическая вероятность**"
      ],
      "metadata": {
        "id": "hp_ax1VESsEU"
      }
    },
    {
      "cell_type": "markdown",
      "source": [
        "**1)** На отрезок $AB$ длины $L$, брошена точка $M$ так, что любое её положение на отрезке равновозможно. Найти вероятность того, что меньший из отрезков ($AM$ или $MB$) имеет длину, большую чем $\\dfrac{L}{3}$."
      ],
      "metadata": {
        "id": "1j7I2u2MSxF_"
      }
    },
    {
      "cell_type": "markdown",
      "source": [
        "&ensp; Для начала разделим отрезок пополам (точка перехода меньшего отрезка в больший).  \n",
        "&ensp; Если отрезок $AM$ - меньший, тогда он должен лежать между $\\frac{L}{3}$ и $\\frac{L}{2}$. И длина этого диапазона будет $\\frac{L}{6}$. При переходе через половину можно применить аналогичные рассуждения, но для $MB$ и получить также $\\frac{L}{6}$.  \n",
        "&ensp; **Итого**, $\\mathbb{P}($длина меньшего отрезка больше $\\frac{L}{3}) = \\left(2\\cdot\\frac{L}{3} \\right) \\cdot \\frac{1}{L} = \\frac{1}{3}$  \n"
      ],
      "metadata": {
        "id": "E4cUnrIBTi_F"
      }
    },
    {
      "cell_type": "markdown",
      "source": [
        "**2)** Палку длиной 1 метр ломают случайно в двух точках. Определить вероятность того, что из полученных частей можно составить треугольник."
      ],
      "metadata": {
        "id": "Ic-snZV-gebs"
      }
    },
    {
      "cell_type": "markdown",
      "source": [
        "&ensp; Пусть $x, y, (l-x-y)$ - длины получившихся частей стержня.  \n",
        "&ensp; Первое логичное условие: $0 \\leq x+y \\leq l$ (условно говоря, нельзя получить из длины 1 длину 2). По этому критерию можно графически изобразить прямую $y = l-x$, которая вместе с осями координат даёт область возможных разбиений отрезка площади $S = \\frac{l^2}{2}$ (треугольник).  \n",
        "&ensp; Чтобы составить из полученных отрезков треугольник, нужно **1)** $x, y < \\frac{L}{2}$ (в разных половинах отрезка) и **2)** $x + y > \\frac{L}{2}$ (сумма 2-х меньших сторон больше 3-й). Данные два условия задают прямую раздела $y = \\frac{L}{2} - x$, которая вместе с осями координат ограничивает область $S_1 = \\frac{l^2}{8}$ (маленький треугольник), где *возможно составить треугольник из отрезков*.  \n",
        "Таким образом, $\\mathbb{P} = \\frac{l^2}{8} / \\frac{l^2}{2} = \\frac{1}{4}$."
      ],
      "metadata": {
        "id": "BsD5stZ7glZm"
      }
    },
    {
      "cell_type": "markdown",
      "source": [
        "**3)** Бросаем три правильных игральных кости пока, по крайней мере, на двух из них не выпадет по $6$ очков. При условии, что первые $7$ бросков были «неудачными», найти  условное среднее числа бросков."
      ],
      "metadata": {
        "id": "DRbFK-agKDqC"
      }
    },
    {
      "cell_type": "markdown",
      "source": [
        "Для начала найдём вероятность \"успеха\": $\\mathbb{P}\\mbox{(хотя бы на 2-х кубиках выпало 6 очков)} = C_3^2 \\cdot \\left(\\frac16 \\right)^2 \\cdot \\frac56 + \\left(\\frac16 \\right)^3 = \\frac{16}{216}$. По сути мы имеем дело с Геометрическим распределением с параметром $p = \\frac{16}{216}$: $X = Geom(\\frac{16}{216})$.  \n",
        "По определению мат. ожидания запишем: $M(X | X > 7) = \\sum_{i = 8} ^{\\infty} iP(X=i | X>7) = (i = k+7) =\\sum_{k = 1} ^{\\infty} (k+7)P(X=k+7 | X>7) = \\mbox{по свойству отсутствия памяти у Геометрического распределения} = \\sum_{k = 1} ^{\\infty} (k+7)P(X=k) = M(X+7) = M(X) + 7 = \\dfrac{1}{\\frac{16}{216}}+7 = 20.5$"
      ],
      "metadata": {
        "id": "ePvz2dM5KOhL"
      }
    },
    {
      "cell_type": "markdown",
      "source": [
        "### **Дискретные С.В.**"
      ],
      "metadata": {
        "id": "sYBPhKjiq_xy"
      }
    },
    {
      "cell_type": "markdown",
      "source": [
        "Дискретные случайные величины $\\xi$ и $\\eta$ имеют распределение:  \n",
        "\\begin{array}{|c|c|c|c||}\n",
        "\\xi & -1 & 0 & 1\\\\ \\hline\n",
        "p_i & 0.2 & 0.3 & 0.5\n",
        "\\end{array}  \n",
        "\\begin{array}{|c|c|c|c||}\n",
        "\\eta & -2 & 0 & 2\\\\ \\hline\n",
        "p_i & 0.3 & 0.2 & 0.5\n",
        "\\end{array}  \n",
        "Найдите:\n",
        "1. $\\zeta = \\xi + \\eta$\n",
        "2. $\\zeta = 2\\xi$\n",
        "3. $\\zeta = \\xi^2$\n",
        "4. $\\zeta = \\xi \\cdot \\eta$"
      ],
      "metadata": {
        "id": "v5psCqdBxEb1"
      }
    },
    {
      "cell_type": "markdown",
      "source": [
        "Пункты 1. и 4. , вообще говоря, идентичны: результатом является Декартово произведение, вероятности которого определяются как произведение соответтссующих вероятностей (вероятность выбрать 1-е число из $\\xi$ и 2-е из $\\eta$ - независимы), поэтому резуьтирующее произведение определяется уникальными результатами для суммы и произведения: "
      ],
      "metadata": {
        "id": "4us8iHtU1_bL"
      }
    },
    {
      "cell_type": "code",
      "source": [
        "import math\n",
        "import itertools\n",
        "import pandas as pd"
      ],
      "metadata": {
        "id": "4LxYBWQC-Dzj"
      },
      "execution_count": null,
      "outputs": []
    },
    {
      "cell_type": "code",
      "source": [
        "eps = {'-1': 0.2, '0': 0.3, '1': 0.5}\n",
        "mu = {'-2': 0.3, '0': 0.2, '2': 0.5}"
      ],
      "metadata": {
        "id": "1NjI2Q1ACDiA"
      },
      "execution_count": null,
      "outputs": []
    },
    {
      "cell_type": "markdown",
      "source": [
        "**Пункт 1:**"
      ],
      "metadata": {
        "id": "SAzN9EUu9Qtv"
      }
    },
    {
      "cell_type": "code",
      "source": [
        "keys_sum = []\n",
        "prob_sum = []\n",
        "for e in eps.keys():\n",
        "  for m in mu.keys():\n",
        "    keys_sum.append( int(e)+int(m) )\n",
        "    prob_sum.append(eps[e] * mu[m])"
      ],
      "metadata": {
        "id": "BP4JTTrK9ShY"
      },
      "execution_count": null,
      "outputs": []
    },
    {
      "cell_type": "code",
      "source": [
        "distr_sum_new = dict.fromkeys(set(keys_sum), 0)\n",
        "for i in range(len(keys_sum)):\n",
        "  distr_sum_new[keys_sum[i]] = distr_sum_new[keys_sum[i]] + prob_sum[i]\n",
        "#distr_new"
      ],
      "metadata": {
        "id": "OVv8mQHnDxOm"
      },
      "execution_count": null,
      "outputs": []
    },
    {
      "cell_type": "code",
      "source": [
        "pd.DataFrame(distr_sum_new, index=[0])"
      ],
      "metadata": {
        "id": "aQgkG67WEYtX",
        "outputId": "192b0bd5-5657-442a-96c4-9808c43e288e",
        "colab": {
          "base_uri": "https://localhost:8080/",
          "height": 80
        }
      },
      "execution_count": null,
      "outputs": [
        {
          "output_type": "execute_result",
          "data": {
            "text/plain": [
              "      0    1     2     3    -2    -3    -1\n",
              "0  0.06  0.2  0.15  0.25  0.09  0.06  0.19"
            ],
            "text/html": [
              "\n",
              "  <div id=\"df-e5a6a92e-def6-4db4-b5d7-157f02ff797d\">\n",
              "    <div class=\"colab-df-container\">\n",
              "      <div>\n",
              "<style scoped>\n",
              "    .dataframe tbody tr th:only-of-type {\n",
              "        vertical-align: middle;\n",
              "    }\n",
              "\n",
              "    .dataframe tbody tr th {\n",
              "        vertical-align: top;\n",
              "    }\n",
              "\n",
              "    .dataframe thead th {\n",
              "        text-align: right;\n",
              "    }\n",
              "</style>\n",
              "<table border=\"1\" class=\"dataframe\">\n",
              "  <thead>\n",
              "    <tr style=\"text-align: right;\">\n",
              "      <th></th>\n",
              "      <th>0</th>\n",
              "      <th>1</th>\n",
              "      <th>2</th>\n",
              "      <th>3</th>\n",
              "      <th>-2</th>\n",
              "      <th>-3</th>\n",
              "      <th>-1</th>\n",
              "    </tr>\n",
              "  </thead>\n",
              "  <tbody>\n",
              "    <tr>\n",
              "      <th>0</th>\n",
              "      <td>0.06</td>\n",
              "      <td>0.2</td>\n",
              "      <td>0.15</td>\n",
              "      <td>0.25</td>\n",
              "      <td>0.09</td>\n",
              "      <td>0.06</td>\n",
              "      <td>0.19</td>\n",
              "    </tr>\n",
              "  </tbody>\n",
              "</table>\n",
              "</div>\n",
              "      <button class=\"colab-df-convert\" onclick=\"convertToInteractive('df-e5a6a92e-def6-4db4-b5d7-157f02ff797d')\"\n",
              "              title=\"Convert this dataframe to an interactive table.\"\n",
              "              style=\"display:none;\">\n",
              "        \n",
              "  <svg xmlns=\"http://www.w3.org/2000/svg\" height=\"24px\"viewBox=\"0 0 24 24\"\n",
              "       width=\"24px\">\n",
              "    <path d=\"M0 0h24v24H0V0z\" fill=\"none\"/>\n",
              "    <path d=\"M18.56 5.44l.94 2.06.94-2.06 2.06-.94-2.06-.94-.94-2.06-.94 2.06-2.06.94zm-11 1L8.5 8.5l.94-2.06 2.06-.94-2.06-.94L8.5 2.5l-.94 2.06-2.06.94zm10 10l.94 2.06.94-2.06 2.06-.94-2.06-.94-.94-2.06-.94 2.06-2.06.94z\"/><path d=\"M17.41 7.96l-1.37-1.37c-.4-.4-.92-.59-1.43-.59-.52 0-1.04.2-1.43.59L10.3 9.45l-7.72 7.72c-.78.78-.78 2.05 0 2.83L4 21.41c.39.39.9.59 1.41.59.51 0 1.02-.2 1.41-.59l7.78-7.78 2.81-2.81c.8-.78.8-2.07 0-2.86zM5.41 20L4 18.59l7.72-7.72 1.47 1.35L5.41 20z\"/>\n",
              "  </svg>\n",
              "      </button>\n",
              "      \n",
              "  <style>\n",
              "    .colab-df-container {\n",
              "      display:flex;\n",
              "      flex-wrap:wrap;\n",
              "      gap: 12px;\n",
              "    }\n",
              "\n",
              "    .colab-df-convert {\n",
              "      background-color: #E8F0FE;\n",
              "      border: none;\n",
              "      border-radius: 50%;\n",
              "      cursor: pointer;\n",
              "      display: none;\n",
              "      fill: #1967D2;\n",
              "      height: 32px;\n",
              "      padding: 0 0 0 0;\n",
              "      width: 32px;\n",
              "    }\n",
              "\n",
              "    .colab-df-convert:hover {\n",
              "      background-color: #E2EBFA;\n",
              "      box-shadow: 0px 1px 2px rgba(60, 64, 67, 0.3), 0px 1px 3px 1px rgba(60, 64, 67, 0.15);\n",
              "      fill: #174EA6;\n",
              "    }\n",
              "\n",
              "    [theme=dark] .colab-df-convert {\n",
              "      background-color: #3B4455;\n",
              "      fill: #D2E3FC;\n",
              "    }\n",
              "\n",
              "    [theme=dark] .colab-df-convert:hover {\n",
              "      background-color: #434B5C;\n",
              "      box-shadow: 0px 1px 3px 1px rgba(0, 0, 0, 0.15);\n",
              "      filter: drop-shadow(0px 1px 2px rgba(0, 0, 0, 0.3));\n",
              "      fill: #FFFFFF;\n",
              "    }\n",
              "  </style>\n",
              "\n",
              "      <script>\n",
              "        const buttonEl =\n",
              "          document.querySelector('#df-e5a6a92e-def6-4db4-b5d7-157f02ff797d button.colab-df-convert');\n",
              "        buttonEl.style.display =\n",
              "          google.colab.kernel.accessAllowed ? 'block' : 'none';\n",
              "\n",
              "        async function convertToInteractive(key) {\n",
              "          const element = document.querySelector('#df-e5a6a92e-def6-4db4-b5d7-157f02ff797d');\n",
              "          const dataTable =\n",
              "            await google.colab.kernel.invokeFunction('convertToInteractive',\n",
              "                                                     [key], {});\n",
              "          if (!dataTable) return;\n",
              "\n",
              "          const docLinkHtml = 'Like what you see? Visit the ' +\n",
              "            '<a target=\"_blank\" href=https://colab.research.google.com/notebooks/data_table.ipynb>data table notebook</a>'\n",
              "            + ' to learn more about interactive tables.';\n",
              "          element.innerHTML = '';\n",
              "          dataTable['output_type'] = 'display_data';\n",
              "          await google.colab.output.renderOutput(dataTable, element);\n",
              "          const docLink = document.createElement('div');\n",
              "          docLink.innerHTML = docLinkHtml;\n",
              "          element.appendChild(docLink);\n",
              "        }\n",
              "      </script>\n",
              "    </div>\n",
              "  </div>\n",
              "  "
            ]
          },
          "metadata": {},
          "execution_count": 6
        }
      ]
    },
    {
      "cell_type": "code",
      "source": [
        "assert math.fsum(prob_sum) == 1"
      ],
      "metadata": {
        "id": "TbV-m2NHDn_l"
      },
      "execution_count": null,
      "outputs": []
    },
    {
      "cell_type": "markdown",
      "source": [
        "**Пункт 2:**"
      ],
      "metadata": {
        "id": "hhZqQoXv_J7o"
      }
    },
    {
      "cell_type": "markdown",
      "source": [
        "&emsp; Масштабирование случайной величины не влияет на кол-во исходов - значит и на их вероятности. Распределение останется таким же, как и для $\\xi$:  \n",
        "\\begin{array}{|c|c|c|c||}\n",
        "\\xi & -1 & 0 & 1\\\\ \\hline\n",
        "p_i & 0.2 & 0.3 & 0.5\n",
        "\\end{array} "
      ],
      "metadata": {
        "id": "qPKiCliw_NM6"
      }
    },
    {
      "cell_type": "markdown",
      "source": [
        "**Пункт  3:**"
      ],
      "metadata": {
        "id": "4MDKcO3h9ozC"
      }
    },
    {
      "cell_type": "code",
      "source": [
        "key_2 = []\n",
        "prob_2 = []\n",
        "for k in itertools.product(eps, eps):\n",
        "  key_2.append( int(k[0])*int(k[1]) )\n",
        "for j in itertools.product(eps.values(), eps.values()):\n",
        "  prob_2.append (j[0]*j[1] )"
      ],
      "metadata": {
        "id": "O12Sj_gD9rla"
      },
      "execution_count": null,
      "outputs": []
    },
    {
      "cell_type": "code",
      "source": [
        "distr_2_new = dict.fromkeys(set(key_2), 0)\n",
        "for i in range(len(key_2)):\n",
        "  distr_2_new[key_2[i]] = distr_2_new[key_2[i]] + prob_2[i]\n",
        "#distr_new"
      ],
      "metadata": {
        "id": "WNaL94MF928T"
      },
      "execution_count": null,
      "outputs": []
    },
    {
      "cell_type": "code",
      "source": [
        "pd.DataFrame(distr_2_new, index=[0])"
      ],
      "metadata": {
        "colab": {
          "base_uri": "https://localhost:8080/",
          "height": 80
        },
        "id": "QBAo8dOw-BHq",
        "outputId": "2b555e2b-36d4-4ded-d1f3-9f7c469bd2a0"
      },
      "execution_count": null,
      "outputs": [
        {
          "output_type": "execute_result",
          "data": {
            "text/plain": [
              "      0     1   -1\n",
              "0  0.51  0.29  0.2"
            ],
            "text/html": [
              "\n",
              "  <div id=\"df-1ab3700b-5ca2-4111-9912-cacef0de9986\">\n",
              "    <div class=\"colab-df-container\">\n",
              "      <div>\n",
              "<style scoped>\n",
              "    .dataframe tbody tr th:only-of-type {\n",
              "        vertical-align: middle;\n",
              "    }\n",
              "\n",
              "    .dataframe tbody tr th {\n",
              "        vertical-align: top;\n",
              "    }\n",
              "\n",
              "    .dataframe thead th {\n",
              "        text-align: right;\n",
              "    }\n",
              "</style>\n",
              "<table border=\"1\" class=\"dataframe\">\n",
              "  <thead>\n",
              "    <tr style=\"text-align: right;\">\n",
              "      <th></th>\n",
              "      <th>0</th>\n",
              "      <th>1</th>\n",
              "      <th>-1</th>\n",
              "    </tr>\n",
              "  </thead>\n",
              "  <tbody>\n",
              "    <tr>\n",
              "      <th>0</th>\n",
              "      <td>0.51</td>\n",
              "      <td>0.29</td>\n",
              "      <td>0.2</td>\n",
              "    </tr>\n",
              "  </tbody>\n",
              "</table>\n",
              "</div>\n",
              "      <button class=\"colab-df-convert\" onclick=\"convertToInteractive('df-1ab3700b-5ca2-4111-9912-cacef0de9986')\"\n",
              "              title=\"Convert this dataframe to an interactive table.\"\n",
              "              style=\"display:none;\">\n",
              "        \n",
              "  <svg xmlns=\"http://www.w3.org/2000/svg\" height=\"24px\"viewBox=\"0 0 24 24\"\n",
              "       width=\"24px\">\n",
              "    <path d=\"M0 0h24v24H0V0z\" fill=\"none\"/>\n",
              "    <path d=\"M18.56 5.44l.94 2.06.94-2.06 2.06-.94-2.06-.94-.94-2.06-.94 2.06-2.06.94zm-11 1L8.5 8.5l.94-2.06 2.06-.94-2.06-.94L8.5 2.5l-.94 2.06-2.06.94zm10 10l.94 2.06.94-2.06 2.06-.94-2.06-.94-.94-2.06-.94 2.06-2.06.94z\"/><path d=\"M17.41 7.96l-1.37-1.37c-.4-.4-.92-.59-1.43-.59-.52 0-1.04.2-1.43.59L10.3 9.45l-7.72 7.72c-.78.78-.78 2.05 0 2.83L4 21.41c.39.39.9.59 1.41.59.51 0 1.02-.2 1.41-.59l7.78-7.78 2.81-2.81c.8-.78.8-2.07 0-2.86zM5.41 20L4 18.59l7.72-7.72 1.47 1.35L5.41 20z\"/>\n",
              "  </svg>\n",
              "      </button>\n",
              "      \n",
              "  <style>\n",
              "    .colab-df-container {\n",
              "      display:flex;\n",
              "      flex-wrap:wrap;\n",
              "      gap: 12px;\n",
              "    }\n",
              "\n",
              "    .colab-df-convert {\n",
              "      background-color: #E8F0FE;\n",
              "      border: none;\n",
              "      border-radius: 50%;\n",
              "      cursor: pointer;\n",
              "      display: none;\n",
              "      fill: #1967D2;\n",
              "      height: 32px;\n",
              "      padding: 0 0 0 0;\n",
              "      width: 32px;\n",
              "    }\n",
              "\n",
              "    .colab-df-convert:hover {\n",
              "      background-color: #E2EBFA;\n",
              "      box-shadow: 0px 1px 2px rgba(60, 64, 67, 0.3), 0px 1px 3px 1px rgba(60, 64, 67, 0.15);\n",
              "      fill: #174EA6;\n",
              "    }\n",
              "\n",
              "    [theme=dark] .colab-df-convert {\n",
              "      background-color: #3B4455;\n",
              "      fill: #D2E3FC;\n",
              "    }\n",
              "\n",
              "    [theme=dark] .colab-df-convert:hover {\n",
              "      background-color: #434B5C;\n",
              "      box-shadow: 0px 1px 3px 1px rgba(0, 0, 0, 0.15);\n",
              "      filter: drop-shadow(0px 1px 2px rgba(0, 0, 0, 0.3));\n",
              "      fill: #FFFFFF;\n",
              "    }\n",
              "  </style>\n",
              "\n",
              "      <script>\n",
              "        const buttonEl =\n",
              "          document.querySelector('#df-1ab3700b-5ca2-4111-9912-cacef0de9986 button.colab-df-convert');\n",
              "        buttonEl.style.display =\n",
              "          google.colab.kernel.accessAllowed ? 'block' : 'none';\n",
              "\n",
              "        async function convertToInteractive(key) {\n",
              "          const element = document.querySelector('#df-1ab3700b-5ca2-4111-9912-cacef0de9986');\n",
              "          const dataTable =\n",
              "            await google.colab.kernel.invokeFunction('convertToInteractive',\n",
              "                                                     [key], {});\n",
              "          if (!dataTable) return;\n",
              "\n",
              "          const docLinkHtml = 'Like what you see? Visit the ' +\n",
              "            '<a target=\"_blank\" href=https://colab.research.google.com/notebooks/data_table.ipynb>data table notebook</a>'\n",
              "            + ' to learn more about interactive tables.';\n",
              "          element.innerHTML = '';\n",
              "          dataTable['output_type'] = 'display_data';\n",
              "          await google.colab.output.renderOutput(dataTable, element);\n",
              "          const docLink = document.createElement('div');\n",
              "          docLink.innerHTML = docLinkHtml;\n",
              "          element.appendChild(docLink);\n",
              "        }\n",
              "      </script>\n",
              "    </div>\n",
              "  </div>\n",
              "  "
            ]
          },
          "metadata": {},
          "execution_count": 10
        }
      ]
    },
    {
      "cell_type": "code",
      "source": [
        "assert math.fsum(distr_2_new.values()) == 1"
      ],
      "metadata": {
        "id": "bW6V5ZQ5984K"
      },
      "execution_count": null,
      "outputs": []
    },
    {
      "cell_type": "markdown",
      "source": [
        "**Пункт 4:**"
      ],
      "metadata": {
        "id": "uUUhZcJY9MNA"
      }
    },
    {
      "cell_type": "code",
      "source": [
        "key_mult = []\n",
        "prob = []\n",
        "for k in itertools.product(eps, mu):\n",
        "  key_mult.append( int(k[0])*int(k[1]) )\n",
        "for j in itertools.product(eps.values(), mu.values()):\n",
        "  prob.append (j[0]*j[1] )"
      ],
      "metadata": {
        "id": "lEY1aW62OcX-"
      },
      "execution_count": null,
      "outputs": []
    },
    {
      "cell_type": "code",
      "source": [
        "distr_new = dict.fromkeys(set(key_mult), 0)\n",
        "for i in range(len(key_mult)):\n",
        "  distr_new[key_mult[i]] = distr_new[key_mult[i]] + prob[i]\n",
        "#distr_new"
      ],
      "metadata": {
        "id": "DkrPNFX-P0C5"
      },
      "execution_count": null,
      "outputs": []
    },
    {
      "cell_type": "code",
      "source": [
        "pd.DataFrame(distr_new, index=[0])"
      ],
      "metadata": {
        "colab": {
          "base_uri": "https://localhost:8080/",
          "height": 80
        },
        "id": "t8LEw7C0nOIt",
        "outputId": "41897674-f0b3-44e0-c33a-25cbd6220f37"
      },
      "execution_count": null,
      "outputs": [
        {
          "output_type": "execute_result",
          "data": {
            "text/plain": [
              "      0     2    -2\n",
              "0  0.44  0.31  0.25"
            ],
            "text/html": [
              "\n",
              "  <div id=\"df-e7a461fa-93a0-40bc-9fa3-e1d83830af2d\">\n",
              "    <div class=\"colab-df-container\">\n",
              "      <div>\n",
              "<style scoped>\n",
              "    .dataframe tbody tr th:only-of-type {\n",
              "        vertical-align: middle;\n",
              "    }\n",
              "\n",
              "    .dataframe tbody tr th {\n",
              "        vertical-align: top;\n",
              "    }\n",
              "\n",
              "    .dataframe thead th {\n",
              "        text-align: right;\n",
              "    }\n",
              "</style>\n",
              "<table border=\"1\" class=\"dataframe\">\n",
              "  <thead>\n",
              "    <tr style=\"text-align: right;\">\n",
              "      <th></th>\n",
              "      <th>0</th>\n",
              "      <th>2</th>\n",
              "      <th>-2</th>\n",
              "    </tr>\n",
              "  </thead>\n",
              "  <tbody>\n",
              "    <tr>\n",
              "      <th>0</th>\n",
              "      <td>0.44</td>\n",
              "      <td>0.31</td>\n",
              "      <td>0.25</td>\n",
              "    </tr>\n",
              "  </tbody>\n",
              "</table>\n",
              "</div>\n",
              "      <button class=\"colab-df-convert\" onclick=\"convertToInteractive('df-e7a461fa-93a0-40bc-9fa3-e1d83830af2d')\"\n",
              "              title=\"Convert this dataframe to an interactive table.\"\n",
              "              style=\"display:none;\">\n",
              "        \n",
              "  <svg xmlns=\"http://www.w3.org/2000/svg\" height=\"24px\"viewBox=\"0 0 24 24\"\n",
              "       width=\"24px\">\n",
              "    <path d=\"M0 0h24v24H0V0z\" fill=\"none\"/>\n",
              "    <path d=\"M18.56 5.44l.94 2.06.94-2.06 2.06-.94-2.06-.94-.94-2.06-.94 2.06-2.06.94zm-11 1L8.5 8.5l.94-2.06 2.06-.94-2.06-.94L8.5 2.5l-.94 2.06-2.06.94zm10 10l.94 2.06.94-2.06 2.06-.94-2.06-.94-.94-2.06-.94 2.06-2.06.94z\"/><path d=\"M17.41 7.96l-1.37-1.37c-.4-.4-.92-.59-1.43-.59-.52 0-1.04.2-1.43.59L10.3 9.45l-7.72 7.72c-.78.78-.78 2.05 0 2.83L4 21.41c.39.39.9.59 1.41.59.51 0 1.02-.2 1.41-.59l7.78-7.78 2.81-2.81c.8-.78.8-2.07 0-2.86zM5.41 20L4 18.59l7.72-7.72 1.47 1.35L5.41 20z\"/>\n",
              "  </svg>\n",
              "      </button>\n",
              "      \n",
              "  <style>\n",
              "    .colab-df-container {\n",
              "      display:flex;\n",
              "      flex-wrap:wrap;\n",
              "      gap: 12px;\n",
              "    }\n",
              "\n",
              "    .colab-df-convert {\n",
              "      background-color: #E8F0FE;\n",
              "      border: none;\n",
              "      border-radius: 50%;\n",
              "      cursor: pointer;\n",
              "      display: none;\n",
              "      fill: #1967D2;\n",
              "      height: 32px;\n",
              "      padding: 0 0 0 0;\n",
              "      width: 32px;\n",
              "    }\n",
              "\n",
              "    .colab-df-convert:hover {\n",
              "      background-color: #E2EBFA;\n",
              "      box-shadow: 0px 1px 2px rgba(60, 64, 67, 0.3), 0px 1px 3px 1px rgba(60, 64, 67, 0.15);\n",
              "      fill: #174EA6;\n",
              "    }\n",
              "\n",
              "    [theme=dark] .colab-df-convert {\n",
              "      background-color: #3B4455;\n",
              "      fill: #D2E3FC;\n",
              "    }\n",
              "\n",
              "    [theme=dark] .colab-df-convert:hover {\n",
              "      background-color: #434B5C;\n",
              "      box-shadow: 0px 1px 3px 1px rgba(0, 0, 0, 0.15);\n",
              "      filter: drop-shadow(0px 1px 2px rgba(0, 0, 0, 0.3));\n",
              "      fill: #FFFFFF;\n",
              "    }\n",
              "  </style>\n",
              "\n",
              "      <script>\n",
              "        const buttonEl =\n",
              "          document.querySelector('#df-e7a461fa-93a0-40bc-9fa3-e1d83830af2d button.colab-df-convert');\n",
              "        buttonEl.style.display =\n",
              "          google.colab.kernel.accessAllowed ? 'block' : 'none';\n",
              "\n",
              "        async function convertToInteractive(key) {\n",
              "          const element = document.querySelector('#df-e7a461fa-93a0-40bc-9fa3-e1d83830af2d');\n",
              "          const dataTable =\n",
              "            await google.colab.kernel.invokeFunction('convertToInteractive',\n",
              "                                                     [key], {});\n",
              "          if (!dataTable) return;\n",
              "\n",
              "          const docLinkHtml = 'Like what you see? Visit the ' +\n",
              "            '<a target=\"_blank\" href=https://colab.research.google.com/notebooks/data_table.ipynb>data table notebook</a>'\n",
              "            + ' to learn more about interactive tables.';\n",
              "          element.innerHTML = '';\n",
              "          dataTable['output_type'] = 'display_data';\n",
              "          await google.colab.output.renderOutput(dataTable, element);\n",
              "          const docLink = document.createElement('div');\n",
              "          docLink.innerHTML = docLinkHtml;\n",
              "          element.appendChild(docLink);\n",
              "        }\n",
              "      </script>\n",
              "    </div>\n",
              "  </div>\n",
              "  "
            ]
          },
          "metadata": {},
          "execution_count": 14
        }
      ]
    },
    {
      "cell_type": "code",
      "source": [
        "assert math.fsum(distr_new.values()) == 1"
      ],
      "metadata": {
        "id": "9qjJ4a9IQhdU"
      },
      "execution_count": null,
      "outputs": []
    },
    {
      "cell_type": "markdown",
      "source": [
        "### **Распределения случайных величин**"
      ],
      "metadata": {
        "id": "AOmKSOvM_1_a"
      }
    },
    {
      "cell_type": "markdown",
      "source": [
        "**1.** Случайная величина $X$ принимает только целые значения: $1, 2, 3, . . . , 28$\n",
        "При этом вероятности возможных значений $X$ пропорциональны значениям:\n",
        "$$P(X = k) = C \\cdot k$$\n",
        "Найдите значение константы $C$ и вероятность $P(X > 2)$."
      ],
      "metadata": {
        "id": "bHvp1fwBAMWB"
      }
    },
    {
      "cell_type": "markdown",
      "source": [
        "По свойству вероятности: $\\sum_{i=1}^n p_i = 1$.  \n",
        "Тогда просуммируем все вероятности, которые заменим на $Ck$ и получим: $C \\sum_{k=1}^{28}k = 1$. Можно заметить, что сумма представляет собой обычную арифметическую прогрессию с шагом $d=1$, и её [сумма равна](https://infofaq.ru/summa-arifmeticheskoj-progress.html): $S_n = \\dfrac{a_1+a_n}{2} \\cdot n$.  \n",
        "$$C \\cdot \\dfrac{1+28}{2} \\cdot 28 = 1 \\Rightarrow C = \\dfrac{1}{406}.$$  \n",
        "$$P(X > 2) = 1 - P(X \\leq 2) = 1 - (1+2)\\dfrac{1}{406} = \\dfrac{403}{406}.$$"
      ],
      "metadata": {
        "id": "48AxwA_WAlaj"
      }
    },
    {
      "cell_type": "markdown",
      "source": [
        "**2.** Случайная величина $X$ принимает только целые неотрицательные значения: $1, 2, 3, . . . $  \n",
        "&emsp; При этом вероятности возможных значений $X$ пропорциональны значениям:\n",
        "$$P(X = k) = C \\cdot k$$\n",
        "Найдите значение константы $C$ и вероятность $P(X < 2)$."
      ],
      "metadata": {
        "id": "knpm2CyaEEC9"
      }
    },
    {
      "cell_type": "markdown",
      "source": [
        "1) По свойству вероятности: $\\sum_{i=1}^n p_i = 1$.  \n",
        "2) Сумма всех вероятностей даст нам: $C \\sum_{k=1}^{\\infty}k = 1$. По причине того, что $\\lim_{n \\to +\\infty} x_n = \\infty$, сумма равна $\\infty \\Rightarrow C = \\dfrac{1}{\\infty} = 0$.  \n",
        "$$P(X < 2) = 1 \\cdot 0 = 0.$$  \n",
        "Противоречие с пунктом 1): если каждая вероятность будет равна $0$, сумма нулей никак не даст $1$, поэтому такое распределение невозможно."
      ],
      "metadata": {
        "id": "HKkgrOcqzH96"
      }
    },
    {
      "cell_type": "markdown",
      "source": [
        "**3)** Найдём функции распределения (общая ф-ия $F_{\\xi_1}$) случайных величин:\n",
        "* $\\phi_n = max \\{ \\xi_1, \\xi_2, ..., \\xi_n \\}$\n",
        "* $\\psi_n = min \\{ \\xi_1, \\xi_2, ..., \\xi_n \\}$\n",
        "\n",
        "&emsp; Отметим, что $\\phi_n(\\omega) = max \\{ \\xi_1 (\\omega), \\xi_2 (\\omega), ..., \\xi_n (\\omega) \\}$. т. е. $\\phi_n$ на каждом элементарном исходе ω совпадает с одной из $\\xi_i$, но ни с одной из них не совпадает при всех $\\omega$ (если величины независимы)."
      ],
      "metadata": {
        "id": "UQ46CaRP6X14"
      }
    },
    {
      "cell_type": "markdown",
      "source": [
        "&emsp; Максимум из $n$ величин меньше $x$ тогда и только тогда, когда каждая из этих величин меньше $x$. Поэтому событие $\\{ \\phi_n < x \\}$ равносильно пересечению независимых событий\n",
        "$$\\{ \\xi_1 < x \\}, \\space \\{ \\xi_2 < x \\}, ..., \\{ \\xi_n < x \\},$$\n",
        "имеющих одну и ту же вероятность.  \n",
        "$$F_{\\phi_n}(x) = \\mathbb{P}(\\{\\phi_n < x\\}) = \\mathbb{P}(max \\{ \\xi_1 < x, \\xi_2 < x, ..., \\xi_n < x\\}) = \\mathbb{P}(\\{\\xi_1 < x\\}) \\cdot \\mathbb{P}(\\{\\xi_2 < x\\}) \\cdot ... \\cdot \\mathbb{P}(\\{\\xi_n < x\\}) = [\\mathbb{P}(\\{\\xi_1 < x\\})]^n = [F_{\\xi_1}(x)]^n$$"
      ],
      "metadata": {
        "id": "p4puZod97N7z"
      }
    },
    {
      "cell_type": "markdown",
      "source": [
        "&emsp; Найдём функцию распределения $F_{\\psi_n}(x)$. Минимум из $n$ величин меньше $x$ тогда и только тогда, когда каждая из этих величин меньше $x$:\n",
        "$$F_{\\psi_n}(x) = \\mathbb{P}(\\{\\psi_n < x\\}) = \\mathbb{P}(min \\{ \\xi_1 < x,  \\xi_2 < x, ..., \\xi_n < x\\}) = 1 - \\mathbb{P}(min \\{ \\xi_1 \\geq x, \\xi_2 \\geq x, ..., \\xi_n < x\\}) = 1 - \\mathbb{P}(\\xi_1 \\geq x) \\cdot \\mathbb{P}(\\xi_2 \\geq x) \\cdot ... \\cdot \\mathbb{P}(\\xi_n \\geq x) = 1 - [\\mathbb{P}(\\xi_1 \\geq x)]^n = 1 - [1 - \\mathbb{P}(\\xi_1 < x)]^n = 1 - [1 - F_{\\xi_1}(x)]^n$$"
      ],
      "metadata": {
        "id": "EN8ozCNN_vKV"
      }
    },
    {
      "cell_type": "markdown",
      "source": [
        "**4)** Доказать, что вероятность максимуму из первых n независимых и одинаково распределённых случайных величин, имеющих абсолютно непрерывное распределение, равняться первой из них, равно как и любой другой, равна:\n",
        "$$\\mathbb{P}(max \\{ \\xi_1, \\xi_2, ..., \\xi_n\\} = \\xi_1) = \\mathbb{P}(\\xi_1 > \\xi_2) \\cdot \\mathbb{P}(\\xi_1 > \\xi_2) \\cdot ... \\cdot \\mathbb{P}(\\xi_1 > \\xi_n) = \\dfrac{1}{n}$$"
      ],
      "metadata": {
        "id": "az-6WeYfEMjU"
      }
    },
    {
      "cell_type": "markdown",
      "source": [
        "&emsp; В первом слагаемом возможно $n$ исходов с одинаковой вероятностью (равновероятно, какая из С.В будет максимумом).  \n",
        "Для конкретного случая подходит только $1$ исход $\\Rightarrow$ его вероятность - это $\\dfrac{1}{n}.$"
      ],
      "metadata": {
        "id": "-p_L87ISFBbO"
      }
    },
    {
      "cell_type": "markdown",
      "source": [
        "### **Преобразования случайных величин**"
      ],
      "metadata": {
        "id": "dUaLFaRIm_0g"
      }
    },
    {
      "cell_type": "markdown",
      "source": [
        "&ensp; Пусть на вероятностном пространстве $(\\Omega, \\mathcal{F}, \\mathbb{P})$ задана случайная величина $\\xi$.  \n",
        "Если функция $g : \\mathbb{R} \\rightarrow \\mathbb{R}$ такова, что $g(\\xi)$ — случайная величина, то нужно уметь находить распределение $g(\\xi)$ по распределению $\\xi$.  \n",
        "&ensp; В общем случае для абсолютно непрерывной случайной величины $\\xi$, заданной плотность распределения $f(x)$, поиск плотность распределния сл. величины $\\eta$: $f_{\\eta}$ выражается как:  \n",
        "$$f_{\\eta}(y) = f(x) \\cdot |x'(y)| = f(\\psi(y)) \\cdot |\\psi'(y)| \\space (**)$$  \n",
        "где $y = g(x) \\Leftrightarrow x = \\psi(y)$ "
      ],
      "metadata": {
        "id": "85fk4PPOnDFp"
      }
    },
    {
      "cell_type": "markdown",
      "source": [
        "Случайная величина $\\xi$ распределена по показательному закону с параметром $\\lambda$.\n",
        "\n",
        "**a)** Найти плотности распределения вероятностей случайных величин:  \n",
        "$1. \\space \\eta = \\xi^2;$  \n",
        "$2. \\space \\zeta = e^{\\xi}.$"
      ],
      "metadata": {
        "id": "WVYRGFVAs2a1"
      }
    },
    {
      "cell_type": "markdown",
      "source": [
        "Так как случайная величина $\\xi$ распределена по показательному\n",
        "закону, то плотность распределения имеет вид:  \n",
        "$$f(x, \\lambda) = \\left\\{\n",
        "    \\begin{array}\\\\\n",
        "        0, \\space x < 0 \\\\\n",
        "        \\lambda e^{-\\lambda x}, \\space x \\geq 0\n",
        "    \\end{array}\n",
        "\\right.$$  \n",
        "**1.** $\\eta = \\xi^2 \\Leftrightarrow y = x^2$ при $x \\geq 0$ является монотонной ($x < 0$ не рассматриваем, т.к случайная величина изначально \"невозможна\" на этом интервале). Множеством значений этой функции на данном интервале является интервал $[0, +\\infty)$, поэтому плотность распределения $g_{\\eta}(y) = 0$ при $y < 0$ (иначе говоря, значения $x \\geq 0$ (где вероятность ненулевая) переводятся в аналогичный диапазон - all the rest находится в области нулевой вероятности $x$).  \n",
        "&ensp; При $x \\geq 0$ строим строим обратную функцию $x = \\psi(y) = \\sqrt{y}$.  \n",
        "&ensp; Для нахождения плотности распределения при $y \\geq 0$ используем\n",
        "формулу:  \n",
        "$$g_{\\eta}(y) = f(\\psi(y)) \\cdot |\\psi'(y)| = \\lambda \\cdot e^{-\\lambda\\sqrt{y}} \\cdot |[\\sqrt{y}]'| = \\frac{\\lambda}{2\\sqrt{y}} \\cdot e^{-\\lambda\\sqrt{y}}$$  \n",
        "\n",
        "Окончательно получаем:  \n",
        "$$g_{\\eta}(y) = \\left\\{\n",
        "    \\begin{array}\\\\\n",
        "        0, \\space y < 0 \\\\\n",
        "        \\frac{\\lambda}{2\\sqrt{y}} \\cdot e^{-\\lambda\\sqrt{y}}, \\space y \\geq 0\n",
        "    \\end{array}\n",
        "\\right.$$"
      ],
      "metadata": {
        "id": "9MFZK1oEtzhk"
      }
    },
    {
      "cell_type": "markdown",
      "source": [
        "**2.** $\\zeta = e^{\\xi}$  \n",
        "Функция $z = e^x$ является монотонной. Множеством значений этой функции при $x \\geq 0$ (для $x < 0$ аналогична пункту 1.) есть интервал $[1, +\\infty)$. Следовательно, $g_{\\zeta}(z) = 0$ при $z \\leq 1$.  \n",
        "Строим обратную функцию: $x = \\psi(z) = lnz$. Находим плотность распределения вероятностей при $z \\geq 1$:  \n",
        "$$g_{\\zeta}(z) = \\lambda \\cdot e^{-\\lambda lnz} \\cdot |[lnz]'| = \\lambda \\cdot e^{-\\lambda lnz} \\cdot \\frac1z = \\lambda \\cdot z^{-\\lambda} \\cdot \\frac1z = \\frac{\\lambda}{z^{\\lambda+1}}.$$  \n",
        "Таким образом,  \n",
        "$$g_{\\zeta}(z) = \\left\\{\n",
        "    \\begin{array}\\\\\n",
        "        0, \\space z < 1 \\\\\n",
        "        \\dfrac{\\lambda}{z^{\\lambda+1}}, \\space z \\geq 1\n",
        "    \\end{array}\n",
        "\\right.$$"
      ],
      "metadata": {
        "id": "EQ1a7wZJC5SJ"
      }
    },
    {
      "cell_type": "markdown",
      "source": [
        "**b)** Непрерывная случайная величина $\\xi$ задана плотностью вероятности:  \n",
        "$$f_{\\xi}(x) = \\left\\{\n",
        "    \\begin{array}\\\\\n",
        "        0, \\space x < 1 \\\\\n",
        "        3x^2, \\space x \\in [0, 1] \\\\\n",
        "        0, \\space x > 1\n",
        "    \\end{array}\n",
        "\\right.$$  \n",
        "Найти плотность вероятности случайной величины $\\eta = \\sqrt{\\xi}$, а также вычислить её основные числовые характеристики."
      ],
      "metadata": {
        "id": "cg6XUX9G7oQW"
      }
    },
    {
      "cell_type": "markdown",
      "source": [
        "&ensp; Сначала найдём интервал всех возможных значений случайной\n",
        "величины $\\eta$, т. е. найдём область значений функции: $\\eta = \\sqrt{\\xi}$. Её область значений - это просто $y \\in [0, 1]$ (диапазон, в котором плотность распределения задана, т.е не равна $0$).  \n",
        "&ensp; Теперь найдём $f_{\\eta}(y)$ — плотность вероятности случайной величины $\\eta$. Так как $\\eta = \\sqrt{\\xi}$, то $y = \\sqrt{x}$ и $x = \\phi(y) = y^2$(некоторая условная величина, относительно которой сравнивается С.В).  \n",
        "&ensp; Отсюда $f_{\\eta}(y) = f(\\psi(y)) \\cdot |\\psi'(y)| = 3y^4 \\cdot 2y = 6y^5 $"
      ],
      "metadata": {
        "id": "hCIVbp_g8FSy"
      }
    },
    {
      "cell_type": "markdown",
      "source": [
        "Найдём теперь *мат. ожидание* и *дисперсию*:  \n",
        "* $\\mathbb{E}(\\eta) = \\int_0^1 y \\cdot f_{\\eta}(y)dy = \\int_0^1 6y^6 = \\frac67$;  \n",
        "* $\\mathbb{E}(\\eta^2) = \\int_0^1 y^2 \\cdot f_{\\eta}(y)dy = \\int_0^1 6y^7 = \\frac34$;  \n",
        "* $Var(\\eta) = \\mathbb{E}(\\eta^2) - [\\mathbb{E}(\\eta)]^2 = \\frac{3}{196}$"
      ],
      "metadata": {
        "id": "8MvKBMn1CMNr"
      }
    },
    {
      "cell_type": "markdown",
      "source": [
        "### **Формула свёртки**"
      ],
      "metadata": {
        "id": "7n93kOQHDzqp"
      }
    },
    {
      "cell_type": "markdown",
      "source": [
        "&ensp; Если случайные величины $\\xi_1$ и $\\xi_2$ независимы и имеют абсолют-\n",
        "но непрерывные распределения с плотностями $f_{\\xi}(x_1)$ и $f_{\\xi}(x_2)$, то\n",
        "плотность распределения суммы $\\xi_1 + \\xi_2$ равна «свёртке» плотностей $f_{\\xi}(x_1)$ и $f_{\\xi}(x_2)$:  \n",
        "$$f_{\\xi_1 + \\xi_2}(x) = \\int_{-\\infty}^{\\infty} f_{\\xi_1}(u)f_{\\xi_2}(x-u)du = \\int_{-\\infty}^{\\infty} f_{\\xi_2}(u)f_{\\xi_1}(x-u)du$$ \n",
        "&ensp; Теорема не только предлагает формулу для вычисления плотности распределения суммы, но и утверждает, что сумма двух независимых случайных величин с абсолютно непрерывными распределениями также имеет абсолютно непрерывное распределение."
      ],
      "metadata": {
        "id": "20FwLj5uHv-F"
      }
    },
    {
      "cell_type": "markdown",
      "source": [
        "**1)** Пусть независимые случайные величины $\\xi$ и $\\eta$ имеют стандартное\n",
        "нормальное распределение $N(0,1)$:  \n",
        "$$f_{\\xi}(x) = f_{\\eta}(x) = \\dfrac{1}{\\sqrt{2\\pi}}e^{-\\frac{x^2}{2}}, \\space x \\in \\mathbb{R}$$\n",
        "Определить распределение случайной величины $\\xi + \\eta$."
      ],
      "metadata": {
        "id": "KW5BvWjmLz89"
      }
    },
    {
      "cell_type": "markdown",
      "source": [
        "&ensp; По формуле свёртки плотность суммы случайных величин $\\xi$ и $\\eta$ равна: \n",
        "$$f_{\\xi + \\eta}(x) = \\int\\limits_{-\\infty}^{+\\infty} \\dfrac{1}{\\sqrt{2\\pi}}e^{-\\frac{u^2}{2}} \\cdot \\dfrac{1}{\\sqrt{2\\pi}}e^{-\\frac{(x-u)^2}{2}}du = \\int\\limits_{-\\infty}^{+\\infty} \\dfrac1{2\\pi}e^{- \\left(u^2 + \\frac{x^2}{2}-xu \\right)}du = e^{-\\frac{x^2}{4}} \\int\\limits_{-\\infty}^{+\\infty} \\dfrac1{2\\pi}e^{- \\left(u - \\frac{x}{2} \\right)}du = \\dfrac{1}{2\\sqrt{\\pi}}e^{- \\frac{x^2}{4}} \\int\\limits_{-\\infty}^{+\\infty} \\dfrac{1}{\\sqrt{\\pi}}e^{-v^2}dv = \\dfrac{1}{2\\sqrt{\\pi}}e^{- \\frac{x^2}{4}}$$\n",
        "&ensp; Последний интеграл равен единице, поскольку под интегралом стоит плотность нормального распределения с параметрами $a = 0$ и $\\sigma^2 = \\frac12$.  \n",
        "&ensp; Следовательно, мы получили, что плотность суммы двух случайных величин со стандартным нормальным распределением рав-\n",
        "на плотности нормального распределения с параметрами $a = 0$ и $\\sigma^2 = 2$."
      ],
      "metadata": {
        "id": "AIYMxqoTMi1s"
      }
    },
    {
      "cell_type": "markdown",
      "source": [
        "**2)** $\\xi = E_{\\lambda_1}, \\space \\eta = E_{\\lambda_2}$.  \n",
        "$$f_{\\xi}(x) = \\left\\{\n",
        "    \\begin{array}\\\\\n",
        "        \\lambda_1 e^{-\\lambda_1 x}, \\space x > 0 \\\\\n",
        "        0, \\space \\mbox{иначе}\n",
        "    \\end{array}\n",
        "\\right.$$\n",
        "$$f_{\\xi}(x) = \\left\\{\n",
        "    \\begin{array}\\\\\n",
        "        \\lambda_2 e^{-\\lambda_2 x}, \\space x > 0 \\\\\n",
        "        0, \\space \\mbox{иначе}\n",
        "    \\end{array}\n",
        "\\right.$$\n",
        "Немного [вводных](https://bstudy.net/717926/sotsiologiya/zakon_raspredeleniya_summy_dvuh_sluchaynyh_velichin_kompozitsiya_dvuh_zakonov_raspredeleniya) о пределах интергрирования: нижняя граница дана нам из условия, а верхняя из того факта, что $x_1 + x_2 = y$, т.е, например, совокупное время работы двух станков до выхода последовательно из строя *не больше* $y$."
      ],
      "metadata": {
        "id": "13hBWX9fSzt5"
      }
    },
    {
      "cell_type": "markdown",
      "source": [
        "$$f_{\\xi + \\eta}(y) = \\int\\limits_{0}^{y} \\lambda_1 e^{-\\lambda_1 u}\\lambda_2 e^{-\\lambda_2 (y-u)} du = \\lambda_1\\lambda_2 e^{-\\lambda_2 y} \\int\\limits_{0}^{y} e^{(\\lambda_1-\\lambda_2)u}du = \\dfrac{\\lambda_1\\lambda_2}{\\lambda_1-\\lambda_2} \\left[ e^{-\\lambda_1 y} - e^{-\\lambda_2 y}\\right]$$  \n",
        "Это распределение называется **обобщённым законом Эрланга** первого порядка."
      ],
      "metadata": {
        "id": "vzTIioCYVEWm"
      }
    },
    {
      "cell_type": "markdown",
      "source": [
        "**3)** $f_{\\xi_1}(x) = \\left\\{\n",
        "    \\begin{array}\\\\\n",
        "        \\dfrac1a, \\space x \\in [0, a], \\\\\n",
        "        0, \\space \\mbox{иначе}.\n",
        "    \\end{array}\n",
        "\\right.$  \n",
        "$f_{\\xi_1}(x) = \\left\\{\n",
        "    \\begin{array}\\\\\n",
        "        \\dfrac1b, \\space x \\in [0, b], \\\\\n",
        "        0, \\space \\mbox{иначе}.\n",
        "    \\end{array}\n",
        "\\right.$  \n",
        "\n",
        "Для определённости $a \\leq b$."
      ],
      "metadata": {
        "id": "dxJgDzB0bmgA"
      }
    },
    {
      "cell_type": "markdown",
      "source": [
        "$$f_{\\xi_1 + \\xi_2}(x) = \\int\\limits_{-\\infty}^{\\infty} f_{\\xi_1}(u) f_{\\xi_2}(x-u)du = \\int\\limits_{0}^{a} f_{\\xi_1}(u) f_{\\xi_2}(x-u)du = \\dfrac1a \\int\\limits_{0}^{a} f_{\\xi_2}(x-u)du$$  \n",
        "$f_{\\xi_1 + \\xi_2}(x) =\n",
        "\\left\\{\n",
        "    \\begin{array}\\\\\n",
        "        0, \\space x < 0, \\\\\n",
        "        \\frac{x}{ab}, \\space x \\in [0, a], \\\\\n",
        "        \\frac{1}{b}, \\space x \\in [a, b], \\\\\n",
        "        \\frac{a+b - x}{ab}, \\space x \\in [b, a+b], \\\\\n",
        "        0, \\space x > a+b.\n",
        "    \\end{array}\n",
        "\\right.$  \n",
        "\n",
        "**Reminder:** интеграл это площадь под графиком ф-ии. Поэтому для лучшего понимания полученных условий можно (и нужно) нарифсовать простой график и посчитать площадь (по сути, мы определяем диапазон $x$, где ф-ия ненулевая)."
      ],
      "metadata": {
        "id": "OtjjkVXmcbga"
      }
    },
    {
      "cell_type": "markdown",
      "source": [
        "**4)** Величина суммарного иска к страховой компании имеет вид $S = X_1 + X_2$, где случайные величины $X_1$ и $X_2$ независимы и распределены по [*экспоненциальным законам*](https://ru.wikipedia.org/wiki/Экспоненциальное_распределение) со средними значениями $120$ и $80$, соответственно. Вычислите вероятность того, что суммарный иск по данному портфелю превысит $200$."
      ],
      "metadata": {
        "id": "NBILr2_L3R4B"
      }
    },
    {
      "cell_type": "markdown",
      "source": [
        "&ensp; Исходя из условия имеем  \n",
        "$$\\lambda_1 = \\frac{1}{120} = 0.00833, \\space \\lambda_2 = \\frac{1}{80} = 0.0125$$\n",
        "Вычислим плотность $f_S(t)$ распределения случайной величины $S$. Для этого найдём свёртку:\n",
        "$$(f_{X_1}∗ f_{X_2})(t) = f_S(t) = \\int\\limits_{-\\infty}^{+\\infty} f_{X_1}(t-u) \\cdot f_{X_2}(u)du = \\int\\limits_{-\\infty}^{+\\infty} \\lambda_1 \\cdot e^{-\\lambda_1 (t-u)} \\cdot \\lambda_2 \\cdot e^{-\\lambda_2 u} du$$\n",
        "Так как\n",
        "$$\\left\\{\n",
        "    \\begin{array}\\\\\n",
        "        \\lambda_1 \\cdot e^{-\\lambda_1 (t-u)} = 0, \\space \\mbox{при } t-u < 0, \\\\\n",
        "        e^{-\\lambda_2 u} = 0, \\space \\mbox{при } u < 0.\n",
        "    \\end{array}\n",
        "\\right.$$\n",
        "то функция под интегралом *отлична от нуля*, только если переменная интегрирования изменяется в пределах $0 \\leq u \\leq t$.  \n",
        "&ensp; Таким образом получаем:  \n",
        "$$\\int\\limits_{-\\infty}^{+\\infty} \\lambda_1 \\cdot e^{-\\lambda_1 (t-u)} \\cdot \\lambda_2 \\cdot e^{-\\lambda_2 u} du = \\int\\limits_{0}^{t} \\lambda_1 \\cdot e^{-\\lambda_1 (t-u)} \\cdot \\lambda_2 \\cdot e^{-\\lambda_2 u} du = \\dfrac{\\lambda_1 \\cdot \\lambda_2}{\\lambda_1 - \\lambda_2} \\cdot (e^{-\\lambda_2 t} - e^{-\\lambda_1 t})$$\n",
        "&ensp; Тогда вероятность того, что суммарный иск по данному портфелю превысит M = 200 вычисляется как  \n",
        "$$\\mathbb{P}(S \\geq M) = \\int\\limits_{M}^{+\\infty} f_S(t)dt = \\int\\limits_{M}^{+\\infty} \\dfrac{\\lambda_1 \\cdot \\lambda_2}{\\lambda_1 - \\lambda_2} \\cdot (e^{-\\lambda_2 t} - e^{-\\lambda_1 t}) dt = \\dfrac{\\lambda_1 \\cdot e^{-M\\cdot\\lambda_2} - \\lambda_2 \\cdot e^{-M\\cdot\\lambda_1}}{\\lambda_1 - \\lambda_2}$$"
      ],
      "metadata": {
        "id": "FYv2MFan3zDu"
      }
    },
    {
      "cell_type": "code",
      "source": [
        "from math import exp\n",
        "\n",
        "M = 200\n",
        "l1 = 1/120\n",
        "l2 = 1/80\n",
        "\n",
        "prob = (l1 * exp(-M*l2) - l2*exp(-M*l1))/(l1-l2)\n",
        "round(prob, 5)"
      ],
      "metadata": {
        "colab": {
          "base_uri": "https://localhost:8080/"
        },
        "id": "0VKK8UI9ocVB",
        "outputId": "45fb1098-f517-45ed-d8f8-af3d131a37b4"
      },
      "execution_count": null,
      "outputs": [
        {
          "output_type": "execute_result",
          "data": {
            "text/plain": [
              "0.40246"
            ]
          },
          "metadata": {},
          "execution_count": 3
        }
      ]
    },
    {
      "cell_type": "markdown",
      "source": [
        "### **Условная вероятность**"
      ],
      "metadata": {
        "id": "GZRfGZ-YAG4l"
      }
    },
    {
      "cell_type": "markdown",
      "source": [
        "* Какова вероятность того, что $3$ карты, вынутые из колоды в $36$ карт, окажутся одной\n",
        "масти?  "
      ],
      "metadata": {
        "id": "SAG9qAAQAJY1"
      }
    },
    {
      "cell_type": "markdown",
      "source": [
        "&emsp; $A = $ $\\{$первая карта масти $i \\} = \\frac{1}{4}$, где  (после вынимания первой карты осталось $35$ карт, из них той же масти, что и первая - $8$).  \n",
        "Получаем $\\mathbb{P}(A \\cup B \\cup C) = \\mathbb{P}(A) \\cdot \\mathbb{P}(B|A) \\cdot \\mathbb{P}(C| AB) = \\dfrac{9}{36} \\cdot \\dfrac{8}{35} \\cdot \\dfrac{7}{34} = 0.0118$  \n",
        "&emsp; События, состоящие в том, что будут вынуты три карты масти **«пики»**, масти **«треф»** и т.д., несовместны друг с другом. Следовательно, для нахождения вероятности их объединения воспользуемся теоремой сложения:  \n",
        "$$\\mathbb{P}(три \\space карты \\space одной \\space масти) = 4 \\cdot \\mathbb{P}(A \\cup B \\cup C) = 0.047$$"
      ],
      "metadata": {
        "id": "PEayJVArAb_f"
      }
    },
    {
      "cell_type": "markdown",
      "source": [
        "* Какова вероятность того, что из колоды в $36$ карт будут извлечены четыре туза подряд?"
      ],
      "metadata": {
        "id": "1ZsANxzoFdOp"
      }
    },
    {
      "cell_type": "markdown",
      "source": [
        "&emsp; $A = $ $\\{$первая туз масти $i \\} = \\frac{4}{36}$, где  (после вынимания первого туза осталось $35$ карт, из них тузов - $3$).  \n",
        "Получаем $\\mathbb{P}(A \\cup B \\cup C \\cup D) = \\mathbb{P}(A) \\cdot \\mathbb{P}(B|A) \\cdot \\mathbb{P}(C| AB) \\cdot \\mathbb{P}(D| ABC) = \\dfrac{4}{36} \\cdot \\dfrac{3}{35} \\cdot \\dfrac{2}{34} \\cdot \\dfrac{1}{33} = 0.00001698$  \n",
        "&emsp; Рассмотрим вероятность через число сочетаний/перестановок: $4$ карты (тузы) могут быть раставлены $4! = 24$ способами. А просто число способов выбрать $4$ карты из $36$ (с учётом порядка): $A_{36}^4 = \\dfrac{36!}{32!} = 36 \\cdot 35 \\cdot 34 \\cdot 33$  \n",
        "$$\\mathbb{P}(ABCD) = \\dfrac{4\\cdot3\\cdot2\\cdot1}{36 \\cdot 35 \\cdot 34 \\cdot 33}= 0.00001698$$"
      ],
      "metadata": {
        "id": "TUI1dN5KFd-Q"
      }
    },
    {
      "cell_type": "markdown",
      "source": [
        "### **Survival ресторана**\n"
      ],
      "metadata": {
        "id": "k68z7LHPKtV9"
      }
    },
    {
      "cell_type": "markdown",
      "source": [
        "&emsp; Ожидаемая продолжительность работы ресторана $8$ лет. Вероятность закрытия ресторана в первый год составляет $50\\%$. Во второй год - $25\\%$. После второго года - $5\\%$ для каждого следующего года. Ресторан Джона Джоунса проработал уже $3$ года  \n",
        "&emsp; Сколько лет этот ресторан, предположительно, ещё будет работать?"
      ],
      "metadata": {
        "id": "vY8O9swYeEP5"
      }
    },
    {
      "cell_type": "markdown",
      "source": [
        "&emsp; Для начала можно построить модель для ожидаемого срока работы случайного ресторана:  \n",
        "* Вероятность провалится уже в первый год: $P_0 = 0.5$.  \n",
        "* Для последующего расчёта нам пригодится [формула умножения вероятностей](https://studfile.net/preview/2069418/page:4/) *зависимых событий*. Вероятность пережить первый **и** не пережить второй год: $P_{1 \\space и \\space не \\space 2} = (1-P_0) \\cdot P_{Default \\space in \\space 2 | 1} = 0.5 \\cdot 0.25 = 0.125$;  \n",
        "* Вероятность пережить первый, второй **и** не пережить третий год: $P_{1 \\space, 2 \\space и \\space не \\space 3} = (1-P_0) \\cdot (1-P_1) \\cdot P_{Default \\space in \\space 3 | 1,2} = 0.5 \\cdot 0.75 \\cdot 0.05 = 0.01875$;  \n",
        "* Для произвольного года формула будет: $P_i = (1-P_0) \\cdot (1-P_1) \\cdot \\prod_i^{i-2}(1-P_{\\geq 3}) \\cdot P_{\\geq 3} = 0.5 \\cdot 0.75 \\cdot 0.95^{i-2} \\cdot 0.05$.  \n",
        "* Мат. ожидание можно найти как сумму произведения числа лет на вероятность \"выжить\" столько лет:  \n",
        "$$E(Years) = 0 \\cdot P_0 + 1 \\cdot (1-P_0) \\cdot P_{Default \\space in \\space 2 | 1} + 2 \\cdot (1-P_0) \\cdot (1-P_1) \\cdot P_{Default \\space in \\space 3 | 1,2} + (1-P_0) \\cdot (1-P_1) \\cdot P_{\\geq 3} \\cdot \\sum_{i=3}^\\infty i \\cdot \\prod_{1}^{i-2}(1-P_{\\geq 3}).$$  \n",
        "Посчитаем приближённо:"
      ],
      "metadata": {
        "id": "TG-1hfa-ew0u"
      }
    },
    {
      "cell_type": "code",
      "source": [
        "from mpmath import nsum, inf\n",
        "e1 = 0*0.5 #default in the 1st year\n",
        "e2 = 1*0.5*0.25 #default in the 2nd year\n",
        "e3 = 2*0.5*0.75*0.05 #default in the 3rd year\n",
        "e4 = 0.5*0.75*nsum(lambda x: x*0.95**(x-2), [3, inf])*0.05\n",
        "print(f'E(Survival) = {round(e1+e2+e3+e4, 0)}')"
      ],
      "metadata": {
        "colab": {
          "base_uri": "https://localhost:8080/"
        },
        "id": "5EtNObDKGBNO",
        "outputId": "d3386ef2-7d60-4cb3-d896-38fbbc392165"
      },
      "execution_count": null,
      "outputs": [
        {
          "output_type": "stream",
          "name": "stdout",
          "text": [
            "E(Survival) = 8.0\n"
          ]
        }
      ]
    },
    {
      "cell_type": "markdown",
      "source": [
        "&emsp; Отлично, ожидаемый срок работы случайного ресторана действительно $8$ лет. Но Джон Джонс уже проработал $3$ года, поэтому нам нужно посчитать мат. ожидание при условии survival в первые $3$ года:  \n",
        "$$E(Years | Survival=3) = P_{\\geq 3} \\cdot \\sum_{i=0}^\\infty i \\cdot \\prod_{0}^{i}(1-P_{\\geq 3})$$"
      ],
      "metadata": {
        "id": "3au4Y7QdHAjW"
      }
    },
    {
      "cell_type": "code",
      "source": [
        "e4_3 = nsum(lambda x: x*0.95**(x), [0, inf])*0.05\n",
        "print(f'E(Survival | Survival = 3) = {round(e4_3, 0)}')"
      ],
      "metadata": {
        "colab": {
          "base_uri": "https://localhost:8080/"
        },
        "id": "4cSSkMVjId-T",
        "outputId": "b08b87c7-f36a-45ce-e18b-d9c6180cbef2"
      },
      "execution_count": null,
      "outputs": [
        {
          "output_type": "stream",
          "name": "stdout",
          "text": [
            "E(Survival | Survival = 3) = 19.0\n"
          ]
        }
      ]
    },
    {
      "cell_type": "markdown",
      "source": [
        "Таким образом наш ресторан прорабаотет ещё $19$ лет!"
      ],
      "metadata": {
        "id": "IPkEVU_cJdVb"
      }
    },
    {
      "cell_type": "markdown",
      "source": [
        "### **Обогнать benchmark**"
      ],
      "metadata": {
        "id": "FRIr8kWIK-n-"
      }
    },
    {
      "cell_type": "markdown",
      "source": [
        "&emsp; У нас есть $2$ актива: $A$ и $B$. Оба сегодня стоят $100$ руб. $A$ растет на $5 \\%$ каждый год. $B$ растет либо на $20 \\%$, либо падает на $10 \\%$ каждый год с вероятностью $50/50$.  \n",
        "&emsp; Какова вероятность, что через $10$ лет цена $B$ будет выше, чем $A$?"
      ],
      "metadata": {
        "id": "zDpb05lROXnR"
      }
    },
    {
      "cell_type": "markdown",
      "source": [
        "* Цена актива $A$ через $10$ лет: $100 \\cdot (1+0.05)^{10}$.  \n",
        "* Цена актива $B$ через $10$ лет является случайной величиной. Пусть $X$ - число лет, когда актив рос на $20 \\%$, $(10-X)$ - число лет, когда актив падал на $10 \\%$.  \n",
        "\n",
        "&emsp; Цену актива $B$ можно представить как: $100 \\cdot 1.2^X \\cdot 0.9^{10-X}$, где $X \\in [1, 10]$. Вероятность $P(X=k) = C_{10}^k \\cdot 0.5^{10}$, где $0.5^{10}$ - вероятность индивидуального исхода, где всего $2^{10}$ исходов.  \n",
        "\n",
        "&emsp; Цена $B$ будет выше $A$, если $100 \\cdot 1.2^X \\cdot 0.9^{10-X} > 100 \\cdot (1+0.05)^{10}$.  \n",
        "$\\left( \\dfrac{1.2}{0.9} \\right)^X > \\left( \\dfrac{1.05}{0.9} \\right)^{10} \\Rightarrow X > 10 \\cdot \\dfrac{ln1.17}{ln1.33} = $"
      ],
      "metadata": {
        "id": "P8xVFKPgQSWN"
      }
    },
    {
      "cell_type": "code",
      "source": [
        "import math\n",
        "\n",
        "print(round(10*math.log(1.05/0.9) / math.log(1.2/0.9), 2))"
      ],
      "metadata": {
        "colab": {
          "base_uri": "https://localhost:8080/"
        },
        "id": "VVGWCGhM3TW_",
        "outputId": "25767357-6e6d-4328-b530-4efcede9458c"
      },
      "execution_count": null,
      "outputs": [
        {
          "output_type": "stream",
          "name": "stdout",
          "text": [
            "5.36\n"
          ]
        }
      ]
    },
    {
      "cell_type": "markdown",
      "source": [
        "Таким образом, активу $B$ нужно расти на $20 \\%$ не менее $6$ раз из $10$ лет, чтобы его цена превысила $A$.  "
      ],
      "metadata": {
        "id": "jG85xALj3WcY"
      }
    },
    {
      "cell_type": "markdown",
      "source": [
        "Расчитаем вероятность \"роста\" актива $B$ $6$ и более раз: $P(X \\geq 6) = \\sum_{i=6}^{10} C_{10}^i \\cdot 0.5^{10}$ = "
      ],
      "metadata": {
        "id": "ytjql2KI3Kj-"
      }
    },
    {
      "cell_type": "code",
      "source": [
        "from scipy.special import comb\n",
        "\n",
        "p = 0.5**10\n",
        "n = 0\n",
        "for i in range(6, 11):\n",
        "  n += comb(10,i)\n",
        "p = p*n\n",
        "print(round(p, 3))"
      ],
      "metadata": {
        "colab": {
          "base_uri": "https://localhost:8080/"
        },
        "id": "Ph_YPedB1ork",
        "outputId": "b2a46747-1ca7-491b-c92f-218d57c22349"
      },
      "execution_count": null,
      "outputs": [
        {
          "output_type": "stream",
          "name": "stdout",
          "text": [
            "0.377\n"
          ]
        }
      ]
    },
    {
      "cell_type": "markdown",
      "source": [
        "### [**Semicircle Coverage**](https://www.cut-the-knot.org/m/Probability/SemicircleCoverage.shtml)"
      ],
      "metadata": {
        "id": "D8e6IIXkOP7B"
      }
    },
    {
      "cell_type": "markdown",
      "source": [
        "Есть окружность и $n$ случайно выбранных её полуокружностей, но никакие две из них не имеют совпадающих концевых точек. Какова вероятность, что окружность полностью покрыта этими полуокружностями?"
      ],
      "metadata": {
        "id": "6WQMs_25OWpp"
      }
    },
    {
      "cell_type": "markdown",
      "source": [
        "&emsp; Каждая полуокружность связана двумя диаметрально противоположными точками. $n$ пар точек образуют $2n$ сегментов или \"кусков пицц\"(доказывается по индукции).  \n",
        "&emsp; Точка на окружности может принадлежать *выбранной* полуокружности или её дополнению с вероятностью $1/2$. Вероятность, что она лежит вне всех выбранных $n$ полуокружностей равна $2^{-n}$.  \n",
        "&emsp; Более того, выбранная точка принадлежит точно одному из $2n$ сегментов. Если точка не покрыта выбранной полуокружностью, то и сегмент, в котором она находится.  \n",
        "&emsp; Геометрически можно показать, что незакрашенным будет только один сегмент, который может быть любым из $2n$. "
      ],
      "metadata": {
        "id": "FirbCFGvO1hy"
      }
    },
    {
      "cell_type": "markdown",
      "source": [
        "![](https://drive.google.com/uc?export=view&id=1ZSd_iUeqSxJNdTbvQOpZ8-_ZCvqj-dHZ)  "
      ],
      "metadata": {
        "id": "S0RvGypmvXyY"
      }
    },
    {
      "cell_type": "markdown",
      "source": [
        " &emsp; Так как каждый из них может остаться, полная вероятность равна сумме отдельных условных вероятностей (которые независимы и равны): вероятность того, что *не вся окружность закрашена* равна $2^{-n} \\cdot (2n) = 2^{-n+1} \\cdot n$.  \n",
        "&emsp; Нас же интересует противополжная вероятность, что окружность полностью закрашена: $1-2^{-n+1} \\cdot n$.  \n",
        "\n",
        "\n",
        "При $n = 1$ очевидно, что остнется 1 полукружность, при $n = 2$ - вероятность также ноль, хотя, вообще говоря, есть случай, когда границы совпадают (но тут - это противоречие условию). "
      ],
      "metadata": {
        "id": "drGCdRe1vcLy"
      }
    },
    {
      "cell_type": "markdown",
      "source": [
        "### [**Парадокс дней рождения**](https://ru.wikipedia.org/wiki/%D0%9F%D0%B0%D1%80%D0%B0%D0%B4%D0%BE%D0%BA%D1%81_%D0%B4%D0%BD%D0%B5%D0%B9_%D1%80%D0%BE%D0%B6%D0%B4%D0%B5%D0%BD%D0%B8%D1%8F)"
      ],
      "metadata": {
        "id": "0FxHp5F-GOau"
      }
    },
    {
      "cell_type": "markdown",
      "source": [
        "**Парадокс дней рождения** — утверждение, состоящее в том, что в группе, состоящей из $23$ или более человек, вероятность совпадения дней рождения (число и месяц) хотя бы у двух людей превышает $50 \\%$. "
      ],
      "metadata": {
        "id": "o5eWLlGiGf_d"
      }
    },
    {
      "cell_type": "markdown",
      "source": [
        "Пусть дни рождения распределены равномерно, то есть примем, что:\n",
        "* в году $365$ дней (нет високосных лет);\n",
        "* в группе нет людей, заведомо родившихся в один день (например, близнецов);\n",
        "* рождаемость не зависит от дня недели, времени года и других факторов.  \n",
        "\n",
        "Рассчитаем сначала $\\bar p(n)$ — вероятность того, что в группе из $n$ человек дни рождения всех людей будут различными.  \n",
        "Если $n > 365$, то в силу **принципа Дирихле** вероятность $\\bar p(n) = 0$.  \n",
        "Если $n \\leq 365$, возьмём наугад **одного** человека из группы и запомним его день рождения. Затем возьмём наугад **второго** человека, при этом вероятность того, что у него день рождения не совпадёт с днем рождения первого человека, равна $\\left(1 - \\frac{1}{365} \\right)$ и т.д вплоть до последнего человека, для которого вероятность будет $\\left(1 - \\frac{n-1}{365} \\right)$.  \n",
        "* Перемножая все эти вероятности, получаем *вероятность того, что все дни рождения в группе будут различными*: $\\bar p(n) = 1 \\cdot \\prod_{i = 2}^n \\left(1 - \\frac{i-1}{365} \\right) = \\dfrac{365 \\cdot 364 \\cdot ... \\cdot (365 - n + 1)}{365^n} = \\dfrac{365!}{365^n (365-n)!}$;  \n",
        "* Тогда вероятность того, что хотя бы у двух человек из n дни рождения совпадут, равна $p(n) = 1 - \\bar p(n)$."
      ],
      "metadata": {
        "id": "Sx2p7j_zGsyR"
      }
    },
    {
      "cell_type": "markdown",
      "source": [
        "Аппроксимация через ряд тейлора: \n",
        "* $e^x = 1 + x + \\frac{x^2}{2!} + ... + \\frac{x^n}{n!}$;  \n",
        "* представим слагаемые произведения (первые два слагаемых ряда) через эту аппроксимацию: $1 - \\frac{1}{365} = e^{- \\frac{1}{365}}$ и дадее по аналогии;\n",
        "* Получим: $\\bar p(n) = 1 \\cdot \\prod_{i = 2}^n \\left(1 - \\frac{i-1}{365} \\right) = 1 \\cdot e^{-\\frac{n(n-1)}{2 \\cdot 365}}$.  \n",
        "\n",
        "$$p(n) = 1 - \\bar p(n) \\approx 1 - 1 \\cdot e^{-\\frac{n(n-1)}{2 \\cdot 365}}$$"
      ],
      "metadata": {
        "id": "tCfsmyGtybk6"
      }
    },
    {
      "cell_type": "code",
      "source": [
        "import math\n",
        "# найдём число людей, уогда вероятность равна 0.5 (с точностью до десятых)\n",
        "n = 1\n",
        "p = 1 - math.exp(-n*(n-1)/(2*365))\n",
        "while p < 0.5:\n",
        "  n += 1\n",
        "  p = 1 - math.exp(-n*(n-1)/(2*365))\n",
        "\n",
        "print(n)"
      ],
      "metadata": {
        "colab": {
          "base_uri": "https://localhost:8080/"
        },
        "id": "BL6dX9_4z45g",
        "outputId": "63f14b58-87b9-4e20-b99c-926b9b5dca77"
      },
      "execution_count": null,
      "outputs": [
        {
          "output_type": "stream",
          "name": "stdout",
          "text": [
            "23\n"
          ]
        }
      ]
    },
    {
      "cell_type": "markdown",
      "source": [
        "### [**Дисперсии**](https://drive.google.com/file/d/1oPmzMASxiARsIS4fsjcsUUkmg04HfK0Q/view?usp=sharing)"
      ],
      "metadata": {
        "id": "zvqCt7VuwLy0"
      }
    },
    {
      "cell_type": "markdown",
      "source": [
        "&emsp; **Межгрупповая дисперсия** относится на счёт изучаемого фактора (и факторов, связанных с ним), поэтому называется факторной дисперсией. Характеризует систематическую вариацию результативного при-\n",
        "знака, обусловленную влиянием признака (фактора), положенного в основание группировки:  \n",
        " \n",
        "$$\\delta^2 = \\dfrac{\\sum_{i=1}^p(\\bar x_i - \\bar x)^2 \\cdot n_i}{\\sum_{i=1}^p n_i}$$  \n",
        "где $p$ — количество групп; $i$ — номер группы; $n_i$ — численность данных в $i$-ой группе; $x_i$ — среднее значение признака в $i$-ой группе; $x$ — общая средняя."
      ],
      "metadata": {
        "id": "ls_S_iNAwR7x"
      }
    },
    {
      "cell_type": "markdown",
      "source": [
        "&emsp; **Внутригрупповая (частная) дисперсия** отражает случайную вариацию, т. е. часть вариации, обусловленную влиянием неучтённых факторов и не зависящую от признака (фактора), положенного в основание группировки. Может быть вычислена как простая **дисперсия** или как **взвешенная дисперсия**. На основании внутригрупповых дисперсии по всем группам можно определить общую сред-\n",
        "нюю из внутригрупповых дисперсий $\\bar{\\sigma^2}$:  \n",
        "$$\\bar{\\sigma^2} = \\dfrac{\\sum_{i=1}^p \\sigma_i^2 \\cdot n_i}{\\sum_{i=1}^p n_i}$$  \n",
        "где $\\sigma_i ^2$ — дисперия $i$-ой группы, $i = 1, 2, . . ., p$."
      ],
      "metadata": {
        "id": "mnjak0JU1ta0"
      }
    },
    {
      "cell_type": "markdown",
      "source": [
        "&emsp; В простейшем случае, когда совокупность разделена на группы по одному фактору, изучение вариации достигается посредством исчисления и анализа трёх видов дисперсий: *общей, межгрупповой и внутригрупповой*:  \n",
        "$$\\sigma_{total}^2 = \\bar{\\sigma^2}+\\delta^2$$"
      ],
      "metadata": {
        "id": "TCHzanYP1xWJ"
      }
    },
    {
      "cell_type": "code",
      "source": [
        "from statistics import mean, pvariance\n",
        "from collections import Counter\n",
        "import pandas as pd\n",
        "import operator\n",
        "import numpy as np"
      ],
      "metadata": {
        "id": "lXp6pe0S3P_F"
      },
      "execution_count": null,
      "outputs": []
    },
    {
      "cell_type": "code",
      "source": [
        "values = [4, 4, 5, 6, 4, 3, 6, 5, 4, 9, 3, 8, 7, 6, 2, 3, 3, 5, 8, 3,\n",
        "3, 5, 3, 7, 5, 6, 5, 3, 8, 5, 4, 7, 3, 6, 4, 8, 5, 4, 5, 2,\n",
        "7, 6, 3, 2, 6, 7, 7, 6, 7, 5, 8, 5, 6, 5, 4, 5, 9, 7, 1, 3,\n",
        "7, 5, 4, 3, 2, 6, 6, 7, 7, 4, 6, 6, 4, 5, 4, 8, 7, 6, 7, 4,\n",
        "6, 3, 5, 6, 4, 4, 7, 5, 6, 5, 6, 2, 0, 7, 4, 4, 4, 6, 0, 4]  \n",
        "\n",
        "values_mean = mean(values) # simple average\n",
        "values_mean"
      ],
      "metadata": {
        "colab": {
          "base_uri": "https://localhost:8080/"
        },
        "id": "hbNZGr6q2kgP",
        "outputId": "41cc3e9e-bd41-4611-ea32-c6a785c4fe3d"
      },
      "execution_count": null,
      "outputs": [
        {
          "output_type": "execute_result",
          "data": {
            "text/plain": [
              "5.01"
            ]
          },
          "metadata": {},
          "execution_count": 3
        }
      ]
    },
    {
      "cell_type": "code",
      "source": [
        "counts = Counter(values)\n",
        "pd.DataFrame.from_dict(counts, orient='index') "
      ],
      "metadata": {
        "colab": {
          "base_uri": "https://localhost:8080/",
          "height": 363
        },
        "id": "2-gwoIll3Oo5",
        "outputId": "84d1dd68-2e79-4f74-d725-387266445a74"
      },
      "execution_count": null,
      "outputs": [
        {
          "output_type": "execute_result",
          "data": {
            "text/plain": [
              "    0\n",
              "4  19\n",
              "5  18\n",
              "6  19\n",
              "3  13\n",
              "9   2\n",
              "8   6\n",
              "7  15\n",
              "2   5\n",
              "1   1\n",
              "0   2"
            ],
            "text/html": [
              "\n",
              "  <div id=\"df-dfccb34a-1604-432e-a68c-e1d9476e7728\">\n",
              "    <div class=\"colab-df-container\">\n",
              "      <div>\n",
              "<style scoped>\n",
              "    .dataframe tbody tr th:only-of-type {\n",
              "        vertical-align: middle;\n",
              "    }\n",
              "\n",
              "    .dataframe tbody tr th {\n",
              "        vertical-align: top;\n",
              "    }\n",
              "\n",
              "    .dataframe thead th {\n",
              "        text-align: right;\n",
              "    }\n",
              "</style>\n",
              "<table border=\"1\" class=\"dataframe\">\n",
              "  <thead>\n",
              "    <tr style=\"text-align: right;\">\n",
              "      <th></th>\n",
              "      <th>0</th>\n",
              "    </tr>\n",
              "  </thead>\n",
              "  <tbody>\n",
              "    <tr>\n",
              "      <th>4</th>\n",
              "      <td>19</td>\n",
              "    </tr>\n",
              "    <tr>\n",
              "      <th>5</th>\n",
              "      <td>18</td>\n",
              "    </tr>\n",
              "    <tr>\n",
              "      <th>6</th>\n",
              "      <td>19</td>\n",
              "    </tr>\n",
              "    <tr>\n",
              "      <th>3</th>\n",
              "      <td>13</td>\n",
              "    </tr>\n",
              "    <tr>\n",
              "      <th>9</th>\n",
              "      <td>2</td>\n",
              "    </tr>\n",
              "    <tr>\n",
              "      <th>8</th>\n",
              "      <td>6</td>\n",
              "    </tr>\n",
              "    <tr>\n",
              "      <th>7</th>\n",
              "      <td>15</td>\n",
              "    </tr>\n",
              "    <tr>\n",
              "      <th>2</th>\n",
              "      <td>5</td>\n",
              "    </tr>\n",
              "    <tr>\n",
              "      <th>1</th>\n",
              "      <td>1</td>\n",
              "    </tr>\n",
              "    <tr>\n",
              "      <th>0</th>\n",
              "      <td>2</td>\n",
              "    </tr>\n",
              "  </tbody>\n",
              "</table>\n",
              "</div>\n",
              "      <button class=\"colab-df-convert\" onclick=\"convertToInteractive('df-dfccb34a-1604-432e-a68c-e1d9476e7728')\"\n",
              "              title=\"Convert this dataframe to an interactive table.\"\n",
              "              style=\"display:none;\">\n",
              "        \n",
              "  <svg xmlns=\"http://www.w3.org/2000/svg\" height=\"24px\"viewBox=\"0 0 24 24\"\n",
              "       width=\"24px\">\n",
              "    <path d=\"M0 0h24v24H0V0z\" fill=\"none\"/>\n",
              "    <path d=\"M18.56 5.44l.94 2.06.94-2.06 2.06-.94-2.06-.94-.94-2.06-.94 2.06-2.06.94zm-11 1L8.5 8.5l.94-2.06 2.06-.94-2.06-.94L8.5 2.5l-.94 2.06-2.06.94zm10 10l.94 2.06.94-2.06 2.06-.94-2.06-.94-.94-2.06-.94 2.06-2.06.94z\"/><path d=\"M17.41 7.96l-1.37-1.37c-.4-.4-.92-.59-1.43-.59-.52 0-1.04.2-1.43.59L10.3 9.45l-7.72 7.72c-.78.78-.78 2.05 0 2.83L4 21.41c.39.39.9.59 1.41.59.51 0 1.02-.2 1.41-.59l7.78-7.78 2.81-2.81c.8-.78.8-2.07 0-2.86zM5.41 20L4 18.59l7.72-7.72 1.47 1.35L5.41 20z\"/>\n",
              "  </svg>\n",
              "      </button>\n",
              "      \n",
              "  <style>\n",
              "    .colab-df-container {\n",
              "      display:flex;\n",
              "      flex-wrap:wrap;\n",
              "      gap: 12px;\n",
              "    }\n",
              "\n",
              "    .colab-df-convert {\n",
              "      background-color: #E8F0FE;\n",
              "      border: none;\n",
              "      border-radius: 50%;\n",
              "      cursor: pointer;\n",
              "      display: none;\n",
              "      fill: #1967D2;\n",
              "      height: 32px;\n",
              "      padding: 0 0 0 0;\n",
              "      width: 32px;\n",
              "    }\n",
              "\n",
              "    .colab-df-convert:hover {\n",
              "      background-color: #E2EBFA;\n",
              "      box-shadow: 0px 1px 2px rgba(60, 64, 67, 0.3), 0px 1px 3px 1px rgba(60, 64, 67, 0.15);\n",
              "      fill: #174EA6;\n",
              "    }\n",
              "\n",
              "    [theme=dark] .colab-df-convert {\n",
              "      background-color: #3B4455;\n",
              "      fill: #D2E3FC;\n",
              "    }\n",
              "\n",
              "    [theme=dark] .colab-df-convert:hover {\n",
              "      background-color: #434B5C;\n",
              "      box-shadow: 0px 1px 3px 1px rgba(0, 0, 0, 0.15);\n",
              "      filter: drop-shadow(0px 1px 2px rgba(0, 0, 0, 0.3));\n",
              "      fill: #FFFFFF;\n",
              "    }\n",
              "  </style>\n",
              "\n",
              "      <script>\n",
              "        const buttonEl =\n",
              "          document.querySelector('#df-dfccb34a-1604-432e-a68c-e1d9476e7728 button.colab-df-convert');\n",
              "        buttonEl.style.display =\n",
              "          google.colab.kernel.accessAllowed ? 'block' : 'none';\n",
              "\n",
              "        async function convertToInteractive(key) {\n",
              "          const element = document.querySelector('#df-dfccb34a-1604-432e-a68c-e1d9476e7728');\n",
              "          const dataTable =\n",
              "            await google.colab.kernel.invokeFunction('convertToInteractive',\n",
              "                                                     [key], {});\n",
              "          if (!dataTable) return;\n",
              "\n",
              "          const docLinkHtml = 'Like what you see? Visit the ' +\n",
              "            '<a target=\"_blank\" href=https://colab.research.google.com/notebooks/data_table.ipynb>data table notebook</a>'\n",
              "            + ' to learn more about interactive tables.';\n",
              "          element.innerHTML = '';\n",
              "          dataTable['output_type'] = 'display_data';\n",
              "          await google.colab.output.renderOutput(dataTable, element);\n",
              "          const docLink = document.createElement('div');\n",
              "          docLink.innerHTML = docLinkHtml;\n",
              "          element.appendChild(docLink);\n",
              "        }\n",
              "      </script>\n",
              "    </div>\n",
              "  </div>\n",
              "  "
            ]
          },
          "metadata": {},
          "execution_count": 12
        }
      ]
    },
    {
      "cell_type": "markdown",
      "source": [
        "Требуется определить среднее значение по группированным данным из таблицы. Оно определяется по формуле взвешенной средней:  \n",
        "$$\\bar x = \\dfrac{\\sum_{i=1}^p y_in_i}{\\sum_{i=1}^p n_i}$$"
      ],
      "metadata": {
        "id": "dOrRF9-a6KfH"
      }
    },
    {
      "cell_type": "code",
      "source": [
        "w_avg = sum(map(operator.mul, list(counts.keys()), list(counts.values())))/100\n",
        "w_avg"
      ],
      "metadata": {
        "colab": {
          "base_uri": "https://localhost:8080/"
        },
        "id": "jkh1-QSB6Uwq",
        "outputId": "9769b191-283a-43a9-e637-2d404cd720d0"
      },
      "execution_count": null,
      "outputs": [
        {
          "output_type": "execute_result",
          "data": {
            "text/plain": [
              "5.01"
            ]
          },
          "metadata": {},
          "execution_count": 27
        }
      ]
    },
    {
      "cell_type": "markdown",
      "source": [
        "Определим дисперсию из исходного набора данных:  \n",
        "$$Var(x) = \\dfrac{\\sum_{i=1}^n (x_i - \\bar x)^2}{n}$$"
      ],
      "metadata": {
        "id": "QqODX1Fb8t_4"
      }
    },
    {
      "cell_type": "code",
      "source": [
        "var = pvariance(values) # for the sake of simplicity we consider population mean\n",
        "var"
      ],
      "metadata": {
        "colab": {
          "base_uri": "https://localhost:8080/"
        },
        "id": "DgmVmr8j3rAP",
        "outputId": "ccf454be-ed78-46a2-9a58-306d8e6089a0"
      },
      "execution_count": null,
      "outputs": [
        {
          "output_type": "execute_result",
          "data": {
            "text/plain": [
              "3.4699"
            ]
          },
          "metadata": {},
          "execution_count": 57
        }
      ]
    },
    {
      "cell_type": "markdown",
      "source": [
        "или из группированных данных:"
      ],
      "metadata": {
        "id": "m1jTuTK49_5W"
      }
    },
    {
      "cell_type": "code",
      "source": [
        "a = list(counts.keys())\n",
        "b = w_avg*np.ones(10)\n",
        "c = (a-b)**2\n",
        "d = list(counts.values())"
      ],
      "metadata": {
        "id": "RDoiL2Cd_KMw"
      },
      "execution_count": null,
      "outputs": []
    },
    {
      "cell_type": "code",
      "source": [
        "var_avg = sum(map(operator.mul, c, d))/100\n",
        "var_avg"
      ],
      "metadata": {
        "colab": {
          "base_uri": "https://localhost:8080/"
        },
        "id": "vBkacWQlAEXG",
        "outputId": "2e8d31a1-6e3e-434d-c1d3-8c5a9c21a853"
      },
      "execution_count": null,
      "outputs": [
        {
          "output_type": "execute_result",
          "data": {
            "text/plain": [
              "3.4699"
            ]
          },
          "metadata": {},
          "execution_count": 59
        }
      ]
    },
    {
      "cell_type": "markdown",
      "source": [
        "Добавим к набору данных ещё одно «аномальное» значение, например, $y = 20$.  \n",
        "Тогда получим набор из $m = n + 1 = 101$ значений:  \n",
        "$$z = \\{x, y\\} = \\{z_1, z_2, . . . , z_m\\}.$$\n",
        "  \n",
        "*Как изменятся среднее арифметическое и дисперсия?*"
      ],
      "metadata": {
        "id": "zvSsn9fKAgyU"
      }
    },
    {
      "cell_type": "markdown",
      "source": [
        "* Очевидно, что $\\bar y = 20, \\space Var(y) = 0$.  \n",
        "* Общее среднее: $z = \\dfrac{\\bar x \\cdot n + \\bar y }{n+1}$:  "
      ],
      "metadata": {
        "id": "oyUPGioTCot_"
      }
    },
    {
      "cell_type": "code",
      "source": [
        "y = 20\n",
        "z = (values_mean*100 + y*1)/(100+1)\n",
        "z"
      ],
      "metadata": {
        "colab": {
          "base_uri": "https://localhost:8080/"
        },
        "id": "VKqCorYgDuVI",
        "outputId": "24c9b6c2-8596-4503-a11d-4cda82647c79"
      },
      "execution_count": null,
      "outputs": [
        {
          "output_type": "execute_result",
          "data": {
            "text/plain": [
              "5.158415841584159"
            ]
          },
          "metadata": {},
          "execution_count": 54
        }
      ]
    },
    {
      "cell_type": "markdown",
      "source": [
        "Найдём дисперсию. В данном примере $z$ состоит из двух групп данных $x$ и $y$. **Внутригрупповые дисперсии** известны. Средняя из внутригрупповых дисперсий равна:  \n",
        "$$\\bar{\\sigma_G^2} = \\dfrac{Var(x) \\cdot n + Var(y)\\cdot 1}{n+1}$$"
      ],
      "metadata": {
        "id": "myG1URdwB0ZW"
      }
    },
    {
      "cell_type": "code",
      "source": [
        "var_new = (var*100 + 0*1)/(100+1)\n",
        "var_new"
      ],
      "metadata": {
        "colab": {
          "base_uri": "https://localhost:8080/"
        },
        "id": "TL8A-4hKIksV",
        "outputId": "81cfa8e5-32c8-456e-d349-3289208592fd"
      },
      "execution_count": null,
      "outputs": [
        {
          "output_type": "execute_result",
          "data": {
            "text/plain": [
              "3.4355445544554457"
            ]
          },
          "metadata": {},
          "execution_count": 62
        }
      ]
    },
    {
      "cell_type": "markdown",
      "source": [
        "Для определения общей дисперсии требуется определить межгрупповую дисперсию.\n",
        "**Межгрупповая дисперсия** вычисляется по формуле:  \n",
        "$$\\delta^2 = \\dfrac{(\\bar x - \\bar z)^2 \\cdot n + (\\bar y - \\bar z)^2 \\cdot 1}{n+1}$$"
      ],
      "metadata": {
        "id": "Z-YVie_uHYAV"
      }
    },
    {
      "cell_type": "code",
      "source": [
        "delta = ((values_mean-z)**2 *100 + (y-z)**2 *1)/(100+1)\n",
        "delta"
      ],
      "metadata": {
        "colab": {
          "base_uri": "https://localhost:8080/"
        },
        "id": "rUit6WNhGd4G",
        "outputId": "27ac9796-c16b-44ea-e9f3-1ce117bc2eb5"
      },
      "execution_count": null,
      "outputs": [
        {
          "output_type": "execute_result",
          "data": {
            "text/plain": [
              "2.2027262033134005"
            ]
          },
          "metadata": {},
          "execution_count": 63
        }
      ]
    },
    {
      "cell_type": "markdown",
      "source": [
        "Общая дисперсия $Var(z)$ равна сумме средней из внутригрупповых дисперсий и межгруп-\n",
        "повой дисперсии:  \n",
        "$$Var(z) = \\bar{\\sigma_G^2} + \\delta^2$$"
      ],
      "metadata": {
        "id": "5oYJ8GxDJFr5"
      }
    },
    {
      "cell_type": "code",
      "source": [
        "var_new + delta"
      ],
      "metadata": {
        "id": "w_rIcQjhJUxL",
        "outputId": "138c74df-37c5-4cf5-c75a-b2310fecd92d",
        "colab": {
          "base_uri": "https://localhost:8080/"
        }
      },
      "execution_count": null,
      "outputs": [
        {
          "output_type": "execute_result",
          "data": {
            "text/plain": [
              "5.638270757768846"
            ]
          },
          "metadata": {},
          "execution_count": 64
        }
      ]
    },
    {
      "cell_type": "markdown",
      "source": [
        "### [**Распределение Пуассона**](https://drive.google.com/file/d/117Tj4a4rm0WfLoZFyMDXddM8nnk-5h2g/view?usp=sharing)"
      ],
      "metadata": {
        "id": "n5adCgXEAdNI"
      }
    },
    {
      "cell_type": "markdown",
      "source": [
        "Найдите предел:  \n",
        "$$\\lim_{n \\to +\\infty} e^{-n} \\sum_{k=1}^{n}\\frac{n^k}{k!}$$"
      ],
      "metadata": {
        "id": "4z4M5JruAvKe"
      }
    },
    {
      "cell_type": "markdown",
      "source": [
        "&emsp; По определению [распределения Пуассона](https://ru.wikipedia.org/wiki/%D0%A0%D0%B0%D1%81%D0%BF%D1%80%D0%B5%D0%B4%D0%B5%D0%BB%D0%B5%D0%BD%D0%B8%D0%B5_%D0%9F%D1%83%D0%B0%D1%81%D1%81%D0%BE%D0%BD%D0%B0), если в заданном интервале ожидаемое число вхождений некоторого события равно $\\lambda$, вероятность того, что произойдет ровно $k$ таких событий, равна  \n",
        "$$\\frac{\\lambda^k e^{-\\lambda}}{k!}$$  \n",
        "Пусть $\\lambda = n$. Тогда вероятность того, что Пуассоновская величина с параметром $\\lambda$ примет значение между $0$ и $n$:  \n",
        "$$\\mathbb P(X_n \\le n) = e^{-n} \\sum_{k=0}^n \\frac{n^k}{k!}.$$  \n",
        "\n",
        "Если $Y_i \\sim \\mathrm{Poi}(1)$ и случайные переменные $Y_i$ независимы, тогда $\\sum\\limits_{k=0}^n Y_i \\sim \\mathrm{Poi}(n) \\sim X_n$, тогда вероятность, которую мы ищем есть на самом деле (применим [ЦПТ](https://ru.wikipedia.org/wiki/%D0%A6%D0%B5%D0%BD%D1%82%D1%80%D0%B0%D0%BB%D1%8C%D0%BD%D0%B0%D1%8F_%D0%BF%D1%80%D0%B5%D0%B4%D0%B5%D0%BB%D1%8C%D0%BD%D0%B0%D1%8F_%D1%82%D0%B5%D0%BE%D1%80%D0%B5%D0%BC%D0%B0) ):  \n",
        "$$\\mathbb P(X_n \\leq n) = \\mathbb P( Y_1 + \\dots + Y_n \\le n) = \\mathbb P\\left( \\frac{Y_1 + \\dots + Y_n - 1 \\cdot n}{\\sqrt{1 \\cdot n}} \\leq 0  \\right)$$\n",
        "Переменная $\\frac{Y_1 + \\dots + Y_n - 1 \\cdot n}{\\sqrt{1 \\cdot n}}$ сходится по распределению к Гауссовскому распределению $\\mathrm{N}(0, 1)$. Эта вероятность, т.к график распределения симметричен отн-но $0$, равна $\\frac12$. Таким образом:  \n",
        "$$\\lim_{n \\to +\\infty} e^{-n} \\sum_{k=1}^{n}\\frac{n^k}{k!} = \\lim_{n \\to +\\infty} \\mathbb P(X_n \\leq n) = \\lim_{n \\to +\\infty} \\mathbb P\\left( \\frac{Y_1 + \\dots + Y_n - 1 \\cdot n}{\\sqrt{1 \\cdot n}} \\leq 0  \\right) = \\mathbb{P}(\\mathrm{N}(0, 1) \\leq 0) = \\frac12$$"
      ],
      "metadata": {
        "id": "9qZhaaLjA6d1"
      }
    },
    {
      "cell_type": "markdown",
      "source": [
        "### [**Распределение Паскаля**](https://en.wikipedia.org/wiki/Negative_binomial_distribution) (Отрицательное биномиальное распределение)"
      ],
      "metadata": {
        "id": "Z5zRFuzCRNaf"
      }
    },
    {
      "cell_type": "markdown",
      "source": [
        "**1)** Вытаскиваем случайным образом карту из полной колоды ($52$ карты, выбор с возвращением) пока не увидим $5$ тузов пик. Найдите среднее число «неуспешных» попыток."
      ],
      "metadata": {
        "id": "zjHj4rufRajN"
      }
    },
    {
      "cell_type": "markdown",
      "source": [
        "&emsp; Распределение Паскаля - это распределение дискретной случайной величины равной *количеству произошедших неудач* в последовательности испытаний Бернулли с вероятностью успеха $p$, проводимой до $r$-го успеха.  \n",
        "* **Функция вероятности:** $C_{k+r-1}^k p^r q^k, \\space k = 0,1,2,...$ - вероятность наступления ровно $k$ неуспехов при $r$ успехах. Выбор осуществляется из $(k+r-1)$, а не из $(k+r)$, т.к последнее испытание по определению успех;\n",
        "* **Мат. ожидание:** $E[X_r] = \\frac{rp}{1-p}$.  \n",
        "Доказательство: пусть $X_r$ ~ $NB(r, p)$, где $X$ - число неудач до наблюдения $r$ успехов. И пусть $Y_i$ ~ $Geom(p)$, где $Y_i$ представляет собой число неудач до первого успеха (не включая последнее испытание, [которые по опредеделению Успех](https://ru.wikipedia.org/wiki/Геометрическое_распределение). Можно рассматривать $Y_i$ как время ожидания (число неуспехов) между $i$ и $i+1$ успехом. Таким образом:  \n",
        "$$X_r = \\sum_{i = 1}^r Y_i$$\n",
        "И среднее равно: $\\mathbb E[X_r] = \\sum_{i = 1}^r \\mathbb E[Y_i] = r \\cdot \\frac{1-p}{p}$.  \n",
        "\n",
        "Тогда по условию нашей задачи получим: $\\mathbb E [\\mbox{неуспех}] = 5 \\cdot \\frac{51/52}{1/52} = 255$"
      ],
      "metadata": {
        "id": "IyHlRXSDRjEe"
      }
    },
    {
      "cell_type": "markdown",
      "source": [
        "**2)** Пусть $X$ – это номер первого успеха в испытаниях Бернулли с вероятностью успеха $\\frac14$, $Y$ - это номер второго успеха в тех же испытаниях Бернулли; $Z = Y - X$, $V = X + Y$, $U = X\\cdot Y$, $W = Z\\cdot X$.  \n",
        "**a)** $M(V) - ?$  \n",
        "**b)** $M(Z) - ?$   \n",
        "**c)** $M(W) - ?$  \n",
        "**d)** $M(U) - ?$\n"
      ],
      "metadata": {
        "id": "cKZDRe7FrGks"
      }
    },
    {
      "cell_type": "markdown",
      "source": [
        "**a)** Если вероятность успеха $\\frac14$, то чему скорее всего равно кол-во испытаний до одного успеха? это будет $Х = 4$. До $2$-х успехов - это будет $Y = 4 + 4$ (свойство отсутствия памяти).  \n",
        "А нам надо найти $V=X+Y$: $M(V) = M(X) + M(Y) = 4 + 8 = 12$.  \n",
        "**b)** По свойствам среднего $M(Z) = M(Y) - M(X) = 8 - 4 = 4$.  \n",
        "**c)** $M(Z\\cdot X) = M((Y – X)\\cdot X) = M(Y – X)\\cdot M(X) = 4\\cdot 4 = 16$ , т.к. случайные величины $Z = Y – X$ и $X$ независимы* и $Y – X \\sim Geom(1/4)$  \n",
        "**d)** $M(U)=M(XY)=M(X(X+Z))=M(X^2)+M(XZ)=[D(X)+(M(X))^2] + 16 = 3/4 \\cdot 4^2+4^2+16=44.$  \n",
        "\n",
        "\\* $(Y-X)$ это номер ПЕРВОГО успешного испытания после зафиксированного первого. Первое испытание уже никак не влияет на $(Y-X)$. То самое отсутствие памяти."
      ],
      "metadata": {
        "id": "jsQ0j8dqsqEk"
      }
    },
    {
      "cell_type": "markdown",
      "source": [
        "### [**Формула Байеса**](https://drive.google.com/file/d/117Tj4a4rm0WfLoZFyMDXddM8nnk-5h2g/view?usp=sharing)"
      ],
      "metadata": {
        "id": "R4u1vWDRdgsK"
      }
    },
    {
      "cell_type": "markdown",
      "source": [
        "&emsp; Монета со смещённым центром тяжести имеет неизвестную постоянную вероятность выпадения орла $p$ (случайная величина). Изначально предполагалось, что вероятность того, что значение $p$ равно $0.3$ равно $0.35$, т. е.: \n",
        "$$\\mathbb{P}(p = 0.3) = 0.35.$$\n",
        "&emsp; А вероятность того, что значение $p$ равно $0.7$ равно $0.65$, т.е.: \n",
        "$$\\mathbb{P}(p = 0.7) = 0.65.$$\n",
        "Монета была подброшена $5$ раз и $2$ раза выпал орел. Найдите вероятность того, что значение $p = 0.3$ после проведённых подбрасываний монеты."
      ],
      "metadata": {
        "id": "nZXkCsWIdtra"
      }
    },
    {
      "cell_type": "markdown",
      "source": [
        "Во-первых, вспомним формулу Байеса: $\\mathbb{P}(B|A) = \\frac{\\mathbb{P}(A|B)\\mathbb{P}(B)}{\\mathbb{P}(A)}$, где  \n",
        "* $B = \\{ p = 0.3 \\}$;  \n",
        "* $A = \\{ \\mbox{2 Орла в серии из 5 бросков} \\}$.  \n",
        "\n",
        "> Исходя из этих обозначений, можно сразу сказать, что $\\mathbb{P}(B) = 0.35$;  \n",
        "> Далее найдём $\\mathbb{P}(A) = [C_5^2 \\cdot 0.3^2 \\cdot 0.7^3] \\cdot 0.35 + [C_5^2 \\cdot 0.7^2 \\cdot 0.3^3] \\cdot 0.65 = \\mathbb{P}(A|x)\\mathbb{P}(x) + \\mathbb{P}(A|y)\\mathbb{P}(y) = 0.194$;  \n",
        "> И последнее $\\mathbb{P}(A|B) = C_5^2 \\cdot 0.3^2 (1-0.3)^3 = 0.309$.  \n",
        "\n",
        "$$\\mathbb{P}(B|A) = \\frac{0.309 \\cdot 0.35}{0.194} = 0.557$$"
      ],
      "metadata": {
        "id": "_AOlkABkeDyp"
      }
    },
    {
      "cell_type": "markdown",
      "source": [
        "## **Заметки**"
      ],
      "metadata": {
        "id": "-578DWSXTyk7"
      }
    },
    {
      "cell_type": "markdown",
      "source": [
        "* $\\mathbb{P}[(A \\cap B)\\cap(B \\cap C)\\cap(A \\cap C)] =$ по свойству коммутативности $= \\mathbb{P}[A \\cap B\\cap C]$\n",
        "* $\\mathbb{P}[A \\cap B\\cap C] = \\mathbb{P}(A \\cap B) \\cdot \\mathbb{P}(B \\cap C) \\cdot \\mathbb{P}(A \\cap C) = \\mathbb{P}(A)^2 \\cdot \\mathbb{P}(B)^2 \\cdot \\mathbb{P}(C)^2$\n",
        "* $ \\mathbb{P}[A \\cap B\\cap C] = \\mathbb{P}(A \\cap B) \\cdot \\mathbb{P}(B \\cap C) = \\mathbb{P}(A) \\cdot \\mathbb{P}(B)^2 \\cdot \\mathbb{P}(C)$\n",
        "* $\\mathbb{P}(A)^2 \\cdot \\mathbb{P}(B)^2 \\cdot \\mathbb{P}(C)^2 \\neq \\mathbb{P}(A) \\cdot \\mathbb{P}(B)^2 \\cdot \\mathbb{P}(C)$"
      ],
      "metadata": {
        "id": "34qn6hJq24cA"
      }
    }
  ]
}
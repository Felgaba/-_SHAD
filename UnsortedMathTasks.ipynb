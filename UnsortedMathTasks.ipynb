{
  "nbformat": 4,
  "nbformat_minor": 0,
  "metadata": {
    "colab": {
      "name": "UnsortedMathTasks.ipynb",
      "provenance": [],
      "collapsed_sections": [],
      "authorship_tag": "ABX9TyODHMutNTf+8LLnFHFKSIjq",
      "include_colab_link": true
    },
    "kernelspec": {
      "name": "python3",
      "display_name": "Python 3"
    },
    "language_info": {
      "name": "python"
    }
  },
  "cells": [
    {
      "cell_type": "markdown",
      "metadata": {
        "id": "view-in-github",
        "colab_type": "text"
      },
      "source": [
        "<a href=\"https://colab.research.google.com/github/Felgaba/Yandex_SHAD-OZON_Masters/blob/main/UnsortedMathTasks.ipynb\" target=\"_parent\"><img src=\"https://colab.research.google.com/assets/colab-badge.svg\" alt=\"Open In Colab\"/></a>"
      ]
    },
    {
      "cell_type": "markdown",
      "source": [
        "For the equation $xy^2 - 2xy + x^2y = 12$,  \n",
        "what is the slope of the tangent line at $(x, y) = (1, 4)$"
      ],
      "metadata": {
        "id": "xwv1JM-WBUER"
      }
    },
    {
      "cell_type": "markdown",
      "source": [
        "1) Найдём вектор-градиент в этой точке: $\\vec{a} = \\left( \\dfrac{\\partial\\vec{F}}{\\partial x}, \\dfrac{\\partial\\vec{F}}{\\partial y} \\right)$:  \n",
        "* $\\dfrac{\\partial\\vec{F}}{\\partial x_{(1, 4)} } = y^2 - 2y + 2xy = 16$;\n",
        "* $\\dfrac{\\partial\\vec{F}}{\\partial y_{(1, 4)}} = 2xy - 2x + x^2 = 7$.  \n",
        "\n",
        "Данный вектор перпендикулярен поверхности кривой $F(x, y)$, поэтому необходимо \"повернуть\" вектор на $90'$ и найти угол наклона:  \n",
        "**a)** угол наклона градиента: $tg\\alpha = \\dfrac{1}{ctg\\alpha} = \\dfrac{7}{16}$;  \n",
        "**b)** по формулам предения получаем значения угла наклона касательной через угол градиента: $tg(\\pi/2 + \\alpha) = tg\\beta = -ctg\\alpha$  \n",
        "**c)** котангенс найдём из пункта **a)** и поменяем знак: $tg\\beta = -\\dfrac{16}{7}$"
      ],
      "metadata": {
        "id": "dE9RwqkRCjNP"
      }
    }
  ]
}
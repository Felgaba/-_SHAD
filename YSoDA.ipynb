{
 "cells": [
  {
   "cell_type": "markdown",
   "metadata": {},
   "source": [
    "**31)** Пусть A = ($a_{i, j}$) - матрица размера 2 $\\times \\space n$; $\\delta_{i, j} = \n",
    "\\begin{vmatrix} \n",
    "a_{1, i} & a_{1, j} \\\\\n",
    "a_{2, i} & a_{2, j} \n",
    "\\end{vmatrix} $. Найдите ранг матрицы $ \\Delta = (\\delta_{i,j})$."
   ]
  },
  {
   "cell_type": "markdown",
   "metadata": {},
   "source": [
    "Исходная матрица представима в виде: $A = \\begin{pmatrix}\n",
    "... & A_{1, i} & A_{1, j} & ...\\\\\n",
    "... & A_{2, i} & A_{2, j} & ...\n",
    "\\end{pmatrix}$.  \n",
    "    **а)** при $rA = 2$. Если i = j,  тогда $\\delta_{i, i} = \\begin{vmatrix} \n",
    "a_{1, i} & a_{1, i} \\\\\n",
    "a_{2, i} & a_{2, i} \n",
    "\\end{vmatrix} = a_{1, i}\\cdot a_{2, i} - a_{2, i}\\cdot a_{1, i} = 0$  \n",
    "    Если i $\\neq$ j, тогда $\\delta_{i, j} = \\delta_{j, i} \\neq 0$. И полученная матрица кососимметрична с нулевыми диагональными элементами.\n",
    "   $A = \\begin{pmatrix}\n",
    "0 & -a & -b & -c & ... \\\\\n",
    "a & 0 & -e & -f & ... \\\\\n",
    "b & e & 0 & ... & ...  \\\\\n",
    "c & f & g & 0 & ... \\\\\n",
    "...\n",
    "\\end{pmatrix}$. Её ранг равен 2, т.к при взятии определителя более 2-х получим, что элементы отстоящие от диагонали взаимно компенсируются и определитель равен 0. Легко показать на примере левого верхнего 2x2 неравенство 0 данного определителя.  "
   ]
  },
  {
   "cell_type": "markdown",
   "metadata": {},
   "source": [
    "**б)** при $rA = 1$: $\\delta_{i, j} = \\begin{vmatrix} \n",
    "a_{1, i} & a_{1, j} \\\\\n",
    "a_{2, i} & a_{2, j} \n",
    "\\end{vmatrix} $.  \n",
    "*При этом:* $ a_{1, i} = a_{2, i} \\cdot k, \\space a_{1, j} = a_{2, j} \\cdot k $, т.к элементы, стоящие в одинаковых столбцах, линейно зависимы.  \n",
    "$\\delta_{i, j} =  a_{1, i}\\cdot a_{2, j} - a_{2, i}\\cdot a_{1, j} = a_{2, i}k \\cdot a_{2, j} - a_{2, i}\\cdot a_{2, j}k = 0$. Т.е все миноры равны нулю и ранг полученной матрицы тоже 0."
   ]
  }
 ],
 "metadata": {
  "kernelspec": {
   "display_name": "Python 3",
   "language": "python",
   "name": "python3"
  },
  "language_info": {
   "codemirror_mode": {
    "name": "ipython",
    "version": 3
   },
   "file_extension": ".py",
   "mimetype": "text/x-python",
   "name": "python",
   "nbconvert_exporter": "python",
   "pygments_lexer": "ipython3",
   "version": "3.7.6"
  }
 },
 "nbformat": 4,
 "nbformat_minor": 4
}

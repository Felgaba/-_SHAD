{
  "cells": [
    {
      "cell_type": "markdown",
      "metadata": {
        "id": "view-in-github",
        "colab_type": "text"
      },
      "source": [
        "<a href=\"https://colab.research.google.com/github/Felgaba/Yandex_SHAD-OZON_Masters/blob/main/YSoDA.ipynb\" target=\"_parent\"><img src=\"https://colab.research.google.com/assets/colab-badge.svg\" alt=\"Open In Colab\"/></a>"
      ]
    },
    {
      "cell_type": "markdown",
      "id": "57ec527a",
      "metadata": {
        "id": "57ec527a"
      },
      "source": [
        "## [ШАД](https://efiminem.github.io/supershad/)"
      ]
    },
    {
      "cell_type": "markdown",
      "id": "9e2f7f5c",
      "metadata": {
        "id": "9e2f7f5c"
      },
      "source": [
        "<a id ='ШАД_02.06.2013'></a>\n",
        "#### [ШАД 02.06.2013](https://efiminem.github.io/supershad/02-06-2013/) "
      ]
    },
    {
      "cell_type": "markdown",
      "id": "c83b3102",
      "metadata": {
        "id": "c83b3102"
      },
      "source": [
        "**2)** Дана матрица $A$ размера n×n, где $a_{ij}=(i−j)^2$, $i,j=1,…,n$. Найдите ранг матрицы $A$."
      ]
    },
    {
      "cell_type": "markdown",
      "id": "2754e07f",
      "metadata": {
        "id": "2754e07f"
      },
      "source": [
        "Пусть $\\{A_{j}\\}_{k=1}^{n}$ — столбцы матрицы $A$, а $\\{P_k\\}$ — столбцы вида $(1^k,2^k,…,n^k)^T$. Тогда по условию задачи $A_j=P_2−2jP_1+j^2P_0$. Отсюда следует, что столбцы матрицы $A$ принадлежат подпространству, натянутому на линейно независимые вектора $P_2,P_1,P_0$. Значит, $rankA⩽3$. Заметим, что в случае $n⩾3$ только столбы $A_1,A_2,A_3$ (иначе говоря, первые три) будут линейно независимы. Действительно,\n",
        "$$\\begin{vmatrix}\n",
        "0 & 1 & 4 \\\\\n",
        "1 & 0 & 1 \\\\\n",
        "4 & 1 & 0\n",
        "\\end{vmatrix} \\neq 0 \\space (=8)$$\n",
        "Поэтому при $n⩾3$ rankA=3 $(detA_{4x4}=0)$. В случаях n=1 и n=2 получим 0 и 2, соответственно."
      ]
    },
    {
      "cell_type": "markdown",
      "id": "b9d07254",
      "metadata": {
        "id": "b9d07254"
      },
      "source": [
        " **6)** У линейного преобразования $n$-мерного пространства существуют $n+1$ собственных векторов, таких, что любые $n$ из них линейно независимы. Найдите всевозможные матрицы, которые могли бы задавать такое преобразование."
      ]
    },
    {
      "cell_type": "markdown",
      "id": "090f87d8",
      "metadata": {
        "id": "090f87d8"
      },
      "source": [
        "&emsp; $dimU = n \\space \\Rightarrow $ число собственных значений  не больше $n$ (алгебраическая кратность).  \n",
        "&emsp; Число линейно независимых собственных векторов, принадлежащих некоторому собственному значению (геометрическая кратность), равно алгебраической кратности этого собственного значения, поскольку есть $n$ линейно независимых собственных векторов, а геометрическая кратность не превышает алгебраическую.  \n",
        "&emsp; Тогда, при распределении $n+1$ вектора по $n$ собственным значениям, некоторому собственному значению $\\lambda$ достанется на 1 вектор больше, чем его геометрическая кратность.  \n",
        "&emsp; Пусть теперь есть собственное значение $k\\neq\\lambda$. Тогда возьмем $n$ оставшихся векторов, кроме одного вектора, соответствующего собственному значению $k$. В таком случае эти вектора будут линейно зависимы — противоречие (т.к $n$ из $n+1$ - независимы; один пошёл на $k$ - осталось всего $n$). Это означает, что все собственные значения оператора равны $\\lambda$.  \n",
        "&emsp;Таким образом, любой вектор из собственного подпространства, при действии на него оператора, растягивается в $\\lambda$ раз. Но поскольку из собственных векторов можно составить базис, любой другой вектор пространства, при действии на него оператора, также будет растягиваться в $\\lambda$ раз (т.к он выражается через собственные вектора, которые в таком члучае растягиваются в $\\lambda$ раз). Нетрудно понять, что матрица такого оператора должна быть скалярной.  \n",
        "&emsp; В самом деле, при умножении матрицы на вектора вида $(0,\\ldots 1 \\ldots ,0)^\\mathrm{T}$, мы должны получить вектора вида $(0,\\ldots \\lambda \\ldots ,0)^\\mathrm{T}$. Значит, все элементы на диагонали матрицы равны $\\lambda$.  \n",
        "Если же теперь для некоторых $i\\neq j \\space a_{ij} \\neq 0$, то легко подобрать вектор, который уже не растянется в $\\lambda$ раз.  \n",
        "&emsp; В качестве примера для любой скалярной матрицы можно взять все возможные вектора вида $(0,\\ldots 1 \\ldots ,0)^\\mathrm{T}$ (л.н)\n",
        " и вектор $(1,\\ldots 1 \\ldots, 1)^\\mathrm{T}$. Любые $n$ из них - л.н."
      ]
    },
    {
      "cell_type": "markdown",
      "id": "008527a7",
      "metadata": {
        "id": "008527a7"
      },
      "source": [
        "<a id ='ШАД_25.05.2014'></a>\n",
        "#### [ШАД 25.05.2014](https://efiminem.github.io/supershad/25-05-2014/)"
      ]
    },
    {
      "cell_type": "markdown",
      "id": "a36ec5b9",
      "metadata": {
        "id": "a36ec5b9"
      },
      "source": [
        "  **1)** Пусть A - квадратная матрица, у которой сумма матричных элементов в каждом столбце равна $λ$. Нужно доказать, что $λ$ является собственным значением матрицы A."
      ]
    },
    {
      "cell_type": "markdown",
      "id": "fe194f87",
      "metadata": {
        "id": "fe194f87"
      },
      "source": [
        "* Если вычесть $\\lambda E$, то получится матрица с нулевой суммой в каждом столбце. Это значит, что сумма строк нулевая, то есть строки линейно зависимы. Тогда ранг матрицы меньше $n$, и столбцы тоже линейно зависимы.  \n",
        "* Пусть $x_1,\\dots,x_n$ - коэффициенты линейной зависимости.\n",
        "Тогда вектор-столбец $X$, составленный из них, удовлетворяет условию $(A−λE)x=0$. Поскольку $x≠0$ и $Ax=λx$, число $λ$ будет собственным значением."
      ]
    },
    {
      "cell_type": "markdown",
      "id": "b7c8ef35",
      "metadata": {
        "id": "b7c8ef35"
      },
      "source": [
        "**7)** Найдите максимальное значение определителя матрицы (а) второго (б) третьего порядка, если сумма квадратов всех ее элементов не превосходит 1."
      ]
    },
    {
      "cell_type": "markdown",
      "id": "206a76e9",
      "metadata": {
        "id": "206a76e9"
      },
      "source": [
        "Рассмотрим матрицу $n$-го порядка. Пусть А - невырожденная матрица n-го порядка. Рассмотрим матрицу $B=AA^T$.  \n",
        "* все собственные значения матрицы $В$ положительны: пусть $AA^T = \\begin{pmatrix} a^2+b^2 & ac+bd\\\\ ac+bd & c^2+d^2 \\end{pmatrix}$, откуда видно что собственные значения положительны;\n",
        "* $trB=\\sum_{i;j=0}^{n} a_{ij}^2$;\n",
        "* $detB=det(AA^T)=(detA)^2$.  \n",
        "Учитывая [соотношения](http://twt.mpei.ac.ru/math/larb/linoper/LA_04050000.html) $detB=\\prod_{k=1}^n \\lambda_{k}, \\space trB=\\sum_{k=0}^{n} \\lambda_{k}$ и [соотношения](https://mathus.ru/math/srednie.pdf) среднего арифметического и геометрического:  \n",
        "$$ detB \\leq (\\frac{trB}{n})^n \\space (1). $$\n",
        "\n",
        "По условию $trB \\leq 1$. Поэтому $detB \\leq (\\frac{1}{n})^n$, а $detA \\leq (\\frac{1}{\\sqrt{n}})^n$.  \n",
        "В выражении (1) равенство при $\\lambda_1 = \\lambda_2 = \\dots = \\lambda_n = \\frac{1}{n}$, тогда для исходной матрицы А - это корень из этих собственных значений.\n",
        "* При n = 2: $detA = \\frac{1}{2}$\n",
        "* При n = 3: $detA = \\frac{1}{2\\sqrt{2}}$  \n",
        " **Пример матрицы:** А = $diag(\\frac{1}{\\sqrt{n}}, \\frac{1}{\\sqrt{n}}, \\dots, \\frac{1}{\\sqrt{n}})$"
      ]
    },
    {
      "cell_type": "markdown",
      "source": [
        "<a id ='ШАД_24.05.2015'></a>\n",
        "#### [ШАД 24.05.2015](https://efiminem.github.io/supershad/24-05-2015/)"
      ],
      "metadata": {
        "id": "dsSjEZDwuPdJ"
      },
      "id": "dsSjEZDwuPdJ"
    },
    {
      "cell_type": "markdown",
      "source": [
        "**2)** На плоскости, однородно покрытой прямоугольниками (их стороны касаются) со сторонами 10 и 20, рисуют случайную окружность радиуса 4. Найдите вероятность того, что окружность имеет общие точки ровно с тремя прямоугольниками.\n"
      ],
      "metadata": {
        "id": "ODws7orZuUxS"
      },
      "id": "ODws7orZuUxS"
    },
    {
      "cell_type": "markdown",
      "source": [
        "Будем следить за положением центра окружности. Можно ограничить рассмотрение внутренностью одного прямоугольника (расположение центра относительно одного прямоугольника).  \n",
        "Для того, чтобы окружность пересекала ровно три прямоугольника, должны выполняться два условия:  \n",
        "**(1)** расстояния от центра до двух ближайших сторон прямоугольника должны быть меньше 4 (нестрого) - предельный случай эквивалентен ;  \n",
        "**(2)** расстояние до ближайшей вершины прямоугольника должно быть больше 4 (т.к фигуры касаются, вершины - это пересечение сразу 4-х прямоугольников)."
      ],
      "metadata": {
        "id": "suBF7HUiubkf"
      },
      "id": "suBF7HUiubkf"
    },
    {
      "cell_type": "markdown",
      "source": [
        "![](https://drive.google.com/uc?export=view&id=1gDsXowwVYFg4vJNKqFwdARSy6TjQMt_T)"
      ],
      "metadata": {
        "id": "aSGswfAbyTxO"
      },
      "id": "aSGswfAbyTxO"
    },
    {
      "cell_type": "markdown",
      "source": [
        "Зная это, мы можем изобразить множество точек, удовлетворяющих этим условиям (жёлтый сегмент), который равен: $\\dfrac{8\\cdot8 - 4^2\\pi}{4} = 16-4\\pi$. Таких сегментов всего 4 (для каждого такого угла прямоугольника), поэтому допустимая область равна: \n",
        "$$\\mathbb{P} = \\dfrac{4\\cdot(16-4\\pi)}{10\\cdot20} = \\dfrac{8-2\\pi}{25}$$\n"
      ],
      "metadata": {
        "id": "PgSxWyfdyUXR"
      },
      "id": "PgSxWyfdyUXR"
    },
    {
      "cell_type": "markdown",
      "source": [
        "<a id ='ШАД_31.05.2015'></a>\n",
        "#### [ШАД 31.05.2015](https://efiminem.github.io/supershad/31-05-2015/)"
      ],
      "metadata": {
        "id": "h1Zm207hvL7v"
      },
      "id": "h1Zm207hvL7v"
    },
    {
      "cell_type": "markdown",
      "source": [
        "**2)** Придя на письменный экзамен в ШАД, студенты поняли, что среди любых четырех человек хотя бы один уже знаком с тремя оставшимися. Докажите, что в этом случае среди любых четверых человек хотя бы один уже знаком со всеми остальными студентами (вообще всеми)."
      ],
      "metadata": {
        "id": "A9ctZz-3vUyL"
      },
      "id": "A9ctZz-3vUyL"
    },
    {
      "cell_type": "markdown",
      "source": [
        "&emsp; Рассмотрим произвольную четвёрку студентов $A$, $B$, $C$, $D$. Пусть, от противного, из них никто не знаком со всеми остальными студентами. Но по условию один из студентов (пусть это будет $A$) знает всех оставшихся троих. От противного мы заключили, что есть некий другой студент $X$, которого $A$ не знает.  \n",
        "&emsp; В этом месте сделаем финт ушами и рассмотрим четвёрку $A$, $B$, $C$, $X$. В этой четвёрке должен быть студент, который знает всех троих. Это не может быть $A$ или $X$, так как они не знакомы, поэтому пусть $B$ знает всех троих (не важно, это может быть и $C$, пока симметрия между ними не нарушена)."
      ],
      "metadata": {
        "id": "7AS5dM2R7Prj"
      },
      "id": "7AS5dM2R7Prj"
    },
    {
      "cell_type": "markdown",
      "source": [
        "![](https://drive.google.com/uc?export=view&id=1QO20Gzpkd__aP8MQDS81eg8DrlgPIEA9)"
      ],
      "metadata": {
        "id": "muhfqFGK6ohZ"
      },
      "id": "muhfqFGK6ohZ"
    },
    {
      "cell_type": "markdown",
      "source": [
        "&emsp; Так как мы работаем от противного, то каждый студент в четвёрке $ABCD$ не знает кого-либо. Если в случае с $A$ мы были вынуждены взять незнакомца со стороны, то в случае с $B$ возможны два случая. Если $B$ не знает кого-то изнутри четвёрки $ABCD$, то это может быть только $D$, так как $A$ и $C$ он уже знает. Но в этом случае рассмотрим четвёрку $AXBD$. С учётом того, что $A$ не знает $X$ и $D$ не знает $B$, мы не можем удовлетворить условию о том, чтобы хотя бы один студент в четвёрке знал всех остальных троих."
      ],
      "metadata": {
        "id": "HWto7a1wvebk"
      },
      "id": "HWto7a1wvebk"
    },
    {
      "cell_type": "markdown",
      "source": [
        "![](https://drive.google.com/uc?export=view&id=1wZlvaEkBzYnnDKW5TxYDvPHwfZWzDIR1)"
      ],
      "metadata": {
        "id": "2pVLvp2IB45P"
      },
      "id": "2pVLvp2IB45P"
    },
    {
      "cell_type": "markdown",
      "source": [
        "&emsp; Таким образом, $B$ и $D$ должны быть знакомы (чтобы собрать \"тройку\"), а у $B$ должен быть незнакомый студент со стороны $Z$. Но тут и наступает конец (противоречие). Рассмотрим четвёрку $ABXZ$. В ней невозможно устроить так, чтобы кто-то знал троих остальных студентов так как незнакомы $A$ и $X$, $B$ и $Z$ (т.е. не существует ни одного студента из 4-х, который знал бы оставшихся троих) - задача решена."
      ],
      "metadata": {
        "id": "N_RGXWOHCAUH"
      },
      "id": "N_RGXWOHCAUH"
    },
    {
      "cell_type": "markdown",
      "source": [
        "![](https://drive.google.com/uc?export=view&id=1Sokrs0TC3wvRtJ5BMC-pNkaQd1zFNGSG)"
      ],
      "metadata": {
        "id": "c7B11fhzDwf7"
      },
      "id": "c7B11fhzDwf7"
    },
    {
      "cell_type": "markdown",
      "id": "1ce82af6",
      "metadata": {
        "id": "1ce82af6"
      },
      "source": [
        "<a id ='ШАД_07.06.2015'></a>\n",
        "#### [ШАД 07.06.2015](https://efiminem.github.io/supershad/07-06-2015/)"
      ]
    },
    {
      "cell_type": "markdown",
      "id": "751e3af5",
      "metadata": {
        "id": "751e3af5"
      },
      "source": [
        "**4)** Пусть ***X*** и ***Y*** - квадратные матрицы одинакового размера $ XY = \\lambda X+\\mu Y $ для некоторых $ \\lambda , \\mu \\neq 0 .$ Докажите, что матрицы ***X*** и ***Y*** коммутируют: *XY* = *YX*."
      ]
    },
    {
      "cell_type": "markdown",
      "id": "081700f1",
      "metadata": {
        "id": "081700f1"
      },
      "source": [
        "$ XY = \\lambda X + \\mu Y \\Rightarrow XY - \\lambda X - \\mu Y +\\lambda\\mu E = \\lambda\\mu E \\Rightarrow (X-\\mu E)(Y - \\lambda E) = \\lambda\\mu E \\Rightarrow \\frac{1}{\\mu}(X-\\mu E)\\frac{1}{\\lambda}(Y - \\lambda E) = E $  \n",
        "$ \\Rightarrow AA^{-1} = A^{-1}A = E $ (рассматриваемые матрицы взаимно обратны).   \n",
        "<br>\n",
        "Можно сопрячь обе части уравнения одной из матриц, обратных левой (перенеся в правую часть константы):  \n",
        "$$ (X-\\mu E)(Y - \\lambda E)\\cdot(X-\\mu E) = \\lambda\\mu E \\cdot(X-\\mu E) \\mid (X-\\mu E)^{-1} \\cdot \\Longrightarrow $$\n",
        "$$(X-\\mu E)^{-1}\\cdot(X-\\mu E)(Y - \\lambda E)\\cdot(X-\\mu E) = \\lambda\\mu E $$\n",
        "<br>\n",
        "**Раскрыв скобки:** $ YX = \\lambda X + \\mu Y = XY $"
      ]
    },
    {
      "cell_type": "markdown",
      "id": "8e693690",
      "metadata": {
        "id": "8e693690"
      },
      "source": [
        "#### [ШАД 26.05.2018](https://efiminem.github.io/supershad/26-05-2018/)"
      ]
    },
    {
      "cell_type": "markdown",
      "id": "5dbe5609",
      "metadata": {
        "id": "5dbe5609"
      },
      "source": [
        "**1)** Существуют ли *ортогональные кососимметричные* матрицы $2019×2019$? А $2018×2018$?"
      ]
    },
    {
      "cell_type": "markdown",
      "id": "2312f0a3",
      "metadata": {
        "id": "2312f0a3"
      },
      "source": [
        "**Ортогональная:** $ A^T \\cdot A = E $  \n",
        "**Кососимметрическая:** $ A = -A^T ; detA = detA^T = det(-A^T) = (-1)^n \\cdot detA^T $  \n",
        "* **n** - чётная, тогда: $ detA = detA^T = 1 \\cdot detA^T \\Rightarrow detA = \\forall $  \n",
        "* **n** - нечётная, тогда: $ detA = detA^T = (-1) \\cdot detA^T \\Rightarrow detA = 0 $  \n",
        "\n",
        "$ det(A^T \\cdot A) = detA \\cdot detA^T = (detA)^2 = detE = 1 \\Rightarrow detA = \\pm1 \\Rightarrow \\exists A_{2018x2018} $ и $ \\neg \\exists A_{2019x2019} $"
      ]
    },
    {
      "cell_type": "markdown",
      "id": "1aeb130b",
      "metadata": {
        "id": "1aeb130b"
      },
      "source": [
        "#### [ШАД 02.06.2018](https://efiminem.github.io/supershad/02-06-2018/)"
      ]
    },
    {
      "cell_type": "markdown",
      "id": "8254ba21",
      "metadata": {
        "id": "8254ba21"
      },
      "source": [
        "(a) Докажите, что функции $det(X)$, $det(X+E)$, $det(X-E)$ на пространстве комплексных матриц $3 \\times 3$ линейно зависимы.  \n",
        "(b) Докажите, что найдется $m \\in N$, для которого набор функций $det(X-mE), det(X-(m-1)E), det(X-(m-2)E), \\dots, det(X+mE)$ линейно зависим."
      ]
    },
    {
      "cell_type": "markdown",
      "id": "69388522",
      "metadata": {
        "id": "69388522"
      },
      "source": [
        "(a) Пусть имеются коэффициенты линейной зависимости, для которых $$a \\cdot det(X-E)+b \\cdot det(X)+c \\cdot det(X+E)=0$$ для любой 3x3-матрицы X.  \n",
        "Подставим **X=0, X=E, X=2E**:\n",
        "$$\n",
        "\\left\\{\n",
        "    \\begin{array}\\\\\n",
        "        -a+с=0 \\\\\n",
        "        b+8c=0 \\\\\n",
        "        a+8b+27c=0\n",
        "    \\end{array}\n",
        "\\right.\n",
        "$$\n",
        "откуда **a=b=c=0**."
      ]
    },
    {
      "cell_type": "markdown",
      "id": "6807e122",
      "metadata": {
        "id": "6807e122"
      },
      "source": [
        "b) Пусть P(t) -- характеристический многочлен матрицы X. Его степень равна 3 для каждого X. При этом $$det(X-mE)=P(m), det(X-(m-1)E)=P(m-1), ... , det(X+mE)=P(-m),$$ где m рассматриваем как переменную (или то же самое, что лямбда).  Получается **2m+1** многочлен степени 3: $(m-0), \\dots, (m-2m)$.  \n",
        "\n",
        "&emsp; Мы хотим найти коэффициенты линейной зависимости, и для этого достаточно обеспечить такую зависимость для $P(m)=m^3, P(m)=m^2, P(m)=m, P(m)=1$ (формально после раскрытия скобок и приведения подобных слагаемых получится классический многочлен $ax^2+bx+c=0$, у которого не все коэффициенты равны нулю).\n",
        "\n",
        "&emsp; Пусть $P(m)=m^d$, где $d=0,1,2,3$. Запишем уравнение с неопределёнными коэффициентами $a_m m^d+a_{m-1} (m-1)^d+...+a_{-m} (-m)^d=0$. Приравнивая коэффициенты при одинаковых степенях m после раскрытия скобок, мы получаем систему из $d+1$ уравнения для каждого $d$: при $d=1$ и после группировки слагаемых будет уравнение $(\\sum_{j=0}^{2m+1} A_{j})m+(\\sum_{i=0}^{2m-1} A_{j}) \\cdot Const = 0$. Подставим m = 0 и m = 1 $\\Rightarrow$ два уравнения. Похожим образом для оставшихся d.\n",
        " \n",
        "&emsp; Итого будет $1+2+3+4=10$ однородных линейных уравнений от $2m+1$ неизвестной. Если количество неизвестных не меньше 11, что имеет место при $m \\geq 5$, то такая система будет иметь ненулевое решение, то есть функции **нейно зависимы**"
      ]
    },
    {
      "cell_type": "markdown",
      "id": "65cf2850",
      "metadata": {
        "id": "65cf2850"
      },
      "source": [
        "#### [ШАД 19.02.2014 Харьков](https://efiminem.github.io/supershad/19-02-2014-kharkiv/)"
      ]
    },
    {
      "cell_type": "markdown",
      "id": "9611202b",
      "metadata": {
        "id": "9611202b"
      },
      "source": [
        "**1)** Найдите все квадратные вещественные матрицы порядка 3, удовлетворяющие уравнению  \n",
        "$$ X^2 + E = 0 $$"
      ]
    },
    {
      "cell_type": "markdown",
      "id": "22ec1b79",
      "metadata": {
        "id": "22ec1b79"
      },
      "source": [
        "X - квадратная матрица ($ 3 \\times 3 $)  \n",
        "$$ X^2 = \\begin{pmatrix}\n",
        "-1 & 0 & 0\\\\\n",
        "0 & -1 & 0\\\\\n",
        "0 & 0 & -1\n",
        "\\end{pmatrix} $$\n",
        "$ detX^2 = det(-E) $, откуда по [свойству](https://portal.tpu.ru/SHARED/k/KONVAL/Sites/Russian_sites/2/05.htm) детерминанта: $ detXdetX = -1 $ (при n = 3). Очевидно, что число в левой части больше нуля $\\Rightarrow$ противоречие.  \n",
        "В общем случае, для матрицы $n \\times n$: $detXdetX = (-1)^n $ (матрица Х существует для чётных порядков, тогда detX = $\\pm$1)."
      ]
    },
    {
      "cell_type": "markdown",
      "id": "a128b8e0",
      "metadata": {
        "id": "a128b8e0"
      },
      "source": [
        "#### [ШАД 28.05.2016](https://efiminem.github.io/supershad/28-05-2016/)"
      ]
    },
    {
      "cell_type": "markdown",
      "id": "1cb24a51",
      "metadata": {
        "id": "1cb24a51"
      },
      "source": [
        "**1)** Справедливо ли, что если $ ABA = A \\Rightarrow BAB = B $ ? [Source](https://math.stackexchange.com/questions/2287807/square-matrices-aba-a)"
      ]
    },
    {
      "cell_type": "markdown",
      "id": "289df281",
      "metadata": {
        "id": "289df281"
      },
      "source": [
        "**1)** Пусть А - обратимая, тогда $ |(-//-) \\cdot B \\Rightarrow ABAB = AB \\Rightarrow |A^{-1}\\cdot (-//-) \\Rightarrow BAB = B \\space (+)$  \n",
        "**2)** Если А - необратимая, тогда при В = Е, нужно найти $ A^2 = A $. Пусть $ A = \n",
        "\\begin{pmatrix}\n",
        "1 & 0\\\\\n",
        "0 & 0\n",
        "\\end{pmatrix} $. Очевидно, что $ A^2 = A $, тогда нетрудно заметить, что $ BAB = EAE = A \\neq B $."
      ]
    },
    {
      "cell_type": "markdown",
      "id": "48a7bf93",
      "metadata": {
        "id": "48a7bf93"
      },
      "source": [
        "#### [ШАД 01.06.2019](https://efiminem.github.io/supershad/01-06-2019/) "
      ]
    },
    {
      "cell_type": "markdown",
      "id": "3a463f3a",
      "metadata": {
        "id": "3a463f3a"
      },
      "source": [
        "   \n",
        "**3)** При каком параметре $ a \\in R $ матрицы\n",
        "$$ A = \\begin{pmatrix}\n",
        "1 & 4-a-a^2\\\\\n",
        "2 & -1\n",
        "\\end{pmatrix} \n",
        "B = \\begin{pmatrix}\n",
        "-a-1 & 3 \\\\\n",
        "3 & -5\n",
        "\\end{pmatrix}$$\n",
        "могут быть матрицами одной и той же билинейной формы [(стр 15)](https://www.econ.msu.ru/sys/raw.php?o=80643&p=attachment) $ V\\times V \\rightarrow R $ в различных базисах?"
      ]
    },
    {
      "cell_type": "markdown",
      "id": "84e32a9b",
      "metadata": {
        "id": "84e32a9b"
      },
      "source": [
        "Матрица В - симметричная $ \\Rightarrow $ определяет только симметричную форму в некотором базисе. Тогда матрица А тоже симметрическая.  \n",
        "**1)** A - симметрическая: $2 = 4-a-a^2$  $a_1 = 2, a_2 = -1$  \n",
        "**2)** **rA = rB:** rA = 2 и отрицательно определена $\\Rightarrow$ при $a_1$: B - отрицательно определена (+); $a_2$: В - неопределена"
      ]
    },
    {
      "cell_type": "markdown",
      "id": "3d3d4027",
      "metadata": {
        "id": "3d3d4027"
      },
      "source": [
        "**4)** Верно ли, что всякая нечетная непрерывная функция, удовлетворяющая условию $f(2x) = 2f(x)$, линейна? [solution](https://vk.com/@ezhidze_group-reshenie-zadachi-373)"
      ]
    },
    {
      "cell_type": "markdown",
      "id": "aa04b890",
      "metadata": {
        "id": "aa04b890"
      },
      "source": [
        "* Равенство f(2x) = 2f(x) означает, что при **гомотетии с центром в начале координат с коэффициентом 2, график функции переходит сам в себя**.\n",
        "* Зададим функцию следующим образом: для любых целых n функция равна полуокружности на отрезке [2ⁿ⁻¹,2ⁿ] в верхней полуплоскости. Иначе функция равна 0. Очевидно, что предел функции f при x --> +0 равен 0. Поэтому, чтобы функция была непрерывной в нуле, нужно ее доопределить нулем в нуле. При отрицательных x функция получается отражением нечетным образом. \n",
        "* Таким образом, функция действительно получается непрерывной, нечетной и для нее выполнено, что f(2x) = 2f(x). При этом очевидно, функция линейной не является."
      ]
    },
    {
      "cell_type": "code",
      "execution_count": null,
      "id": "3e4f5068",
      "metadata": {
        "id": "3e4f5068",
        "outputId": "b64ebdb8-6939-480f-a132-505bd800ec3d"
      },
      "outputs": [
        {
          "data": {
            "text/html": [
              "<img src=\"https://sun9-2.userapi.com/impf/c844216/v844216500/799bf/JVabdJJb2zk.jpg?size=807x476&quality=96&sign=f9de76711cd2b9bcbc8672bcf8ff1ab9&type=album\" width=\"500\" height=\"500\"/>"
            ],
            "text/plain": [
              "<IPython.core.display.Image object>"
            ]
          },
          "execution_count": 5,
          "metadata": {},
          "output_type": "execute_result"
        }
      ],
      "source": [
        "from IPython.display import Image\n",
        "  \n",
        "# get the image\n",
        "Image(url=\"https://sun9-2.userapi.com/impf/c844216/v844216500/799bf/JVabdJJb2zk.jpg?size=807x476&quality=96&sign=f9de76711cd2b9bcbc8672bcf8ff1ab9&type=album\", width=500, height=500)"
      ]
    },
    {
      "cell_type": "markdown",
      "id": "a4dc6120",
      "metadata": {
        "id": "a4dc6120"
      },
      "source": [
        "## [Задачи Олимпиадные](http://www.mathnet.ru/links/a6bacfb39d75891b7b9e7e465e42b296/mo679.pdf)"
      ]
    },
    {
      "cell_type": "markdown",
      "id": "df09a3be",
      "metadata": {
        "id": "df09a3be"
      },
      "source": [
        "**4)** Дана матрица $ A_n = \\begin{pmatrix}\n",
        "1 & 2/n & 6/n \\\\\n",
        "3/n & 1 & 0 \\\\\n",
        "-1/n & 0 & 1\n",
        "\\end{pmatrix}$. Вычислите $\\lim_{x \\to \\infty}A_n^n$"
      ]
    },
    {
      "cell_type": "markdown",
      "id": "5b272d2b",
      "metadata": {
        "id": "5b272d2b"
      },
      "source": [
        "Пусть $B_n = A_n - I$. Тогда \n",
        "$$ B_n = \\begin{pmatrix}\n",
        "0 & 2/n & 6/n \\\\\n",
        "3/n & 0 & 0 \\\\\n",
        "-1/n & 0 & 0\n",
        "\\end{pmatrix}, \\space B_n^2 = \\begin{pmatrix}\n",
        "0 & 0 & 0 \\\\\n",
        "0 & 6/n^2 & 18/n^2 \\\\\n",
        "0 & -2/n^2 & -6/n^2\n",
        "\\end{pmatrix}, \\space B_n^3 = 0.$$\n",
        "Значит при $k \\leq 3 \\Rightarrow \\space B_n^k = O$"
      ]
    },
    {
      "cell_type": "markdown",
      "id": "d43f2d95",
      "metadata": {
        "id": "d43f2d95"
      },
      "source": [
        "Поэтому по формуле бинома Ньютона (учитывая коммутирование матриц $I$ и $B_n$):\n",
        "$$ A_n^n = (I+B_n)^n = I + nB_n + \\frac{n(n-1)}{2}B_n^2 = \n",
        "\\begin{pmatrix} \n",
        "1 & 2 & 6 \\\\\n",
        "3 & 4 & 9 \\\\\n",
        "-1 & -1 & -2\n",
        "\\end{pmatrix}\n",
        "$$"
      ]
    },
    {
      "cell_type": "markdown",
      "id": "d45422e7",
      "metadata": {
        "id": "d45422e7"
      },
      "source": [
        "**8)** [Из ШАД 2015](#ШАД_06.2015)"
      ]
    },
    {
      "cell_type": "markdown",
      "id": "b758529f",
      "metadata": {
        "id": "b758529f"
      },
      "source": [
        "**28)** А и B - квадратные матрицы одинакового размера. Обязательно ли **а)** tr(AB) = tr(BA); **[б)](https://www.quora.com/If-A-is-invertible-how-can-I-show-that-rank-AB-rank-B-rank-BA)** rk(AB) = rk(BA)?"
      ]
    },
    {
      "cell_type": "markdown",
      "id": "bf7dcc8f",
      "metadata": {
        "id": "bf7dcc8f"
      },
      "source": [
        "1) Пусть $\\exists \\space A^{-1} \\space и \\space B^{-1}$ (обратимые и квадратные полного ранга), и, допуская, существование AB и BA имеем $ dimA = dimB = n $.  \n",
        "Согласно [теореме](https://en.wikipedia.org/wiki/Rank%E2%80%93nullity_theorem), если ядра имеют равные размерности, - у них одинаковый ранг: $ rank(A) = rank(A^T) = rank(B) $.\n",
        "2) Пусть К - ядро АВ, тогда АВК = 0. Домножим слева $ A^{-1}\\cdot \\Rightarrow BK = 0 \\Rightarrow B \\space $ также вложено в ядро **К** и  \n",
        "**rankAB = rankB**. \n",
        "<br>\n",
        "3) $ A^TB^T  = (BA)^T  - ядро \\space K': A^TB^TK' = 0 \\space |(A^T)^{-1}\\cdot $  \n",
        "$B^TK' = 0 \\Rightarrow B^T $ имеет такое же ядро и ранг как $ A^TB^T $.\n",
        "$$ rank(A^TB^T) = rank((BA)^T) = rank(BA) = rank(B^T) = rank(B) = rank(AB)$$"
      ]
    },
    {
      "cell_type": "markdown",
      "id": "7c544198",
      "metadata": {
        "id": "7c544198"
      },
      "source": [
        "**29)** [Из ШАД 2013](#ШАД_06.2013)"
      ]
    },
    {
      "cell_type": "markdown",
      "id": "38121eef",
      "metadata": {
        "id": "38121eef"
      },
      "source": [
        "**30)** Пусть *А* - вырожденная матрица. Докажите, что матрица, составленная из алгебраическая доаолнений элементов *А*, имеет ранг не больше 1. "
      ]
    },
    {
      "cell_type": "markdown",
      "id": "22c2155a",
      "metadata": {
        "id": "22c2155a"
      },
      "source": [
        "det**A** = 0  \n",
        "**а)** пусть r**A** = n - 1, тогда пусть $ row_j \\equiv 0 $, минор  $- \\space \\delta_{ik} $, где $ i \\neq j $, а при $ i = j: $  \n",
        "$ \\exists\\delta_{ik} \\neq 0 $ (т.к оставшиеся строки ЛНЗ): $rA_{\\delta} = 1$ - матрица миноров.  \n",
        "**б)** r**A** < n - 1: $ \\forall \\space row \\space \\delta_{ik} = 0 $, т.к миноры содержат \"0\"-ю строку и $ rA_{\\delta} = 0 $."
      ]
    },
    {
      "cell_type": "markdown",
      "id": "40e67c71",
      "metadata": {
        "id": "40e67c71"
      },
      "source": [
        "**32)** Матрица размером **m × n** имеет ранг **r**. Нужно дополнить её до квадратной так, чтобы полученная матрица стала невырожденной. Каков наименьший размер полученной квадратной матрицы?"
      ]
    },
    {
      "cell_type": "markdown",
      "id": "01933fd5",
      "metadata": {
        "id": "01933fd5"
      },
      "source": [
        "&emsp; Пусть искомая матрица имеет размерность **k × k**, тогда не хватает **(k-n)** столбцов до искомого количества.  \n",
        "Остаётся **m** строк, которые теперь Л.Н ранг полученной матрицы **A':** $ rA' = m $.  \n",
        "&emsp; С другой стороны, изначально было *r* Л.Н столбцов, тогда нужно, как минимум, **m-r** столбцов (rA = r, rA' = m, тогда не хватает именно m-r Л.Н столбцов). Последнее возможно, если вообще возможно добавить *столько* столбцов: $ k-n \\geq m-r $  \n",
        "&emsp; Теперь добавим строки: из первой части получено **m** Л.Н строк, тогда можно найти ещё **m-k** таких строк. Итого, ключевое условие из первой части - это $ k \\geq m+n-r $. При исходном условии о *невырожденности* получаемой матрицы."
      ]
    },
    {
      "cell_type": "markdown",
      "id": "1d906bb3",
      "metadata": {
        "id": "1d906bb3"
      },
      "source": [
        "## Иные задачи"
      ]
    },
    {
      "cell_type": "markdown",
      "id": "5f039c4b",
      "metadata": {
        "id": "5f039c4b"
      },
      "source": [
        "#### **1)** Решить уравнение \n",
        "$$ X^{2021} = X, $$\n",
        "где  \n",
        "$$ X = \\begin{pmatrix}\n",
        "0 & x\\\\\n",
        "y & 0\n",
        "\\end{pmatrix} $$"
      ]
    },
    {
      "cell_type": "markdown",
      "id": "3c76a2ab",
      "metadata": {
        "id": "3c76a2ab"
      },
      "source": [
        "$$ X^2 = \\begin{pmatrix}\n",
        "xy & 0\\\\\n",
        "0 & xy\n",
        "\\end{pmatrix} \n",
        "\\Rightarrow \n",
        "X^3 = \\begin{pmatrix}\n",
        "0 & x^2y\\\\\n",
        "xy^2 & 0\n",
        "\\end{pmatrix}\n",
        "\\Rightarrow\n",
        "X^4 = \\begin{pmatrix}\n",
        "x^2y^2 & 0\\\\\n",
        "0 & x^2y^2\n",
        "\\end{pmatrix} $$"
      ]
    },
    {
      "cell_type": "markdown",
      "id": "7f625e6a",
      "metadata": {
        "id": "7f625e6a"
      },
      "source": [
        "$$ \\begin{pmatrix}\n",
        "0 & x^2y\\\\\n",
        "xy^2 & 0\n",
        "\\end{pmatrix}\n",
        "\\begin{pmatrix}\n",
        "0 & x\\\\\n",
        "y & 0\n",
        "\\end{pmatrix} = \\space \\to \\dots \\to \\space X^{2020} = \n",
        "\\begin{pmatrix}\n",
        "(xy)^{2018} & 0\\\\\n",
        "0 & (xy)^{2018}\n",
        "\\end{pmatrix}$$  "
      ]
    },
    {
      "cell_type": "markdown",
      "id": "1ef0599d",
      "metadata": {
        "id": "1ef0599d"
      },
      "source": [
        "$ X^{2021} - X= \\begin{pmatrix}\n",
        "0 & x^{2019}y^{2018}-x\\\\\n",
        "x^{2018}y^{2019}-y & 0\n",
        "\\end{pmatrix} \\space = \\space 0$  \n",
        "\n",
        "$\n",
        "\\left\\{\n",
        "    \\begin{array}\\\\\n",
        "        x[(xy)^{2018}-1] = 0 \\\\\n",
        "        y[(xy)^{2018}-1] = 0 \\\\\n",
        "    \\end{array}\n",
        "\\right.\n",
        "\\Rightarrow \n",
        "\\left\\{\n",
        "    \\begin{array}\\\\\n",
        "        x[(xy)^{2018}-1] = 0 \\\\\n",
        "        y[(xy)^{2018}-1] = 0 \\\\\n",
        "        [x \\pm y][(xy)^{2018}-1] = 0\n",
        "    \\end{array}\n",
        "\\right.\n",
        "\\Rightarrow\n",
        "\\left\\{\n",
        "    \\begin{array}\\\\\n",
        "        x=0 \\Leftrightarrow y=0 \\\\\n",
        "        x \\space and \\space y \\neq 0 \\Rightarrow x = \\pm y \\Rightarrow y = \\pm1 \\space and \\space x = \\pm \\mp 1\\\\\n",
        "        x = \\pm \\frac{1}{y}\n",
        "    \\end{array}\n",
        "\\right.$"
      ]
    },
    {
      "cell_type": "markdown",
      "id": "a291f5d0",
      "metadata": {
        "id": "a291f5d0"
      },
      "source": [
        "#### **2)** Даны [блочные матрицы § 2.4.](https://elar.urfu.ru/bitstream/10995/82505/1/978-5-7996-2947-2_2020.pdf):"
      ]
    },
    {
      "cell_type": "markdown",
      "id": "9cf74b5c",
      "metadata": {
        "id": "9cf74b5c"
      },
      "source": [
        "$A = \\left(\\begin{array}{@{}c|c@{}}\n",
        "  \\begin{matrix}\n",
        "  2 & 3\n",
        "  \\end{matrix}\n",
        "  & 4 \\\\\n",
        "\\hline\n",
        "  \\begin{matrix}\n",
        "  3 & 4 \\\\\n",
        "  4 & 5\n",
        "  \\end{matrix}\n",
        "  &\n",
        "  \\begin{matrix}\n",
        "  5 \\\\\n",
        "  6\n",
        "  \\end{matrix}\n",
        "\\end{array}\\right)$ = \n",
        "$\\left(\\begin{array}{@{}c|c@{}}\n",
        "  A_{11} & A_{12} \\\\\n",
        "\\hline\n",
        "  A_{21} & A_{22} \\\\\n",
        "\\end{array}\\right) \\space$ и\n",
        "$\\space B = \\left(\\begin{array}{@{}c|c@{}}\n",
        "  \\begin{matrix}\n",
        "  1 & 1\n",
        "  \\end{matrix}\n",
        "  & 0 \\\\\n",
        "\\hline\n",
        "  \\begin{matrix}\n",
        "  2 & 1 \\\\\n",
        "  3 & 0\n",
        "  \\end{matrix}\n",
        "  &\n",
        "  \\begin{matrix}\n",
        "  2 \\\\\n",
        "  1\n",
        "  \\end{matrix}\n",
        "\\end{array}\\right)$ = \n",
        "$\\left(\\begin{array}{@{}c|c@{}}\n",
        "  B_{11} & B_{12} \\\\\n",
        "\\hline\n",
        "  B_{21} & B_{22} \\\\\n",
        "\\end{array}\\right)$"
      ]
    },
    {
      "cell_type": "markdown",
      "id": "0a5152f7",
      "metadata": {
        "id": "0a5152f7"
      },
      "source": [
        "Найти матрицы:\n",
        "$$ C = A + B, D = 5B, E = B^T $$"
      ]
    },
    {
      "cell_type": "markdown",
      "id": "e65b667e",
      "metadata": {
        "id": "e65b667e"
      },
      "source": [
        "$C = \\left(\\begin{array}{@{}c|c@{}}\n",
        "  \\begin{matrix}\n",
        "  3 & 4\n",
        "  \\end{matrix}\n",
        "  & 4 \\\\\n",
        "\\hline\n",
        "  \\begin{matrix}\n",
        "  5 & 5 \\\\\n",
        "  7 & 5\n",
        "  \\end{matrix}\n",
        "  &\n",
        "  \\begin{matrix}\n",
        "  7 \\\\\n",
        "  7\n",
        "  \\end{matrix}\n",
        "\\end{array}\\right)$ ; \n",
        "$D = \\left(\\begin{array}{@{}c|c@{}}\n",
        "  \\begin{matrix}\n",
        "  5 & 5\n",
        "  \\end{matrix}\n",
        "  & 0 \\\\\n",
        "\\hline\n",
        "  \\begin{matrix}\n",
        "  10 & 5 \\\\\n",
        "  15 & 0\n",
        "  \\end{matrix}\n",
        "  &\n",
        "  \\begin{matrix}\n",
        "  10 \\\\\n",
        "  5\n",
        "  \\end{matrix}\n",
        "\\end{array}\\right)$ ; \n",
        "$E = \\left(\\begin{array}{@{}c|c@{}}\n",
        "  B_{11} & B_{21} \\\\\n",
        "\\hline\n",
        "  B_{12} & B_{22} \\\\\n",
        "\\end{array}\\right) \\space$ = \n",
        "$ \\left(\\begin{array}{@{}c|c@{}}\n",
        "  \\begin{matrix}\n",
        "  1 \\\\\n",
        "  1\n",
        "  \\end{matrix}\n",
        "  &\n",
        "    \\begin{matrix}\n",
        "  2 & 3 \\\\\n",
        "  1 & 0\n",
        "  \\end{matrix}\\\\\n",
        "\\hline\n",
        "  0\n",
        "  &\n",
        "  \\begin{matrix}\n",
        "  2 & 1\n",
        "  \\end{matrix}\n",
        "\\end{array}\\right)$"
      ]
    },
    {
      "cell_type": "markdown",
      "id": "9446e70f",
      "metadata": {
        "id": "9446e70f"
      },
      "source": [
        "#### **3)** Вычислить определители n-го порядка:  "
      ]
    },
    {
      "cell_type": "markdown",
      "id": "14ce9ade",
      "metadata": {
        "id": "14ce9ade"
      },
      "source": [
        "**a)** $ \\begin{vmatrix}\n",
        "1 & 1 & 1 & ... & 1 & 1\\\\\n",
        "0 & 2 & 2 & ... & 2 & 2\\\\\n",
        "0 & 0 & 3 & ... & 3 & 3\\\\\n",
        "\\vdots & \\vdots & \\vdots &  & \\vdots & \\vdots\\\\\n",
        "0 & 0 & 0 & ... & n-1 & n-1\\\\\n",
        "n & n & n & ... & n & 2n\n",
        "\\end{vmatrix} $ = *вычтем из n-й строки первую, умноженную на n* = $ \\begin{vmatrix}\n",
        "1 & 1 & 1 & ... & 1 & 1\\\\\n",
        "0 & 2 & 2 & ... & 2 & 2\\\\\n",
        "0 & 0 & 3 & ... & 3 & 3\\\\\n",
        "\\vdots & \\vdots & \\vdots &  & \\vdots & \\vdots\\\\\n",
        "0 & 0 & 0 & ... & n-1 & n-1\\\\\n",
        "0 & 0 & 0 & ... & 0 & n\n",
        "\\end{vmatrix} $ =  \n",
        "= *по последней строке* = $ n(n-1)(n-2)\\cdot ... \\cdot 2 \\cdot 1 = n! $"
      ]
    },
    {
      "cell_type": "markdown",
      "id": "7e29f9ab",
      "metadata": {
        "id": "7e29f9ab"
      },
      "source": [
        "**b)** $ \\begin{vmatrix}\n",
        "1 & 1 & ... & 1 & 1\\\\\n",
        "2 & 1 & ... & 1 & 1\\\\\n",
        "3 & 3 & ... & 1 & 1\\\\\n",
        "\\vdots & \\vdots &  & \\vdots & \\vdots\\\\\n",
        "n-1 & n-1 & ... & 1 & 1\\\\\n",
        "n & n & ... & n & 1\n",
        "\\end{vmatrix} $ = *поочерёдно вычтем 1-ю строку из остальных, умножив её на 2, 3 и тд.* = \n",
        "\n",
        "$ \\begin{vmatrix}\n",
        "1 & 1 & ... & 1 & 1\\\\\n",
        "0 & -1 & ... & -1 & -1\\\\\n",
        "0 & 0 & ... & -2 & -2\\\\\n",
        "\\vdots & \\vdots &  & \\vdots & \\vdots\\\\\n",
        "n-1 & n-1 & ... & -(n-2) & -(n-2)\\\\\n",
        "0 & 0 & ... & 0 & -(n-1)\n",
        "\\end{vmatrix} $ = *по последней строке* = \n",
        "$ [-(n-1)][-(n-2)]\\cdot ... \\cdot (-1)\\cdot 1 = (-1)^{n-1}\\cdot (n-1)!$"
      ]
    },
    {
      "cell_type": "markdown",
      "id": "8194ed49",
      "metadata": {
        "id": "8194ed49"
      },
      "source": [
        "**c)** $ \\begin{vmatrix}\n",
        "0 & 1 & 0 & \\dots & 0\\\\\n",
        "0 & 0 & 1 & \\dots & 0\\\\\n",
        "\\vdots & \\vdots & \\ddots & \\dots & \\vdots\\\\\n",
        "0 & 0 & 0 & \\vdots & 1\\\\\n",
        "1 & 2 & 3 & \\dots & n\n",
        "\\end{vmatrix} $ = * по первому столбцу * = $1\\cdot (-1)^{n+1}\\cdot detE = (-1)^{n+1}$"
      ]
    },
    {
      "cell_type": "markdown",
      "id": "77c736d2",
      "metadata": {
        "id": "77c736d2"
      },
      "source": [
        "#### **4)** Вычислить определитель n-го порядка, элементы которого\n",
        "$$ a_{ij} = max\\{i, j\\}: \\space \\Delta_n = \n",
        "\\begin{vmatrix}\n",
        "1 & 2 & 3 & \\dots & n\\\\\n",
        "2 & 2 & 3 & \\dots & n\\\\\n",
        "3 & 3 & 3 & \\dots & n\\\\\n",
        "\\vdots & \\vdots & \\ddots & \\dots & \\vdots\\\\\n",
        "n & n & n & \\dots & n\n",
        "\\end{vmatrix} $$"
      ]
    },
    {
      "cell_type": "markdown",
      "id": "11d084c4",
      "metadata": {
        "id": "11d084c4"
      },
      "source": [
        "$ \\begin{vmatrix}\n",
        "1 & 2 & 3 & \\dots & n\\\\\n",
        "2 & 2 & 3 & \\dots & n\\\\\n",
        "3 & 3 & 3 & \\dots & n\\\\\n",
        "\\vdots & \\vdots & \\ddots & \\dots & \\vdots\\\\\n",
        "n & n & n & \\dots & n\n",
        "\\end{vmatrix} $ = *вычтем первую строку из остальных* = $\n",
        "\\begin{vmatrix}\n",
        "1 & 2 & 3 & \\dots & n\\\\\n",
        "1 & 0 & 0 & \\dots & 0\\\\\n",
        "2 & 1 & 0 & \\dots & 0\\\\\n",
        "\\vdots & \\vdots & \\ddots & \\dots & \\vdots\\\\\n",
        "n-1 & n-2 & n-3 & \\dots & 0\n",
        "\\end{vmatrix}$ =  \n",
        "= по последнему столбцу = $(-1)^{1+n}\\cdot n \\cdot detE = (-1)^{n+1}n$"
      ]
    },
    {
      "cell_type": "markdown",
      "id": "831acfec",
      "metadata": {
        "id": "831acfec"
      },
      "source": [
        "#### 5) Подобие матриц 3-го порядка:  \n",
        "$$ A = \\begin{pmatrix}\n",
        "1 & 1 & -1\\\\\n",
        "0 & 1 & 2\\\\\n",
        "0 & 0 & 1\n",
        "\\end{pmatrix}, \\space \n",
        "B = \\begin{pmatrix}\n",
        "3 & -2 & 1\\\\\n",
        "2 & -1 & 2\\\\\n",
        "0 & 0 & 1\n",
        "\\end{pmatrix}, \\space\n",
        "C = \\begin{pmatrix}\n",
        "3 & 1 & -1\\\\\n",
        "-2 & 0 & 1\\\\\n",
        "2 & 1 & 0\n",
        "\\end{pmatrix}$$"
      ]
    },
    {
      "cell_type": "markdown",
      "id": "0b72a33d",
      "metadata": {
        "id": "0b72a33d"
      },
      "source": [
        "Подобие подразумевает равенство их [жордановых форм](http://math.phys.msu.ru/archive/2019_2020/25/JF.pdf):  \n",
        "\n",
        "**1)** $det(A-\\lambda E) = 0 \\Rightarrow \\lambda_1 = 1 \\space (m=3)$\n",
        "\n",
        "$A-\\lambda E = \\begin{pmatrix}\n",
        "0 & 1 & 0\\\\\n",
        "0 & 0 & 1\\\\\n",
        "0 & 0 & 0\n",
        "\\end{pmatrix} \\Rightarrow \\bar{v_1} = C_1 \\begin{pmatrix} 1 \\\\ 0 \\\\ 0 \\end{pmatrix} $ (собственный вектор; s=1) m-s = 2 присоединённых вектора.  "
      ]
    },
    {
      "cell_type": "markdown",
      "id": "1ac7f8f0",
      "metadata": {
        "id": "1ac7f8f0"
      },
      "source": [
        "**2)** $det(B-\\lambda E) = 0 \\Rightarrow \\lambda_1 = 1 \\space (m=3)$\n",
        "\n",
        "$B-\\lambda E = \\begin{pmatrix}\n",
        "2 & -2 & 1\\\\\n",
        "2 & -2 & 2\\\\\n",
        "0 & 0 & -2\n",
        "\\end{pmatrix} \\rightarrow \n",
        "\\begin{pmatrix}\n",
        "1 & -1 & 0\\\\\n",
        "0 & 0 & 0\\\\\n",
        "0 & 0 & -1\n",
        "\\end{pmatrix}\n",
        "\\Rightarrow \\bar{v_2} = C_2 \\begin{pmatrix} 1 \\\\ 1 \\\\ 0 \\end{pmatrix} $ (собственный вектор; s=1) m-s = 2 присоединённых вектора.  "
      ]
    },
    {
      "cell_type": "markdown",
      "id": "5e182d40",
      "metadata": {
        "id": "5e182d40"
      },
      "source": [
        "**3)** $det(C-\\lambda E) = 0 \\Rightarrow \\lambda_1 = 1 \\space (m=3)$\n",
        "\n",
        "$C-\\lambda E = \\begin{pmatrix}\n",
        "2 & 1 & -1\\\\\n",
        "-2 & -1 & 1\\\\\n",
        "2 & 1 & -1\n",
        "\\end{pmatrix} \\rightarrow \n",
        "\\begin{pmatrix}\n",
        "2 \\\\ 1 \\\\ -1\n",
        "\\end{pmatrix}\n",
        "\\Rightarrow \\bar{v_3} = C_3 \\begin{pmatrix} 1 \\\\ 0 \\\\ 2 \\end{pmatrix} + C'_3 \\begin{pmatrix} -1 \\\\ 2 \\\\ 0 \\end{pmatrix}$ (собственный вектор; s=2) m-s = 1 присоединённый вектор.  "
      ]
    },
    {
      "cell_type": "markdown",
      "id": "59c1f343",
      "metadata": {
        "id": "59c1f343"
      },
      "source": [
        "**Жордановы формы:**  \n",
        "$$ A_J = \\begin{pmatrix}\n",
        "1 & 1 & 0\\\\\n",
        "0 & 1 & 1\\\\\n",
        "0 & 0 & 1\n",
        "\\end{pmatrix} \\space \n",
        "B_J = \\begin{pmatrix}\n",
        "1 & 1 & 0\\\\\n",
        "0 & 1 & 1\\\\\n",
        "0 & 0 & 1\n",
        "\\end{pmatrix} \\space \n",
        "C_J = \\begin{pmatrix}\n",
        "1 & 1 & 0\\\\\n",
        "0 & 1 & 1\\\\\n",
        "0 & 0 & 1\n",
        "\\end{pmatrix}$$"
      ]
    },
    {
      "cell_type": "markdown",
      "id": "ae1b6d4d",
      "metadata": {
        "id": "ae1b6d4d"
      },
      "source": [
        "$$ (m=3, s=1) \\space (m=3, s=1) \\space (m=3, s=2) $$"
      ]
    },
    {
      "cell_type": "markdown",
      "id": "9f61c45a",
      "metadata": {
        "id": "9f61c45a"
      },
      "source": [
        "$$ A \\sim B \\nsim C $$"
      ]
    },
    {
      "cell_type": "markdown",
      "source": [
        "#### **6)** Привести примеры таких матриц порядка $2$, для которых верны следующие равенства:  \n",
        "1. $A^2 = I$;  \n",
        "2. $B^2 = O$ и $B \\neq O$;  \n",
        "3. $CD = -DC$;\n",
        "4. $MV = O$, где $M \\neq O, \\space V \\neq O$."
      ],
      "metadata": {
        "id": "DNeXYMfib65P"
      },
      "id": "DNeXYMfib65P"
    },
    {
      "cell_type": "markdown",
      "source": [
        "**1.** $A^2 = I$  \n",
        "**a)** $A$ - единичная ($\\pm$)  \n",
        "**б)** $\\begin{pmatrix}\n",
        "a & b\\\\\n",
        "c & d\n",
        "\\end{pmatrix} ^2 = \n",
        "\\begin{pmatrix}\n",
        "1 & 0\\\\\n",
        "0 & 1\n",
        "\\end{pmatrix}$\n",
        "\n",
        "$ \\left\\{\n",
        "    \\begin{array}\\\\\n",
        "        a^2 + bc = 1 \\\\\n",
        "        (a+d)b = 0 \\\\\n",
        "        (a+d)c = 0 \\\\\n",
        "        bc + d^2 = 1 \n",
        "    \\end{array} \n",
        "  \\right. \n",
        "\\Rightarrow  \n",
        "\\left\\{\n",
        "    \\begin{array}\\\\\n",
        "        a^2 = d^2 \\\\\n",
        "        (a+d)b = 0 \\\\\n",
        "        (a+d)c = 0\n",
        "    \\end{array} \n",
        "  \\right.\n",
        "\\Rightarrow \n",
        "\\left\\{\n",
        "    \\begin{array}\\\\\n",
        "        a = \\pm d \\\\\n",
        "        (a+d)(b \\pm c) = 0 \\\\\n",
        "        (a+d)bc = 0\n",
        "    \\end{array} \n",
        "  \\right.\n",
        "\\Rightarrow\n",
        "\\left\\{\n",
        "    \\begin{array}\\\\\n",
        "        a = \\pm d \\\\\n",
        "        b = \\pm c, \\space bc = 0 \\Rightarrow b=c=0, \\space при \\space a+d \\neq 0\\\\\n",
        "        b = \\pm c, \\space bc \\neq 0 \\space (=1), \\space a+d = 0 \\Leftrightarrow a = d = 0\n",
        "    \\end{array} \n",
        "  \\right.$  \n",
        "* $d = 1, \\space a = \\pm 1, \\space b=c=0: \\begin{pmatrix}\n",
        "\\pm 1 & 0\\\\\n",
        "0 & \\pm 1\n",
        "\\end{pmatrix}$  \n",
        "* $d = 0, \\space a = 0, \\space b=c=\\pm1: \\begin{pmatrix}\n",
        "0 & \\pm 1\\\\\n",
        "\\pm 1 & 0\n",
        "\\end{pmatrix}$"
      ],
      "metadata": {
        "id": "SOKrv8wndnw9"
      },
      "id": "SOKrv8wndnw9"
    },
    {
      "cell_type": "markdown",
      "source": [
        "**2.** $B^2 = O$ и $B \\neq O$\n",
        "\n",
        "$\\begin{pmatrix}\n",
        "a & b\\\\\n",
        "c & d\n",
        "\\end{pmatrix} ^ 2 = \n",
        "\\begin{pmatrix}\n",
        "0 & 0\\\\\n",
        "0 & 0\n",
        "\\end{pmatrix}$\n",
        "\n",
        "$ \\left\\{\n",
        "    \\begin{array}\\\\\n",
        "        a^2 + bc = 0 \\\\\n",
        "        (a+d)b = 0 \\\\\n",
        "        (a+d)c = 0 \\\\\n",
        "        bc + d^2 = 0 \n",
        "    \\end{array} \n",
        "  \\right. \\Rightarrow a^2 - d^2 = 0$\n",
        "\n",
        "$a=d: \\space \\left\\{\n",
        "    \\begin{array}\\\\\n",
        "        2ab = 0, \\space (1)\\space при \\space a=d=0\\\\\n",
        "        2ac = 0, \\space (2)\\space при \\space a=d\\neq0\n",
        "    \\end{array} \n",
        "\\right.$\n",
        "\n",
        "$(1) \\left\\{\n",
        "    \\begin{array}\\\\\n",
        "        bc = 0 \\\\\n",
        "        0b = 0 \\\\\n",
        "        0c = 0 \n",
        "    \\end{array} \n",
        "  \\right. \\Rightarrow \n",
        "  \\left\\{\n",
        "    \\begin{array}\\\\\n",
        "        b = 0, c \\neq 0 \\\\\n",
        "        b \\neq 0, c = 0 \n",
        "    \\end{array} \n",
        "  \\right. \\Rightarrow\n",
        "  \\begin{pmatrix}\n",
        "0 & b\\\\\n",
        "0 & 0\n",
        "\\end{pmatrix}; \\space\n",
        "\\begin{pmatrix}\n",
        "0 & 0\\\\\n",
        "c & 0\n",
        "\\end{pmatrix}$ \n",
        "\n",
        "$(2) \\left\\{\n",
        "    \\begin{array}\\\\\n",
        "        b=c=0 \\\\\n",
        "        a^2 + 0 = 0 \n",
        "    \\end{array} \n",
        "  \\right. \\Rightarrow \n",
        "a=b=c=d=0\n",
        " \\Rightarrow\n",
        "\\begin{pmatrix}\n",
        "0 & 0\\\\\n",
        "0 & 0\n",
        "\\end{pmatrix}$  \n",
        "\n",
        "$a=-d: \\space \\left\\{\n",
        "    \\begin{array}\\\\\n",
        "        2d^2 +2bc = 0 \\\\\n",
        "        0b = 0 \\\\\n",
        "        0c = 0 \n",
        "    \\end{array} \n",
        "\\right.\n",
        "\\Rightarrow \n",
        "\\left\\{\n",
        "    \\begin{array}\\\\\n",
        "        a = -d = 0 \\\\\n",
        "        0b = 0 \\\\\n",
        "        0c = 0 \\\\\n",
        "        bc = 0\n",
        "    \\end{array} \n",
        "\\right. \\Rightarrow \n",
        "\\left\\{\n",
        "    \\begin{array}\\\\\n",
        "        a = d = 0 \\\\\n",
        "        b = 0 \\space или \\space b \\neq 0 \\space или \\space b = 0\\\\\n",
        "        c \\neq 0 \\space или \\space c = 0 \\space или \\space c = 0\n",
        "    \\end{array} \n",
        "\\right. \\Rightarrow\n",
        "  \\begin{pmatrix}\n",
        "0 & b\\\\\n",
        "0 & 0\n",
        "\\end{pmatrix}; \\space\n",
        "\\begin{pmatrix}\n",
        "0 & 0\\\\\n",
        "c & 0\n",
        "\\end{pmatrix}; \\space \n",
        "\\begin{pmatrix}\n",
        "0 & 0\\\\\n",
        "0 & 0\n",
        "\\end{pmatrix}$  \n",
        "$\\left\\{\n",
        "    \\begin{array}\\\\\n",
        "        a = -d \\neq 0 \\\\\n",
        "        0b = 0 \\\\\n",
        "        0c = 0 \\\\\n",
        "        d^2 + bc = 0\n",
        "    \\end{array} \n",
        "\\right. \\Rightarrow \n",
        "\\left\\{\n",
        "    \\begin{array}\\\\\n",
        "        a = -d \\neq 0 \\\\\n",
        "        b \\neq 0, \\space c = -\\frac{d^2}{b} \\\\\n",
        "        c \\neq 0, \\space b = -\\frac{d^2}{c} \n",
        "    \\end{array} \n",
        "\\right. \\Rightarrow \n",
        "\\begin{pmatrix}\n",
        "d & b\\\\\n",
        "-\\frac{d^2}{b} & -d\n",
        "\\end{pmatrix}; \\space \n",
        "\\begin{pmatrix}\n",
        "d & -\\frac{d^2}{c}\\\\\n",
        "c & -d\n",
        "\\end{pmatrix}$"
      ],
      "metadata": {
        "id": "fPM5R5SmyU_m"
      },
      "id": "fPM5R5SmyU_m"
    },
    {
      "cell_type": "markdown",
      "source": [
        "**3.** $CD = -DC$  \n",
        "$\\begin{pmatrix}\n",
        "a & b\\\\\n",
        "c & d\n",
        "\\end{pmatrix}\n",
        "\\begin{pmatrix}\n",
        "e & f\\\\\n",
        "g & h\n",
        "\\end{pmatrix} = -\n",
        "\\begin{pmatrix}\n",
        "e & f\\\\\n",
        "g & h\n",
        "\\end{pmatrix}\n",
        "\\begin{pmatrix}\n",
        "a & b\\\\\n",
        "c & d\n",
        "\\end{pmatrix}$  \n",
        "$\\left\\{\n",
        "    \\begin{array}\\\\\n",
        "        ae + bg = -ea -fc \\\\\n",
        "        af + bh = -eb -fd \\\\\n",
        "        ce + dg = -ga -hc \\\\\n",
        "        cf + dh = -gb -hd \n",
        "    \\end{array} \n",
        "  \\right. \n",
        "\\Rightarrow \n",
        "\\left\\{\n",
        "    \\begin{array}\\\\\n",
        "        2ae + bg + fc = 0 \\\\\n",
        "        f(a+d) + b(h+e) = 0 \\\\\n",
        "        c(e+h) + g(d+a) = 0 \\\\\n",
        "        2hd + cf + gb = 0 \n",
        "    \\end{array} \n",
        "  \\right.$  \n",
        "\n",
        "  $1) I = IV: ae = hd \\Rightarrow \\left\\{\n",
        "    \\begin{array}\\\\\n",
        "        a=h \\\\\n",
        "        e=d \n",
        "    \\end{array} \n",
        "  \\right. \\Rightarrow \n",
        "  \\left\\{\n",
        "    \\begin{array}\\\\\n",
        "        (f+b)(h+d) = 0\\\\\n",
        "        (c+g)(h+d) = 0 \n",
        "    \\end{array} \n",
        "  \\right. \\Rightarrow \n",
        "  \\left\\{\n",
        "    \\begin{array}\\\\\n",
        "        при \\space h+d=0 \\Rightarrow h=-d \\space и \\space a=-e\\\\\n",
        "        при \\space h+d \\neq 0 \\Rightarrow f=-b \\space и \\space c=-g \n",
        "    \\end{array} \n",
        "  \\right.$  \n",
        "\n",
        "$C = \\begin{pmatrix}\n",
        "-d & b\\\\\n",
        "-g & d\n",
        "\\end{pmatrix}; \\space \n",
        "D = \\begin{pmatrix}\n",
        "d & -b\\\\\n",
        "g & -d\n",
        "\\end{pmatrix}$  \n",
        "\n",
        "$2) \\left\\{\n",
        "    \\begin{array}\\\\\n",
        "        a=d \\\\\n",
        "        e=h \n",
        "    \\end{array} \n",
        "  \\right. \\Rightarrow \n",
        "  \\left\\{\n",
        "    \\begin{array}\\\\\n",
        "        df+bh = 0\\\\\n",
        "        ch+dg = 0 \n",
        "    \\end{array} \n",
        "  \\right. \\Rightarrow\n",
        "  \\left\\{\n",
        "    \\begin{array}\\\\\n",
        "        df = -bh\\\\\n",
        "        dg = -ch \n",
        "    \\end{array} \n",
        "  \\right. \\Rightarrow\n",
        "  \\left\\{\n",
        "    \\begin{array}\\\\\n",
        "        \\frac{f}{g} = \\frac{b}{c} \\\\\n",
        "        fc = bg \n",
        "    \\end{array} \n",
        "  \\right. \\Rightarrow   \n",
        "  \\left\\{\n",
        "    \\begin{array}\\\\\n",
        "      f = b \\space или \\space f=g \\\\\n",
        "      c = g \\space или \\space c=b\n",
        "    \\end{array} \n",
        "  \\right.$  \n",
        "\n",
        "$C_1 = \\begin{pmatrix}\n",
        "d & b\\\\\n",
        "g & d\n",
        "\\end{pmatrix}; \\space \n",
        "D_1 = \\begin{pmatrix}\n",
        "h & b\\\\\n",
        "g & h\n",
        "\\end{pmatrix}; \\space C_2 = \\begin{pmatrix}\n",
        "d & b\\\\\n",
        "b & d\n",
        "\\end{pmatrix}; \\space \n",
        "D_2 = \\begin{pmatrix}\n",
        "h & g\\\\\n",
        "g & h\n",
        "\\end{pmatrix}$"
      ],
      "metadata": {
        "id": "ec77YlhS5KIo"
      },
      "id": "ec77YlhS5KIo"
    },
    {
      "cell_type": "markdown",
      "source": [
        "**4.** $MV = 0$  \n",
        "$\\begin{pmatrix}\n",
        "a & b\\\\\n",
        "c & d\n",
        "\\end{pmatrix}\n",
        "\\begin{pmatrix}\n",
        "e & f\\\\\n",
        "g & h\n",
        "\\end{pmatrix} = \n",
        "\\begin{pmatrix}\n",
        "0 & 0\\\\\n",
        "0 & 0\n",
        "\\end{pmatrix} $  \n",
        "\n",
        "$\\left\\{\n",
        "    \\begin{array}\\\\\n",
        "        ae + bg = 0 \\\\\n",
        "        af + bh = 0 \\\\\n",
        "        ce + dg = 0 \\\\\n",
        "        cf + dh = 0\n",
        "    \\end{array} \n",
        "\\right. \\Rightarrow \n",
        "\\left\\{\n",
        "    \\begin{array}\\\\\n",
        "        I + II: a(e+f)+b(g+h) = 0 \\\\\n",
        "        III + IV: c(e+f) + d(g+h) = 0 \\\\\n",
        "        I + III: e(a+c)+g(b+d) = 0 \\\\\n",
        "        II + IV: f(a+c)+h(b+d) = 0\n",
        "    \\end{array} \n",
        "\\right. \\Rightarrow \n",
        "(a+c)(e+f) = -(b+d)(g+h) $  \n",
        "Из данного уравнения вытекает 4 системы и 16 решений (число различных комбинаций переменных), например:  \n",
        "$\\left\\{\n",
        "    \\begin{array}\\\\\n",
        "        a=-b \\\\\n",
        "        c=-d \\\\\n",
        "        e=g \\\\\n",
        "        f=h\n",
        "    \\end{array} \n",
        "\\right. \\Rightarrow \n",
        "\\begin{pmatrix}\n",
        "-b & b\\\\\n",
        "-d & d\n",
        "\\end{pmatrix} \\cdot\n",
        "\\begin{pmatrix}\n",
        "g & h\\\\\n",
        "g & h\n",
        "\\end{pmatrix} = \n",
        "\\begin{pmatrix}\n",
        "0 & 0\\\\\n",
        "0 & 0\n",
        "\\end{pmatrix}$"
      ],
      "metadata": {
        "id": "MOvBpDZ1-dXY"
      },
      "id": "MOvBpDZ1-dXY"
    },
    {
      "cell_type": "markdown",
      "id": "383cc6a6",
      "metadata": {
        "id": "383cc6a6"
      },
      "source": [
        "#### Линейные пространства"
      ]
    },
    {
      "cell_type": "markdown",
      "id": "1c998c21",
      "metadata": {
        "id": "1c998c21"
      },
      "source": [
        "&emsp; **1)** Найти размерности и базисы пересечения $A \\cap B$ и суммы $A+B$ подпространства $A \\subset \\mathbb{R}^4$, $B \\subset \\mathbb{R}^4$, если они заданы однородными системами уравнений (внешнее описание): "
      ]
    },
    {
      "cell_type": "markdown",
      "id": "7f03ca66",
      "metadata": {
        "id": "7f03ca66"
      },
      "source": [
        "$$ A = \\left\\{\n",
        "    \\begin{array}\\\\\n",
        "        x_1 + x_2 + 2x_3 + x_4 = 0 \\\\\n",
        "        2x_1 + 3x_2 + x_4 = 0 \\\\\n",
        "        3x_1 + 4x_2 + 2x_3 + 2x_4 = 0\n",
        "    \\end{array}\n",
        "\\right. \n",
        "B = \\left\\{\n",
        "    \\begin{array}\\\\\n",
        "        x_1 + x_2 + x_3 = 0 \\\\\n",
        "        2x_1 + 3x_2 + x_3 + x_4 = 0 \\\\\n",
        "        x_1 + 2x_2 + 2x_4 = 0\n",
        "    \\end{array}\n",
        "\\right. $$"
      ]
    },
    {
      "cell_type": "markdown",
      "id": "33e438fc",
      "metadata": {
        "id": "33e438fc"
      },
      "source": [
        "**1)** $\\begin{matrix}\n",
        "A = \\{Ax = 0\\}\\\\\n",
        "B = \\{Bx = 0\\}\n",
        "\\end{matrix} \\Rightarrow $ переход к внутреннему описанию $ \\Rightarrow $  подпространства заданы линейными оболочками своих образующих  \n",
        "(внутреннее описание): $A = Lin(a_1, a_2, . . . , a_{k1}), B = Lin(b_1, b_2, . . . , b_{k2}).$"
      ]
    },
    {
      "cell_type": "markdown",
      "id": "ee8cf408",
      "metadata": {
        "id": "ee8cf408"
      },
      "source": [
        "**2)** решить СЛАУ $Ax = 0$ и $Bx = 0$ любым методом (например, методом Гаусса):"
      ]
    },
    {
      "cell_type": "markdown",
      "id": "3135cff7",
      "metadata": {
        "id": "3135cff7"
      },
      "source": [
        "**A** ~ $ = \\left(\\begin{array}{@{}c|c@{}}\n",
        "  \\begin{matrix}\n",
        "  1 & 0 & 6 & 2\n",
        "  \\end{matrix}\n",
        "  & 0 \\\\\n",
        "  \\begin{matrix}\n",
        "  0 & 1 & -4 & -1\n",
        "  \\end{matrix}\n",
        "  & 0 \\\\\n",
        "  \\begin{matrix}\n",
        "  0 & 0 & 0 & 0\n",
        "  \\end{matrix}\n",
        "  & 0 \\\\\n",
        "\\end{array}\\right) \\space \\space \\space$ **B** ~ $ = \\left(\\begin{array}{@{}c|c@{}}\n",
        "  \\begin{matrix}\n",
        "  1 & 0 & 2 & -2\n",
        "  \\end{matrix}\n",
        "  & 0 \\\\\n",
        "  \\begin{matrix}\n",
        "  0 & 1 & -1 & 2\n",
        "  \\end{matrix}\n",
        "  & 0 \\\\\n",
        "  \\begin{matrix}\n",
        "  0 & 0 & 0 & 0\n",
        "  \\end{matrix}\n",
        "  & 0 \\\\\n",
        "\\end{array}\\right)$"
      ]
    },
    {
      "cell_type": "markdown",
      "id": "d49df129",
      "metadata": {
        "id": "d49df129"
      },
      "source": [
        "$A: \\left\\{\n",
        "    \\begin{array}\\\\\n",
        "        x_1 = -6x_3 - 2x_4 \\\\\n",
        "        x_2 = 4x_3 + x_4\n",
        "    \\end{array}\n",
        "\\right. $\n",
        "$B: \\left\\{\n",
        "    \\begin{array}\\\\\n",
        "        x_1 = -2x_3 + 2x_4 \\\\\n",
        "        x_2 = 1x_3 - 2x_4\n",
        "    \\end{array}\n",
        "\\right.$"
      ]
    },
    {
      "cell_type": "markdown",
      "id": "d1517db5",
      "metadata": {
        "id": "d1517db5"
      },
      "source": [
        "$A: \\left\\{\n",
        "    \\begin{array}\\\\\n",
        "        x_3 = 1 \\\\\n",
        "        x_4 = 0\n",
        "    \\end{array}\n",
        "\\right. \\space \\varphi_1 = \\begin{pmatrix}\n",
        "-6 \\\\\n",
        "4 \\\\\n",
        "1 \\\\\n",
        "0\n",
        "\\end{pmatrix};$  $\\left\\{\n",
        "    \\begin{array}\\\\\n",
        "        x_3 = 0 \\\\\n",
        "        x_4 = 1\n",
        "    \\end{array}\n",
        "\\right. \\space \\varphi_1 = \\begin{pmatrix}\n",
        "-2 \\\\\n",
        "1 \\\\\n",
        "0 \\\\\n",
        "1\n",
        "\\end{pmatrix} \\Rightarrow Ф_A = \n",
        "\\begin{pmatrix}\n",
        "-6 & -2 \\\\\n",
        "4 & 1 \\\\\n",
        "1 & 0 \\\\\n",
        "0 & 1\n",
        "\\end{pmatrix}$ - фундаментальная система решений для Ax = 0;  \n",
        "$B: \\left\\{\n",
        "    \\begin{array}\\\\\n",
        "        x_3 = 1 \\\\\n",
        "        x_4 = 0\n",
        "    \\end{array}\n",
        "\\right. \\space \\varphi_1 = \\begin{pmatrix}\n",
        "-2 \\\\\n",
        "0 \\\\\n",
        "1 \\\\\n",
        "0\n",
        "\\end{pmatrix};$  $\\left\\{\n",
        "    \\begin{array}\\\\\n",
        "        x_3 = 0 \\\\\n",
        "        x_4 = 1\n",
        "    \\end{array}\n",
        "\\right. \\space \\varphi_1 = \\begin{pmatrix}\n",
        "0 \\\\\n",
        "-2 \\\\\n",
        "0 \\\\\n",
        "1\n",
        "\\end{pmatrix} \\Rightarrow Ф_A = \n",
        "\\begin{pmatrix}\n",
        "-2 & 0 \\\\\n",
        "0 & -2 \\\\\n",
        "1 & 0 \\\\\n",
        "0 & 1\n",
        "\\end{pmatrix}$ - фундаментальная система решений для Bx = 0."
      ]
    },
    {
      "cell_type": "markdown",
      "id": "c6807d36",
      "metadata": {
        "id": "c6807d36"
      },
      "source": [
        "**3)** $\\begin{matrix}\n",
        "A = Lin(a_1, a_2)\\\\\n",
        "B = Lin(b_1, b_2)\n",
        "\\end{matrix}$ "
      ]
    },
    {
      "cell_type": "markdown",
      "id": "acea9777",
      "metadata": {
        "id": "acea9777"
      },
      "source": [
        "**4)** $A+B = Lin(a_1, a_2, b_1, b_2)$ базис $A+B$: \n",
        "$\\begin{pmatrix}\n",
        "-6 & -2 & -2 & 0\\\\\n",
        "4 & 1 & 0 & -2\\\\\n",
        "1 & 0 & 1 & 0\\\\\n",
        "0 & 1 & 0 & 1\n",
        "\\end{pmatrix}$ ~\n",
        "$\\begin{pmatrix}\n",
        "3 & 1 & 1 & 0\\\\\n",
        "0 & 1 & 0 & 1\\\\\n",
        "0 & 0 & 4 & 5\\\\\n",
        "0 & 0 & 0 & 1\n",
        "\\end{pmatrix}$"
      ]
    },
    {
      "cell_type": "markdown",
      "id": "8b4e486e",
      "metadata": {
        "id": "8b4e486e"
      },
      "source": [
        "столбцы 3 и 4 - базис: $(ab)_1 = \\begin{pmatrix}\n",
        "1 \\\\\n",
        "0 \\\\\n",
        "4 \\\\\n",
        "5\n",
        "\\end{pmatrix} \\space (ab)_2 = \\begin{pmatrix}\n",
        "0 \\\\\n",
        "1 \\\\\n",
        "5 \\\\\n",
        "1\n",
        "\\end{pmatrix} \\Rightarrow dim(A+B) = 2$"
      ]
    },
    {
      "cell_type": "markdown",
      "id": "a6bcd301",
      "metadata": {
        "id": "a6bcd301"
      },
      "source": [
        "**5)** $A \\cap B$: \n",
        "$\\left\\{\n",
        "    \\begin{array}\\\\\n",
        "        Ax = 0 \\\\\n",
        "        Bx = 0\n",
        "    \\end{array}\n",
        "\\right. \\Rightarrow \n",
        "\\begin{vmatrix}\n",
        "A\\\\\n",
        "B\n",
        "\\end{vmatrix}x = 0$ ~ метод Гаусса ~\n",
        "$ \\left(\\begin{array}{@{}c|c@{}}\n",
        "  \\begin{matrix}\n",
        "  1 & 1 & 2 & 1\n",
        "  \\end{matrix}\n",
        "  & 0 \\\\\n",
        "  \\begin{matrix}\n",
        "  0 & 1 & -4 & -1\n",
        "  \\end{matrix}\n",
        "  & 0 \\\\\n",
        "  \\begin{matrix}\n",
        "  0 & 0 & 1 & 1\n",
        "  \\end{matrix}\n",
        "  & 0 \\\\\n",
        "  \\begin{matrix}\n",
        "  0 & 0 & 0 & 0\n",
        "  \\end{matrix}\n",
        "  & 0 \\\\\n",
        "\\end{array}\\right) $"
      ]
    },
    {
      "cell_type": "markdown",
      "id": "f94792f2",
      "metadata": {
        "id": "f94792f2"
      },
      "source": [
        "$\\left\\{\n",
        "    \\begin{array}\\\\\n",
        "        x_1 = -x_2 - 2x_3 - x_4 \\\\\n",
        "        x_2 = 4x_3 + x_4 \\\\\n",
        "        x_3 = - x_4\n",
        "    \\end{array}\n",
        "\\right. \n",
        "\\Rightarrow\n",
        "\\left\\{\n",
        "    \\begin{array}\\\\\n",
        "        x_1 = -2x_4 \\\\\n",
        "        x_2 = -3x_4 \\\\\n",
        "        x_3 = -x_4\n",
        "    \\end{array}\n",
        "\\right.$"
      ]
    },
    {
      "cell_type": "markdown",
      "id": "b88b91ad",
      "metadata": {
        "id": "b88b91ad"
      },
      "source": [
        "* при $x_4 = 1 \\space \n",
        "\\varphi_1 = \\begin{pmatrix}\n",
        "-2 \\\\\n",
        "-3 \\\\\n",
        "-1 \\\\\n",
        "1\n",
        "\\end{pmatrix} \\space$, откуда\n",
        "$Ф_A = \n",
        "\\begin{pmatrix}\n",
        "-2 \\\\\n",
        "-3 \\\\\n",
        "-1 \\\\\n",
        "1\n",
        "\\end{pmatrix} \\Rightarrow dim(A \\cap B) = 1$  \n",
        "* базис $(ab)_1 = \\begin{pmatrix}\n",
        "-2 \\\\\n",
        "-3 \\\\\n",
        "-1 \\\\\n",
        "1\n",
        "\\end{pmatrix}$ "
      ]
    },
    {
      "cell_type": "markdown",
      "source": [
        "&emsp; **2)** Образуют ли многочлены $p_1(x)=x^3+x^2-1, p_2(x)=x^2-2x, p_3(x)=x^3+x, p_4(x)=x^2-3$ базис в пространстве $P_3$ (многочленов не старше третьей степени)?"
      ],
      "metadata": {
        "id": "NnSUWKp3ZBB5"
      },
      "id": "NnSUWKp3ZBB5"
    },
    {
      "cell_type": "markdown",
      "source": [
        "&emsp; Нужно показать, что коэффициенты линейной комбинации, составленной из многочленов равен нулю *только с тривиальным набором коэффициентов (равных 0)*:\n",
        "$$c_1p_1(x)+c_2p_2(x)+c_3p_3(x)+c_4p_4(x) = 0$$\n",
        "&emsp; Заменим $p_i$ на соответствующие им многочлены: $c_1(x^3+x^2-1)+c_2(x^2-2x)+c_3(x^3+x)+c_4(x^2-3) = 0$. Приравняем коэффициенты при одинаковых степенях $x$ в правой и левой частях равенства: $(c_1+c_3)x^3+(c_1+c_2+c_4)x^2+(-2c_2+c_3)x+(-c_1-3c_4)x^0 = 0$."
      ],
      "metadata": {
        "id": "TM8YWOnc0rrX"
      },
      "id": "TM8YWOnc0rrX"
    },
    {
      "cell_type": "markdown",
      "source": [
        "$\\left\\{\n",
        "    \\begin{array}\\\\\n",
        "        c_1 + c_3 = 0 \\\\\n",
        "        c_1 + c_2 + c_4 = 0 \\\\\n",
        "        -2c_2 + c_3 = 0 \\\\\n",
        "        -c_1 - 3c_4 = 0\n",
        "    \\end{array}\n",
        "\\right.$ - решаем систему любым способом -\n",
        "$\\Rightarrow\n",
        "\\left\\{\n",
        "    \\begin{array}\\\\\n",
        "        c_1 = 0 \\\\\n",
        "        c_2 = 0 \\\\\n",
        "        c_3 = 0 \\\\\n",
        "        c_4 = 0\n",
        "    \\end{array}\n",
        "\\right.$"
      ],
      "metadata": {
        "id": "hqOwxn-u6Ji1"
      },
      "id": "hqOwxn-u6Ji1"
    },
    {
      "cell_type": "markdown",
      "source": [
        "Система имеет единственное решение - нетривиальное. Таким образом, данные многочлены **образуют базис в пространстве $P_3$**."
      ],
      "metadata": {
        "id": "Mxgw-7lm7rdw"
      },
      "id": "Mxgw-7lm7rdw"
    },
    {
      "cell_type": "markdown",
      "source": [
        "&emsp; **3)** Образует ли линейное подпространство пространства $R^4$ множество $V$, заданное по правилу:  \n",
        "**а)** $V = \\{(x_1, x_2,x_3,x_4): x_1-2x_3=0 \\}$  \n",
        "**б)** $V = \\{(x_1, x_2,x_3,x_4): x_3+x_4=1 \\}$"
      ],
      "metadata": {
        "id": "n7GvkLv7-Jin"
      },
      "id": "n7GvkLv7-Jin"
    },
    {
      "cell_type": "markdown",
      "source": [
        "<a id ='Определение'></a>\n",
        "**Определение.**\n",
        "\n",
        "&emsp; Непустое подмножество $L$ линейного пространства $V$ называется линейным подпространством пространства $V$ , если\n",
        "\n",
        "1. $\\forall u, v \\in L: \\space (u + v) \\in L$ (подпространство замкнуто по отношению к операции сложения);\n",
        "\n",
        "2. $\\forall v \\in L, \\space \\forall \\lambda \\in \\mathbb{R}: \\space (\\lambda v) \\in L$ (подпространство замкнуто по отношению к операции умножения вектора на число)."
      ],
      "metadata": {
        "id": "a_XP5vEA_yl0"
      },
      "id": "a_XP5vEA_yl0"
    },
    {
      "cell_type": "markdown",
      "source": [
        "&emsp; **а)** Если $x_1 -2x_3 = 0$ или $x_1 = 2x_3$, тогда $V = \\{(2x_3, x_2,x_3,x_4): x_1-2x_3=0 \\}$. Возьмем произвольные элементы множества $V:$ $t = (2t_3, t_2,t_3,t_4), \\space p = (2p_3, p_2, p_3, p_4)$.  \n",
        "1. Операция сложения: $t+p = (2(t_3+p_3), t_2+p_2,t_3+p_3,t_4+p_4) \\in \\mathbb{R^4}$. По сути, $t+p$ можно заменить на некий новый элемент $k$, который, как видно, также принадлежит $\\mathbb{R^4}$.\n",
        "2. Операция умножения вектора на число: $\\lambda t = (2\\lambda t_3, \\lambda t_2,\\lambda t_3, \\lambda t_4) \\in \\mathbb{R^4}$. Аналогично рассуждая,  можно сказать, что $\\lambda t_i$ - это просто отмасштабированный элемент, \"структура\" которого сохраняется для множества $V$.\n",
        "  \n",
        "Таким образом, множество $V$ является линейным подпространством пространства $R^4$. "
      ],
      "metadata": {
        "id": "dFKG4XvcBMGo"
      },
      "id": "dFKG4XvcBMGo"
    },
    {
      "cell_type": "markdown",
      "source": [
        "&emsp; **б)** Если $x_3 + x_4 = 1$ или $x_3 = 1 - x_4$, тогда $V = \\{(x_1, x_2,1-x_4,x_4): x_1-2x_3=0 \\}$. Возьмем произвольные элементы множества $V:$ $t = (t_1, t_2,1-t_4,t_4), \\space p = (p_1, p_2, 1-p_4, p_4)$.  \n",
        "1. Операция сложения: $t+p = (t_1+p_1, t_2+p_2,1-t_4+1-p_4,t_4+p_4) \\in \\mathbb{R^4}$. В этом случае рассуждения из **а)** уже не получатся, т.к третий аргумент не подчиняется заданному правилу: $1-t_4+1-p_4 \\neq 1-(t_4+p_4)$, для правой части выполняется рассуждении о замене на новую переменную, для которой элементы $V$ аналогичны.  \n",
        "\n",
        "Таким образом, множество $V$ **не** является линейным подпространством пространства $R^4$. "
      ],
      "metadata": {
        "id": "H_in2_IxPzpX"
      },
      "id": "H_in2_IxPzpX"
    },
    {
      "cell_type": "markdown",
      "source": [
        "**4)** Доказать, что матрицы вида $\\begin{pmatrix}\n",
        "2a & a+3b-2c \\\\\n",
        "b & 5c\n",
        "\\end{pmatrix}$, образуют линейное подпространство в пространстве $M_{22}$. Найти его базис и размерность. Дополнить базис подпространства до базиса всего пространства. "
      ],
      "metadata": {
        "id": "tqsRJKGUv7mD"
      },
      "id": "tqsRJKGUv7mD"
    },
    {
      "cell_type": "markdown",
      "source": [
        "[По определению](#Определение) нужно показать выполнение свойств аддитивности и умножения на число (масштабирования).  \n",
        "1. Операция сложения: \n",
        "$x = \\begin{pmatrix}\n",
        "2a_1 & a_1+3b_1-2c_1 \\\\\n",
        "b_1 & 5c_1\n",
        "\\end{pmatrix}, \\space\n",
        "y = \\begin{pmatrix}\n",
        "2a_2 & a_2+3b_2-2c_2 \\\\\n",
        "b_2 & 5c_2\n",
        "\\end{pmatrix}$ - два произвольныз элементв из искомого множества матриц $M_{22}$ тогда \n",
        "$x+y = \\begin{pmatrix}\n",
        "2(a_1+a_2) & (a_1+a_2)+3(b_1+b_2)-2(c_1+c_2) \\\\\n",
        "(b_1+b_2) & 5(c_1+c_2)\n",
        "\\end{pmatrix} = \n",
        "\\begin{pmatrix}\n",
        "2a_3 & a_3+3b_3-2c_3 \\\\\n",
        "b_3 & 5c_3\n",
        "\\end{pmatrix} \\in \\mathbb{R^4}$.  \n",
        "2. Операция умножения вектора на число: \n",
        "$x = \\begin{pmatrix}\n",
        "2a_1 & a_1+3b_1-2c_1 \\\\\n",
        "b_1 & 5c_1\n",
        "\\end{pmatrix}$, произвольный элемент множества $M_{22}$, $\\alpha$ - произвольное число. Тогда $\\alpha x = \\begin{pmatrix}\n",
        "2\\alpha a_1 & \\alpha a_1+3\\alpha b_1-2\\alpha c_1 \\\\\n",
        "\\alpha b_1 & 5\\alpha c_1\n",
        "\\end{pmatrix} = \\begin{pmatrix}\n",
        "2a_4 & a_4+3b_4-2c_4 \\\\\n",
        "b_4 & 5c_4\n",
        "\\end{pmatrix} \\in \\mathbb{R^4}$."
      ],
      "metadata": {
        "id": "qDHFySAJxnTS"
      },
      "id": "qDHFySAJxnTS"
    },
    {
      "cell_type": "markdown",
      "source": [
        "Найти его базис и размерность. Элемент пространства $M_{22}$ можно представить как $a\\begin{pmatrix}\n",
        "2 & 1 \\\\\n",
        "0 & 0\n",
        "\\end{pmatrix} +\n",
        "b\\begin{pmatrix}\n",
        "0 & 3 \\\\\n",
        "1 & 0\n",
        "\\end{pmatrix} +\n",
        "c\\begin{pmatrix}\n",
        "0 & -2 \\\\\n",
        "0 & 5\n",
        "\\end{pmatrix}$ - линейная комбинация матриц $2 \\times 2$. Из данных матриц по аналогии с векторами можно составить систему, откуда получим только нетривиальное решение: $a=b=c=0$. Следовательно, марицы, приведённые выше в разложении *образуют базис в пространстве $M_{22}, \\space dimM_{22} = 3$."
      ],
      "metadata": {
        "id": "unSWS5jW2kpv"
      },
      "id": "unSWS5jW2kpv"
    },
    {
      "cell_type": "markdown",
      "id": "04e29b0f",
      "metadata": {
        "id": "04e29b0f"
      },
      "source": [
        "## Теория вероятности"
      ]
    },
    {
      "cell_type": "markdown",
      "source": [
        "#### Принцип Дирихле  \n",
        "&ensp; Если 5 кроликов помещены в 4 клетки, то в одной из клеток находятся не менее 2-х кроликов; или, другими словами, нельзя посадить 5 кроликов в 4 клетки так, чтобы в каждой клетке находилось не более 1-го кролика. Или $(2n+1)$ кролик помещён в $n$ клетках, то, по крайней мере,в 1-й клетке находятся не менее 3-х кроликов.  \n",
        "В общем случае принцип Дирихле говорит: если $(kn+1)$ кролик помещён в $n$ клетках, то в одной из клеток находятся не менее $(k+1)$ кролика."
      ],
      "metadata": {
        "id": "z36oDsZg-k3F"
      },
      "id": "z36oDsZg-k3F"
    },
    {
      "cell_type": "markdown",
      "source": [
        "**1)** Можно ли в клетках квадратной таблицы $5 \\times 5$ расставить числа $0, +1, -1$ так, чтобы все суммы в каждом столбце, в каждой строке и на каждой из двух диагоналей были различны?  \n"
      ],
      "metadata": {
        "id": "e3oXs1IgEZ_x"
      },
      "id": "e3oXs1IgEZ_x"
    },
    {
      "cell_type": "markdown",
      "source": [
        "&ensp; Допустим такая расстановка возможна, тогда можно составить  \n",
        "$$5 \\space (строк) + 5 \\space (столбцов) + 2 \\space (диагонали) = 12$$\n",
        "различных сумм чисел. Но из чисел $0, +1, -1$ можно составить только $11$ их сумм от $-5$ $5\\cdot(-1)$ до $5\\cdot(+1)$.  \n",
        "&ensp; Таком образом 12 \"ячеек\" (кроликов) *нельзя* разместить на 11 сумм (клеток)."
      ],
      "metadata": {
        "id": "xVAY_klvFMpg"
      },
      "id": "xVAY_klvFMpg"
    },
    {
      "cell_type": "markdown",
      "source": [
        "**2)** В ряд выписано пять натуральных чисел: $a_1, a_2, a_3, a_4, a_5$. Докажите, что либо одно из них делится на 5, либо сумма нескольких рядом стоящих чисел* делится на 5.   \n",
        "' * нескольких рядом стоящих == любая комбинация от 2-х до 5-и чисел, составленная без пропусков: $a_1a_2$, $a_2a_3$ или $a_3a_4a_5$ подходит, НО $a_2a_4a_5$ - нет."
      ],
      "metadata": {
        "id": "2MurmCoiISvp"
      },
      "id": "2MurmCoiISvp"
    },
    {
      "cell_type": "markdown",
      "source": [
        "Рассмотрим пять чисел:  \n",
        "$$a_1, (a_1+a_2), (a_1+a_2+a_3), (a_1+a_2+a_3+a_4), (a_1+a_2+a_3+a_4+a_5)$$\n",
        "&ensp; Если одно из них днлится на 5, то доказывать нечего. В противнос случае, при делении на 5 они дают в остатке какие-то из четырёх чисел: $1, 2, 3, 4$. По принципу Дирихле остатки, по крайней мере, двух из выписанных 5 чисел совпадут (5 чисел распределить на 4 остатка).  \n",
        "&ensp; Разность двух таких чисел, тем самым, делится на 5 (остаток равен нулю). Но эта разность - либо одно из чисел, данных в задаче, либо сумма нескольких из них, стоящих рядом. "
      ],
      "metadata": {
        "id": "1aKJek4fKEtE"
      },
      "id": "1aKJek4fKEtE"
    },
    {
      "cell_type": "markdown",
      "source": [
        "**3)** Имеется 6 точек на плоскости, никакие 3 из которых не лежат на одной прямой. Тем самым, имеется $C_6^2 = 15$ отрезков, которые эти точки соединяют попарно.  \n",
        "&ensp; Предположим, что все 15 отрезков окрашены либо в красный, либо в синий цвет. Докажите, что найдётся, по крайнем мере, один хроматический треугольник, т.е. такой, все стороны которого окрашены в один цвет. "
      ],
      "metadata": {
        "id": "43UG0uX6c8WU"
      },
      "id": "43UG0uX6c8WU"
    },
    {
      "cell_type": "markdown",
      "source": [
        "&ensp; Выберем какую-либо точку $A$ и рассмотрим $AB, AC, AD, AE, AF$, которые содержат $A$:  \n",
        "![](https://drive.google.com/uc?export=view&id=1a0zG3uhL8duvROomFL6nfXZ0seQYstEQ)"
      ],
      "metadata": {
        "id": "Z6fskObxeqdN"
      },
      "id": "Z6fskObxeqdN"
    },
    {
      "cell_type": "markdown",
      "source": [
        "&ensp; По принципу Дирихле, по крайней мере, три из этих пяти отрезков окрашены в один (например, красный) цвет: 5 отрезков на 2 цвета. Пусть это отрезки $AB, AC, AD$ (*это не приводит к потере общности, т.к. мы всегда можем переобозначить точки*). Выбор цвета также не играет роли, так как, перекрасив все отрезки синего цвета в красный и наоборот, мы получим другую раскраску, никак не влияющую на ситуацию с существованием одноцветного треугольника."
      ],
      "metadata": {
        "id": "rH2O1GI0hbbk"
      },
      "id": "rH2O1GI0hbbk"
    },
    {
      "cell_type": "markdown",
      "source": [
        "![](https://drive.google.com/uc?export=view&id=19rusLPlG-pl-WrJzuHxcIcGqpe_F70mW)  \n",
        "&ensp; Рассмотрим треугольник $\\Delta BCD$. Имеется две возможности: или все его стороны синие, или, по крайней мере, одна из его сторон красная. В первом случае $\\Delta BCD$ искомый, а во втором - если, например, сторона $BC$ красная, то треугольник $\\Delta ABC$ хроматический."
      ],
      "metadata": {
        "id": "dJZcOxTglqIJ"
      },
      "id": "dJZcOxTglqIJ"
    },
    {
      "cell_type": "markdown",
      "source": [
        "##### **Замечание**  "
      ],
      "metadata": {
        "id": "jE_6FxDKr4mj"
      },
      "id": "jE_6FxDKr4mj"
    },
    {
      "cell_type": "markdown",
      "source": [
        "![](https://drive.google.com/uc?export=view&id=1atf7Fx10JWYRiVZDYvkNme-X9Hor7JyP)  \n",
        "&ensp; Число 6 является наименьшим числом, которое обеспечивает существование хроматического треугольника, так как на рис. выше *нельзя* выбрать хроматического треугольника, если стороны пятиугольника покрашены в один цвет, а его диагонали - в другой."
      ],
      "metadata": {
        "id": "3Uis6YbQruzp"
      },
      "id": "3Uis6YbQruzp"
    },
    {
      "cell_type": "markdown",
      "source": [
        "**4)** Верно ли, что из ста произвольных целых чисел всегда можно выбрать 15 таких, у которых разность любых двух делится на 7? А 16 таких чисел?"
      ],
      "metadata": {
        "id": "4rZRbm5Y7Ii1"
      },
      "id": "4rZRbm5Y7Ii1"
    },
    {
      "cell_type": "markdown",
      "source": [
        "**Свойство:** разность двух чисел делится на 7 в том и только в том случае, когда равны остатки от деления на 7 (13 и 20, например).  \n",
        "&ensp; При делении на 7 существует семь возможных остатков: 0, 1, 2, 3, 4, 5, 6. Допустим, что *нельзя* выбрать 15 нужных чисел из 100. Это значит, что не более 14 чисел - остаток 1, аналогично - остатки 2, 3, 4, 5, 6. Но тогда всего получается не более чем $14 \\cdot 7 = 98 < 100$ чисел, т.е. **наше допущение неверно**.  \n",
        "**ЗЫ:** По принципу Дирихле мы получаем, что в 7 ячеек (остатков) размещаем 100 элементов, тогда получим, что $7k+1 = 100$, откуда целочисленное решение $k = 14$ (остаток от деления равен 2) $\\Rightarrow$ найдётся хотя бы 1 клетка, где будет $k+1 = 14+1 = 15$ элементов."
      ],
      "metadata": {
        "id": "NEcgZkmr7NsW"
      },
      "id": "NEcgZkmr7NsW"
    },
    {
      "cell_type": "markdown",
      "source": [
        "&ensp; **Нельзя**. Покажем это: в наборе $[1, 100]$ имеется **1)** 14 чисел с остатком 0; **2)** по 15 чисел, дающих в остатке 1 или 2; **3)** по 14 чисел, дающих в остатке 3, 4, 5, 6.  \n",
        "Мы перебрали все возможные остатки, и можно заметить, что ни один набор не содержит более 15 элементов $\\Rightarrow$ не существует 16 чисел, разность которых делится на 7. "
      ],
      "metadata": {
        "id": "lK3TNidGByxD"
      },
      "id": "lK3TNidGByxD"
    },
    {
      "cell_type": "markdown",
      "source": [
        "#### Сочетания-перестановки"
      ],
      "metadata": {
        "id": "kKvwPc3TQcsQ"
      },
      "id": "kKvwPc3TQcsQ"
    },
    {
      "cell_type": "markdown",
      "source": [
        "**1)** Сколько автомобилей в **одном регионе** можно обеспечить государственными регистрационными знаками, если каждый регистрационный знак состоит из кода региона, трёх букв, имеющих одинаковое начертание как в русском, так и в латинском алфавите (\"А\", \"В\", \"Е\", \"К\", \"М\", \"Н\", \"О\", \"Р\", \"С\", \"Т\", \"У\", \"Х\"), и трёх цифр?"
      ],
      "metadata": {
        "id": "BjTM71S_Qi1j"
      },
      "id": "BjTM71S_Qi1j"
    },
    {
      "cell_type": "markdown",
      "source": [
        "* 3 буквы: $12 \\cdot 12 \\cdot 12 = 12^3$  \n",
        "* 3 цифры: $10 \\cdot 10 \\cdot 10 = 10^3$  \n",
        "* Всего: $1 \\space 728 \\space 000$"
      ],
      "metadata": {
        "id": "dzvt0_qTRShw"
      },
      "id": "dzvt0_qTRShw"
    },
    {
      "cell_type": "markdown",
      "source": [
        "**2)** В сессию в течение 20 дней студенты одной группы должны сдать 5 экзаменов. Сколькими способами можно составить расписание экзаменов, если между двумя экзаменами должен пройти хотя бы один день для подготовки? [link, p. 36](https://books.google.ru/books?id=JiFVEAAAQBAJ&pg=PA36&lpg=PA36&dq=%D0%92+%D1%81%D0%B5%D1%81%D1%81%D0%B8%D1%8E+%D0%B2+%D1%82%D0%B5%D1%87%D0%B5%D0%BD%D0%B8%D0%B5+20+%D0%B4%D0%BD%D0%B5%D0%B9+%D1%81%D1%82%D1%83%D0%B4%D0%B5%D0%BD%D1%82%D1%8B+%D0%BE%D0%B4%D0%BD%D0%BE%D0%B9+%D0%B3%D1%80%D1%83%D0%BF%D0%BF%D1%8B+%D0%B4%D0%BE%D0%BB%D0%B6%D0%BD%D1%8B+%D1%81%D0%B4%D0%B0%D1%82%D1%8C+5+%D1%8D%D0%BA%D0%B7%D0%B0%D0%BC%D0%B5%D0%BD%D0%BE%D0%B2.+%D0%A1%D0%BA%D0%BE%D0%BB%D1%8C%D0%BA%D0%B8%D0%BC%D0%B8+%D1%81%D0%BF%D0%BE%D1%81%D0%BE%D0%B1%D0%B0%D0%BC%D0%B8+%D0%BC%D0%BE%D0%B6%D0%BD%D0%BE+%D1%81%D0%BE%D1%81%D1%82%D0%B0%D0%B2%D0%B8%D1%82%D1%8C+%D1%80%D0%B0%D1%81%D0%BF%D0%B8%D1%81%D0%B0%D0%BD%D0%B8%D0%B5+%D1%8D%D0%BA%D0%B7%D0%B0%D0%BC%D0%B5%D0%BD%D0%BE%D0%B2,+%D0%B5%D1%81%D0%BB%D0%B8+%D0%BC%D0%B5%D0%B6%D0%B4%D1%83+%D0%B4%D0%B2%D1%83%D0%BC%D1%8F+%D1%8D%D0%BA%D0%B7%D0%B0%D0%BC%D0%B5%D0%BD%D0%B0%D0%BC%D0%B8+%D0%B4%D0%BE%D0%BB%D0%B6%D0%B5%D0%BD+%D0%BF%D1%80%D0%BE%D0%B9%D1%82%D0%B8+%D1%85%D0%BE%D1%82%D1%8F+%D0%B1%D1%8B+%D0%BE%D0%B4%D0%B8%D0%BD+%D0%B4%D0%B5%D0%BD%D1%8C+%D0%B4%D0%BB%D1%8F+%D0%BF%D0%BE%D0%B4%D0%B3%D0%BE%D1%82%D0%BE%D0%B2%D0%BA%D0%B8&source=bl&ots=GII2lj9LGh&sig=ACfU3U2OutA1sh4GJNJU6PTZWwO4z3828Q&hl=ru&sa=X&ved=2ahUKEwjnwabnzL73AhXxoosKHZM_AHQQ6AF6BAgsEAM#v=onepage&q=%D0%92%20%D1%81%D0%B5%D1%81%D1%81%D0%B8%D1%8E%20%D0%B2%20%D1%82%D0%B5%D1%87%D0%B5%D0%BD%D0%B8%D0%B5%2020%20%D0%B4%D0%BD%D0%B5%D0%B9%20%D1%81%D1%82%D1%83%D0%B4%D0%B5%D0%BD%D1%82%D1%8B%20%D0%BE%D0%B4%D0%BD%D0%BE%D0%B9%20%D0%B3%D1%80%D1%83%D0%BF%D0%BF%D1%8B%20%D0%B4%D0%BE%D0%BB%D0%B6%D0%BD%D1%8B%20%D1%81%D0%B4%D0%B0%D1%82%D1%8C%205%20%D1%8D%D0%BA%D0%B7%D0%B0%D0%BC%D0%B5%D0%BD%D0%BE%D0%B2.%20%D0%A1%D0%BA%D0%BE%D0%BB%D1%8C%D0%BA%D0%B8%D0%BC%D0%B8%20%D1%81%D0%BF%D0%BE%D1%81%D0%BE%D0%B1%D0%B0%D0%BC%D0%B8%20%D0%BC%D0%BE%D0%B6%D0%BD%D0%BE%20%D1%81%D0%BE%D1%81%D1%82%D0%B0%D0%B2%D0%B8%D1%82%D1%8C%20%D1%80%D0%B0%D1%81%D0%BF%D0%B8%D1%81%D0%B0%D0%BD%D0%B8%D0%B5%20%D1%8D%D0%BA%D0%B7%D0%B0%D0%BC%D0%B5%D0%BD%D0%BE%D0%B2%2C%20%D0%B5%D1%81%D0%BB%D0%B8%20%D0%BC%D0%B5%D0%B6%D0%B4%D1%83%20%D0%B4%D0%B2%D1%83%D0%BC%D1%8F%20%D1%8D%D0%BA%D0%B7%D0%B0%D0%BC%D0%B5%D0%BD%D0%B0%D0%BC%D0%B8%20%D0%B4%D0%BE%D0%BB%D0%B6%D0%B5%D0%BD%20%D0%BF%D1%80%D0%BE%D0%B9%D1%82%D0%B8%20%D1%85%D0%BE%D1%82%D1%8F%20%D0%B1%D1%8B%20%D0%BE%D0%B4%D0%B8%D0%BD%20%D0%B4%D0%B5%D0%BD%D1%8C%20%D0%B4%D0%BB%D1%8F%20%D0%BF%D0%BE%D0%B4%D0%B3%D0%BE%D1%82%D0%BE%D0%B2%D0%BA%D0%B8&f=false)"
      ],
      "metadata": {
        "id": "LdoBp8TQXWUM"
      },
      "id": "LdoBp8TQXWUM"
    },
    {
      "cell_type": "markdown",
      "source": [
        "&ensp; Среди имеющихся 20 дней есть 4 дня, в которые *нельзя* проводить экзамен (после 1-4 экзаменов), но при этом каждый набор выглядит как размещение из 16 по 5 (с плавающими \"запретными\" днями), так как порядок проведения имеет значение. $A_{20-4}^{5} = \\frac{16!}{(16-11)!} = 524 160$  \n",
        "**ЗЫ:** пояснение, почему 5 подряд экзаменов в 16 днях не совсем то, чем кажутся.  Можно взять изначально 16 дней (без привязки к календарю и летоисчислению), как-то расставить 5 экзаменов, а потом после первых 4-х вставить day-off, чтобы добрать до 20 дней. Итого, в любой расстановке будет минимум 1 день для подготовки."
      ],
      "metadata": {
        "id": "wgX4lauOYRyD"
      },
      "id": "wgX4lauOYRyD"
    },
    {
      "cell_type": "markdown",
      "source": [
        "**3)** В конкурсе по 3 номинациям участвуют 10 кинофильмов. Вычислите число вариантов распределения призов, если призы в разных номинациях:  \n",
        "&ensp; **a)** различны;  \n",
        "&ensp; **б)** одинаковы."
      ],
      "metadata": {
        "id": "kMKc-si7SY5C"
      },
      "id": "kMKc-si7SY5C"
    },
    {
      "cell_type": "markdown",
      "source": [
        "а) Для различных призов имеет значение порядок $\\Rightarrow$ размещения: $10^3 = 1000$  \n",
        "б) Могут оказаться одинаковые, и отличающиеся друг от друга только составом элементов $\\Rightarrow$ Сочетаниями с повторениями из n элементов по k: $C_{n+k-1}^{k} = C_{12}^{3} = 220$"
      ],
      "metadata": {
        "id": "bt39HQCzS6pA"
      },
      "id": "bt39HQCzS6pA"
    },
    {
      "cell_type": "markdown",
      "id": "5756612d",
      "metadata": {
        "id": "5756612d"
      },
      "source": [
        "**3)** События $A, B, C$ имеют одинаковые вероятности $p$, попарно независимы, но не являются независимыми в совокупности,  \n",
        "$$ \\mathbb{P}(A \\cap B \\cap C) = 0 $$\n",
        "Каково наибольшее значение $p$?"
      ]
    },
    {
      "cell_type": "markdown",
      "id": "b3c1102e",
      "metadata": {
        "id": "b3c1102e"
      },
      "source": [
        "* $\\left\\{\n",
        "    \\begin{array}\\\\\n",
        "        \\mathbb{P}(A) = \\mathbb{P}(B) = \\mathbb{P}(C) = p \\\\\n",
        "        \\mathbb{P}(AB) = p^2 \\\\\n",
        "        \\mathbb{P}(ABC) = 0 \\neq p^3\n",
        "    \\end{array}\n",
        "\\right. $  \n",
        "* Задача состоит в $\\{ max(p^2) | p^3 \\neq 0, p \\neq 1 \\}$  \n",
        "* Воспользуемся свойством для объединения событий: $\\mathbb{P}(A \\cup B \\cup C) = \\sum_{j=1}^{3} p_{i}-\\sum_{j=1}^{3} p^2_{i}+\\mathbb{P}(A \\cap B \\cap C) = -3p^2+3p \\leq 1 \\Rightarrow 3p^2-3p+1 \\geq 0$\n",
        "* $max(3p^2-3p+1)$ через производную функции: $p = \\frac{1}{2}$ (подставим найденное решение в функцию и сравним с нулём: $\\frac{1}{4} > 0$)  \n",
        " **Ответ:** $p = \\frac{1}{2}$"
      ]
    },
    {
      "cell_type": "markdown",
      "source": [
        "[Statistics Lecture notes](https://www.stat.cmu.edu/~cshalizi/mreg/15/)"
      ],
      "metadata": {
        "id": "ldFUCMhLESsE"
      },
      "id": "ldFUCMhLESsE"
    },
    {
      "cell_type": "markdown",
      "source": [
        "**4)** У банка $n = 4$ учредителей. Регистрационные документы хранятся в сейфе. Определим, сколько замков должен иметь сейф и сколько ключей к ним нужно изготовить, чтобы доступ к содержимому сейфа был возможен только тогда, когда соберётся не менее $m = 3$ учредителей?  \n",
        "**ЗЫ:** в оригинале задачи рассматриваются $9$ учредителей и не менее $6$ должны собраться, чтобы открыть сейф."
      ],
      "metadata": {
        "id": "nlDGMPy_ORDa"
      },
      "id": "nlDGMPy_ORDa"
    },
    {
      "cell_type": "markdown",
      "source": [
        "&ensp; Не менее $3$ учредителей могут открыть сейф $\\Rightarrow$ $2$ учредителя не могут $\\Rightarrow$ на каждую двойку должен приходиться хотя бы $1$ замок, который они не могут открыть $\\Rightarrow$ всего количество двоек из $4$ человек равно числу сочетаний без повторений $C_4^2=\\dfrac{4!}{2!(4-2)!}=6 \\Rightarrow$ замков должно быть не менее $6$. Также можно рассмотреть как подсчёт от обратного: кол-ва неоткрытых замков для каждой пары: каждой двойке соответствует \"свой\" замок\" - поочерёдно считая эти замки, получаем, что прошли по всем замкам, т.е всего их $6$).  \n",
        "&ensp; А что по количеству ключей? По условию любая тройка сможет открыть сейф, т.е оставшиеся учредители (не выбранные в двойке) имеют ключ от заветного замка: для каждой двойки имеем $2$ ключа от нужного замка; \"прокручиваем\" по всем возможным двойкам и получаем, что всего ключей $2 \\cdot 6 = 12$.  \n"
      ],
      "metadata": {
        "id": "NfJSchrjO5vb"
      },
      "id": "NfJSchrjO5vb"
    },
    {
      "cell_type": "code",
      "source": [
        "import scipy.special\n",
        "def n_keys(n, m):\n",
        "  lock_number  = scipy.special.comb(n, m-1)\n",
        "  keys_number = lock_number * (n - (m-1) )\n",
        "  return lock_number, keys_number"
      ],
      "metadata": {
        "id": "6DDhRN8OBnj4"
      },
      "id": "6DDhRN8OBnj4",
      "execution_count": 9,
      "outputs": []
    },
    {
      "cell_type": "code",
      "source": [
        "n_keys(4, 3)\n",
        "#n_keys(9, 6)"
      ],
      "metadata": {
        "colab": {
          "base_uri": "https://localhost:8080/"
        },
        "id": "VuQ-1JzjDk_y",
        "outputId": "089265ee-97a1-43c5-e44f-a16877f8c1be"
      },
      "id": "VuQ-1JzjDk_y",
      "execution_count": 11,
      "outputs": [
        {
          "output_type": "execute_result",
          "data": {
            "text/plain": [
              "(6.0, 12.0)"
            ]
          },
          "metadata": {},
          "execution_count": 11
        }
      ]
    },
    {
      "cell_type": "markdown",
      "source": [
        "### **[Задача о рассеянной секретарше](https://www.coursera.org/learn/theory-of-chances/lecture/FJtVC/1-10-zadacha-o-rassieiannoi-siekrietarshie).**"
      ],
      "metadata": {
        "id": "2HHgSu_Y5H_D"
      },
      "id": "2HHgSu_Y5H_D"
    },
    {
      "cell_type": "markdown",
      "source": [
        "&ensp; Есть $n$ писем и $n$ подписанных конвертов. Письма раскладываются в конверты наудачу по одному.\n",
        "Найти вероятность того, что хотя бы одно письмо попадёт в предназначенный ему конверт, и предел этой вероятности при $n \\rightarrow \\infty$."
      ],
      "metadata": {
        "id": "_zWI6yHY5SBN"
      },
      "id": "_zWI6yHY5SBN"
    },
    {
      "cell_type": "markdown",
      "source": [
        "&ensp; Введём события $A_i$, $i = 1, 2, 3, . . . , n$: $A_i = \\{$i-ое письмо попало в свой конверт$\\}$. Тогда $A = \\{$хотя бы одно письмо попало в свой конверт$\\}=A_1 \\cup A_2 \\cup ... \\cup A_n$. Так как события $A_i$ совместны - нужно воспользоваться формулой для объединения $n$ событий.  \n",
        "&ensp; По классическому определению вероятности вычислим вероятности всех событий $A_i$ и их пересечений. Элементарными исходами будут всевозможные перестановки (размещения) $n$ писем по $n$ конвертам. Их общее число равно  \n",
        "$$|\\Omega| = n!$$\n",
        "и событию Ai благоприятны $(n − 1)!$ из них, а именно любые перестановки всех писем, кроме $i$-го, лежащего в своём конверте. Поэтому для всех $i$ имеем:  \n",
        "$$\\mathbb{P}(A_i) = \\frac{(n − 1)!}{n!} = \\frac{1}{n}.$$  \n",
        "Совершенно так же получим, что при любых $i \\neq j$:  \n",
        "$$\\mathbb{P}(A_i A_j) = \\frac{(n − 2)!}{n!} = \\frac{1}{n(n-1)}.$$\n",
        "Вероятность пересечения любых трёх событий равна:\n",
        "$$\\mathbb{P}(A_i A_j A_k) = \\frac{(n − 3)!}{n!} = \\frac{1}{n(n-1)(n-2}.$$\n",
        "Аналогично посчитаем вероятности пересечений любого другого числа событий, в том числе:\n",
        "$$\\mathbb{P}(A_1 A_2 ... A_n) = \\frac{1}{n!}.$$\n",
        "Вычислим количество слагаемых в каждой сумме в формуле объединения. Например, в сумме по $1 \\leq i < j < k \\leq n$ получится $C_n ^ 3$ слагаемых - ровно столько трёхэлементных множеств можно образовать из n элементов, и каждое такое множество $\\{i, j, k\\}$ встречается в индексах данной суммы единожды:  \n",
        "$\\mathbb{P}(A) = n \\cdot \\frac{1}{n} - C_n ^2 \\cdot \\frac{1}{n(n-1)} + C_n ^3 \\cdot \\frac{1}{n(n-1)(n-2)} - ... + (-1)^{n-1} \\cdot \\frac{1}{n!} = 1-\\frac{1}{2!} + \\frac{1}{3!} - ... + (-1)^{n-1} \\cdot \\frac{1}{n!} \\longrightarrow 1 - e^{-1}$ при $n \\rightarrow \\infty$\n",
        "**ЗЫ:** добавление пересечений после соответствующего вычитания нужно, чтоюы заполнить \"пробел\" на пересечении всех предыдущих элементов (хорошо демонстрируется на примере пересечения 3-х событий)."
      ],
      "metadata": {
        "id": "ZyP0bKqI5ig9"
      },
      "id": "ZyP0bKqI5ig9"
    },
    {
      "cell_type": "markdown",
      "source": [
        "### **[Задача о поделенном выигрыше](https://www.coursera.org/learn/theory-of-chances/lecture/552AI/1-1-zadacha-o-razdielie-stavki)**"
      ],
      "metadata": {
        "id": "DqpFnsyKbib5"
      },
      "id": "DqpFnsyKbib5"
    },
    {
      "cell_type": "markdown",
      "source": [
        "&ensp; **Усложнённый вариант задачи, разобранной по ссылке выше**.  \n",
        "Петя и Маша часто играют друг с другом в бильярд (смотрят, как играет 3-е лицо), причём Петя выигрывает в два раза чаще, чем Маша. Исходя из этого, они оценили свои вероятности победить как $\\frac{2}{3}$ - для Пети (шар закатили в лунку) и $\\frac{1}{3}$ - для Маши (шар не закатили в лунку).  \n",
        "* каждый выигрыш даёт 1 очко;\n",
        "* Пете нужно набрать 12 очков для победы;\n",
        "* Маше нужно набрать 6 очков.  \n",
        "Игру останавливают при счёте 8:4. Кому присудить победу исходя из вероятности выигрыша?"
      ],
      "metadata": {
        "id": "jwSkHoRObrNK"
      },
      "id": "jwSkHoRObrNK"
    },
    {
      "cell_type": "markdown",
      "source": [
        "&ensp; Минимальное число ударов для **однозначного** определения победителя равно пяти (отсутствие спорных исходов; полностью доопределить подпростарнство событий). Маша выигрывает при 3-х попаданиях и 2-х промахах. Петя выигрывает при 4-х попаданиях и 1-м промахе (т.к попыток так или иначе 5, то случай 5 попаданий и 0 промахов тоже котируется):  \n",
        "$$\\mathbb{P}(выигрыш \\space Пети) = \\mathbb{P}(0 \\space или \\space 1 \\space выигрыш \\space Маши) = C_5 ^ 0 \\left(\\frac{1}{3} \\right)^0 \\left(\\frac{2}{3} \\right)^5 + C_5 ^1 \\left(\\frac{1}{3} \\right)^1 \\left(\\frac{2}{3} \\right)^4 = \\frac{112}{243}$$\n",
        "$$\\mathbb{P}(выигрыш \\space Маши) = 1 - \\mathbb{P}(выигрыш \\space Пети) = \\frac{131}{243} > \\frac{112}{243}$$\n",
        "Победу нужно присудить Маше."
      ],
      "metadata": {
        "id": "tQXNhEyRyeFF"
      },
      "id": "tQXNhEyRyeFF"
    },
    {
      "cell_type": "markdown",
      "source": [
        "### **[Теор вер 3](https://drive.google.com/file/d/1UNkvb5wZ7hEKt_9_3oYrJqR0gTYMVtoY/view?usp=sharing)**"
      ],
      "metadata": {
        "id": "VzEXN_AqlpPm"
      },
      "id": "VzEXN_AqlpPm"
    },
    {
      "cell_type": "markdown",
      "source": [
        "### **Алгебра событий (конечный набор)**"
      ],
      "metadata": {
        "id": "CQMR3of02k_7"
      },
      "id": "CQMR3of02k_7"
    },
    {
      "cell_type": "markdown",
      "source": [
        "&ensp; Доказать, что если $\\Omega$ содержит $n$ элементов, то множество всех его подмножеств состоит из $2^n$ элементов.  \n",
        "Множество из 4-х элементов: $\\{1, 2, 3, 4\\}$"
      ],
      "metadata": {
        "id": "PALJsDM6GXLU"
      },
      "id": "PALJsDM6GXLU"
    },
    {
      "cell_type": "markdown",
      "source": [
        "&ensp; Вообще говоря, каждый из элементов может быть либо включён в i-ое подмножество, либо нет, в совокупности это значит следующее: в каждый шаг 1 или 0, т.е всего $2^n$ элементов.  \n",
        "**ЗЫ:** можно проверить через число сочетаний, что для 4-х элементов 16 комбинаций."
      ],
      "metadata": {
        "id": "QyrvtdcDGsqj"
      },
      "id": "QyrvtdcDGsqj"
    },
    {
      "cell_type": "markdown",
      "source": [
        "### **$\\sigma$-Алгебра событий (счётный набор)**"
      ],
      "metadata": {
        "id": "OI5diCHuhX2C"
      },
      "id": "OI5diCHuhX2C"
    },
    {
      "cell_type": "markdown",
      "source": [
        "Докажите, что если $A \\in$ $\\mathcal{F}$ и $B \\in$ $\\mathcal{F}$, то $(A \\setminus B) \\in$ $\\mathcal{F}$."
      ],
      "metadata": {
        "id": "rJa37OZChdqo"
      },
      "id": "rJa37OZChdqo"
    },
    {
      "cell_type": "markdown",
      "source": [
        "**1)** Запишем $A \\setminus B$ как  $A \\cup \\bar B$.  \n",
        "**2)** По свойствам $\\sigma$-алгебры, если событие $A \\in \\mathcal{F}$, то и $\\bar A \\in \\mathcal{F}$. Аналогично для $B$.  \n",
        "**3)** вместе с любым счётным набором событий σ-алгебра содержит их объединение: $(A \\cup \\bar B) \\in \\mathcal{F} \\Leftrightarrow (A \\setminus B) \\in \\mathcal{F}$"
      ],
      "metadata": {
        "id": "3XhtMN3RioBD"
      },
      "id": "3XhtMN3RioBD"
    },
    {
      "cell_type": "markdown",
      "source": [
        "### **Боррелева $\\sigma$-алгебра в $\\mathbb{R}$**"
      ],
      "metadata": {
        "id": "bQnpNumOl_VQ"
      },
      "id": "bQnpNumOl_VQ"
    },
    {
      "cell_type": "markdown",
      "source": [
        "Докажите, что любое одноточечное множество $\\{ b \\in \\mathbb{R}\\}$ принадлежит $\\mathcal{B}(\\mathbb{R})$.  \n"
      ],
      "metadata": {
        "id": "5gL1E1wGf3jn"
      },
      "id": "5gL1E1wGf3jn"
    },
    {
      "cell_type": "markdown",
      "source": [
        "&ensp; Пусть множество $A$ подмножеств вещественной прямой $\\mathbb{R}$ состоит из всевозможных открытых интервалов $(a, b)$, где $a < b$:  \n",
        "$$\\mathcal{U} = \\{(a, b) | -\\infty < a < b < \\infty \\}$$  \n",
        "&ensp; Минимальная $\\sigma$-алгебра, содержащая множество $\\mathcal{U}$ всех интервалов на вещественной прямой, определённое выше, называется **борелевской $\\sigma$-алгеброй в $\\mathbb{R}$ и обозначают $\\mathcal{B}(\\mathbb{R})$**.  \n",
        "Рассмотрим промежуток $\\left(b, b + \\dfrac{1}{n} \\right)$ - принадлежит $\\mathcal{B}(\\mathbb{R}) \\space \\forall \\space n \\in \\mathbb{N}$.  \n",
        "Таким образом, она является и $\\sigma$-алгеброй - счётное пересечение её множеств лежит в $\\mathcal{B}(\\mathbb{R})$:  \n",
        "$$\\{b\\} = \\bigcap_{n=1}^{\\infty}\\left(b - \\dfrac{1}{n}, b + \\dfrac{1}{n} \\right) \\in \\mathcal{B}(\\mathbb{R})$$"
      ],
      "metadata": {
        "id": "-Z7OaYFLgnNX"
      },
      "id": "-Z7OaYFLgnNX"
    },
    {
      "cell_type": "markdown",
      "source": [
        "$M"
      ],
      "metadata": {
        "id": "Y6AZoHbRUDs8"
      },
      "id": "Y6AZoHbRUDs8"
    },
    {
      "cell_type": "markdown",
      "source": [
        "### **Геометрическая вероятность**"
      ],
      "metadata": {
        "id": "hp_ax1VESsEU"
      },
      "id": "hp_ax1VESsEU"
    },
    {
      "cell_type": "markdown",
      "source": [
        "**1)** На отрезок $AB$ длины $L$, брошена точка $M$ так, что любое её положение на отрезке равновозможно. Найти вероятность того, что меньший из отрезков ($AM$ или $MB$) имеет длину, большую чем $\\dfrac{L}{3}$."
      ],
      "metadata": {
        "id": "1j7I2u2MSxF_"
      },
      "id": "1j7I2u2MSxF_"
    },
    {
      "cell_type": "markdown",
      "source": [
        "&ensp; Для начала разделим отрезок пополам (точка перехода меньшего отрезка в больший).  \n",
        "&ensp; Если отрезок $AM$ - меньший, тогда он должен лежать между $\\frac{L}{3}$ и $\\frac{L}{2}$. И длина этого диапазона будет $\\frac{L}{6}$. При переходе через половину можно применить аналогичные рассуждения, но для $MB$ и получить также $\\frac{L}{6}$.  \n",
        "&ensp; **Итого**, $\\mathbb{P}($длина меньшего отрезка больше $\\frac{L}{3}) = \\left(2\\cdot\\frac{L}{3} \\right) \\cdot \\frac{1}{L} = \\frac{1}{3}$  \n"
      ],
      "metadata": {
        "id": "E4cUnrIBTi_F"
      },
      "id": "E4cUnrIBTi_F"
    },
    {
      "cell_type": "markdown",
      "source": [
        "**2)** Палку длиной 1 метр ломают случайно в двух точках. Определить вероятность того, что из полученных частей можно составить треугольник."
      ],
      "metadata": {
        "id": "Ic-snZV-gebs"
      },
      "id": "Ic-snZV-gebs"
    },
    {
      "cell_type": "markdown",
      "source": [
        "&ensp; Пусть $x, y, (l-x-y)$ - длины получившихся частей стержня.  \n",
        "&ensp; Первое логичное условие: $0 \\leq x+y \\leq l$ (условно говоря, нельзя получить из длины 1 длину 2). По этому критерию можно графически изобразить прямую $y = l-x$, которая вместе с осями координат даёт область возможных разбиений отрезка площади $S = \\frac{l^2}{2}$ (треугольник).  \n",
        "&ensp; Чтобы составить из полученных отрезков треугольник, нужно **1)** $x, y < \\frac{L}{2}$ (в разных половинах отрезка) и **2)** $x + y > \\frac{L}{2}$ (сумма 2-х меньших сторон больше 3-й). Данные два условия задают прямую раздела $y = \\frac{L}{2} - x$, которая вместе с осями координат ограничивает область $S_1 = \\frac{l^2}{8}$ (маленький треугольник), где *возможно составить треугольник из отрезков*.  \n",
        "Таким образом, $\\mathbb{P} = \\frac{l^2}{8} / \\frac{l^2}{2} = \\frac{1}{4}$."
      ],
      "metadata": {
        "id": "BsD5stZ7glZm"
      },
      "id": "BsD5stZ7glZm"
    },
    {
      "cell_type": "markdown",
      "source": [
        "### **Дискретные С.В.**"
      ],
      "metadata": {
        "id": "sYBPhKjiq_xy"
      },
      "id": "sYBPhKjiq_xy"
    },
    {
      "cell_type": "markdown",
      "source": [
        "Дискретные случайные величины $\\xi$ и $\\eta$ имеют распределение:  \n",
        "\\begin{array}{|c|c|c|c||}\n",
        "\\xi & -1 & 0 & 1\\\\ \\hline\n",
        "p_i & 0.2 & 0.3 & 0.5\n",
        "\\end{array}  \n",
        "\\begin{array}{|c|c|c|c||}\n",
        "\\eta & -2 & 0 & 2\\\\ \\hline\n",
        "p_i & 0.3 & 0.2 & 0.5\n",
        "\\end{array}  \n",
        "Найдите:\n",
        "1. $\\zeta = \\xi + \\eta$\n",
        "2. $\\zeta = 2\\xi$\n",
        "3. $\\zeta = \\xi^2$\n",
        "4. $\\zeta = \\xi \\cdot \\eta$"
      ],
      "metadata": {
        "id": "v5psCqdBxEb1"
      },
      "id": "v5psCqdBxEb1"
    },
    {
      "cell_type": "markdown",
      "source": [
        "Пункты 1. и 4. , вообще говоря, идентичны: результатом является Декартово произведение, вероятности которого определяются как произведение соответтссующих вероятностей (вероятность выбрать 1-е число из $\\xi$ и 2-е из $\\eta$ - независимы), поэтому резуьтирующее произведение определяется уникальными результатами для суммы и произведения: "
      ],
      "metadata": {
        "id": "4us8iHtU1_bL"
      },
      "id": "4us8iHtU1_bL"
    },
    {
      "cell_type": "code",
      "source": [
        "import math\n",
        "import itertools\n",
        "import pandas as pd"
      ],
      "metadata": {
        "id": "4LxYBWQC-Dzj"
      },
      "id": "4LxYBWQC-Dzj",
      "execution_count": null,
      "outputs": []
    },
    {
      "cell_type": "code",
      "source": [
        "eps = {'-1': 0.2, '0': 0.3, '1': 0.5}\n",
        "mu = {'-2': 0.3, '0': 0.2, '2': 0.5}"
      ],
      "metadata": {
        "id": "1NjI2Q1ACDiA"
      },
      "id": "1NjI2Q1ACDiA",
      "execution_count": null,
      "outputs": []
    },
    {
      "cell_type": "markdown",
      "source": [
        "**Пункт 1:**"
      ],
      "metadata": {
        "id": "SAzN9EUu9Qtv"
      },
      "id": "SAzN9EUu9Qtv"
    },
    {
      "cell_type": "code",
      "source": [
        "keys_sum = []\n",
        "prob_sum = []\n",
        "for e in eps.keys():\n",
        "  for m in mu.keys():\n",
        "    keys_sum.append( int(e)+int(m) )\n",
        "    prob_sum.append(eps[e] * mu[m])"
      ],
      "metadata": {
        "id": "BP4JTTrK9ShY"
      },
      "id": "BP4JTTrK9ShY",
      "execution_count": null,
      "outputs": []
    },
    {
      "cell_type": "code",
      "source": [
        "distr_sum_new = dict.fromkeys(set(keys_sum), 0)\n",
        "for i in range(len(keys_sum)):\n",
        "  distr_sum_new[keys_sum[i]] = distr_sum_new[keys_sum[i]] + prob_sum[i]\n",
        "#distr_new"
      ],
      "metadata": {
        "id": "OVv8mQHnDxOm"
      },
      "id": "OVv8mQHnDxOm",
      "execution_count": null,
      "outputs": []
    },
    {
      "cell_type": "code",
      "source": [
        "pd.DataFrame(distr_sum_new, index=[0])"
      ],
      "metadata": {
        "id": "aQgkG67WEYtX",
        "outputId": "daee4e0e-182d-4b22-e795-50af2fd528e8",
        "colab": {
          "base_uri": "https://localhost:8080/",
          "height": 81
        }
      },
      "id": "aQgkG67WEYtX",
      "execution_count": null,
      "outputs": [
        {
          "output_type": "execute_result",
          "data": {
            "text/plain": [
              "      0    1     2     3    -2    -3    -1\n",
              "0  0.06  0.2  0.15  0.25  0.09  0.06  0.19"
            ],
            "text/html": [
              "\n",
              "  <div id=\"df-f66375bd-d9bd-4a26-a756-443603ae5b7e\">\n",
              "    <div class=\"colab-df-container\">\n",
              "      <div>\n",
              "<style scoped>\n",
              "    .dataframe tbody tr th:only-of-type {\n",
              "        vertical-align: middle;\n",
              "    }\n",
              "\n",
              "    .dataframe tbody tr th {\n",
              "        vertical-align: top;\n",
              "    }\n",
              "\n",
              "    .dataframe thead th {\n",
              "        text-align: right;\n",
              "    }\n",
              "</style>\n",
              "<table border=\"1\" class=\"dataframe\">\n",
              "  <thead>\n",
              "    <tr style=\"text-align: right;\">\n",
              "      <th></th>\n",
              "      <th>0</th>\n",
              "      <th>1</th>\n",
              "      <th>2</th>\n",
              "      <th>3</th>\n",
              "      <th>-2</th>\n",
              "      <th>-3</th>\n",
              "      <th>-1</th>\n",
              "    </tr>\n",
              "  </thead>\n",
              "  <tbody>\n",
              "    <tr>\n",
              "      <th>0</th>\n",
              "      <td>0.06</td>\n",
              "      <td>0.2</td>\n",
              "      <td>0.15</td>\n",
              "      <td>0.25</td>\n",
              "      <td>0.09</td>\n",
              "      <td>0.06</td>\n",
              "      <td>0.19</td>\n",
              "    </tr>\n",
              "  </tbody>\n",
              "</table>\n",
              "</div>\n",
              "      <button class=\"colab-df-convert\" onclick=\"convertToInteractive('df-f66375bd-d9bd-4a26-a756-443603ae5b7e')\"\n",
              "              title=\"Convert this dataframe to an interactive table.\"\n",
              "              style=\"display:none;\">\n",
              "        \n",
              "  <svg xmlns=\"http://www.w3.org/2000/svg\" height=\"24px\"viewBox=\"0 0 24 24\"\n",
              "       width=\"24px\">\n",
              "    <path d=\"M0 0h24v24H0V0z\" fill=\"none\"/>\n",
              "    <path d=\"M18.56 5.44l.94 2.06.94-2.06 2.06-.94-2.06-.94-.94-2.06-.94 2.06-2.06.94zm-11 1L8.5 8.5l.94-2.06 2.06-.94-2.06-.94L8.5 2.5l-.94 2.06-2.06.94zm10 10l.94 2.06.94-2.06 2.06-.94-2.06-.94-.94-2.06-.94 2.06-2.06.94z\"/><path d=\"M17.41 7.96l-1.37-1.37c-.4-.4-.92-.59-1.43-.59-.52 0-1.04.2-1.43.59L10.3 9.45l-7.72 7.72c-.78.78-.78 2.05 0 2.83L4 21.41c.39.39.9.59 1.41.59.51 0 1.02-.2 1.41-.59l7.78-7.78 2.81-2.81c.8-.78.8-2.07 0-2.86zM5.41 20L4 18.59l7.72-7.72 1.47 1.35L5.41 20z\"/>\n",
              "  </svg>\n",
              "      </button>\n",
              "      \n",
              "  <style>\n",
              "    .colab-df-container {\n",
              "      display:flex;\n",
              "      flex-wrap:wrap;\n",
              "      gap: 12px;\n",
              "    }\n",
              "\n",
              "    .colab-df-convert {\n",
              "      background-color: #E8F0FE;\n",
              "      border: none;\n",
              "      border-radius: 50%;\n",
              "      cursor: pointer;\n",
              "      display: none;\n",
              "      fill: #1967D2;\n",
              "      height: 32px;\n",
              "      padding: 0 0 0 0;\n",
              "      width: 32px;\n",
              "    }\n",
              "\n",
              "    .colab-df-convert:hover {\n",
              "      background-color: #E2EBFA;\n",
              "      box-shadow: 0px 1px 2px rgba(60, 64, 67, 0.3), 0px 1px 3px 1px rgba(60, 64, 67, 0.15);\n",
              "      fill: #174EA6;\n",
              "    }\n",
              "\n",
              "    [theme=dark] .colab-df-convert {\n",
              "      background-color: #3B4455;\n",
              "      fill: #D2E3FC;\n",
              "    }\n",
              "\n",
              "    [theme=dark] .colab-df-convert:hover {\n",
              "      background-color: #434B5C;\n",
              "      box-shadow: 0px 1px 3px 1px rgba(0, 0, 0, 0.15);\n",
              "      filter: drop-shadow(0px 1px 2px rgba(0, 0, 0, 0.3));\n",
              "      fill: #FFFFFF;\n",
              "    }\n",
              "  </style>\n",
              "\n",
              "      <script>\n",
              "        const buttonEl =\n",
              "          document.querySelector('#df-f66375bd-d9bd-4a26-a756-443603ae5b7e button.colab-df-convert');\n",
              "        buttonEl.style.display =\n",
              "          google.colab.kernel.accessAllowed ? 'block' : 'none';\n",
              "\n",
              "        async function convertToInteractive(key) {\n",
              "          const element = document.querySelector('#df-f66375bd-d9bd-4a26-a756-443603ae5b7e');\n",
              "          const dataTable =\n",
              "            await google.colab.kernel.invokeFunction('convertToInteractive',\n",
              "                                                     [key], {});\n",
              "          if (!dataTable) return;\n",
              "\n",
              "          const docLinkHtml = 'Like what you see? Visit the ' +\n",
              "            '<a target=\"_blank\" href=https://colab.research.google.com/notebooks/data_table.ipynb>data table notebook</a>'\n",
              "            + ' to learn more about interactive tables.';\n",
              "          element.innerHTML = '';\n",
              "          dataTable['output_type'] = 'display_data';\n",
              "          await google.colab.output.renderOutput(dataTable, element);\n",
              "          const docLink = document.createElement('div');\n",
              "          docLink.innerHTML = docLinkHtml;\n",
              "          element.appendChild(docLink);\n",
              "        }\n",
              "      </script>\n",
              "    </div>\n",
              "  </div>\n",
              "  "
            ]
          },
          "metadata": {},
          "execution_count": 89
        }
      ]
    },
    {
      "cell_type": "code",
      "source": [
        "assert math.fsum(prob_sum) == 1"
      ],
      "metadata": {
        "id": "TbV-m2NHDn_l"
      },
      "id": "TbV-m2NHDn_l",
      "execution_count": null,
      "outputs": []
    },
    {
      "cell_type": "markdown",
      "source": [
        "**Пункт 2:**"
      ],
      "metadata": {
        "id": "hhZqQoXv_J7o"
      },
      "id": "hhZqQoXv_J7o"
    },
    {
      "cell_type": "markdown",
      "source": [
        "&emsp; Масштабирование случайной величины не влияет на кол-во исходов - значит и на их вероятности. Распределение останется таким же, как и для $\\xi$:  \n",
        "\\begin{array}{|c|c|c|c||}\n",
        "\\xi & -1 & 0 & 1\\\\ \\hline\n",
        "p_i & 0.2 & 0.3 & 0.5\n",
        "\\end{array} "
      ],
      "metadata": {
        "id": "qPKiCliw_NM6"
      },
      "id": "qPKiCliw_NM6"
    },
    {
      "cell_type": "markdown",
      "source": [
        "**Пункт  3:**"
      ],
      "metadata": {
        "id": "4MDKcO3h9ozC"
      },
      "id": "4MDKcO3h9ozC"
    },
    {
      "cell_type": "code",
      "source": [
        "key_2 = []\n",
        "prob_2 = []\n",
        "for k in itertools.product(eps, eps):\n",
        "  key_2.append( int(k[0])*int(k[1]) )\n",
        "for j in itertools.product(eps.values(), eps.values()):\n",
        "  prob_2.append (j[0]*j[1] )"
      ],
      "metadata": {
        "id": "O12Sj_gD9rla"
      },
      "id": "O12Sj_gD9rla",
      "execution_count": null,
      "outputs": []
    },
    {
      "cell_type": "code",
      "source": [
        "distr_2_new = dict.fromkeys(set(key_2), 0)\n",
        "for i in range(len(key_2)):\n",
        "  distr_2_new[key_2[i]] = distr_2_new[key_2[i]] + prob_2[i]\n",
        "#distr_new"
      ],
      "metadata": {
        "id": "WNaL94MF928T"
      },
      "id": "WNaL94MF928T",
      "execution_count": null,
      "outputs": []
    },
    {
      "cell_type": "code",
      "source": [
        "pd.DataFrame(distr_2_new, index=[0])"
      ],
      "metadata": {
        "colab": {
          "base_uri": "https://localhost:8080/",
          "height": 81
        },
        "id": "QBAo8dOw-BHq",
        "outputId": "32135b7b-bdda-4fbe-ea4c-d461ec4faf8e"
      },
      "id": "QBAo8dOw-BHq",
      "execution_count": null,
      "outputs": [
        {
          "output_type": "execute_result",
          "data": {
            "text/plain": [
              "      0     1   -1\n",
              "0  0.51  0.29  0.2"
            ],
            "text/html": [
              "\n",
              "  <div id=\"df-34a2dbd7-0fa1-492e-ae29-6769b82035be\">\n",
              "    <div class=\"colab-df-container\">\n",
              "      <div>\n",
              "<style scoped>\n",
              "    .dataframe tbody tr th:only-of-type {\n",
              "        vertical-align: middle;\n",
              "    }\n",
              "\n",
              "    .dataframe tbody tr th {\n",
              "        vertical-align: top;\n",
              "    }\n",
              "\n",
              "    .dataframe thead th {\n",
              "        text-align: right;\n",
              "    }\n",
              "</style>\n",
              "<table border=\"1\" class=\"dataframe\">\n",
              "  <thead>\n",
              "    <tr style=\"text-align: right;\">\n",
              "      <th></th>\n",
              "      <th>0</th>\n",
              "      <th>1</th>\n",
              "      <th>-1</th>\n",
              "    </tr>\n",
              "  </thead>\n",
              "  <tbody>\n",
              "    <tr>\n",
              "      <th>0</th>\n",
              "      <td>0.51</td>\n",
              "      <td>0.29</td>\n",
              "      <td>0.2</td>\n",
              "    </tr>\n",
              "  </tbody>\n",
              "</table>\n",
              "</div>\n",
              "      <button class=\"colab-df-convert\" onclick=\"convertToInteractive('df-34a2dbd7-0fa1-492e-ae29-6769b82035be')\"\n",
              "              title=\"Convert this dataframe to an interactive table.\"\n",
              "              style=\"display:none;\">\n",
              "        \n",
              "  <svg xmlns=\"http://www.w3.org/2000/svg\" height=\"24px\"viewBox=\"0 0 24 24\"\n",
              "       width=\"24px\">\n",
              "    <path d=\"M0 0h24v24H0V0z\" fill=\"none\"/>\n",
              "    <path d=\"M18.56 5.44l.94 2.06.94-2.06 2.06-.94-2.06-.94-.94-2.06-.94 2.06-2.06.94zm-11 1L8.5 8.5l.94-2.06 2.06-.94-2.06-.94L8.5 2.5l-.94 2.06-2.06.94zm10 10l.94 2.06.94-2.06 2.06-.94-2.06-.94-.94-2.06-.94 2.06-2.06.94z\"/><path d=\"M17.41 7.96l-1.37-1.37c-.4-.4-.92-.59-1.43-.59-.52 0-1.04.2-1.43.59L10.3 9.45l-7.72 7.72c-.78.78-.78 2.05 0 2.83L4 21.41c.39.39.9.59 1.41.59.51 0 1.02-.2 1.41-.59l7.78-7.78 2.81-2.81c.8-.78.8-2.07 0-2.86zM5.41 20L4 18.59l7.72-7.72 1.47 1.35L5.41 20z\"/>\n",
              "  </svg>\n",
              "      </button>\n",
              "      \n",
              "  <style>\n",
              "    .colab-df-container {\n",
              "      display:flex;\n",
              "      flex-wrap:wrap;\n",
              "      gap: 12px;\n",
              "    }\n",
              "\n",
              "    .colab-df-convert {\n",
              "      background-color: #E8F0FE;\n",
              "      border: none;\n",
              "      border-radius: 50%;\n",
              "      cursor: pointer;\n",
              "      display: none;\n",
              "      fill: #1967D2;\n",
              "      height: 32px;\n",
              "      padding: 0 0 0 0;\n",
              "      width: 32px;\n",
              "    }\n",
              "\n",
              "    .colab-df-convert:hover {\n",
              "      background-color: #E2EBFA;\n",
              "      box-shadow: 0px 1px 2px rgba(60, 64, 67, 0.3), 0px 1px 3px 1px rgba(60, 64, 67, 0.15);\n",
              "      fill: #174EA6;\n",
              "    }\n",
              "\n",
              "    [theme=dark] .colab-df-convert {\n",
              "      background-color: #3B4455;\n",
              "      fill: #D2E3FC;\n",
              "    }\n",
              "\n",
              "    [theme=dark] .colab-df-convert:hover {\n",
              "      background-color: #434B5C;\n",
              "      box-shadow: 0px 1px 3px 1px rgba(0, 0, 0, 0.15);\n",
              "      filter: drop-shadow(0px 1px 2px rgba(0, 0, 0, 0.3));\n",
              "      fill: #FFFFFF;\n",
              "    }\n",
              "  </style>\n",
              "\n",
              "      <script>\n",
              "        const buttonEl =\n",
              "          document.querySelector('#df-34a2dbd7-0fa1-492e-ae29-6769b82035be button.colab-df-convert');\n",
              "        buttonEl.style.display =\n",
              "          google.colab.kernel.accessAllowed ? 'block' : 'none';\n",
              "\n",
              "        async function convertToInteractive(key) {\n",
              "          const element = document.querySelector('#df-34a2dbd7-0fa1-492e-ae29-6769b82035be');\n",
              "          const dataTable =\n",
              "            await google.colab.kernel.invokeFunction('convertToInteractive',\n",
              "                                                     [key], {});\n",
              "          if (!dataTable) return;\n",
              "\n",
              "          const docLinkHtml = 'Like what you see? Visit the ' +\n",
              "            '<a target=\"_blank\" href=https://colab.research.google.com/notebooks/data_table.ipynb>data table notebook</a>'\n",
              "            + ' to learn more about interactive tables.';\n",
              "          element.innerHTML = '';\n",
              "          dataTable['output_type'] = 'display_data';\n",
              "          await google.colab.output.renderOutput(dataTable, element);\n",
              "          const docLink = document.createElement('div');\n",
              "          docLink.innerHTML = docLinkHtml;\n",
              "          element.appendChild(docLink);\n",
              "        }\n",
              "      </script>\n",
              "    </div>\n",
              "  </div>\n",
              "  "
            ]
          },
          "metadata": {},
          "execution_count": 83
        }
      ]
    },
    {
      "cell_type": "code",
      "source": [
        "assert math.fsum(distr_2_new.values()) == 1"
      ],
      "metadata": {
        "id": "bW6V5ZQ5984K"
      },
      "id": "bW6V5ZQ5984K",
      "execution_count": null,
      "outputs": []
    },
    {
      "cell_type": "markdown",
      "source": [
        "**Пункт 4:**"
      ],
      "metadata": {
        "id": "uUUhZcJY9MNA"
      },
      "id": "uUUhZcJY9MNA"
    },
    {
      "cell_type": "code",
      "source": [
        "key_mult = []\n",
        "prob = []\n",
        "for k in itertools.product(eps, mu):\n",
        "  key_mult.append( int(k[0])*int(k[1]) )\n",
        "for j in itertools.product(eps.values(), mu.values()):\n",
        "  prob.append (j[0]*j[1] )"
      ],
      "metadata": {
        "id": "lEY1aW62OcX-"
      },
      "id": "lEY1aW62OcX-",
      "execution_count": null,
      "outputs": []
    },
    {
      "cell_type": "code",
      "source": [
        "distr_new = dict.fromkeys(set(key_mult), 0)\n",
        "for i in range(len(key_mult)):\n",
        "  distr_new[key_mult[i]] = distr_new[key_mult[i]] + prob[i]\n",
        "#distr_new"
      ],
      "metadata": {
        "id": "DkrPNFX-P0C5"
      },
      "id": "DkrPNFX-P0C5",
      "execution_count": null,
      "outputs": []
    },
    {
      "cell_type": "code",
      "source": [
        "pd.DataFrame(distr_new, index=[0])"
      ],
      "metadata": {
        "colab": {
          "base_uri": "https://localhost:8080/",
          "height": 81
        },
        "id": "t8LEw7C0nOIt",
        "outputId": "64e7c570-b5ba-43b2-de0f-152980c013c0"
      },
      "id": "t8LEw7C0nOIt",
      "execution_count": null,
      "outputs": [
        {
          "output_type": "execute_result",
          "data": {
            "text/plain": [
              "      0     2    -2\n",
              "0  0.44  0.31  0.25"
            ],
            "text/html": [
              "\n",
              "  <div id=\"df-2c41d010-f810-4f96-ada4-ad70defdcc2a\">\n",
              "    <div class=\"colab-df-container\">\n",
              "      <div>\n",
              "<style scoped>\n",
              "    .dataframe tbody tr th:only-of-type {\n",
              "        vertical-align: middle;\n",
              "    }\n",
              "\n",
              "    .dataframe tbody tr th {\n",
              "        vertical-align: top;\n",
              "    }\n",
              "\n",
              "    .dataframe thead th {\n",
              "        text-align: right;\n",
              "    }\n",
              "</style>\n",
              "<table border=\"1\" class=\"dataframe\">\n",
              "  <thead>\n",
              "    <tr style=\"text-align: right;\">\n",
              "      <th></th>\n",
              "      <th>0</th>\n",
              "      <th>2</th>\n",
              "      <th>-2</th>\n",
              "    </tr>\n",
              "  </thead>\n",
              "  <tbody>\n",
              "    <tr>\n",
              "      <th>0</th>\n",
              "      <td>0.44</td>\n",
              "      <td>0.31</td>\n",
              "      <td>0.25</td>\n",
              "    </tr>\n",
              "  </tbody>\n",
              "</table>\n",
              "</div>\n",
              "      <button class=\"colab-df-convert\" onclick=\"convertToInteractive('df-2c41d010-f810-4f96-ada4-ad70defdcc2a')\"\n",
              "              title=\"Convert this dataframe to an interactive table.\"\n",
              "              style=\"display:none;\">\n",
              "        \n",
              "  <svg xmlns=\"http://www.w3.org/2000/svg\" height=\"24px\"viewBox=\"0 0 24 24\"\n",
              "       width=\"24px\">\n",
              "    <path d=\"M0 0h24v24H0V0z\" fill=\"none\"/>\n",
              "    <path d=\"M18.56 5.44l.94 2.06.94-2.06 2.06-.94-2.06-.94-.94-2.06-.94 2.06-2.06.94zm-11 1L8.5 8.5l.94-2.06 2.06-.94-2.06-.94L8.5 2.5l-.94 2.06-2.06.94zm10 10l.94 2.06.94-2.06 2.06-.94-2.06-.94-.94-2.06-.94 2.06-2.06.94z\"/><path d=\"M17.41 7.96l-1.37-1.37c-.4-.4-.92-.59-1.43-.59-.52 0-1.04.2-1.43.59L10.3 9.45l-7.72 7.72c-.78.78-.78 2.05 0 2.83L4 21.41c.39.39.9.59 1.41.59.51 0 1.02-.2 1.41-.59l7.78-7.78 2.81-2.81c.8-.78.8-2.07 0-2.86zM5.41 20L4 18.59l7.72-7.72 1.47 1.35L5.41 20z\"/>\n",
              "  </svg>\n",
              "      </button>\n",
              "      \n",
              "  <style>\n",
              "    .colab-df-container {\n",
              "      display:flex;\n",
              "      flex-wrap:wrap;\n",
              "      gap: 12px;\n",
              "    }\n",
              "\n",
              "    .colab-df-convert {\n",
              "      background-color: #E8F0FE;\n",
              "      border: none;\n",
              "      border-radius: 50%;\n",
              "      cursor: pointer;\n",
              "      display: none;\n",
              "      fill: #1967D2;\n",
              "      height: 32px;\n",
              "      padding: 0 0 0 0;\n",
              "      width: 32px;\n",
              "    }\n",
              "\n",
              "    .colab-df-convert:hover {\n",
              "      background-color: #E2EBFA;\n",
              "      box-shadow: 0px 1px 2px rgba(60, 64, 67, 0.3), 0px 1px 3px 1px rgba(60, 64, 67, 0.15);\n",
              "      fill: #174EA6;\n",
              "    }\n",
              "\n",
              "    [theme=dark] .colab-df-convert {\n",
              "      background-color: #3B4455;\n",
              "      fill: #D2E3FC;\n",
              "    }\n",
              "\n",
              "    [theme=dark] .colab-df-convert:hover {\n",
              "      background-color: #434B5C;\n",
              "      box-shadow: 0px 1px 3px 1px rgba(0, 0, 0, 0.15);\n",
              "      filter: drop-shadow(0px 1px 2px rgba(0, 0, 0, 0.3));\n",
              "      fill: #FFFFFF;\n",
              "    }\n",
              "  </style>\n",
              "\n",
              "      <script>\n",
              "        const buttonEl =\n",
              "          document.querySelector('#df-2c41d010-f810-4f96-ada4-ad70defdcc2a button.colab-df-convert');\n",
              "        buttonEl.style.display =\n",
              "          google.colab.kernel.accessAllowed ? 'block' : 'none';\n",
              "\n",
              "        async function convertToInteractive(key) {\n",
              "          const element = document.querySelector('#df-2c41d010-f810-4f96-ada4-ad70defdcc2a');\n",
              "          const dataTable =\n",
              "            await google.colab.kernel.invokeFunction('convertToInteractive',\n",
              "                                                     [key], {});\n",
              "          if (!dataTable) return;\n",
              "\n",
              "          const docLinkHtml = 'Like what you see? Visit the ' +\n",
              "            '<a target=\"_blank\" href=https://colab.research.google.com/notebooks/data_table.ipynb>data table notebook</a>'\n",
              "            + ' to learn more about interactive tables.';\n",
              "          element.innerHTML = '';\n",
              "          dataTable['output_type'] = 'display_data';\n",
              "          await google.colab.output.renderOutput(dataTable, element);\n",
              "          const docLink = document.createElement('div');\n",
              "          docLink.innerHTML = docLinkHtml;\n",
              "          element.appendChild(docLink);\n",
              "        }\n",
              "      </script>\n",
              "    </div>\n",
              "  </div>\n",
              "  "
            ]
          },
          "metadata": {},
          "execution_count": 87
        }
      ]
    },
    {
      "cell_type": "code",
      "source": [
        "assert math.fsum(distr_new.values()) == 1"
      ],
      "metadata": {
        "id": "9qjJ4a9IQhdU"
      },
      "id": "9qjJ4a9IQhdU",
      "execution_count": null,
      "outputs": []
    },
    {
      "cell_type": "markdown",
      "source": [
        "### **Условная вероятность**"
      ],
      "metadata": {
        "id": "GZRfGZ-YAG4l"
      },
      "id": "GZRfGZ-YAG4l"
    },
    {
      "cell_type": "markdown",
      "source": [
        "* Какова вероятность того, что $3$ карты, вынутые из колоды в $36$ карт, окажутся одной\n",
        "масти?  "
      ],
      "metadata": {
        "id": "SAG9qAAQAJY1"
      },
      "id": "SAG9qAAQAJY1"
    },
    {
      "cell_type": "markdown",
      "source": [
        "&emsp; $A = $ $\\{$первая карта масти $i \\} = \\frac{1}{4}$, где  (после вынимания первой карты осталось $35$ карт, из них той же масти, что и первая - $8$).  \n",
        "Получаем $\\mathbb{P}(A \\cup B \\cup C) = \\mathbb{P}(A) \\cdot \\mathbb{P}(B|A) \\cdot \\mathbb{P}(C| AB) = \\dfrac{9}{36} \\cdot \\dfrac{8}{35} \\cdot \\dfrac{7}{34} = 0.0118$  \n",
        "&emsp; События, состоящие в том, что будут вынуты три карты масти **«пики»**, масти **«треф»** и т.д., несовместны друг с другом. Следовательно, для нахождения вероятности их объединения воспользуемся теоремой сложения:  \n",
        "$$\\mathbb{P}(три \\space карты \\space одной \\space масти) = 4 \\cdot \\mathbb{P}(A \\cup B \\cup C) = 0.047$$"
      ],
      "metadata": {
        "id": "PEayJVArAb_f"
      },
      "id": "PEayJVArAb_f"
    },
    {
      "cell_type": "markdown",
      "source": [
        "* Какова вероятность того, что из колоды в $36$ карт будут извлечены четыре туза подряд?"
      ],
      "metadata": {
        "id": "1ZsANxzoFdOp"
      },
      "id": "1ZsANxzoFdOp"
    },
    {
      "cell_type": "markdown",
      "source": [
        "&emsp; $A = $ $\\{$первая туз масти $i \\} = \\frac{4}{36}$, где  (после вынимания первого туза осталось $35$ карт, из них тузов - $3$).  \n",
        "Получаем $\\mathbb{P}(A \\cup B \\cup C \\cup D) = \\mathbb{P}(A) \\cdot \\mathbb{P}(B|A) \\cdot \\mathbb{P}(C| AB) \\cdot \\mathbb{P}(D| ABC) = \\dfrac{4}{36} \\cdot \\dfrac{3}{35} \\cdot \\dfrac{2}{34} \\cdot \\dfrac{1}{33} = 0.00001698$  \n",
        "&emsp; Рассмотрим вероятность через число сочетаний/перестановок: $4$ карты (тузы) могут быть раставлены $4! = 24$ способами. А просто число способов выбрать $4$ карты из $36$ (с учётом порядка): $A_{36}^4 = \\dfrac{36!}{32!} = 36 \\cdot 35 \\cdot 34 \\cdot 33$  \n",
        "$$\\mathbb{P}(ABCD) = \\dfrac{4\\cdot3\\cdot2\\cdot1}{36 \\cdot 35 \\cdot 34 \\cdot 33}= 0.00001698$$"
      ],
      "metadata": {
        "id": "TUI1dN5KFd-Q"
      },
      "id": "TUI1dN5KFd-Q"
    },
    {
      "cell_type": "markdown",
      "source": [
        "## **Заметки**"
      ],
      "metadata": {
        "id": "-578DWSXTyk7"
      },
      "id": "-578DWSXTyk7"
    },
    {
      "cell_type": "markdown",
      "source": [
        "* $\\mathbb{P}[(A \\cap B)\\cap(B \\cap C)\\cap(A \\cap C)] =$ по свойству коммутативности $= \\mathbb{P}[A \\cap B\\cap C]$\n",
        "* $\\mathbb{P}[A \\cap B\\cap C] = \\mathbb{P}(A \\cap B) \\cdot \\mathbb{P}(B \\cap C) \\cdot \\mathbb{P}(A \\cap C) = \\mathbb{P}(A)^2 \\cdot \\mathbb{P}(B)^2 \\cdot \\mathbb{P}(C)^2$\n",
        "* $ \\mathbb{P}[A \\cap B\\cap C] = \\mathbb{P}(A \\cap B) \\cdot \\mathbb{P}(B \\cap C) = \\mathbb{P}(A) \\cdot \\mathbb{P}(B)^2 \\cdot \\mathbb{P}(C)$\n",
        "* $\\mathbb{P}(A)^2 \\cdot \\mathbb{P}(B)^2 \\cdot \\mathbb{P}(C)^2 \\neq \\mathbb{P}(A) \\cdot \\mathbb{P}(B)^2 \\cdot \\mathbb{P}(C)$"
      ],
      "metadata": {
        "id": "34qn6hJq24cA"
      },
      "id": "34qn6hJq24cA"
    },
    {
      "cell_type": "markdown",
      "id": "bf0354b4",
      "metadata": {
        "id": "bf0354b4"
      },
      "source": [
        "### section2\n",
        "<a id ='section2'></a>\n",
        "\n",
        "some text ..."
      ]
    }
  ],
  "metadata": {
    "kernelspec": {
      "display_name": "Python 3",
      "language": "python",
      "name": "python3"
    },
    "language_info": {
      "codemirror_mode": {
        "name": "ipython",
        "version": 3
      },
      "file_extension": ".py",
      "mimetype": "text/x-python",
      "name": "python",
      "nbconvert_exporter": "python",
      "pygments_lexer": "ipython3",
      "version": "3.8.8"
    },
    "colab": {
      "name": "YSoDA.ipynb",
      "provenance": [],
      "collapsed_sections": [
        "8e693690",
        "1aeb130b",
        "65cf2850",
        "a128b8e0",
        "48a7bf93",
        "5f039c4b",
        "a291f5d0",
        "9446e70f"
      ],
      "toc_visible": true,
      "include_colab_link": true
    }
  },
  "nbformat": 4,
  "nbformat_minor": 5
}
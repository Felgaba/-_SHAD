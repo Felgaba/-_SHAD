{
  "cells": [
    {
      "cell_type": "markdown",
      "metadata": {
        "id": "view-in-github",
        "colab_type": "text"
      },
      "source": [
        "<a href=\"https://colab.research.google.com/github/Felgaba/Yandex_SHAD-OZON_Masters/blob/main/YSoDA.ipynb\" target=\"_parent\"><img src=\"https://colab.research.google.com/assets/colab-badge.svg\" alt=\"Open In Colab\"/></a>"
      ]
    },
    {
      "cell_type": "markdown",
      "id": "57ec527a",
      "metadata": {
        "id": "57ec527a"
      },
      "source": [
        "## [ШАД](https://efiminem.github.io/supershad/)"
      ]
    },
    {
      "cell_type": "markdown",
      "id": "9e2f7f5c",
      "metadata": {
        "id": "9e2f7f5c"
      },
      "source": [
        "<a id ='ШАД_02.06.2013'></a>\n",
        "#### [ШАД 02.06.2013](https://efiminem.github.io/supershad/02-06-2013/) "
      ]
    },
    {
      "cell_type": "markdown",
      "id": "c83b3102",
      "metadata": {
        "id": "c83b3102"
      },
      "source": [
        "**2)** Дана матрица $A$ размера n×n, где $a_{ij}=(i−j)^2$, $i,j=1,…,n$. Найдите ранг матрицы $A$."
      ]
    },
    {
      "cell_type": "markdown",
      "id": "2754e07f",
      "metadata": {
        "id": "2754e07f"
      },
      "source": [
        "Пусть $\\{A_{j}\\}_{k=1}^{n}$ — столбцы матрицы $A$, а $\\{P_k\\}$ — столбцы вида $(1^k,2^k,…,n^k)^T$. Тогда по условию задачи $A_j=P_2−2jP_1+j^2P_0$. Отсюда следует, что столбцы матрицы $A$ принадлежат подпространству, натянутому на линейно независимые вектора $P_2,P_1,P_0$. Значит, $rankA⩽3$. Заметим, что в случае $n⩾3$ только столбы $A_1,A_2,A_3$ (иначе говоря, первые три) будут линейно независимы. Действительно,\n",
        "$$\\begin{vmatrix}\n",
        "0 & 1 & 4 \\\\\n",
        "1 & 0 & 1 \\\\\n",
        "4 & 1 & 0\n",
        "\\end{vmatrix} \\neq 0 \\space (=8)$$\n",
        "Поэтому при $n⩾3$ rankA=3 $(detA_{4x4}=0)$. В случаях n=1 и n=2 получим 0 и 2, соответственно."
      ]
    },
    {
      "cell_type": "markdown",
      "id": "b9d07254",
      "metadata": {
        "id": "b9d07254"
      },
      "source": [
        " **6)** У линейного преобразования $n$-мерного пространства существуют $n+1$ собственных векторов, таких, что любые $n$ из них линейно независимы. Найдите всевозможные матрицы, которые могли бы задавать такое преобразование."
      ]
    },
    {
      "cell_type": "markdown",
      "id": "090f87d8",
      "metadata": {
        "id": "090f87d8"
      },
      "source": [
        "&emsp; $dimU = n \\space \\Rightarrow $ число собственных значений  не больше $n$ (алгебраическая кратность).  \n",
        "&emsp; Число линейно независимых собственных векторов, принадлежащих некоторому собственному значению (геометрическая кратность), равно алгебраической кратности этого собственного значения, поскольку есть $n$ линейно независимых собственных векторов, а геометрическая кратность не превышает алгебраическую.  \n",
        "&emsp; Тогда, при распределении $n+1$ вектора по $n$ собственным значениям, некоторому собственному значению $\\lambda$ достанется на 1 вектор больше, чем его геометрическая кратность.  \n",
        "&emsp; Пусть теперь есть собственное значение $k\\neq\\lambda$. Тогда возьмем $n$ оставшихся векторов, кроме одного вектора, соответствующего собственному значению $k$. В таком случае эти вектора будут линейно зависимы — противоречие (т.к $n$ из $n+1$ - независимы; один пошёл на $k$ - осталось всего $n$). Это означает, что все собственные значения оператора равны $\\lambda$.  \n",
        "&emsp;Таким образом, любой вектор из собственного подпространства, при действии на него оператора, растягивается в $\\lambda$ раз. Но поскольку из собственных векторов можно составить базис, любой другой вектор пространства, при действии на него оператора, также будет растягиваться в $\\lambda$ раз (т.к он выражается через собственные вектора, которые в таком члучае растягиваются в $\\lambda$ раз). Нетрудно понять, что матрица такого оператора должна быть скалярной.  \n",
        "&emsp; В самом деле, при умножении матрицы на вектора вида $(0,\\ldots 1 \\ldots ,0)^\\mathrm{T}$, мы должны получить вектора вида $(0,\\ldots \\lambda \\ldots ,0)^\\mathrm{T}$. Значит, все элементы на диагонали матрицы равны $\\lambda$.  \n",
        "Если же теперь для некоторых $i\\neq j \\space a_{ij} \\neq 0$, то легко подобрать вектор, который уже не растянется в $\\lambda$ раз.  \n",
        "&emsp; В качестве примера для любой скалярной матрицы можно взять все возможные вектора вида $(0,\\ldots 1 \\ldots ,0)^\\mathrm{T}$ (л.н)\n",
        " и вектор $(1,\\ldots 1 \\ldots, 1)^\\mathrm{T}$. Любые $n$ из них - л.н."
      ]
    },
    {
      "cell_type": "markdown",
      "id": "65cf2850",
      "metadata": {
        "id": "65cf2850"
      },
      "source": [
        "#### [ШАД 19.02.2014 Харьков](https://efiminem.github.io/supershad/19-02-2014-kharkiv/)"
      ]
    },
    {
      "cell_type": "markdown",
      "id": "9611202b",
      "metadata": {
        "id": "9611202b"
      },
      "source": [
        "**1)** Найдите все квадратные вещественные матрицы порядка 3, удовлетворяющие уравнению  \n",
        "$$ X^2 + E = 0 $$"
      ]
    },
    {
      "cell_type": "markdown",
      "id": "22ec1b79",
      "metadata": {
        "id": "22ec1b79"
      },
      "source": [
        "X - квадратная матрица ($ 3 \\times 3 $)  \n",
        "$$ X^2 = \\begin{pmatrix}\n",
        "-1 & 0 & 0\\\\\n",
        "0 & -1 & 0\\\\\n",
        "0 & 0 & -1\n",
        "\\end{pmatrix} $$\n",
        "$ detX^2 = det(-E) $, откуда по [свойству](https://portal.tpu.ru/SHARED/k/KONVAL/Sites/Russian_sites/2/05.htm) детерминанта: $ detXdetX = -1 $ (при n = 3). Очевидно, что число в левой части больше нуля $\\Rightarrow$ противоречие.  \n",
        "В общем случае, для матрицы $n \\times n$: $detXdetX = (-1)^n $ (матрица Х существует для чётных порядков, тогда detX = $\\pm$1)."
      ]
    },
    {
      "cell_type": "markdown",
      "source": [
        "**6)** Вычислите сумму интегралов:  \n",
        "$$\\int\\limits_{\\sqrt{\\pi/6}}^{\\sqrt{\\pi/3}} \\sin (x^2) dx + \\int\\limits_{1/2}^{\\sqrt{3}/2} \\sqrt{\\arcsin x} dx$$"
      ],
      "metadata": {
        "id": "pyTAUg3XLSeK"
      },
      "id": "pyTAUg3XLSeK"
    },
    {
      "cell_type": "markdown",
      "source": [
        "**a)** Вариант 1  \n",
        "Осуществим замену переменной в каждом из интегралов. \n",
        "* В первом интеграле:  $x^2 = t, \\space dx = \\dfrac{dt}{2\\sqrt{t}}$\n",
        "* Во втором интегралн: $arcsin(x) = t, \\space dx = cos(t)dt$\n",
        "* С учётом этих замен пределы интегрирования станут $[\\pi/6, \\pi/3]$ (просто подставьте исходные значения как $x$ и получите необходимые границы).\n",
        "\n",
        "Исходный интеграл теперь можно записать в виде: $\\int\\limits_{\\pi/3}^{\\pi/6} \\dfrac{\\sin (t) dt}{2\\sqrt{t}} + \\int\\limits_{\\pi/3}^{\\pi/6} \\sqrt{t} cos(t)dt = *$.  \n",
        "Посчитаем второй интеграл по частям:  \n",
        "$ \\left\\{\n",
        "    \\begin{array}\\\\\n",
        "        u = \\sqrt{t}, \\space dv = cos(t)dt \\\\\n",
        "        uv - \\int vdu = \\sqrt{t}sin(t) - \\int\\dfrac{\\sin (t)}{2\\sqrt{t}}dt\n",
        "    \\end{array} \n",
        "  \\right. $  \n",
        "$* = \\int\\dfrac{\\sin (t)}{2\\sqrt{t}}dt + \\sqrt{t}sin(t) - \\int\\dfrac{\\sin (t)}{2\\sqrt{t}}dt = \\sqrt{t}sin(t) |_{\\pi/6}^{\\pi/3} = \\sqrt{\\dfrac{\\pi}{2}} - \\dfrac{\\sqrt{\\pi}}{2\\sqrt{6}}$"
      ],
      "metadata": {
        "id": "VxqyGJ0MNMox"
      },
      "id": "VxqyGJ0MNMox"
    },
    {
      "cell_type": "markdown",
      "source": [
        "**b)** Вариант 2 (попроще)  \n",
        "Функции под интегралами и пределы интегрирования выбраны не случайно, а именно:\n",
        "* $f(x) = sin(x^2)$\n",
        "* $f^{-1}(x) = \\sqrt{arcsin(x)}$  \n",
        "А значит, сумма интегралов равна сумме площадей криволинейных трапеций, которую можно представить как разность площадей двух прямоугольников:"
      ],
      "metadata": {
        "id": "0ZjA2q5kes_w"
      },
      "id": "0ZjA2q5kes_w"
    },
    {
      "cell_type": "code",
      "source": [
        "import math\n",
        "import matplotlib.pyplot as plt\n",
        "import numpy as np\n",
        "\n",
        "plt.rcParams[\"figure.figsize\"] = [7.50, 3.50]\n",
        "plt.rcParams[\"figure.autolayout\"] = True\n",
        "\n",
        "x = np.linspace(0, max(math.sqrt(math.pi/3), math.sqrt(3)/2)+0.3, 500)\n",
        "y1 = np.sin(x**2)\n",
        "\n",
        "x_f = np.linspace(math.sqrt(math.pi/6), math.sqrt(math.pi/3), 500)\n",
        "plt.fill_between(x_f, np.sin(x_f**2), step=\"pre\", alpha=0.4)\n",
        "plt.fill_betweenx(np.sin(x_f**2), x_f, step=\"pre\", alpha=0.4)\n",
        "\n",
        "plt.plot(x, y1, drawstyle=\"steps\")\n",
        "\n",
        "plt.show()"
      ],
      "metadata": {
        "colab": {
          "base_uri": "https://localhost:8080/",
          "height": 261
        },
        "id": "CPl2EOzPfY99",
        "outputId": "4b4a758a-65a9-4c5a-9ef1-5c3f805d1e12"
      },
      "id": "CPl2EOzPfY99",
      "execution_count": null,
      "outputs": [
        {
          "output_type": "display_data",
          "data": {
            "text/plain": [
              "<Figure size 540x252 with 1 Axes>"
            ],
            "image/png": "[encoded data removed]"
          },
          "metadata": {
            "needs_background": "light"
          }
        }
      ]
    },
    {
      "cell_type": "markdown",
      "source": [
        "**Закрашенная площадь** - это просто разница \"большого\" и \"малого\" прямоугольников, размеры которых соответствуют верхним и нижним пределам интегрирования, соответственно: $S = \\dfrac{\\sqrt{3}}{2}\\sqrt{\\dfrac{\\pi}{3}} - \\dfrac{1}{2}\\sqrt{\\dfrac{\\pi}{6}}$"
      ],
      "metadata": {
        "id": "YvwC7ZE3kALI"
      },
      "id": "YvwC7ZE3kALI"
    },
    {
      "cell_type": "markdown",
      "source": [
        "**7)** Игра состоит из одинаковых и независимых конов, в каждом из которых выигрыш происходит с вероятностью $p$. Когда игрок выигрывает, он получает $1$ доллар, а когда проигрывает — платит $1$ доллар. Как только его капитал достигает величины $N$ долларов, он объявляется победителем и удаляется из казино. Найдите вероятность того, что игрок рано или поздно проиграет все деньги, в зависимости от его стартового капитала $K$.\n"
      ],
      "metadata": {
        "id": "Sq2BvEHn4dw7"
      },
      "id": "Sq2BvEHn4dw7"
    },
    {
      "cell_type": "markdown",
      "source": [
        "Классическая задача о [разорении игрока](https://www.youtube.com/watch?v=PNrqCdslGi4)!  \n",
        "* За столом сидят два игрока $A$ и $B$ и делают ставки.\n",
        "* Пусть $p$ – вероятность того, что $A$ выигрывает раунд, $q = 1 − p$ – вероятность того, что $B$ выигрывает раунд. \n",
        "* Старотовый капитал игрока $A$ составляет $i \\space \\$ $, игрока $B$ — $(N−i) \\space \\$ $.  \n",
        "\n",
        "Найти вероятность того, что игрок $A$ выиграет все $ у соперника. (В ШАДовской задаче ищется противоположная вероятность, but whatever)\n",
        "\n",
        "Количество \\$ у игрока $A$ можно рассматривать как случайное блуждание от $0$ до $N$:  \n"
      ],
      "metadata": {
        "id": "JYlCqP-B6dEl"
      },
      "id": "JYlCqP-B6dEl"
    },
    {
      "cell_type": "code",
      "source": [
        "from PIL import Image\n",
        "import requests\n",
        "from io import BytesIO\n",
        "\n",
        "response = requests.get('https://hsto.org/r/w1560/files/9a8/9f6/f60/9a89f6f602c8459e99e2b931b46cd642.png')\n",
        "img = Image.open(BytesIO(response.content))\n",
        "img"
      ],
      "metadata": {
        "colab": {
          "base_uri": "https://localhost:8080/",
          "height": 93
        },
        "id": "KODkAdR-9yKe",
        "outputId": "ce979725-5bbb-4786-c9ec-20f50d1ac1eb"
      },
      "id": "KODkAdR-9yKe",
      "execution_count": null,
      "outputs": [
        {
          "output_type": "execute_result",
          "data": {
            "text/plain": [
              "<PIL.PngImagePlugin.PngImageFile image mode=RGBA size=300x76 at 0x7F548C5B5210>"
            ],
            "image/png": "[encoded data removed]"
          },
          "metadata": {},
          "execution_count": 3
        }
      ]
    },
    {
      "cell_type": "markdown",
      "source": [
        "\\- тогда $p$ – вероятность того, что точка сдвинется вправо на $1\\$ $, $q$ – вероятность того, что точка сдвинется влево на $1\\$ $.  \n",
        "\n",
        "Пусть $p_i$($A$ выиграет игру | $A$ имеет $i \\space \\$ $). Тогда по формуле полной вероятности  \n",
        "$ \\left\\{\n",
        "    \\begin{array}\\\\\n",
        "        p_i = p \\cdot p_{i+1} + q \\cdot p_{i-1} \\\\\n",
        "        1 ≤ i ≤ N−1 \n",
        "    \\end{array} \n",
        "  \\right. $  \n",
        "Граничащие случаи:  \n",
        "* $p_0 = 0$ вероятность того, что $A$ выиграет игру с $0 \\space \\$ $ стартового капитала (т.е. игрок $A$ просто не сможет войти в игру).\n",
        "* $p_N = 1$ вероятность того, что $A$ выиграет игру с $N \\space \\$ $ стартового капитала (в этом случае стартовый капитал игрока $B$ составляет $0 \\space \\$ $).  \n",
        "\n",
        "При достаточно больших $N$ можно рассматривать выражение выше, как разностное уравнение (дискретный случай ДУ), а $p_i$ искать как его решение. Из разностного уравнения формальной заменой (initial guess) $p_i = x_i$ получаем алгебраическое уравнение:  \n",
        "$$ \\left\\{\n",
        "    \\begin{array}\\\\\n",
        "      x^i = p \\cdot x^{i+1} + q \\cdot x^{i-1} | \\div x^{i-1} \\\\\n",
        "      p \\cdot x^2 - x + q = 0\n",
        "    \\end{array} \n",
        "  \\right. \n",
        "$$  \n",
        "Дискриминант квадратного уравнения $1−4pq > 0$ при $p ≠ q$. Найдём корни квадратного уравнения:  \n",
        "$\\left\\{\n",
        "    \\begin{array}\\\\\n",
        "      x_{1, 2} = \\dfrac{1 \\pm \\sqrt{1-4pq}}{2p} = \\dfrac{1 \\pm (2p-1)}{2p} \\\\\n",
        "      x_1 = 1, x_2 = \\dfrac{q}{p}\n",
        "      \\end{array} \n",
        "  \\right. $  \n",
        "**ЗЫ:** $q = 1-p, \\space  q \\neq p \\Rightarrow 1-4p(1-p) = 4p^2-4p+1=(2p-1)^2$  "
      ],
      "metadata": {
        "id": "fhCFnCpD-KfQ"
      },
      "id": "fhCFnCpD-KfQ"
    },
    {
      "cell_type": "markdown",
      "source": [
        "Так как дискриминант квадратного уравнения больше нуля, то решение разностного уравнения ищется в виде линейной комбинации решений: $p_i = A \\cdot 1^i + B \\cdot \\left(\\dfrac{q}{p} \\right)^i$,  \n",
        "Из граничащего условия $p_0 = 0$: $B = -A$  \n",
        "И $p_N = 1$: $1 = A - A \\cdot \\left(\\dfrac{q}{p} \\right)^N \\Rightarrow A = \\dfrac{1}{1-\\left(\\frac{q}{p} \\right)^N}$\n"
      ],
      "metadata": {
        "id": "zaCy1KccFnzp"
      },
      "id": "zaCy1KccFnzp"
    },
    {
      "cell_type": "markdown",
      "source": [
        "Итого имеем:\n",
        "$\\left\\{\n",
        "    \\begin{array}\\\\\n",
        "      p_i = \\dfrac{1}{1-\\left(\\frac{q}{p} \\right)^N} - \\left(\\frac{q}{p} \\right)^i\\dfrac{1}{1-\\left(\\frac{q}{p} \\right)^N} = \\dfrac{1-\\left(\\frac{q}{p} \\right)^i}{1-\\left(\\frac{q}{p} \\right)^N}, \\space p \\neq q \\\\\n",
        "      \\dfrac{i}{N}, \\space p = q\n",
        "    \\end{array} \n",
        "  \\right. $  \n",
        "\n",
        "Чтобы получить выражение для $p_i$ при $p = q$, обозначим $y = \\frac{q}{p}$, т.к. $p = q$, то $x → 1$.  \n",
        "Найдём предел: $\\lim_{y \\to 1} \\dfrac{1-y^i}{1-y^N} = \\dfrac{0}{0}$ правило Лопиталя $= \\lim_{y \\to 1} \\dfrac{i \\cdot y^{i-1}}{N \\cdot y^{N-1}} = \\dfrac{i}{N}$ "
      ],
      "metadata": {
        "id": "X_vI-bOMIBI2"
      },
      "id": "X_vI-bOMIBI2"
    },
    {
      "cell_type": "markdown",
      "source": [
        "Мы нашли вероятность, что условно первый игрок выиграет в зависимости от его стартового капитала $i$, обратная же вероятность эквивалентна выигрышу условно второго игрока в зависимости от его стартового капитала $N-i$:  \n",
        "$\\left\\{\n",
        "    \\begin{array}\\\\\n",
        "      p_{N-i} = \\dfrac{1-\\left(\\frac{p}{q} \\right)^{N-i}}{1-\\left(\\frac{p}{q} \\right)^N}, \\space p \\neq q \\\\\n",
        "      \\dfrac{N-i}{N}, \\space p = q\n",
        "    \\end{array} \n",
        "  \\right. $"
      ],
      "metadata": {
        "id": "Hwphx3IjKZqJ"
      },
      "id": "Hwphx3IjKZqJ"
    },
    {
      "cell_type": "markdown",
      "id": "008527a7",
      "metadata": {
        "id": "008527a7"
      },
      "source": [
        "<a id ='ШАД_25.05.2014'></a>\n",
        "#### [ШАД 25.05.2014](https://efiminem.github.io/supershad/25-05-2014/)"
      ]
    },
    {
      "cell_type": "markdown",
      "id": "a36ec5b9",
      "metadata": {
        "id": "a36ec5b9"
      },
      "source": [
        "  **1)** Пусть A - квадратная матрица, у которой сумма матричных элементов в каждом столбце равна $λ$. Нужно доказать, что $λ$ является собственным значением матрицы A."
      ]
    },
    {
      "cell_type": "markdown",
      "id": "fe194f87",
      "metadata": {
        "id": "fe194f87"
      },
      "source": [
        "* Если вычесть $\\lambda E$, то получится матрица с нулевой суммой в каждом столбце. Это значит, что сумма строк нулевая, то есть строки линейно зависимы. Тогда ранг матрицы меньше $n$, и столбцы тоже линейно зависимы.  \n",
        "* Пусть $x_1,\\dots,x_n$ - коэффициенты линейной зависимости.\n",
        "Тогда вектор-столбец $X$, составленный из них, удовлетворяет условию $(A−λE)x=0$. Поскольку $x≠0$ и $Ax=λx$, число $λ$ будет собственным значением."
      ]
    },
    {
      "cell_type": "markdown",
      "id": "b7c8ef35",
      "metadata": {
        "id": "b7c8ef35"
      },
      "source": [
        "**7)** Найдите максимальное значение определителя матрицы (а) второго (б) третьего порядка, если сумма квадратов всех ее элементов не превосходит 1."
      ]
    },
    {
      "cell_type": "markdown",
      "id": "206a76e9",
      "metadata": {
        "id": "206a76e9"
      },
      "source": [
        "Рассмотрим матрицу $n$-го порядка. Пусть А - невырожденная матрица n-го порядка. Рассмотрим матрицу $B=AA^T$.  \n",
        "* все собственные значения матрицы $В$ положительны: пусть $AA^T = \\begin{pmatrix} a^2+b^2 & ac+bd\\\\ ac+bd & c^2+d^2 \\end{pmatrix}$, откуда видно что собственные значения положительны;\n",
        "* $trB=\\sum_{i;j=0}^{n} a_{ij}^2$;\n",
        "* $detB=det(AA^T)=(detA)^2$.  \n",
        "Учитывая [соотношения](http://twt.mpei.ac.ru/math/larb/linoper/LA_04050000.html) $detB=\\prod_{k=1}^n \\lambda_{k}, \\space trB=\\sum_{k=0}^{n} \\lambda_{k}$ и [соотношения](https://mathus.ru/math/srednie.pdf) среднего арифметического и геометрического:  \n",
        "$$ detB \\leq (\\frac{trB}{n})^n \\space (1). $$\n",
        "\n",
        "По условию $trB \\leq 1$. Поэтому $detB \\leq (\\frac{1}{n})^n$, а $detA \\leq (\\frac{1}{\\sqrt{n}})^n$.  \n",
        "В выражении (1) равенство при $\\lambda_1 = \\lambda_2 = \\dots = \\lambda_n = \\frac{1}{n}$, тогда для исходной матрицы А - это корень из этих собственных значений.\n",
        "* При n = 2: $detA = \\frac{1}{2}$\n",
        "* При n = 3: $detA = \\frac{1}{2\\sqrt{2}}$  \n",
        " **Пример матрицы:** А = $diag(\\frac{1}{\\sqrt{n}}, \\frac{1}{\\sqrt{n}}, \\dots, \\frac{1}{\\sqrt{n}})$"
      ]
    },
    {
      "cell_type": "markdown",
      "source": [
        "<a id ='ШАД_24.05.2015'></a>\n",
        "#### [ШАД 24.05.2015](https://efiminem.github.io/supershad/24-05-2015/)"
      ],
      "metadata": {
        "id": "dsSjEZDwuPdJ"
      },
      "id": "dsSjEZDwuPdJ"
    },
    {
      "cell_type": "markdown",
      "source": [
        "**2)** На плоскости, однородно покрытой прямоугольниками (их стороны касаются) со сторонами 10 и 20, рисуют случайную окружность радиуса 4. Найдите вероятность того, что окружность имеет общие точки ровно с тремя прямоугольниками.\n"
      ],
      "metadata": {
        "id": "ODws7orZuUxS"
      },
      "id": "ODws7orZuUxS"
    },
    {
      "cell_type": "markdown",
      "source": [
        "Будем следить за положением центра окружности. Можно ограничить рассмотрение внутренностью одного прямоугольника (расположение центра относительно одного прямоугольника).  \n",
        "Для того, чтобы окружность пересекала ровно три прямоугольника, должны выполняться два условия:  \n",
        "**(1)** расстояния от центра до двух ближайших сторон прямоугольника должны быть меньше 4 (нестрого) - предельный случай эквивалентен ;  \n",
        "**(2)** расстояние до ближайшей вершины прямоугольника должно быть больше 4 (т.к фигуры касаются, вершины - это пересечение сразу 4-х прямоугольников)."
      ],
      "metadata": {
        "id": "suBF7HUiubkf"
      },
      "id": "suBF7HUiubkf"
    },
    {
      "cell_type": "markdown",
      "source": [
        "![](https://drive.google.com/uc?export=view&id=1gDsXowwVYFg4vJNKqFwdARSy6TjQMt_T)"
      ],
      "metadata": {
        "id": "aSGswfAbyTxO"
      },
      "id": "aSGswfAbyTxO"
    },
    {
      "cell_type": "markdown",
      "source": [
        "Зная это, мы можем изобразить множество точек, удовлетворяющих этим условиям (жёлтый сегмент), который равен: $\\dfrac{8\\cdot8 - 4^2\\pi}{4} = 16-4\\pi$. Таких сегментов всего 4 (для каждого такого угла прямоугольника), поэтому допустимая область равна: \n",
        "$$\\mathbb{P} = \\dfrac{4\\cdot(16-4\\pi)}{10\\cdot20} = \\dfrac{8-2\\pi}{25}$$\n"
      ],
      "metadata": {
        "id": "PgSxWyfdyUXR"
      },
      "id": "PgSxWyfdyUXR"
    },
    {
      "cell_type": "markdown",
      "source": [
        "<a id ='ШАД_31.05.2015'></a>\n",
        "#### [ШАД 31.05.2015](https://efiminem.github.io/supershad/31-05-2015/)"
      ],
      "metadata": {
        "id": "h1Zm207hvL7v"
      },
      "id": "h1Zm207hvL7v"
    },
    {
      "cell_type": "markdown",
      "source": [
        "**2)** Придя на письменный экзамен в ШАД, студенты поняли, что среди любых четырех человек хотя бы один уже знаком с тремя оставшимися. Докажите, что в этом случае среди любых четверых человек хотя бы один уже знаком со всеми остальными студентами (вообще всеми)."
      ],
      "metadata": {
        "id": "A9ctZz-3vUyL"
      },
      "id": "A9ctZz-3vUyL"
    },
    {
      "cell_type": "markdown",
      "source": [
        "&emsp; Рассмотрим произвольную четвёрку студентов $A$, $B$, $C$, $D$. Пусть, от противного, из них никто не знаком со всеми остальными студентами. Но по условию один из студентов (пусть это будет $A$) знает всех оставшихся троих. От противного мы заключили, что есть некий другой студент $X$, которого $A$ не знает.  \n",
        "&emsp; В этом месте сделаем финт ушами и рассмотрим четвёрку $A$, $B$, $C$, $X$. В этой четвёрке должен быть студент, который знает всех троих. Это не может быть $A$ или $X$, так как они не знакомы, поэтому пусть $B$ знает всех троих (не важно, это может быть и $C$, пока симметрия между ними не нарушена)."
      ],
      "metadata": {
        "id": "7AS5dM2R7Prj"
      },
      "id": "7AS5dM2R7Prj"
    },
    {
      "cell_type": "markdown",
      "source": [
        "![](https://drive.google.com/uc?export=view&id=1QO20Gzpkd__aP8MQDS81eg8DrlgPIEA9)"
      ],
      "metadata": {
        "id": "muhfqFGK6ohZ"
      },
      "id": "muhfqFGK6ohZ"
    },
    {
      "cell_type": "markdown",
      "source": [
        "&emsp; Так как мы работаем от противного, то каждый студент в четвёрке $ABCD$ не знает кого-либо. Если в случае с $A$ мы были вынуждены взять незнакомца со стороны, то в случае с $B$ возможны два случая. Если $B$ не знает кого-то изнутри четвёрки $ABCD$, то это может быть только $D$, так как $A$ и $C$ он уже знает. Но в этом случае рассмотрим четвёрку $AXBD$. С учётом того, что $A$ не знает $X$ и $D$ не знает $B$, мы не можем удовлетворить условию о том, чтобы хотя бы один студент в четвёрке знал всех остальных троих."
      ],
      "metadata": {
        "id": "HWto7a1wvebk"
      },
      "id": "HWto7a1wvebk"
    },
    {
      "cell_type": "markdown",
      "source": [
        "![](https://drive.google.com/uc?export=view&id=1wZlvaEkBzYnnDKW5TxYDvPHwfZWzDIR1)"
      ],
      "metadata": {
        "id": "2pVLvp2IB45P"
      },
      "id": "2pVLvp2IB45P"
    },
    {
      "cell_type": "markdown",
      "source": [
        "&emsp; Таким образом, $B$ и $D$ должны быть знакомы (чтобы собрать \"тройку\"), а у $B$ должен быть незнакомый студент со стороны $Z$. Но тут и наступает конец (противоречие). Рассмотрим четвёрку $ABXZ$. В ней невозможно устроить так, чтобы кто-то знал троих остальных студентов так как незнакомы $A$ и $X$, $B$ и $Z$ (т.е. не существует ни одного студента из 4-х, который знал бы оставшихся троих) - задача решена."
      ],
      "metadata": {
        "id": "N_RGXWOHCAUH"
      },
      "id": "N_RGXWOHCAUH"
    },
    {
      "cell_type": "markdown",
      "source": [
        "![](https://drive.google.com/uc?export=view&id=1Sokrs0TC3wvRtJ5BMC-pNkaQd1zFNGSG)"
      ],
      "metadata": {
        "id": "c7B11fhzDwf7"
      },
      "id": "c7B11fhzDwf7"
    },
    {
      "cell_type": "markdown",
      "id": "1ce82af6",
      "metadata": {
        "id": "1ce82af6"
      },
      "source": [
        "<a id ='ШАД_07.06.2015'></a>\n",
        "#### [ШАД 07.06.2015](https://efiminem.github.io/supershad/07-06-2015/)"
      ]
    },
    {
      "cell_type": "markdown",
      "id": "751e3af5",
      "metadata": {
        "id": "751e3af5"
      },
      "source": [
        "**4)** Пусть ***X*** и ***Y*** - квадратные матрицы одинакового размера $ XY = \\lambda X+\\mu Y $ для некоторых $ \\lambda , \\mu \\neq 0 .$ Докажите, что матрицы ***X*** и ***Y*** коммутируют: *XY* = *YX*."
      ]
    },
    {
      "cell_type": "markdown",
      "id": "081700f1",
      "metadata": {
        "id": "081700f1"
      },
      "source": [
        "$ XY = \\lambda X + \\mu Y \\Rightarrow XY - \\lambda X - \\mu Y +\\lambda\\mu E = \\lambda\\mu E \\Rightarrow (X-\\mu E)(Y - \\lambda E) = \\lambda\\mu E \\Rightarrow \\frac{1}{\\mu}(X-\\mu E)\\frac{1}{\\lambda}(Y - \\lambda E) = E $  \n",
        "$ \\Rightarrow AA^{-1} = A^{-1}A = E $ (рассматриваемые матрицы взаимно обратны).   \n",
        "<br>\n",
        "Можно сопрячь обе части уравнения одной из матриц, обратных левой (перенеся в правую часть константы):  \n",
        "$$ (X-\\mu E)(Y - \\lambda E)\\cdot(X-\\mu E) = \\lambda\\mu E \\cdot(X-\\mu E) \\mid (X-\\mu E)^{-1} \\cdot \\Longrightarrow $$\n",
        "$$(X-\\mu E)^{-1}\\cdot(X-\\mu E)(Y - \\lambda E)\\cdot(X-\\mu E) = \\lambda\\mu E $$\n",
        "<br>\n",
        "**Раскрыв скобки:** $ YX = \\lambda X + \\mu Y = XY $"
      ]
    },
    {
      "cell_type": "markdown",
      "id": "a128b8e0",
      "metadata": {
        "id": "a128b8e0"
      },
      "source": [
        "#### [ШАД 28.05.2016](https://efiminem.github.io/supershad/28-05-2016/)"
      ]
    },
    {
      "cell_type": "markdown",
      "id": "1cb24a51",
      "metadata": {
        "id": "1cb24a51"
      },
      "source": [
        "**1)** Справедливо ли, что если $ ABA = A \\Rightarrow BAB = B $ ? [Source](https://math.stackexchange.com/questions/2287807/square-matrices-aba-a)"
      ]
    },
    {
      "cell_type": "markdown",
      "id": "289df281",
      "metadata": {
        "id": "289df281"
      },
      "source": [
        "**1)** Пусть А - обратимая, тогда $ |(-//-) \\cdot B \\Rightarrow ABAB = AB \\Rightarrow |A^{-1}\\cdot (-//-) \\Rightarrow BAB = B \\space (+)$  \n",
        "**2)** Если А - необратимая, тогда при В = Е, нужно найти $ A^2 = A $. Пусть $ A = \n",
        "\\begin{pmatrix}\n",
        "1 & 0\\\\\n",
        "0 & 0\n",
        "\\end{pmatrix} $. Очевидно, что $ A^2 = A $, тогда нетрудно заметить, что $ BAB = EAE = A \\neq B $."
      ]
    },
    {
      "cell_type": "markdown",
      "id": "8e693690",
      "metadata": {
        "id": "8e693690"
      },
      "source": [
        "#### [ШАД 26.05.2018](https://efiminem.github.io/supershad/26-05-2018/)"
      ]
    },
    {
      "cell_type": "markdown",
      "id": "5dbe5609",
      "metadata": {
        "id": "5dbe5609"
      },
      "source": [
        "**1)** Существуют ли *ортогональные кососимметричные* матрицы $2019×2019$? А $2018×2018$?"
      ]
    },
    {
      "cell_type": "markdown",
      "id": "2312f0a3",
      "metadata": {
        "id": "2312f0a3"
      },
      "source": [
        "**Ортогональная:** $ A^T \\cdot A = E $  \n",
        "**Кососимметрическая:** $ A = -A^T ; detA = detA^T = det(-A^T) = (-1)^n \\cdot detA^T $  \n",
        "* **n** - чётная, тогда: $ detA = detA^T = 1 \\cdot detA^T \\Rightarrow detA = \\forall $  \n",
        "* **n** - нечётная, тогда: $ detA = detA^T = (-1) \\cdot detA^T \\Rightarrow detA = 0 $  \n",
        "\n",
        "$ det(A^T \\cdot A) = detA \\cdot detA^T = (detA)^2 = detE = 1 \\Rightarrow detA = \\pm1 \\Rightarrow \\exists A_{2018x2018} $ и $ \\neg \\exists A_{2019x2019} $"
      ]
    },
    {
      "cell_type": "markdown",
      "id": "1aeb130b",
      "metadata": {
        "id": "1aeb130b"
      },
      "source": [
        "#### [ШАД 02.06.2018](https://efiminem.github.io/supershad/02-06-2018/)"
      ]
    },
    {
      "cell_type": "markdown",
      "id": "8254ba21",
      "metadata": {
        "id": "8254ba21"
      },
      "source": [
        "(a) Докажите, что функции $det(X)$, $det(X+E)$, $det(X-E)$ на пространстве комплексных матриц $3 \\times 3$ линейно зависимы.  \n",
        "(b) Докажите, что найдется $m \\in N$, для которого набор функций $det(X-mE), det(X-(m-1)E), det(X-(m-2)E), \\dots, det(X+mE)$ линейно зависим."
      ]
    },
    {
      "cell_type": "markdown",
      "id": "69388522",
      "metadata": {
        "id": "69388522"
      },
      "source": [
        "(a) Пусть имеются коэффициенты линейной зависимости, для которых $$a \\cdot det(X-E)+b \\cdot det(X)+c \\cdot det(X+E)=0$$ для любой 3x3-матрицы X.  \n",
        "Подставим **X=0, X=E, X=2E**:\n",
        "$$\n",
        "\\left\\{\n",
        "    \\begin{array}\\\\\n",
        "        -a+с=0 \\\\\n",
        "        b+8c=0 \\\\\n",
        "        a+8b+27c=0\n",
        "    \\end{array}\n",
        "\\right.\n",
        "$$\n",
        "откуда **a=b=c=0**."
      ]
    },
    {
      "cell_type": "markdown",
      "id": "6807e122",
      "metadata": {
        "id": "6807e122"
      },
      "source": [
        "b) Пусть P(t) -- характеристический многочлен матрицы X. Его степень равна 3 для каждого X. При этом $$det(X-mE)=P(m), det(X-(m-1)E)=P(m-1), ... , det(X+mE)=P(-m),$$ где m рассматриваем как переменную (или то же самое, что лямбда).  Получается **2m+1** многочлен степени 3: $(m-0), \\dots, (m-2m)$.  \n",
        "\n",
        "&emsp; Мы хотим найти коэффициенты линейной зависимости, и для этого достаточно обеспечить такую зависимость для $P(m)=m^3, P(m)=m^2, P(m)=m, P(m)=1$ (формально после раскрытия скобок и приведения подобных слагаемых получится классический многочлен $ax^2+bx+c=0$, у которого не все коэффициенты равны нулю).\n",
        "\n",
        "&emsp; Пусть $P(m)=m^d$, где $d=0,1,2,3$. Запишем уравнение с неопределёнными коэффициентами $a_m m^d+a_{m-1} (m-1)^d+...+a_{-m} (-m)^d=0$. Приравнивая коэффициенты при одинаковых степенях m после раскрытия скобок, мы получаем систему из $d+1$ уравнения для каждого $d$: при $d=1$ и после группировки слагаемых будет уравнение $(\\sum_{j=0}^{2m+1} A_{j})m+(\\sum_{i=0}^{2m-1} A_{j}) \\cdot Const = 0$. Подставим m = 0 и m = 1 $\\Rightarrow$ два уравнения. Похожим образом для оставшихся d.\n",
        " \n",
        "&emsp; Итого будет $1+2+3+4=10$ однородных линейных уравнений от $2m+1$ неизвестной. Если количество неизвестных не меньше 11, что имеет место при $m \\geq 5$, то такая система будет иметь ненулевое решение, то есть функции **нейно зависимы**"
      ]
    },
    {
      "cell_type": "markdown",
      "source": [
        "#### [ШАД 25.05.2019](https://efiminem.github.io/supershad/25-05-2019/) "
      ],
      "metadata": {
        "id": "kXBPeIxfartc"
      },
      "id": "kXBPeIxfartc"
    },
    {
      "cell_type": "markdown",
      "source": [
        "https://3-info.ru/post/26851?page=55"
      ],
      "metadata": {
        "id": "LVLlmAEH7bdm"
      },
      "id": "LVLlmAEH7bdm"
    },
    {
      "cell_type": "markdown",
      "source": [
        "**1)** Лёша и Марина договорились встретиться между $8:00$ и $9:00$ и вместе пойти на экзамен в ШАД. Каждый из них приходит на место встречи в случайный момент времени, ждёт $15$ минут и уходит (никому не хочется опоздать на экзамен). Являются ли независимыми события «Лёша и Марина не встретились» и «хотя бы один из них пришел после $8:45$»? Время считайте непрерывным."
      ],
      "metadata": {
        "id": "IGzNRxmf5tIy"
      },
      "id": "IGzNRxmf5tIy"
    },
    {
      "cell_type": "markdown",
      "source": [
        ""
      ],
      "metadata": {
        "id": "wy7O2hy559hO"
      },
      "id": "wy7O2hy559hO"
    },
    {
      "cell_type": "markdown",
      "source": [
        "**2)** Известно, что:\n",
        "$\\lim_{x \\to 0} \\frac {f(x)}{\\sin x}= 2$.\n",
        "Нужно найти:\n",
        "$\\lim_{x \\to 0} \\frac {ln(1+3x)}{f(x)}$"
      ],
      "metadata": {
        "id": "_xEJUdNn7RXc"
      },
      "id": "_xEJUdNn7RXc"
    },
    {
      "cell_type": "markdown",
      "source": [
        "&emsp; Умножим и разделим на синус, чтобы получить известное. Запишем:\n",
        "$f(x)= \\frac{f(x)}{\\sin x}\\cdot \\sin x$.\n",
        "&emsp; При $x$, стремящемся к $0$, первый множитель стремится к двойке, а второй стремится к $0$. Значит, их произведение тоже стремится к нулю:\n",
        "$$f(x)= \\frac{f(x)}{\\sin x}\\cdot \\sin x\\rightarrow 2\\cdot0=0 \\space (x \\rightarrow 0)$$  \n",
        "\n",
        "&emsp; Посмотрим на то частное предела, которое надо найти:\n",
        "$\\frac {ln(1+3x)}{f(x)}$. Видно, что в знаменателе стоит нечто стремящееся к $0$. В числителе — нечто стремящееся к логарифму единицы, то есть тоже к нулю. Видна неопределённость $0/0$.  \n",
        "**Важно:** *Нам не сказано, что $f$ вообще дифференцируема. Поэтому решение, использующее производные (правило Лопиталя для неопределённости), не подходит*.  \n",
        "&emsp; Напишем предел частного, которое надо найти. Выделим f(x)/sin x, про которое мы уже что-то знаем:\n",
        "$$\\frac {ln(1+3x)}{f(x)}=\\frac {ln(1+3x)}{\\sin x} \\cdot \\frac {\\sin x}{f(x)}$$\n",
        "\n",
        "&emsp; Нам известно, что предел второго множителя — $1/2$. А предел первого множителя можно посчитать с помощью правила Лопиталя (о дифференциируемости этих функций мы всё знаем).\n",
        "$$\\lim_{x \\to 0} \\frac {ln(1+3x)}{\\sin x} = \\lim_{x \\to 0} \\frac {\\frac{3}{1+3x}}{cos(x)}=\\frac{3/1}{1}=3$$ \n",
        "Откуда:\n",
        "$\\lim_{x \\to 0} \\dfrac {ln(1+3x)}{\\sin x} \\cdot \\dfrac {\\sin x}{f(x)} = 3 \\cdot \\dfrac{1}{2} = \\dfrac{3}{2}$."
      ],
      "metadata": {
        "id": "Wg_Cajsb7Y5V"
      },
      "id": "Wg_Cajsb7Y5V"
    },
    {
      "cell_type": "markdown",
      "source": [
        "**5)** В корзине лежит $m$ чёрных шаров и $n$ красных. Вася достаёт из корзины случайный шар и, если он чёрный, то заменяет его на красный, а если он красный, то кладёт его обратно. Найдите математическое ожидание и дисперсию числа красных шаров в корзине после $k$ итераций этой процедуры. Оба ответа должны быть компактными выражениями (то есть не содержать знаков суммирования, многоточий и пр.)."
      ],
      "metadata": {
        "id": "jaKOs9ima25C"
      },
      "id": "jaKOs9ima25C"
    },
    {
      "cell_type": "markdown",
      "source": [
        "&emsp; Обозначим количество красных шаров в корзине после $k$ итераций как $x$: $\\mathbb{E}x - ?$.  \n",
        "&emsp; Поскольку мы кладём шар обратно в корзину, если он красный, то $x = n + y$, где $y$ — количество чёрных шаров, которые стали красными после k итераций.  \n",
        "&emsp; Пронумеруем чёрные шары. Для каждого $j$-го чёрного шара введём случайную величину, которая будет индикатором того, что j-й чёрный шар стал красным после k итераций:\n",
        "$$I_j=\\mathbb{I}\\left\\{ \\mbox{$j$-й чёрный шар стал красным после $k$ итераций}\\right\\}$$\n",
        "\n",
        "&emsp; Эта случайная величина равна единице, если шар поменял цвет, и нулю, если не поменял. Следовательно, сумма таких величин будет равна количеству поменявших цвет шаров, которое мы выше обозначили как y:\n",
        "$$y=\\sum_j I_j$$\n",
        "Следовательно:\n",
        "$$\\mathbb{E}y=\\sum_j \\mathbb{E}I_j$$\n",
        "&emsp; В правой части стоит сумма математических ожиданий случайной величины. Вспомним, что матожидание — это сумма произведений вида «*значение $x$ вероятность этого значения*». В нашем случае значений всего два: 1 и 0. Таким образом:\n",
        "$$\\mathbb{E}y=\\sum_j \\mathbb{E}I_j=\\sum_j (1\\cdot P(I_j=1)+0\\cdot P(I_j=0))=\\sum_j P(I_j=1)$$\n",
        "&emsp; Получилась сумма вероятностей того, что $j$-й чёрный шар поменял цвет. Посчитаем эту вероятность. \n",
        "\n",
        "&emsp; Нам необходимо найти $P(I_j=1)$. Будет удобнее перейти к отрицанию, к дополнительному событию:\n",
        "$P(I_j=1)=P(\\mbox{$j$-й чёрный шар стал красным})=$\n",
        "\n",
        "$=1-P(\\mbox{$j$-й чёрный шар не стал красным, а остался чёрным})=$\n",
        "\n",
        "$=1-P(\\mbox{$j$-й чёрный ни разу не вытащен})$\n",
        "\n",
        "&emsp; Чему равна вероятность, стоящая после знака минус? У нас есть $k$ попыток вытащить шар. Поскольку попытки независимые, то вероятность после знака минус будет равна некоторому выражению в $k$-й степени — произведению вероятностей того, что при каждой попытке мы **не** вытащили данный шар.\n",
        "\n",
        "&emsp; Какова вероятность не вытащить шар в каждой конкретной попытке? Это будет дробь, в знаменателе — общее число шаров $m + n$. Мы должны были вытащить какой-либо шар кроме $j$-го. Вариантов так сделать — $(m + n – 1)$. Это выражение и будет в числителе.\n",
        "$$P(I_j=1)=1-\\left( \\frac{m+n-1}{m+n} \\right)^k$$\n",
        "\n",
        "&emsp; Мы нашли вероятность, что выбранный нами индикатор равен единице, — то есть вероятность, что конкретный шар поменял цвет.\n",
        "\n",
        "Вычисление искомого матожидания:\n",
        "$\\mathbb{E}x=\\mathbb{E}(n+y)=n+\\mathbb{E}y=n+\\sum_j P(I_j=1)$\n",
        "\n",
        "\n",
        "&emsp; Все вероятности, стоящие справа под знаком суммы, — одинаковые. Поэтому сумма будет равна количеству чёрных шаров $m$, умноженному на вероятность, что конкретный шар поменял цвет:\n",
        "$$\\mathbb{E}x=n+mP(I_j=1)=n+m\\left( 1-\\left( \\frac{m+n-1}{m+n} \\right)^k \\right)$$  \n",
        "&emsp; Дисперсия же равна: $VarX = \\mathbb{E}(X^2) - (\\mathbb{E}X)^2$, где второе слагаемое мы уже знаем. Ну и первое почти: мат. ожидание квадрата индикаторной величины тоже равно $0$ или $1$, откуда $\\mathbb{E}(X^2) = \\mathbb{E}(X)$:  \n",
        "$$VarX = n+mP(I_j=1) - (n+mP(I_j=1))^2 = s\\cdot (1-s), \\mbox{где } s = n+mP(I_j=1) $$"
      ],
      "metadata": {
        "id": "5mT0RSJTzyyn"
      },
      "id": "5mT0RSJTzyyn"
    },
    {
      "cell_type": "markdown",
      "id": "48a7bf93",
      "metadata": {
        "id": "48a7bf93"
      },
      "source": [
        "#### [ШАД 01.06.2019](https://efiminem.github.io/supershad/01-06-2019/) "
      ]
    },
    {
      "cell_type": "markdown",
      "id": "3a463f3a",
      "metadata": {
        "id": "3a463f3a"
      },
      "source": [
        "   \n",
        "**3)** При каком параметре $ a \\in R $ матрицы\n",
        "$$ A = \\begin{pmatrix}\n",
        "1 & 4-a-a^2\\\\\n",
        "2 & -1\n",
        "\\end{pmatrix} \n",
        "B = \\begin{pmatrix}\n",
        "-a-1 & 3 \\\\\n",
        "3 & -5\n",
        "\\end{pmatrix}$$\n",
        "могут быть матрицами одной и той же билинейной формы [(стр 15)](https://www.econ.msu.ru/sys/raw.php?o=80643&p=attachment) $ V\\times V \\rightarrow R $ в различных базисах?"
      ]
    },
    {
      "cell_type": "markdown",
      "id": "84e32a9b",
      "metadata": {
        "id": "84e32a9b"
      },
      "source": [
        "Матрица В - симметричная $ \\Rightarrow $ определяет только симметричную форму в некотором базисе. Тогда матрица А тоже симметрическая.  \n",
        "**1)** A - симметрическая: $2 = 4-a-a^2$  $a_1 = 2, a_2 = -1$  \n",
        "**2)** **rA = rB:** rA = 2 и отрицательно определена $\\Rightarrow$ при $a_1$: B - отрицательно определена (+); $a_2$: В - неопределена"
      ]
    },
    {
      "cell_type": "markdown",
      "id": "3d3d4027",
      "metadata": {
        "id": "3d3d4027"
      },
      "source": [
        "**4)** Верно ли, что всякая нечетная непрерывная функция, удовлетворяющая условию $f(2x) = 2f(x)$, линейна? [solution](http://math.hashcode.ru/questions/173726/%D0%BC%D0%B0%D1%82%D0%B5%D0%BC%D0%B0%D1%82%D0%B8%D1%87%D0%B5%D1%81%D0%BA%D0%B8%D0%B9-%D0%B0%D0%BD%D0%B0%D0%BB%D0%B8%D0%B7-%D0%BB%D0%B8%D0%BD%D0%B5%D0%B9%D0%BD%D0%B0%D1%8F-%D1%84%D1%83%D0%BD%D0%BA%D1%86%D0%B8%D1%8F)"
      ]
    },
    {
      "cell_type": "markdown",
      "source": [
        "Не обязательно. Например, положим функцию $f(x)=x^2-2x+2$. Все свойства выполнены, а функция нелинейная.  \n",
        "1. Функция непрерывна на $\\mathbb{R}$;\n",
        "2. $f(-x) = -f(x): (-x)^2 -2(-x) +2 = x^2 + 2x + 2$"
      ],
      "metadata": {
        "id": "aWD_3-nwJQ69"
      },
      "id": "aWD_3-nwJQ69"
    },
    {
      "cell_type": "markdown",
      "id": "a4dc6120",
      "metadata": {
        "id": "a4dc6120"
      },
      "source": [
        "## [Задачи Олимпиадные](http://www.mathnet.ru/links/a6bacfb39d75891b7b9e7e465e42b296/mo679.pdf)"
      ]
    },
    {
      "cell_type": "markdown",
      "id": "df09a3be",
      "metadata": {
        "id": "df09a3be"
      },
      "source": [
        "**4)** Дана матрица $ A_n = \\begin{pmatrix}\n",
        "1 & 2/n & 6/n \\\\\n",
        "3/n & 1 & 0 \\\\\n",
        "-1/n & 0 & 1\n",
        "\\end{pmatrix}$. Вычислите $\\lim_{x \\to \\infty}A_n^n$"
      ]
    },
    {
      "cell_type": "markdown",
      "id": "5b272d2b",
      "metadata": {
        "id": "5b272d2b"
      },
      "source": [
        "Пусть $B_n = A_n - I$. Тогда \n",
        "$$ B_n = \\begin{pmatrix}\n",
        "0 & 2/n & 6/n \\\\\n",
        "3/n & 0 & 0 \\\\\n",
        "-1/n & 0 & 0\n",
        "\\end{pmatrix}, \\space B_n^2 = \\begin{pmatrix}\n",
        "0 & 0 & 0 \\\\\n",
        "0 & 6/n^2 & 18/n^2 \\\\\n",
        "0 & -2/n^2 & -6/n^2\n",
        "\\end{pmatrix}, \\space B_n^3 = 0.$$\n",
        "Значит при $k \\leq 3 \\Rightarrow \\space B_n^k = O$"
      ]
    },
    {
      "cell_type": "markdown",
      "id": "d43f2d95",
      "metadata": {
        "id": "d43f2d95"
      },
      "source": [
        "Поэтому по формуле бинома Ньютона (учитывая коммутирование матриц $I$ и $B_n$):\n",
        "$$ A_n^n = (I+B_n)^n = I + nB_n + \\frac{n(n-1)}{2}B_n^2 = \n",
        "\\begin{pmatrix} \n",
        "1 & 2 & 6 \\\\\n",
        "3 & 4 & 9 \\\\\n",
        "-1 & -1 & -2\n",
        "\\end{pmatrix}\n",
        "$$"
      ]
    },
    {
      "cell_type": "markdown",
      "id": "d45422e7",
      "metadata": {
        "id": "d45422e7"
      },
      "source": [
        "**8)** [Из ШАД 2015](#ШАД_06.2015)"
      ]
    },
    {
      "cell_type": "markdown",
      "id": "b758529f",
      "metadata": {
        "id": "b758529f"
      },
      "source": [
        "**28)** А и B - квадратные матрицы одинакового размера. Обязательно ли **а)** tr(AB) = tr(BA); **[б)](https://www.quora.com/If-A-is-invertible-how-can-I-show-that-rank-AB-rank-B-rank-BA)** rk(AB) = rk(BA)?"
      ]
    },
    {
      "cell_type": "markdown",
      "id": "bf7dcc8f",
      "metadata": {
        "id": "bf7dcc8f"
      },
      "source": [
        "1) Пусть $\\exists \\space A^{-1} \\space и \\space B^{-1}$ (обратимые и квадратные полного ранга), и, допуская, существование AB и BA имеем $ dimA = dimB = n $.  \n",
        "Согласно [теореме](https://en.wikipedia.org/wiki/Rank%E2%80%93nullity_theorem), если ядра имеют равные размерности, - у них одинаковый ранг: $ rank(A) = rank(A^T) = rank(B) $.\n",
        "2) Пусть К - ядро АВ, тогда АВК = 0. Домножим слева $ A^{-1}\\cdot \\Rightarrow BK = 0 \\Rightarrow B \\space $ также вложено в ядро **К** и  \n",
        "**rankAB = rankB**. \n",
        "<br>\n",
        "3) $ A^TB^T  = (BA)^T  - ядро \\space K': A^TB^TK' = 0 \\space |(A^T)^{-1}\\cdot $  \n",
        "$B^TK' = 0 \\Rightarrow B^T $ имеет такое же ядро и ранг как $ A^TB^T $.\n",
        "$$ rank(A^TB^T) = rank((BA)^T) = rank(BA) = rank(B^T) = rank(B) = rank(AB)$$"
      ]
    },
    {
      "cell_type": "markdown",
      "id": "7c544198",
      "metadata": {
        "id": "7c544198"
      },
      "source": [
        "**29)** [Из ШАД 2013](#ШАД_06.2013)"
      ]
    },
    {
      "cell_type": "markdown",
      "id": "38121eef",
      "metadata": {
        "id": "38121eef"
      },
      "source": [
        "**30)** Пусть *А* - вырожденная матрица. Докажите, что матрица, составленная из алгебраическая доаолнений элементов *А*, имеет ранг не больше 1. "
      ]
    },
    {
      "cell_type": "markdown",
      "id": "22c2155a",
      "metadata": {
        "id": "22c2155a"
      },
      "source": [
        "det**A** = 0  \n",
        "**а)** пусть r**A** = n - 1, тогда пусть $ row_j \\equiv 0 $, минор  $- \\space \\delta_{ik} $, где $ i \\neq j $, а при $ i = j: $  \n",
        "$ \\exists\\delta_{ik} \\neq 0 $ (т.к оставшиеся строки ЛНЗ): $rA_{\\delta} = 1$ - матрица миноров.  \n",
        "**б)** r**A** < n - 1: $ \\forall \\space row \\space \\delta_{ik} = 0 $, т.к миноры содержат \"0\"-ю строку и $ rA_{\\delta} = 0 $."
      ]
    },
    {
      "cell_type": "markdown",
      "id": "40e67c71",
      "metadata": {
        "id": "40e67c71"
      },
      "source": [
        "**32)** Матрица размером **m × n** имеет ранг **r**. Нужно дополнить её до квадратной так, чтобы полученная матрица стала невырожденной. Каков наименьший размер полученной квадратной матрицы?"
      ]
    },
    {
      "cell_type": "markdown",
      "id": "01933fd5",
      "metadata": {
        "id": "01933fd5"
      },
      "source": [
        "&emsp; Пусть искомая матрица имеет размерность **k × k**, тогда не хватает **(k-n)** столбцов до искомого количества.  \n",
        "Остаётся **m** строк, которые теперь Л.Н ранг полученной матрицы **A':** $ rA' = m $.  \n",
        "&emsp; С другой стороны, изначально было *r* Л.Н столбцов, тогда нужно, как минимум, **m-r** столбцов (rA = r, rA' = m, тогда не хватает именно m-r Л.Н столбцов). Последнее возможно, если вообще возможно добавить *столько* столбцов: $ k-n \\geq m-r $  \n",
        "&emsp; Теперь добавим строки: из первой части получено **m** Л.Н строк, тогда можно найти ещё **m-k** таких строк. Итого, ключевое условие из первой части - это $ k \\geq m+n-r $. При исходном условии о *невырожденности* получаемой матрицы."
      ]
    },
    {
      "cell_type": "markdown",
      "source": [
        "## **Заметки**"
      ],
      "metadata": {
        "id": "-578DWSXTyk7"
      },
      "id": "-578DWSXTyk7"
    },
    {
      "cell_type": "markdown",
      "source": [
        ""
      ],
      "metadata": {
        "id": "4Od2dpRRr950"
      },
      "id": "4Od2dpRRr950"
    },
    {
      "cell_type": "markdown",
      "id": "bf0354b4",
      "metadata": {
        "id": "bf0354b4"
      },
      "source": [
        "### section2\n",
        "<a id ='section2'></a>\n",
        "\n",
        "some text ..."
      ]
    }
  ],
  "metadata": {
    "kernelspec": {
      "display_name": "Python 3",
      "language": "python",
      "name": "python3"
    },
    "language_info": {
      "codemirror_mode": {
        "name": "ipython",
        "version": 3
      },
      "file_extension": ".py",
      "mimetype": "text/x-python",
      "name": "python",
      "nbconvert_exporter": "python",
      "pygments_lexer": "ipython3",
      "version": "3.8.8"
    },
    "colab": {
      "name": "YSoDA.ipynb",
      "provenance": [],
      "collapsed_sections": [
        "65cf2850",
        "a128b8e0",
        "8e693690",
        "1aeb130b",
        "48a7bf93"
      ],
      "toc_visible": true,
      "include_colab_link": true
    }
  },
  "nbformat": 4,
  "nbformat_minor": 5
}
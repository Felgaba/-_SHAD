{
  "cells": [
    {
      "cell_type": "markdown",
      "id": "57ec527a",
      "metadata": {
        "id": "57ec527a"
      },
      "source": [
        "## [ШАД](https://efiminem.github.io/supershad/)"
      ]
    },
    {
      "cell_type": "markdown",
      "id": "9e2f7f5c",
      "metadata": {
        "id": "9e2f7f5c"
      },
      "source": [
        "<a id ='ШАД_02.06.2013'></a>\n",
        "#### [ШАД_02.06.2013](https://efiminem.github.io/supershad/02-06-2013/) "
      ]
    },
    {
      "cell_type": "markdown",
      "id": "c83b3102",
      "metadata": {
        "id": "c83b3102"
      },
      "source": [
        "**2)** Дана матрица $A$ размера n×n, где $a_{ij}=(i−j)^2$, $i,j=1,…,n$. Найдите ранг матрицы $A$."
      ]
    },
    {
      "cell_type": "markdown",
      "id": "2754e07f",
      "metadata": {
        "id": "2754e07f"
      },
      "source": [
        "Пусть $\\{A_{j}\\}_{k=1}^{n}$ — столбцы матрицы $A$, а $\\{P_k\\}$ — столбцы вида $(1^k,2^k,…,n^k)^T$. Тогда по условию задачи $A_j=P_2−2jP_1+j^2P_0$. Отсюда следует, что столбцы матрицы $A$ принадлежат подпространству, натянутому на линейно независимые вектора $P_2,P_1,P_0$. Значит, $rankA⩽3$. Заметим, что в случае $n⩾3$ только столбы $A_1,A_2,A_3$ (иначе говоря, первые три) будут линейно независимы. Действительно,\n",
        "$$\\begin{vmatrix}\n",
        "0 & 1 & 4 \\\\\n",
        "1 & 0 & 1 \\\\\n",
        "4 & 1 & 0\n",
        "\\end{vmatrix} \\neq 0 \\space (=8)$$\n",
        "Поэтому при $n⩾3$ rankA=3 $(detA_{4x4}=0)$. В случаях n=1 и n=2 получим 0 и 2, соответственно."
      ]
    },
    {
      "cell_type": "markdown",
      "id": "b9d07254",
      "metadata": {
        "id": "b9d07254"
      },
      "source": [
        " **6)** У линейного преобразования $n$-мерного пространства существуют $n+1$ собственных векторов, таких, что любые $n$ из них линейно независимы. Найдите всевозможные матрицы, которые могли бы задавать такое преобразование."
      ]
    },
    {
      "cell_type": "markdown",
      "id": "090f87d8",
      "metadata": {
        "id": "090f87d8"
      },
      "source": [
        "&emsp; $dimU = n \\space \\Rightarrow $ число собственных значений  не больше $n$ (алгебраическая кратность).  \n",
        "&emsp; Число линейно независимых собственных векторов, принадлежащих некоторому собственному значению (геометрическая кратность), равно алгебраической кратности этого собственного значения, поскольку есть $n$ линейно независимых собственных векторов, а геометрическая кратность не превышает алгебраическую.  \n",
        "&emsp; Тогда, при распределении $n+1$ вектора по $n$ собственным значениям, некоторому собственному значению $\\lambda$ достанется на 1 вектор больше, чем его геометрическая кратность.  \n",
        "&emsp; Пусть теперь есть собственное значение $k\\neq\\lambda$. Тогда возьмем $n$ оставшихся векторов, кроме одного вектора, соответствующего собственному значению $k$. В таком случае эти вектора будут линейно зависимы — противоречие (т.к $n$ из $n+1$ - независимы; один пошёл на $k$ - осталось всего $n$). Это означает, что все собственные значения оператора равны $\\lambda$.  \n",
        "&emsp;Таким образом, любой вектор из собственного подпространства, при действии на него оператора, растягивается в $\\lambda$ раз. Но поскольку из собственных векторов можно составить базис, любой другой вектор пространства, при действии на него оператора, также будет растягиваться в $\\lambda$ раз (т.к он выражается через собственные вектора, которые в таком члучае растягиваются в $\\lambda$ раз). Нетрудно понять, что матрица такого оператора должна быть скалярной.  \n",
        "&emsp; В самом деле, при умножении матрицы на вектора вида $(0,\\ldots 1 \\ldots ,0)^\\mathrm{T}$, мы должны получить вектора вида $(0,\\ldots \\lambda \\ldots ,0)^\\mathrm{T}$. Значит, все элементы на диагонали матрицы равны $\\lambda$.  \n",
        "Если же теперь для некоторых $i\\neq j \\space a_{ij} \\neq 0$, то легко подобрать вектор, который уже не растянется в $\\lambda$ раз.  \n",
        "&emsp; В качестве примера для любой скалярной матрицы можно взять все возможные вектора вида $(0,\\ldots 1 \\ldots ,0)^\\mathrm{T}$ (л.н)\n",
        " и вектор $(1,\\ldots 1 \\ldots, 1)^\\mathrm{T}$. Любые $n$ из них - л.н."
      ]
    },
    {
      "cell_type": "markdown",
      "id": "008527a7",
      "metadata": {
        "id": "008527a7"
      },
      "source": [
        "<a id ='ШАД_25.05.2014'></a>\n",
        "#### [ШАД_25.05.2014](https://efiminem.github.io/supershad/25-05-2014/)"
      ]
    },
    {
      "cell_type": "markdown",
      "id": "a36ec5b9",
      "metadata": {
        "id": "a36ec5b9"
      },
      "source": [
        "  **1)** Пусть A - квадратная матрица, у которой сумма матричных элементов в каждом столбце равна $λ$. Нужно доказать, что $λ$ является собственным значением матрицы A."
      ]
    },
    {
      "cell_type": "markdown",
      "id": "fe194f87",
      "metadata": {
        "id": "fe194f87"
      },
      "source": [
        "* Если вычесть $\\lambda E$, то получится матрица с нулевой суммой в каждом столбце. Это значит, что сумма строк нулевая, то есть строки линейно зависимы. Тогда ранг матрицы меньше $n$, и столбцы тоже линейно зависимы.  \n",
        "* Пусть $x_1,\\dots,x_n$ - коэффициенты линейной зависимости.\n",
        "Тогда вектор-столбец $X$, составленный из них, удовлетворяет условию $(A−λE)x=0$. Поскольку $x≠0$ и $Ax=λx$, число $λ$ будет собственным значением."
      ]
    },
    {
      "cell_type": "markdown",
      "id": "b7c8ef35",
      "metadata": {
        "id": "b7c8ef35"
      },
      "source": [
        "**7)** Найдите максимальное значение определителя матрицы (а) второго (б) третьего порядка, если сумма квадратов всех ее элементов не превосходит 1."
      ]
    },
    {
      "cell_type": "markdown",
      "id": "206a76e9",
      "metadata": {
        "id": "206a76e9"
      },
      "source": [
        "Рассмотрим матрицу $n$-го порядка. Пусть А - невырожденная матрица n-го порядка. Рассмотрим матрицу $B=AA^T$.  \n",
        "* все собственные значения матрицы $В$ положительны: пусть $AA^T = \\begin{pmatrix} a^2+b^2 & ac+bd\\\\ ac+bd & c^2+d^2 \\end{pmatrix}$, откуда видно что собственные значения положительны;\n",
        "* $trB=\\sum_{i;j=0}^{n} a_{ij}^2$;\n",
        "* $detB=det(AA^T)=(detA)^2$.  \n",
        "Учитывая [соотношения](http://twt.mpei.ac.ru/math/larb/linoper/LA_04050000.html) $detB=\\prod_{k=1}^n \\lambda_{k}, \\space trB=\\sum_{k=0}^{n} \\lambda_{k}$ и [соотношения](https://mathus.ru/math/srednie.pdf) среднего арифметического и геометрического:  \n",
        "$$ detB \\leq (\\frac{trB}{n})^n \\space (1). $$\n",
        "\n",
        "По условию $trB \\leq 1$. Поэтому $detB \\leq (\\frac{1}{n})^n$, а $detA \\leq (\\frac{1}{\\sqrt{n}})^n$.  \n",
        "В выражении (1) равенство при $\\lambda_1 = \\lambda_2 = \\dots = \\lambda_n = \\frac{1}{n}$, тогда для исходной матрицы А - это корень из этих собственных значений.\n",
        "* При n = 2: $detA = \\frac{1}{2}$\n",
        "* При n = 3: $detA = \\frac{1}{2\\sqrt{2}}$  \n",
        " **Пример матрицы:** А = $diag(\\frac{1}{\\sqrt{n}}, \\frac{1}{\\sqrt{n}}, \\dots, \\frac{1}{\\sqrt{n}})$"
      ]
    },
    {
      "cell_type": "markdown",
      "source": [
        "<a id ='ШАД_24.05.2015'></a>\n",
        "#### [ШАД_24.05.2015](https://efiminem.github.io/supershad/24-05-2015/)"
      ],
      "metadata": {
        "id": "dsSjEZDwuPdJ"
      },
      "id": "dsSjEZDwuPdJ"
    },
    {
      "cell_type": "markdown",
      "source": [
        "**2)** На плоскости, однородно покрытой прямоугольниками (их стороны касаются) со сторонами 10 и 20, рисуют случайную окружность радиуса 4. Найдите вероятность того, что окружность имеет общие точки ровно с тремя прямоугольниками.\n"
      ],
      "metadata": {
        "id": "ODws7orZuUxS"
      },
      "id": "ODws7orZuUxS"
    },
    {
      "cell_type": "markdown",
      "source": [
        "Будем следить за положением центра окружности. Можно ограничить рассмотрение внутренностью одного прямоугольника (расположение центра относительно одного прямоугольника).  \n",
        "Для того, чтобы окружность пересекала ровно три прямоугольника, должны выполняться два условия:  \n",
        "**(1)** расстояния от центра до двух ближайших сторон прямоугольника должны быть меньше 4 (нестрого) - предельный случай эквивалентен ;  \n",
        "**(2)** расстояние до ближайшей вершины прямоугольника должно быть больше 4 (т.к фигуры касаются, вершины - это пересечение сразу 4-х прямоугольников)."
      ],
      "metadata": {
        "id": "suBF7HUiubkf"
      },
      "id": "suBF7HUiubkf"
    },
    {
      "cell_type": "markdown",
      "source": [
        "![](https://drive.google.com/uc?export=view&id=1gDsXowwVYFg4vJNKqFwdARSy6TjQMt_T)"
      ],
      "metadata": {
        "id": "aSGswfAbyTxO"
      },
      "id": "aSGswfAbyTxO"
    },
    {
      "cell_type": "markdown",
      "source": [
        "Зная это, мы можем изобразить множество точек, удовлетворяющих этим условиям (жёлтый сегмент), который равен: $\\dfrac{8\\cdot8 - 4^2\\pi}{4} = 16-4\\pi$. Таких сегментов всего 4 (для каждого такого угла прямоугольника), поэтому допустимая область равна: \n",
        "$$\\mathbb{P} = \\dfrac{4\\cdot(16-4\\pi)}{10\\cdot20} = \\dfrac{8-2\\pi}{25}$$\n"
      ],
      "metadata": {
        "id": "PgSxWyfdyUXR"
      },
      "id": "PgSxWyfdyUXR"
    },
    {
      "cell_type": "markdown",
      "source": [
        "<a id ='ШАД_31.05.2015'></a>\n",
        "#### [ШАД_31.05.2015](https://efiminem.github.io/supershad/31-05-2015/)"
      ],
      "metadata": {
        "id": "h1Zm207hvL7v"
      },
      "id": "h1Zm207hvL7v"
    },
    {
      "cell_type": "markdown",
      "source": [
        "**2)** Придя на письменный экзамен в ШАД, студенты поняли, что среди любых четырех человек хотя бы один уже знаком с тремя оставшимися. Докажите, что в этом случае среди любых четверых человек хотя бы один уже знаком со всеми остальными студентами (вообще всеми)."
      ],
      "metadata": {
        "id": "A9ctZz-3vUyL"
      },
      "id": "A9ctZz-3vUyL"
    },
    {
      "cell_type": "markdown",
      "source": [
        "&emsp; Рассмотрим произвольную четвёрку студентов $A$, $B$, $C$, $D$. Пусть, от противного, из них никто не знаком со всеми остальными студентами. Но по условию один из студентов (пусть это будет $A$) знает всех оставшихся троих. От противного мы заключили, что есть некий другой студент $X$, которого $A$ не знает.  \n",
        "&emsp; В этом месте сделаем финт ушами и рассмотрим четвёрку $A$, $B$, $C$, $X$. В этой четвёрке должен быть студент, который знает всех троих. Это не может быть $A$ или $X$, так как они не знакомы, поэтому пусть $B$ знает всех троих (не важно, это может быть и $C$, пока симметрия между ними не нарушена)."
      ],
      "metadata": {
        "id": "7AS5dM2R7Prj"
      },
      "id": "7AS5dM2R7Prj"
    },
    {
      "cell_type": "markdown",
      "source": [
        "![](https://drive.google.com/uc?export=view&id=1QO20Gzpkd__aP8MQDS81eg8DrlgPIEA9)"
      ],
      "metadata": {
        "id": "muhfqFGK6ohZ"
      },
      "id": "muhfqFGK6ohZ"
    },
    {
      "cell_type": "markdown",
      "source": [
        "&emsp; Так как мы работаем от противного, то каждый студент в четвёрке $ABCD$ не знает кого-либо. Если в случае с $A$ мы были вынуждены взять незнакомца со стороны, то в случае с $B$ возможны два случая. Если $B$ не знает кого-то изнутри четвёрки $ABCD$, то это может быть только $D$, так как $A$ и $C$ он уже знает. Но в этом случае рассмотрим четвёрку $AXBD$. С учётом того, что $A$ не знает $X$ и $D$ не знает $B$, мы не можем удовлетворить условию о том, чтобы хотя бы один студент в четвёрке знал всех остальных троих."
      ],
      "metadata": {
        "id": "HWto7a1wvebk"
      },
      "id": "HWto7a1wvebk"
    },
    {
      "cell_type": "markdown",
      "source": [
        "![](https://drive.google.com/uc?export=view&id=1wZlvaEkBzYnnDKW5TxYDvPHwfZWzDIR1)"
      ],
      "metadata": {
        "id": "2pVLvp2IB45P"
      },
      "id": "2pVLvp2IB45P"
    },
    {
      "cell_type": "markdown",
      "source": [
        "&emsp; Таким образом, $B$ и $D$ должны быть знакомы (чтобы собрать \"тройку\"), а у $B$ должен быть незнакомый студент со стороны $Z$. Но тут и наступает конец (противоречие). Рассмотрим четвёрку $ABXZ$. В ней невозможно устроить так, чтобы кто-то знал троих остальных студентов так как незнакомы $A$ и $X$, $B$ и $Z$ (т.е. не существует ни одного студента из 4-х, который знал бы оставшихся троих) - задача решена."
      ],
      "metadata": {
        "id": "N_RGXWOHCAUH"
      },
      "id": "N_RGXWOHCAUH"
    },
    {
      "cell_type": "markdown",
      "source": [
        "![](https://drive.google.com/uc?export=view&id=1Sokrs0TC3wvRtJ5BMC-pNkaQd1zFNGSG)"
      ],
      "metadata": {
        "id": "c7B11fhzDwf7"
      },
      "id": "c7B11fhzDwf7"
    },
    {
      "cell_type": "markdown",
      "id": "1ce82af6",
      "metadata": {
        "id": "1ce82af6"
      },
      "source": [
        "<a id ='ШАД_07.06.2015'></a>\n",
        "#### [ШАД_07.06.2015](https://efiminem.github.io/supershad/07-06-2015/)"
      ]
    },
    {
      "cell_type": "markdown",
      "id": "751e3af5",
      "metadata": {
        "id": "751e3af5"
      },
      "source": [
        "**4)** Пусть ***X*** и ***Y*** - квадратные матрицы одинакового размера $ XY = \\lambda X+\\mu Y $ для некоторых $ \\lambda , \\mu \\neq 0 .$ Докажите, что матрицы ***X*** и ***Y*** коммутируют: *XY* = *YX*."
      ]
    },
    {
      "cell_type": "markdown",
      "id": "081700f1",
      "metadata": {
        "id": "081700f1"
      },
      "source": [
        "$ XY = \\lambda X + \\mu Y \\Rightarrow XY - \\lambda X - \\mu Y +\\lambda\\mu E = \\lambda\\mu E \\Rightarrow (X-\\mu E)(Y - \\lambda E) = \\lambda\\mu E \\Rightarrow \\frac{1}{\\mu}(X-\\mu E)\\frac{1}{\\lambda}(Y - \\lambda E) = E $  \n",
        "$ \\Rightarrow AA^{-1} = A^{-1}A = E $ (рассматриваемые матрицы взаимно обратны).   \n",
        "<br>\n",
        "Можно сопрячь обе части уравнения одной из матриц, обратных левой (перенеся в правую часть константы):  \n",
        "$$ (X-\\mu E)(Y - \\lambda E)\\cdot(X-\\mu E) = \\lambda\\mu E \\cdot(X-\\mu E) \\mid (X-\\mu E)^{-1} \\cdot \\Longrightarrow $$\n",
        "$$(X-\\mu E)^{-1}\\cdot(X-\\mu E)(Y - \\lambda E)\\cdot(X-\\mu E) = \\lambda\\mu E $$\n",
        "<br>\n",
        "**Раскрыв скобки:** $ YX = \\lambda X + \\mu Y = XY $"
      ]
    },
    {
      "cell_type": "markdown",
      "id": "8e693690",
      "metadata": {
        "id": "8e693690"
      },
      "source": [
        "#### [ШАД 26.05.2018](https://efiminem.github.io/supershad/26-05-2018/)"
      ]
    },
    {
      "cell_type": "markdown",
      "id": "5dbe5609",
      "metadata": {
        "id": "5dbe5609"
      },
      "source": [
        "**1)** Существуют ли *ортогональные кососимметричные* матрицы $2019×2019$? А $2018×2018$?"
      ]
    },
    {
      "cell_type": "markdown",
      "id": "2312f0a3",
      "metadata": {
        "id": "2312f0a3"
      },
      "source": [
        "**Ортогональная:** $ A^T \\cdot A = E $  \n",
        "**Кососимметрическая:** $ A = -A^T ; detA = detA^T = det(-A^T) = (-1)^n \\cdot detA^T $  \n",
        "* **n** - чётная, тогда: $ detA = detA^T = 1 \\cdot detA^T \\Rightarrow detA = \\forall $  \n",
        "* **n** - нечётная, тогда: $ detA = detA^T = (-1) \\cdot detA^T \\Rightarrow detA = 0 $  \n",
        "\n",
        "$ det(A^T \\cdot A) = detA \\cdot detA^T = (detA)^2 = detE = 1 \\Rightarrow detA = \\pm1 \\Rightarrow \\exists A_{2018x2018} $ и $ \\neg \\exists A_{2019x2019} $"
      ]
    },
    {
      "cell_type": "markdown",
      "id": "1aeb130b",
      "metadata": {
        "id": "1aeb130b"
      },
      "source": [
        "#### [ШАД 02.06.2018](https://efiminem.github.io/supershad/02-06-2018/)"
      ]
    },
    {
      "cell_type": "markdown",
      "id": "8254ba21",
      "metadata": {
        "id": "8254ba21"
      },
      "source": [
        "(a) Докажите, что функции $det(X)$, $det(X+E)$, $det(X-E)$ на пространстве комплексных матриц $3 \\times 3$ линейно зависимы.  \n",
        "(b) Докажите, что найдется $m \\in N$, для которого набор функций $det(X-mE), det(X-(m-1)E), det(X-(m-2)E), \\dots, det(X+mE)$ линейно зависим."
      ]
    },
    {
      "cell_type": "markdown",
      "id": "69388522",
      "metadata": {
        "id": "69388522"
      },
      "source": [
        "(a) Пусть имеются коэффициенты линейной зависимости, для которых $$a \\cdot det(X-E)+b \\cdot det(X)+c \\cdot det(X+E)=0$$ для любой 3x3-матрицы X.  \n",
        "Подставим **X=0, X=E, X=2E**:\n",
        "$$\n",
        "\\left\\{\n",
        "    \\begin{array}\\\\\n",
        "        -a+с=0 \\\\\n",
        "        b+8c=0 \\\\\n",
        "        a+8b+27c=0\n",
        "    \\end{array}\n",
        "\\right.\n",
        "$$\n",
        "откуда **a=b=c=0**."
      ]
    },
    {
      "cell_type": "markdown",
      "id": "6807e122",
      "metadata": {
        "id": "6807e122"
      },
      "source": [
        "b) Пусть P(t) -- характеристический многочлен матрицы X. Его степень равна 3 для каждого X. При этом $$det(X-mE)=P(m), det(X-(m-1)E)=P(m-1), ... , det(X+mE)=P(-m),$$ где m рассматриваем как переменную (или то же самое, что лямбда).  Получается **2m+1** многочлен степени 3: $(m-0), \\dots, (m-2m)$.  \n",
        "\n",
        "&emsp; Мы хотим найти коэффициенты линейной зависимости, и для этого достаточно обеспечить такую зависимость для $P(m)=m^3, P(m)=m^2, P(m)=m, P(m)=1$ (формально после раскрытия скобок и приведения подобных слагаемых получится классический многочлен $ax^2+bx+c=0$, у которого не все коэффициенты равны нулю).\n",
        "\n",
        "&emsp; Пусть $P(m)=m^d$, где $d=0,1,2,3$. Запишем уравнение с неопределёнными коэффициентами $a_m m^d+a_{m-1} (m-1)^d+...+a_{-m} (-m)^d=0$. Приравнивая коэффициенты при одинаковых степенях m после раскрытия скобок, мы получаем систему из $d+1$ уравнения для каждого $d$: при $d=1$ и после группировки слагаемых будет уравнение $(\\sum_{j=0}^{2m+1} A_{j})m+(\\sum_{i=0}^{2m-1} A_{j}) \\cdot Const = 0$. Подставим m = 0 и m = 1 $\\Rightarrow$ два уравнения. Похожим образом для оставшихся d.\n",
        " \n",
        "&emsp; Итого будет $1+2+3+4=10$ однородных линейных уравнений от $2m+1$ неизвестной. Если количество неизвестных не меньше 11, что имеет место при $m \\geq 5$, то такая система будет иметь ненулевое решение, то есть функции **нейно зависимы**"
      ]
    },
    {
      "cell_type": "markdown",
      "id": "65cf2850",
      "metadata": {
        "id": "65cf2850"
      },
      "source": [
        "#### [ШАД 19.02.2014 Харьков](https://efiminem.github.io/supershad/19-02-2014-kharkiv/)"
      ]
    },
    {
      "cell_type": "markdown",
      "id": "9611202b",
      "metadata": {
        "id": "9611202b"
      },
      "source": [
        "**1)** Найдите все квадратные вещественные матрицы порядка 3, удовлетворяющие уравнению  \n",
        "$$ X^2 + E = 0 $$"
      ]
    },
    {
      "cell_type": "markdown",
      "id": "22ec1b79",
      "metadata": {
        "id": "22ec1b79"
      },
      "source": [
        "X - квадратная матрица ($ 3 \\times 3 $)  \n",
        "$$ X^2 = \\begin{pmatrix}\n",
        "-1 & 0 & 0\\\\\n",
        "0 & -1 & 0\\\\\n",
        "0 & 0 & -1\n",
        "\\end{pmatrix} $$\n",
        "$ detX^2 = det(-E) $, откуда по [свойству](https://portal.tpu.ru/SHARED/k/KONVAL/Sites/Russian_sites/2/05.htm) детерминанта: $ detXdetX = -1 $ (при n = 3). Очевидно, что число в левой части больше нуля $\\Rightarrow$ противоречие.  \n",
        "В общем случае, для матрицы $n \\times n$: $detXdetX = (-1)^n $ (матрица Х существует для чётных порядков, тогда detX = $\\pm$1)."
      ]
    },
    {
      "cell_type": "markdown",
      "id": "a128b8e0",
      "metadata": {
        "id": "a128b8e0"
      },
      "source": [
        "#### [ШАД 28.05.2016](https://efiminem.github.io/supershad/28-05-2016/)"
      ]
    },
    {
      "cell_type": "markdown",
      "id": "1cb24a51",
      "metadata": {
        "id": "1cb24a51"
      },
      "source": [
        "**1)** Справедливо ли, что если $ ABA = A \\Rightarrow BAB = B $ ? [Source](https://math.stackexchange.com/questions/2287807/square-matrices-aba-a)"
      ]
    },
    {
      "cell_type": "markdown",
      "id": "289df281",
      "metadata": {
        "id": "289df281"
      },
      "source": [
        "**1)** Пусть А - обратимая, тогда $ |(-//-) \\cdot B \\Rightarrow ABAB = AB \\Rightarrow |A^{-1}\\cdot (-//-) \\Rightarrow BAB = B \\space (+)$  \n",
        "**2)** Если А - необратимая, тогда при В = Е, нужно найти $ A^2 = A $. Пусть $ A = \n",
        "\\begin{pmatrix}\n",
        "1 & 0\\\\\n",
        "0 & 0\n",
        "\\end{pmatrix} $. Очевидно, что $ A^2 = A $, тогда нетрудно заметить, что $ BAB = EAE = A \\neq B $."
      ]
    },
    {
      "cell_type": "markdown",
      "id": "48a7bf93",
      "metadata": {
        "id": "48a7bf93"
      },
      "source": [
        "#### [ШАД 01.06.2019](https://efiminem.github.io/supershad/01-06-2019/) "
      ]
    },
    {
      "cell_type": "markdown",
      "id": "3a463f3a",
      "metadata": {
        "id": "3a463f3a"
      },
      "source": [
        "   \n",
        "**3)** При каком параметре $ a \\in R $ матрицы\n",
        "$$ A = \\begin{pmatrix}\n",
        "1 & 4-a-a^2\\\\\n",
        "2 & -1\n",
        "\\end{pmatrix} \n",
        "B = \\begin{pmatrix}\n",
        "-a-1 & 3 \\\\\n",
        "3 & -5\n",
        "\\end{pmatrix}$$\n",
        "могут быть матрицами одной и той же билинейной формы [(стр 15)](https://www.econ.msu.ru/sys/raw.php?o=80643&p=attachment) $ V\\times V \\rightarrow R $ в различных базисах?"
      ]
    },
    {
      "cell_type": "markdown",
      "id": "84e32a9b",
      "metadata": {
        "id": "84e32a9b"
      },
      "source": [
        "Матрица В - симметричная $ \\Rightarrow $ определяет только симметричную форму в некотором базисе. Тогда матрица А тоже симметрическая.  \n",
        "**1)** A - симметрическая: $2 = 4-a-a^2$  $a_1 = 2, a_2 = -1$  \n",
        "**2)** **rA = rB:** rA = 2 и отрицательно определена $\\Rightarrow$ при $a_1$: B - отрицательно определена (+); $a_2$: В - неопределена"
      ]
    },
    {
      "cell_type": "markdown",
      "id": "3d3d4027",
      "metadata": {
        "id": "3d3d4027"
      },
      "source": [
        "**4)** Верно ли, что всякая нечетная непрерывная функция, удовлетворяющая условию $f(2x) = 2f(x)$, линейна? [solution](https://vk.com/@ezhidze_group-reshenie-zadachi-373)"
      ]
    },
    {
      "cell_type": "markdown",
      "id": "aa04b890",
      "metadata": {
        "id": "aa04b890"
      },
      "source": [
        "* Равенство f(2x) = 2f(x) означает, что при **гомотетии с центром в начале координат с коэффициентом 2, график функции переходит сам в себя**.\n",
        "* Зададим функцию следующим образом: для любых целых n функция равна полуокружности на отрезке [2ⁿ⁻¹,2ⁿ] в верхней полуплоскости. Иначе функция равна 0. Очевидно, что предел функции f при x --> +0 равен 0. Поэтому, чтобы функция была непрерывной в нуле, нужно ее доопределить нулем в нуле. При отрицательных x функция получается отражением нечетным образом. \n",
        "* Таким образом, функция действительно получается непрерывной, нечетной и для нее выполнено, что f(2x) = 2f(x). При этом очевидно, функция линейной не является."
      ]
    },
    {
      "cell_type": "code",
      "execution_count": null,
      "id": "3e4f5068",
      "metadata": {
        "id": "3e4f5068",
        "outputId": "b64ebdb8-6939-480f-a132-505bd800ec3d"
      },
      "outputs": [
        {
          "data": {
            "text/html": [
              "<img src=\"https://sun9-2.userapi.com/impf/c844216/v844216500/799bf/JVabdJJb2zk.jpg?size=807x476&quality=96&sign=f9de76711cd2b9bcbc8672bcf8ff1ab9&type=album\" width=\"500\" height=\"500\"/>"
            ],
            "text/plain": [
              "<IPython.core.display.Image object>"
            ]
          },
          "execution_count": 5,
          "metadata": {},
          "output_type": "execute_result"
        }
      ],
      "source": [
        "from IPython.display import Image\n",
        "  \n",
        "# get the image\n",
        "Image(url=\"https://sun9-2.userapi.com/impf/c844216/v844216500/799bf/JVabdJJb2zk.jpg?size=807x476&quality=96&sign=f9de76711cd2b9bcbc8672bcf8ff1ab9&type=album\", width=500, height=500)"
      ]
    },
    {
      "cell_type": "markdown",
      "id": "a4dc6120",
      "metadata": {
        "id": "a4dc6120"
      },
      "source": [
        "### [Задачи Олимпиадные](http://www.mathnet.ru/links/a6bacfb39d75891b7b9e7e465e42b296/mo679.pdf)"
      ]
    },
    {
      "cell_type": "markdown",
      "id": "df09a3be",
      "metadata": {
        "id": "df09a3be"
      },
      "source": [
        "**4)** Дана матрица $ A_n = \\begin{pmatrix}\n",
        "1 & 2/n & 6/n \\\\\n",
        "3/n & 1 & 0 \\\\\n",
        "-1/n & 0 & 1\n",
        "\\end{pmatrix}$. Вычислите $\\lim_{x \\to \\infty}A_n^n$"
      ]
    },
    {
      "cell_type": "markdown",
      "id": "5b272d2b",
      "metadata": {
        "id": "5b272d2b"
      },
      "source": [
        "Пусть $B_n = A_n - I$. Тогда \n",
        "$$ B_n = \\begin{pmatrix}\n",
        "0 & 2/n & 6/n \\\\\n",
        "3/n & 0 & 0 \\\\\n",
        "-1/n & 0 & 0\n",
        "\\end{pmatrix}, \\space B_n^2 = \\begin{pmatrix}\n",
        "0 & 0 & 0 \\\\\n",
        "0 & 6/n^2 & 18/n^2 \\\\\n",
        "0 & -2/n^2 & -6/n^2\n",
        "\\end{pmatrix}, \\space B_n^3 = 0.$$\n",
        "Значит при $k \\leq 3 \\Rightarrow \\space B_n^k = O$"
      ]
    },
    {
      "cell_type": "markdown",
      "id": "d43f2d95",
      "metadata": {
        "id": "d43f2d95"
      },
      "source": [
        "Поэтому по формуле бинома Ньютона (учитывая коммутирование матриц $I$ и $B_n$):\n",
        "$$ A_n^n = (I+B_n)^n = I + nB_n + \\frac{n(n-1)}{2}B_n^2 = \n",
        "\\begin{pmatrix} \n",
        "1 & 2 & 6 \\\\\n",
        "3 & 4 & 9 \\\\\n",
        "-1 & -1 & -2\n",
        "\\end{pmatrix}\n",
        "$$"
      ]
    },
    {
      "cell_type": "markdown",
      "id": "d45422e7",
      "metadata": {
        "id": "d45422e7"
      },
      "source": [
        "**8)** [Из ШАД 2015](#ШАД_06.2015)"
      ]
    },
    {
      "cell_type": "markdown",
      "id": "b758529f",
      "metadata": {
        "id": "b758529f"
      },
      "source": [
        "**28)** А и B - квадратные матрицы одинакового размера. Обязательно ли **а)** tr(AB) = tr(BA); **[б)](https://www.quora.com/If-A-is-invertible-how-can-I-show-that-rank-AB-rank-B-rank-BA)** rk(AB) = rk(BA)?"
      ]
    },
    {
      "cell_type": "markdown",
      "id": "bf7dcc8f",
      "metadata": {
        "id": "bf7dcc8f"
      },
      "source": [
        "1) Пусть $\\exists \\space A^{-1} \\space и \\space B^{-1}$ (обратимые и квадратные полного ранга), и, допуская, существование AB и BA имеем $ dimA = dimB = n $.  \n",
        "Согласно [теореме](https://en.wikipedia.org/wiki/Rank%E2%80%93nullity_theorem), если ядра имеют равные размерности, - у них одинаковый ранг: $ rank(A) = rank(A^T) = rank(B) $.\n",
        "2) Пусть К - ядро АВ, тогда АВК = 0. Домножим слева $ A^{-1}\\cdot \\Rightarrow BK = 0 \\Rightarrow B \\space $ также вложено в ядро **К** и  \n",
        "**rankAB = rankB**. \n",
        "<br>\n",
        "3) $ A^TB^T  = (BA)^T  - ядро \\space K': A^TB^TK' = 0 \\space |(A^T)^{-1}\\cdot $  \n",
        "$B^TK' = 0 \\Rightarrow B^T $ имеет такое же ядро и ранг как $ A^TB^T $.\n",
        "$$ rank(A^TB^T) = rank((BA)^T) = rank(BA) = rank(B^T) = rank(B) = rank(AB)$$"
      ]
    },
    {
      "cell_type": "markdown",
      "id": "7c544198",
      "metadata": {
        "id": "7c544198"
      },
      "source": [
        "**29)** [Из ШАД 2013](#ШАД_06.2013)"
      ]
    },
    {
      "cell_type": "markdown",
      "id": "38121eef",
      "metadata": {
        "id": "38121eef"
      },
      "source": [
        "**30)** Пусть *А* - вырожденная матрица. Докажите, что матрица, составленная из алгебраическая доаолнений элементов *А*, имеет ранг не больше 1. "
      ]
    },
    {
      "cell_type": "markdown",
      "id": "22c2155a",
      "metadata": {
        "id": "22c2155a"
      },
      "source": [
        "det**A** = 0  \n",
        "**а)** пусть r**A** = n - 1, тогда пусть $ row_j \\equiv 0 $, минор  $- \\space \\delta_{ik} $, где $ i \\neq j $, а при $ i = j: $  \n",
        "$ \\exists\\delta_{ik} \\neq 0 $ (т.к оставшиеся строки ЛНЗ): $rA_{\\delta} = 1$ - матрица миноров.  \n",
        "**б)** r**A** < n - 1: $ \\forall \\space row \\space \\delta_{ik} = 0 $, т.к миноры содержат \"0\"-ю строку и $ rA_{\\delta} = 0 $."
      ]
    },
    {
      "cell_type": "markdown",
      "id": "40e67c71",
      "metadata": {
        "id": "40e67c71"
      },
      "source": [
        "**32)** Матрица размером **m × n** имеет ранг **r**. Нужно дополнить её до квадратной так, чтобы полученная матрица стала невырожденной. Каков наименьший размер полученной квадратной матрицы?"
      ]
    },
    {
      "cell_type": "markdown",
      "id": "01933fd5",
      "metadata": {
        "id": "01933fd5"
      },
      "source": [
        "&emsp; Пусть искомая матрица имеет размерность **k × k**, тогда не хватает **(k-n)** столбцов до искомого количества.  \n",
        "Остаётся **m** строк, которые теперь Л.Н ранг полученной матрицы **A':** $ rA' = m $.  \n",
        "&emsp; С другой стороны, изначально было *r* Л.Н столбцов, тогда нужно, как минимум, **m-r** столбцов (rA = r, rA' = m, тогда не хватает именно m-r Л.Н столбцов). Последнее возможно, если вообще возможно добавить *столько* столбцов: $ k-n \\geq m-r $  \n",
        "&emsp; Теперь добавим строки: из первой части получено **m** Л.Н строк, тогда можно найти ещё **m-k** таких строк. Итого, ключевое условие из первой части - это $ k \\geq m+n-r $. При исходном условии о *невырожденности* получаемой матрицы."
      ]
    },
    {
      "cell_type": "markdown",
      "id": "1d906bb3",
      "metadata": {
        "id": "1d906bb3"
      },
      "source": [
        "## Иные задачи"
      ]
    },
    {
      "cell_type": "markdown",
      "id": "5f039c4b",
      "metadata": {
        "id": "5f039c4b"
      },
      "source": [
        "#### **1)** Решить уравнение \n",
        "$$ X^{2021} = X, $$\n",
        "где  \n",
        "$$ X = \\begin{pmatrix}\n",
        "0 & x\\\\\n",
        "y & 0\n",
        "\\end{pmatrix} $$"
      ]
    },
    {
      "cell_type": "markdown",
      "id": "3c76a2ab",
      "metadata": {
        "id": "3c76a2ab"
      },
      "source": [
        "$$ X^2 = \\begin{pmatrix}\n",
        "xy & 0\\\\\n",
        "0 & xy\n",
        "\\end{pmatrix} \n",
        "\\Rightarrow \n",
        "X^3 = \\begin{pmatrix}\n",
        "0 & x^2y\\\\\n",
        "xy^2 & 0\n",
        "\\end{pmatrix}\n",
        "\\Rightarrow\n",
        "X^4 = \\begin{pmatrix}\n",
        "x^2y^2 & 0\\\\\n",
        "0 & x^2y^2\n",
        "\\end{pmatrix} $$"
      ]
    },
    {
      "cell_type": "markdown",
      "id": "7f625e6a",
      "metadata": {
        "id": "7f625e6a"
      },
      "source": [
        "$$ \\begin{pmatrix}\n",
        "0 & x^2y\\\\\n",
        "xy^2 & 0\n",
        "\\end{pmatrix}\n",
        "\\begin{pmatrix}\n",
        "0 & x\\\\\n",
        "y & 0\n",
        "\\end{pmatrix} = \\space \\to \\dots \\to \\space X^{2020} = \n",
        "\\begin{pmatrix}\n",
        "(xy)^{2018} & 0\\\\\n",
        "0 & (xy)^{2018}\n",
        "\\end{pmatrix}$$  "
      ]
    },
    {
      "cell_type": "markdown",
      "id": "1ef0599d",
      "metadata": {
        "id": "1ef0599d"
      },
      "source": [
        "$ X^{2021} - X= \\begin{pmatrix}\n",
        "0 & x^{2019}y^{2018}-x\\\\\n",
        "x^{2018}y^{2019}-y & 0\n",
        "\\end{pmatrix} \\space = \\space 0$  \n",
        "\n",
        "$\n",
        "\\left\\{\n",
        "    \\begin{array}\\\\\n",
        "        x[(xy)^{2018}-1] = 0 \\\\\n",
        "        y[(xy)^{2018}-1] = 0 \\\\\n",
        "    \\end{array}\n",
        "\\right.\n",
        "\\Rightarrow \n",
        "\\left\\{\n",
        "    \\begin{array}\\\\\n",
        "        x[(xy)^{2018}-1] = 0 \\\\\n",
        "        y[(xy)^{2018}-1] = 0 \\\\\n",
        "        [x \\pm y][(xy)^{2018}-1] = 0\n",
        "    \\end{array}\n",
        "\\right.\n",
        "\\Rightarrow\n",
        "\\left\\{\n",
        "    \\begin{array}\\\\\n",
        "        x=0 \\Leftrightarrow y=0 \\\\\n",
        "        x \\space and \\space y \\neq 0 \\Rightarrow x = \\pm y \\Rightarrow y = \\pm1 \\space and \\space x = \\pm \\mp 1\\\\\n",
        "        x = \\pm \\frac{1}{y}\n",
        "    \\end{array}\n",
        "\\right.$"
      ]
    },
    {
      "cell_type": "markdown",
      "id": "a291f5d0",
      "metadata": {
        "id": "a291f5d0"
      },
      "source": [
        "#### **2)** Даны [блочные матрицы § 2.4.](https://elar.urfu.ru/bitstream/10995/82505/1/978-5-7996-2947-2_2020.pdf):"
      ]
    },
    {
      "cell_type": "markdown",
      "id": "9cf74b5c",
      "metadata": {
        "id": "9cf74b5c"
      },
      "source": [
        "$A = \\left(\\begin{array}{@{}c|c@{}}\n",
        "  \\begin{matrix}\n",
        "  2 & 3\n",
        "  \\end{matrix}\n",
        "  & 4 \\\\\n",
        "\\hline\n",
        "  \\begin{matrix}\n",
        "  3 & 4 \\\\\n",
        "  4 & 5\n",
        "  \\end{matrix}\n",
        "  &\n",
        "  \\begin{matrix}\n",
        "  5 \\\\\n",
        "  6\n",
        "  \\end{matrix}\n",
        "\\end{array}\\right)$ = \n",
        "$\\left(\\begin{array}{@{}c|c@{}}\n",
        "  A_{11} & A_{12} \\\\\n",
        "\\hline\n",
        "  A_{21} & A_{22} \\\\\n",
        "\\end{array}\\right) \\space$ и\n",
        "$\\space B = \\left(\\begin{array}{@{}c|c@{}}\n",
        "  \\begin{matrix}\n",
        "  1 & 1\n",
        "  \\end{matrix}\n",
        "  & 0 \\\\\n",
        "\\hline\n",
        "  \\begin{matrix}\n",
        "  2 & 1 \\\\\n",
        "  3 & 0\n",
        "  \\end{matrix}\n",
        "  &\n",
        "  \\begin{matrix}\n",
        "  2 \\\\\n",
        "  1\n",
        "  \\end{matrix}\n",
        "\\end{array}\\right)$ = \n",
        "$\\left(\\begin{array}{@{}c|c@{}}\n",
        "  B_{11} & B_{12} \\\\\n",
        "\\hline\n",
        "  B_{21} & B_{22} \\\\\n",
        "\\end{array}\\right)$"
      ]
    },
    {
      "cell_type": "markdown",
      "id": "0a5152f7",
      "metadata": {
        "id": "0a5152f7"
      },
      "source": [
        "Найти матрицы:\n",
        "$$ C = A + B, D = 5B, E = B^T $$"
      ]
    },
    {
      "cell_type": "markdown",
      "id": "e65b667e",
      "metadata": {
        "id": "e65b667e"
      },
      "source": [
        "$C = \\left(\\begin{array}{@{}c|c@{}}\n",
        "  \\begin{matrix}\n",
        "  3 & 4\n",
        "  \\end{matrix}\n",
        "  & 4 \\\\\n",
        "\\hline\n",
        "  \\begin{matrix}\n",
        "  5 & 5 \\\\\n",
        "  7 & 5\n",
        "  \\end{matrix}\n",
        "  &\n",
        "  \\begin{matrix}\n",
        "  7 \\\\\n",
        "  7\n",
        "  \\end{matrix}\n",
        "\\end{array}\\right)$ ; \n",
        "$D = \\left(\\begin{array}{@{}c|c@{}}\n",
        "  \\begin{matrix}\n",
        "  5 & 5\n",
        "  \\end{matrix}\n",
        "  & 0 \\\\\n",
        "\\hline\n",
        "  \\begin{matrix}\n",
        "  10 & 5 \\\\\n",
        "  15 & 0\n",
        "  \\end{matrix}\n",
        "  &\n",
        "  \\begin{matrix}\n",
        "  10 \\\\\n",
        "  5\n",
        "  \\end{matrix}\n",
        "\\end{array}\\right)$ ; \n",
        "$E = \\left(\\begin{array}{@{}c|c@{}}\n",
        "  B_{11} & B_{21} \\\\\n",
        "\\hline\n",
        "  B_{12} & B_{22} \\\\\n",
        "\\end{array}\\right) \\space$ = \n",
        "$ \\left(\\begin{array}{@{}c|c@{}}\n",
        "  \\begin{matrix}\n",
        "  1 \\\\\n",
        "  1\n",
        "  \\end{matrix}\n",
        "  &\n",
        "    \\begin{matrix}\n",
        "  2 & 3 \\\\\n",
        "  1 & 0\n",
        "  \\end{matrix}\\\\\n",
        "\\hline\n",
        "  0\n",
        "  &\n",
        "  \\begin{matrix}\n",
        "  2 & 1\n",
        "  \\end{matrix}\n",
        "\\end{array}\\right)$"
      ]
    },
    {
      "cell_type": "markdown",
      "id": "9446e70f",
      "metadata": {
        "id": "9446e70f"
      },
      "source": [
        "#### **3)** Вычислить определители n-го порядка:  "
      ]
    },
    {
      "cell_type": "markdown",
      "id": "14ce9ade",
      "metadata": {
        "id": "14ce9ade"
      },
      "source": [
        "**a)** $ \\begin{vmatrix}\n",
        "1 & 1 & 1 & ... & 1 & 1\\\\\n",
        "0 & 2 & 2 & ... & 2 & 2\\\\\n",
        "0 & 0 & 3 & ... & 3 & 3\\\\\n",
        "\\vdots & \\vdots & \\vdots &  & \\vdots & \\vdots\\\\\n",
        "0 & 0 & 0 & ... & n-1 & n-1\\\\\n",
        "n & n & n & ... & n & 2n\n",
        "\\end{vmatrix} $ = *вычтем из n-й строки первую, умноженную на n* = $ \\begin{vmatrix}\n",
        "1 & 1 & 1 & ... & 1 & 1\\\\\n",
        "0 & 2 & 2 & ... & 2 & 2\\\\\n",
        "0 & 0 & 3 & ... & 3 & 3\\\\\n",
        "\\vdots & \\vdots & \\vdots &  & \\vdots & \\vdots\\\\\n",
        "0 & 0 & 0 & ... & n-1 & n-1\\\\\n",
        "0 & 0 & 0 & ... & 0 & n\n",
        "\\end{vmatrix} $ =  \n",
        "= *по последней строке* = $ n(n-1)(n-2)\\cdot ... \\cdot 2 \\cdot 1 = n! $"
      ]
    },
    {
      "cell_type": "markdown",
      "id": "7e29f9ab",
      "metadata": {
        "id": "7e29f9ab"
      },
      "source": [
        "**b)** $ \\begin{vmatrix}\n",
        "1 & 1 & ... & 1 & 1\\\\\n",
        "2 & 1 & ... & 1 & 1\\\\\n",
        "3 & 3 & ... & 1 & 1\\\\\n",
        "\\vdots & \\vdots &  & \\vdots & \\vdots\\\\\n",
        "n-1 & n-1 & ... & 1 & 1\\\\\n",
        "n & n & ... & n & 1\n",
        "\\end{vmatrix} $ = *поочерёдно вычтем 1-ю строку из остальных, умножив её на 2, 3 и тд.* = \n",
        "\n",
        "$ \\begin{vmatrix}\n",
        "1 & 1 & ... & 1 & 1\\\\\n",
        "0 & -1 & ... & -1 & -1\\\\\n",
        "0 & 0 & ... & -2 & -2\\\\\n",
        "\\vdots & \\vdots &  & \\vdots & \\vdots\\\\\n",
        "n-1 & n-1 & ... & -(n-2) & -(n-2)\\\\\n",
        "0 & 0 & ... & 0 & -(n-1)\n",
        "\\end{vmatrix} $ = *по последней строке* = \n",
        "$ [-(n-1)][-(n-2)]\\cdot ... \\cdot (-1)\\cdot 1 = (-1)^{n-1}\\cdot (n-1)!$"
      ]
    },
    {
      "cell_type": "markdown",
      "id": "8194ed49",
      "metadata": {
        "id": "8194ed49"
      },
      "source": [
        "**c)** $ \\begin{vmatrix}\n",
        "0 & 1 & 0 & \\dots & 0\\\\\n",
        "0 & 0 & 1 & \\dots & 0\\\\\n",
        "\\vdots & \\vdots & \\ddots & \\dots & \\vdots\\\\\n",
        "0 & 0 & 0 & \\vdots & 1\\\\\n",
        "1 & 2 & 3 & \\dots & n\n",
        "\\end{vmatrix} $ = * по первому столбцу * = $1\\cdot (-1)^{n+1}\\cdot detE = (-1)^{n+1}$"
      ]
    },
    {
      "cell_type": "markdown",
      "id": "77c736d2",
      "metadata": {
        "id": "77c736d2"
      },
      "source": [
        "#### **4)** Вычислить определитель n-го порядка, элементы которого\n",
        "$$ a_{ij} = max\\{i, j\\}: \\space \\Delta_n = \n",
        "\\begin{vmatrix}\n",
        "1 & 2 & 3 & \\dots & n\\\\\n",
        "2 & 2 & 3 & \\dots & n\\\\\n",
        "3 & 3 & 3 & \\dots & n\\\\\n",
        "\\vdots & \\vdots & \\ddots & \\dots & \\vdots\\\\\n",
        "n & n & n & \\dots & n\n",
        "\\end{vmatrix} $$"
      ]
    },
    {
      "cell_type": "markdown",
      "id": "11d084c4",
      "metadata": {
        "id": "11d084c4"
      },
      "source": [
        "$ \\begin{vmatrix}\n",
        "1 & 2 & 3 & \\dots & n\\\\\n",
        "2 & 2 & 3 & \\dots & n\\\\\n",
        "3 & 3 & 3 & \\dots & n\\\\\n",
        "\\vdots & \\vdots & \\ddots & \\dots & \\vdots\\\\\n",
        "n & n & n & \\dots & n\n",
        "\\end{vmatrix} $ = *вычтем первую строку из остальных* = $\n",
        "\\begin{vmatrix}\n",
        "1 & 2 & 3 & \\dots & n\\\\\n",
        "1 & 0 & 0 & \\dots & 0\\\\\n",
        "2 & 1 & 0 & \\dots & 0\\\\\n",
        "\\vdots & \\vdots & \\ddots & \\dots & \\vdots\\\\\n",
        "n-1 & n-2 & n-3 & \\dots & 0\n",
        "\\end{vmatrix}$ =  \n",
        "= по последнему столбцу = $(-1)^{1+n}\\cdot n \\cdot detE = (-1)^{n+1}n$"
      ]
    },
    {
      "cell_type": "markdown",
      "id": "831acfec",
      "metadata": {
        "id": "831acfec"
      },
      "source": [
        "#### 5) Подобие матриц 3-го порядка:  \n",
        "$$ A = \\begin{pmatrix}\n",
        "1 & 1 & -1\\\\\n",
        "0 & 1 & 2\\\\\n",
        "0 & 0 & 1\n",
        "\\end{pmatrix}, \\space \n",
        "B = \\begin{pmatrix}\n",
        "3 & -2 & 1\\\\\n",
        "2 & -1 & 2\\\\\n",
        "0 & 0 & 1\n",
        "\\end{pmatrix}, \\space\n",
        "C = \\begin{pmatrix}\n",
        "3 & 1 & -1\\\\\n",
        "-2 & 0 & 1\\\\\n",
        "2 & 1 & 0\n",
        "\\end{pmatrix}$$"
      ]
    },
    {
      "cell_type": "markdown",
      "id": "0b72a33d",
      "metadata": {
        "id": "0b72a33d"
      },
      "source": [
        "Подобие подразумевает равенство их [жордановых форм](http://math.phys.msu.ru/archive/2019_2020/25/JF.pdf):  \n",
        "\n",
        "**1)** $det(A-\\lambda E) = 0 \\Rightarrow \\lambda_1 = 1 \\space (m=3)$\n",
        "\n",
        "$A-\\lambda E = \\begin{pmatrix}\n",
        "0 & 1 & 0\\\\\n",
        "0 & 0 & 1\\\\\n",
        "0 & 0 & 0\n",
        "\\end{pmatrix} \\Rightarrow \\bar{v_1} = C_1 \\begin{pmatrix} 1 \\\\ 0 \\\\ 0 \\end{pmatrix} $ (собственный вектор; s=1) m-s = 2 присоединённых вектора.  "
      ]
    },
    {
      "cell_type": "markdown",
      "id": "1ac7f8f0",
      "metadata": {
        "id": "1ac7f8f0"
      },
      "source": [
        "**2)** $det(B-\\lambda E) = 0 \\Rightarrow \\lambda_1 = 1 \\space (m=3)$\n",
        "\n",
        "$B-\\lambda E = \\begin{pmatrix}\n",
        "2 & -2 & 1\\\\\n",
        "2 & -2 & 2\\\\\n",
        "0 & 0 & -2\n",
        "\\end{pmatrix} \\rightarrow \n",
        "\\begin{pmatrix}\n",
        "1 & -1 & 0\\\\\n",
        "0 & 0 & 0\\\\\n",
        "0 & 0 & -1\n",
        "\\end{pmatrix}\n",
        "\\Rightarrow \\bar{v_2} = C_2 \\begin{pmatrix} 1 \\\\ 1 \\\\ 0 \\end{pmatrix} $ (собственный вектор; s=1) m-s = 2 присоединённых вектора.  "
      ]
    },
    {
      "cell_type": "markdown",
      "id": "5e182d40",
      "metadata": {
        "id": "5e182d40"
      },
      "source": [
        "**3)** $det(C-\\lambda E) = 0 \\Rightarrow \\lambda_1 = 1 \\space (m=3)$\n",
        "\n",
        "$C-\\lambda E = \\begin{pmatrix}\n",
        "2 & 1 & -1\\\\\n",
        "-2 & -1 & 1\\\\\n",
        "2 & 1 & -1\n",
        "\\end{pmatrix} \\rightarrow \n",
        "\\begin{pmatrix}\n",
        "2 \\\\ 1 \\\\ -1\n",
        "\\end{pmatrix}\n",
        "\\Rightarrow \\bar{v_3} = C_3 \\begin{pmatrix} 1 \\\\ 0 \\\\ 2 \\end{pmatrix} + C'_3 \\begin{pmatrix} -1 \\\\ 2 \\\\ 0 \\end{pmatrix}$ (собственный вектор; s=2) m-s = 1 присоединённый вектор.  "
      ]
    },
    {
      "cell_type": "markdown",
      "id": "59c1f343",
      "metadata": {
        "id": "59c1f343"
      },
      "source": [
        "**Жордановы формы:**  \n",
        "$$ A_J = \\begin{pmatrix}\n",
        "1 & 1 & 0\\\\\n",
        "0 & 1 & 1\\\\\n",
        "0 & 0 & 1\n",
        "\\end{pmatrix} \\space \n",
        "B_J = \\begin{pmatrix}\n",
        "1 & 1 & 0\\\\\n",
        "0 & 1 & 1\\\\\n",
        "0 & 0 & 1\n",
        "\\end{pmatrix} \\space \n",
        "C_J = \\begin{pmatrix}\n",
        "1 & 1 & 0\\\\\n",
        "0 & 1 & 1\\\\\n",
        "0 & 0 & 1\n",
        "\\end{pmatrix}$$"
      ]
    },
    {
      "cell_type": "markdown",
      "id": "ae1b6d4d",
      "metadata": {
        "id": "ae1b6d4d"
      },
      "source": [
        "$$ (m=3, s=1) \\space (m=3, s=1) \\space (m=3, s=2) $$"
      ]
    },
    {
      "cell_type": "markdown",
      "id": "9f61c45a",
      "metadata": {
        "id": "9f61c45a"
      },
      "source": [
        "$$ A \\sim B \\nsim C $$"
      ]
    },
    {
      "cell_type": "markdown",
      "id": "383cc6a6",
      "metadata": {
        "id": "383cc6a6"
      },
      "source": [
        "### Линейные пространства"
      ]
    },
    {
      "cell_type": "markdown",
      "id": "1c998c21",
      "metadata": {
        "id": "1c998c21"
      },
      "source": [
        "&emsp; Найти размерности и базисы пересечения $A \\cap B$ и суммы $A+B$ подпространства $A \\subset \\mathbb{R}^4$, $B \\subset \\mathbb{R}^4$, если они заданы однородными системами уравнений (внешнее описание): "
      ]
    },
    {
      "cell_type": "markdown",
      "id": "7f03ca66",
      "metadata": {
        "id": "7f03ca66"
      },
      "source": [
        "$$ A = \\left\\{\n",
        "    \\begin{array}\\\\\n",
        "        x_1 + x_2 + 2x_3 + x_4 = 0 \\\\\n",
        "        2x_1 + 3x_2 + x_4 = 0 \\\\\n",
        "        3x_1 + 4x_2 + 2x_3 + 2x_4 = 0\n",
        "    \\end{array}\n",
        "\\right. \n",
        "B = \\left\\{\n",
        "    \\begin{array}\\\\\n",
        "        x_1 + x_2 + x_3 = 0 \\\\\n",
        "        2x_1 + 3x_2 + x_3 + x_4 = 0 \\\\\n",
        "        x_1 + 2x_2 + 2x_4 = 0\n",
        "    \\end{array}\n",
        "\\right. $$"
      ]
    },
    {
      "cell_type": "markdown",
      "id": "33e438fc",
      "metadata": {
        "id": "33e438fc"
      },
      "source": [
        "**1)** $\\begin{matrix}\n",
        "A = \\{Ax = 0\\}\\\\\n",
        "B = \\{Bx = 0\\}\n",
        "\\end{matrix} \\Rightarrow $ переход к внутреннему описанию $ \\Rightarrow $  подпространства заданы линейными оболочками своих образующих  \n",
        "(внутреннее описание): $A = Lin(a_1, a_2, . . . , a_{k1}), B = Lin(b_1, b_2, . . . , b_{k2}).$"
      ]
    },
    {
      "cell_type": "markdown",
      "id": "ee8cf408",
      "metadata": {
        "id": "ee8cf408"
      },
      "source": [
        "**2)** решить СЛАУ $Ax = 0$ и $Bx = 0$ любым методом (например, методом Гаусса):"
      ]
    },
    {
      "cell_type": "markdown",
      "id": "3135cff7",
      "metadata": {
        "id": "3135cff7"
      },
      "source": [
        "**A** ~ $ = \\left(\\begin{array}{@{}c|c@{}}\n",
        "  \\begin{matrix}\n",
        "  1 & 0 & 6 & 2\n",
        "  \\end{matrix}\n",
        "  & 0 \\\\\n",
        "  \\begin{matrix}\n",
        "  0 & 1 & -4 & -1\n",
        "  \\end{matrix}\n",
        "  & 0 \\\\\n",
        "  \\begin{matrix}\n",
        "  0 & 0 & 0 & 0\n",
        "  \\end{matrix}\n",
        "  & 0 \\\\\n",
        "\\end{array}\\right) \\space \\space \\space$ **B** ~ $ = \\left(\\begin{array}{@{}c|c@{}}\n",
        "  \\begin{matrix}\n",
        "  1 & 0 & 2 & -2\n",
        "  \\end{matrix}\n",
        "  & 0 \\\\\n",
        "  \\begin{matrix}\n",
        "  0 & 1 & -1 & 2\n",
        "  \\end{matrix}\n",
        "  & 0 \\\\\n",
        "  \\begin{matrix}\n",
        "  0 & 0 & 0 & 0\n",
        "  \\end{matrix}\n",
        "  & 0 \\\\\n",
        "\\end{array}\\right)$"
      ]
    },
    {
      "cell_type": "markdown",
      "id": "d49df129",
      "metadata": {
        "id": "d49df129"
      },
      "source": [
        "$A: \\left\\{\n",
        "    \\begin{array}\\\\\n",
        "        x_1 = -6x_3 - 2x_4 \\\\\n",
        "        x_2 = 4x_3 + x_4\n",
        "    \\end{array}\n",
        "\\right. $\n",
        "$B: \\left\\{\n",
        "    \\begin{array}\\\\\n",
        "        x_1 = -2x_3 + 2x_4 \\\\\n",
        "        x_2 = 1x_3 - 2x_4\n",
        "    \\end{array}\n",
        "\\right.$"
      ]
    },
    {
      "cell_type": "markdown",
      "id": "d1517db5",
      "metadata": {
        "id": "d1517db5"
      },
      "source": [
        "$A: \\left\\{\n",
        "    \\begin{array}\\\\\n",
        "        x_3 = 1 \\\\\n",
        "        x_4 = 0\n",
        "    \\end{array}\n",
        "\\right. \\space \\varphi_1 = \\begin{pmatrix}\n",
        "-6 \\\\\n",
        "4 \\\\\n",
        "1 \\\\\n",
        "0\n",
        "\\end{pmatrix};$  $\\left\\{\n",
        "    \\begin{array}\\\\\n",
        "        x_3 = 0 \\\\\n",
        "        x_4 = 1\n",
        "    \\end{array}\n",
        "\\right. \\space \\varphi_1 = \\begin{pmatrix}\n",
        "-2 \\\\\n",
        "1 \\\\\n",
        "0 \\\\\n",
        "1\n",
        "\\end{pmatrix} \\Rightarrow Ф_A = \n",
        "\\begin{pmatrix}\n",
        "-6 & -2 \\\\\n",
        "4 & 1 \\\\\n",
        "1 & 0 \\\\\n",
        "0 & 1\n",
        "\\end{pmatrix}$ - фундаментальная система решений для Ax = 0;  \n",
        "$B: \\left\\{\n",
        "    \\begin{array}\\\\\n",
        "        x_3 = 1 \\\\\n",
        "        x_4 = 0\n",
        "    \\end{array}\n",
        "\\right. \\space \\varphi_1 = \\begin{pmatrix}\n",
        "-2 \\\\\n",
        "0 \\\\\n",
        "1 \\\\\n",
        "0\n",
        "\\end{pmatrix};$  $\\left\\{\n",
        "    \\begin{array}\\\\\n",
        "        x_3 = 0 \\\\\n",
        "        x_4 = 1\n",
        "    \\end{array}\n",
        "\\right. \\space \\varphi_1 = \\begin{pmatrix}\n",
        "0 \\\\\n",
        "-2 \\\\\n",
        "0 \\\\\n",
        "1\n",
        "\\end{pmatrix} \\Rightarrow Ф_A = \n",
        "\\begin{pmatrix}\n",
        "-2 & 0 \\\\\n",
        "0 & -2 \\\\\n",
        "1 & 0 \\\\\n",
        "0 & 1\n",
        "\\end{pmatrix}$ - фундаментальная система решений для Bx = 0."
      ]
    },
    {
      "cell_type": "markdown",
      "id": "c6807d36",
      "metadata": {
        "id": "c6807d36"
      },
      "source": [
        "**3)** $\\begin{matrix}\n",
        "A = Lin(a_1, a_2)\\\\\n",
        "B = Lin(b_1, b_2)\n",
        "\\end{matrix}$ "
      ]
    },
    {
      "cell_type": "markdown",
      "id": "acea9777",
      "metadata": {
        "id": "acea9777"
      },
      "source": [
        "**4)** $A+B = Lin(a_1, a_2, b_1, b_2)$ базис $A+B$: \n",
        "$\\begin{pmatrix}\n",
        "-6 & -2 & -2 & 0\\\\\n",
        "4 & 1 & 0 & -2\\\\\n",
        "1 & 0 & 1 & 0\\\\\n",
        "0 & 1 & 0 & 1\n",
        "\\end{pmatrix}$ ~\n",
        "$\\begin{pmatrix}\n",
        "3 & 1 & 1 & 0\\\\\n",
        "0 & 1 & 0 & 1\\\\\n",
        "0 & 0 & 4 & 5\\\\\n",
        "0 & 0 & 0 & 1\n",
        "\\end{pmatrix}$"
      ]
    },
    {
      "cell_type": "markdown",
      "id": "8b4e486e",
      "metadata": {
        "id": "8b4e486e"
      },
      "source": [
        "столбцы 3 и 4 - базис: $(ab)_1 = \\begin{pmatrix}\n",
        "1 \\\\\n",
        "0 \\\\\n",
        "4 \\\\\n",
        "5\n",
        "\\end{pmatrix} \\space (ab)_2 = \\begin{pmatrix}\n",
        "0 \\\\\n",
        "1 \\\\\n",
        "5 \\\\\n",
        "1\n",
        "\\end{pmatrix} \\Rightarrow dim(A+B) = 2$"
      ]
    },
    {
      "cell_type": "markdown",
      "id": "a6bcd301",
      "metadata": {
        "id": "a6bcd301"
      },
      "source": [
        "**5)** $A \\cap B$: \n",
        "$\\left\\{\n",
        "    \\begin{array}\\\\\n",
        "        Ax = 0 \\\\\n",
        "        Bx = 0\n",
        "    \\end{array}\n",
        "\\right. \\Rightarrow \n",
        "\\begin{vmatrix}\n",
        "A\\\\\n",
        "B\n",
        "\\end{vmatrix}x = 0$ ~ метод Гаусса ~\n",
        "$ \\left(\\begin{array}{@{}c|c@{}}\n",
        "  \\begin{matrix}\n",
        "  1 & 1 & 2 & 1\n",
        "  \\end{matrix}\n",
        "  & 0 \\\\\n",
        "  \\begin{matrix}\n",
        "  0 & 1 & -4 & -1\n",
        "  \\end{matrix}\n",
        "  & 0 \\\\\n",
        "  \\begin{matrix}\n",
        "  0 & 0 & 1 & 1\n",
        "  \\end{matrix}\n",
        "  & 0 \\\\\n",
        "  \\begin{matrix}\n",
        "  0 & 0 & 0 & 0\n",
        "  \\end{matrix}\n",
        "  & 0 \\\\\n",
        "\\end{array}\\right) $"
      ]
    },
    {
      "cell_type": "markdown",
      "id": "f94792f2",
      "metadata": {
        "id": "f94792f2"
      },
      "source": [
        "$\\left\\{\n",
        "    \\begin{array}\\\\\n",
        "        x_1 = -x_2 - 2x_3 - x_4 \\\\\n",
        "        x_2 = 4x_3 + x_4 \\\\\n",
        "        x_3 = - x_4\n",
        "    \\end{array}\n",
        "\\right. \n",
        "\\Rightarrow\n",
        "\\left\\{\n",
        "    \\begin{array}\\\\\n",
        "        x_1 = -2x_4 \\\\\n",
        "        x_2 = -3x_4 \\\\\n",
        "        x_3 = -x_4\n",
        "    \\end{array}\n",
        "\\right.$"
      ]
    },
    {
      "cell_type": "markdown",
      "id": "b88b91ad",
      "metadata": {
        "id": "b88b91ad"
      },
      "source": [
        "* при $x_4 = 1 \\space \n",
        "\\varphi_1 = \\begin{pmatrix}\n",
        "-2 \\\\\n",
        "-3 \\\\\n",
        "-1 \\\\\n",
        "1\n",
        "\\end{pmatrix} \\space$, откуда\n",
        "$Ф_A = \n",
        "\\begin{pmatrix}\n",
        "-2 \\\\\n",
        "-3 \\\\\n",
        "-1 \\\\\n",
        "1\n",
        "\\end{pmatrix} \\Rightarrow dim(A \\cap B) = 1$  \n",
        "* базис $(ab)_1 = \\begin{pmatrix}\n",
        "-2 \\\\\n",
        "-3 \\\\\n",
        "-1 \\\\\n",
        "1\n",
        "\\end{pmatrix}$ "
      ]
    },
    {
      "cell_type": "markdown",
      "id": "04e29b0f",
      "metadata": {
        "id": "04e29b0f"
      },
      "source": [
        "## Теория вероятности"
      ]
    },
    {
      "cell_type": "markdown",
      "source": [
        "#### Принцип Дирихле  \n",
        "&ensp; Если 5 кроликов помещены в 4 клетки, то в одной из клеток находятся не менее 2-х кроликов; или, другими словами, нельзя посадить 5 кроликов в 4 клетки так, чтобы в каждой клетке находилось не более 1-го кролика. Или $(2n+1)$ кролик помещён в $n$ клетках, то, по крайней мере,в 1-й клетке находятся не менее 3-х кроликов.  \n",
        "В общем случае принцип Дирихле говорит: если $(kn+1)$ кролик помещён в $n$ клетках, то в одной из клеток находятся не менее $(k+1)$ кролика."
      ],
      "metadata": {
        "id": "z36oDsZg-k3F"
      },
      "id": "z36oDsZg-k3F"
    },
    {
      "cell_type": "markdown",
      "source": [
        "**1)** Можно ли в клетках квадратной таблицы $5 \\times 5$ расставить числа $0, +1, -1$ так, чтобы все суммы в каждом столбце, в каждой строке и на каждой из двух диагоналей были различны?  \n"
      ],
      "metadata": {
        "id": "e3oXs1IgEZ_x"
      },
      "id": "e3oXs1IgEZ_x"
    },
    {
      "cell_type": "markdown",
      "source": [
        "&ensp; Допустим такая расстановка возможна, тогда можно составить  \n",
        "$$5 \\space (строк) + 5 \\space (столбцов) + 2 \\space (диагонали) = 12$$\n",
        "различных сумм чисел. Но из чисел $0, +1, -1$ можно составить только $11$ их сумм от $-5$ $5\\cdot(-1)$ до $5\\cdot(+1)$.  \n",
        "&ensp; Таком образом 12 \"ячеек\" (кроликов) *нельзя* разместить на 11 сумм (клеток)."
      ],
      "metadata": {
        "id": "xVAY_klvFMpg"
      },
      "id": "xVAY_klvFMpg"
    },
    {
      "cell_type": "markdown",
      "source": [
        "**2)** В ряд выписано пять натуральных чисел: $a_1, a_2, a_3, a_4, a_5$. Докажите, что либо одно из них делится на 5, либо сумма нескольких рядом стоящих чисел* делится на 5.   \n",
        "' * нескольких рядом стоящих == любая комбинация от 2-х до 5-и чисел, составленная без пропусков: $a_1a_2$, $a_2a_3$ или $a_3a_4a_5$ подходит, НО $a_2a_4a_5$ - нет."
      ],
      "metadata": {
        "id": "2MurmCoiISvp"
      },
      "id": "2MurmCoiISvp"
    },
    {
      "cell_type": "markdown",
      "source": [
        "Рассмотрим пять чисел:  \n",
        "$$a_1, (a_1+a_2), (a_1+a_2+a_3), (a_1+a_2+a_3+a_4), (a_1+a_2+a_3+a_4+a_5)$$\n",
        "&ensp; Если одно из них днлится на 5, то доказывать нечего. В противнос случае, при делении на 5 они дают в остатке какие-то из четырёх чисел: $1, 2, 3, 4$. По принципу Дирихле остатки, по крайней мере, двух из выписанных 5 чисел совпадут (5 чисел распределить на 4 остатка).  \n",
        "&ensp; Разность двух таких чисел, тем самым, делится на 5 (остаток равен нулю). Но эта разность - либо одно из чисел, данных в задаче, либо сумма нескольких из них, стоящих рядом. "
      ],
      "metadata": {
        "id": "1aKJek4fKEtE"
      },
      "id": "1aKJek4fKEtE"
    },
    {
      "cell_type": "markdown",
      "source": [
        "**3)** Имеется 6 точек на плоскости, никакие 3 из которых не лежат на одной прямой. Тем самым, имеется $C_6^2 = 15$ отрезков, которые эти точки соединяют попарно.  \n",
        "&ensp; Предположим, что все 15 отрезков окрашены либо в красный, либо в синий цвет. Докажите, что найдётся, по крайнем мере, один хроматический треугольник, т.е. такой, все стороны которого окрашены в один цвет. "
      ],
      "metadata": {
        "id": "43UG0uX6c8WU"
      },
      "id": "43UG0uX6c8WU"
    },
    {
      "cell_type": "markdown",
      "source": [
        "&ensp; Выберем какую-либо точку $A$ и рассмотрим $AB, AC, AD, AE, AF$, которые содержат $A$:  \n",
        "![](https://drive.google.com/uc?export=view&id=1a0zG3uhL8duvROomFL6nfXZ0seQYstEQ)"
      ],
      "metadata": {
        "id": "Z6fskObxeqdN"
      },
      "id": "Z6fskObxeqdN"
    },
    {
      "cell_type": "markdown",
      "source": [
        "&ensp; По принципу Дирихле, по крайней мере, три из этих пяти отрезков окрашены в один (например, красный) цвет: 5 отрезков на 2 цвета. Пусть это отрезки $AB, AC, AD$ (*это не приводит к потере общности, т.к. мы всегда можем переобозначить точки*). Выбор цвета также не играет роли, так как, перекрасив все отрезки синего цвета в красный и наоборот, мы получим другую раскраску, никак не влияющую на ситуацию с существованием одноцветного треугольника."
      ],
      "metadata": {
        "id": "rH2O1GI0hbbk"
      },
      "id": "rH2O1GI0hbbk"
    },
    {
      "cell_type": "markdown",
      "source": [
        "![](https://drive.google.com/uc?export=view&id=19rusLPlG-pl-WrJzuHxcIcGqpe_F70mW)  \n",
        "&ensp; Рассмотрим треугольник $\\Delta BCD$. Имеется две возможности: или все его стороны синие, или, по крайней мере, одна из его сторон красная. В первом случае $\\Delta BCD$ искомый, а во втором - если, например, сторона $BC$ красная, то треугольник $\\Delta ABC$ хроматический."
      ],
      "metadata": {
        "id": "dJZcOxTglqIJ"
      },
      "id": "dJZcOxTglqIJ"
    },
    {
      "cell_type": "markdown",
      "source": [
        "##### **Замечание**  "
      ],
      "metadata": {
        "id": "jE_6FxDKr4mj"
      },
      "id": "jE_6FxDKr4mj"
    },
    {
      "cell_type": "markdown",
      "source": [
        "![](https://drive.google.com/uc?export=view&id=1atf7Fx10JWYRiVZDYvkNme-X9Hor7JyP)  \n",
        "&ensp; Число 6 является наименьшим числом, которое обеспечивает существование хроматического треугольника, так как на рис. выше *нельзя* выбрать хроматического треугольника, если стороны пятиугольника покрашены в один цвет, а его диагонали - в другой."
      ],
      "metadata": {
        "id": "3Uis6YbQruzp"
      },
      "id": "3Uis6YbQruzp"
    },
    {
      "cell_type": "markdown",
      "source": [
        "**4)** Верно ли, что из ста произвольных целых чисел всегда можно выбрать 15 таких, у которых разность любых двух делится на 7? А 16 таких чисел?"
      ],
      "metadata": {
        "id": "4rZRbm5Y7Ii1"
      },
      "id": "4rZRbm5Y7Ii1"
    },
    {
      "cell_type": "markdown",
      "source": [
        "**Свойство:** разность двух чисел делится на 7 в том и только в том случае, когда равны остатки от деления на 7 (13 и 20, например).  \n",
        "&ensp; При делении на 7 существует семь возможных остатков: 0, 1, 2, 3, 4, 5, 6. Допустим, что *нельзя* выбрать 15 нужных чисел из 100. Это значит, что не более 14 чисел - остаток 1, аналогично - остатки 2, 3, 4, 5, 6. Но тогда всего получается не более чем $14 \\cdot 7 = 98 < 100$ чисел, т.е. **наше допущение неверно**.  \n",
        "**ЗЫ:** По принципу Дирихле мы получаем, что в 7 ячеек (остатков) размещаем 100 элементов, тогда получим, что $7k+1 = 100$, откуда целочисленное решение $k = 14$ (остаток от деления равен 2) $\\Rightarrow$ найдётся хотя бы 1 клетка, где будет $k+1 = 14+1 = 15$ элементов."
      ],
      "metadata": {
        "id": "NEcgZkmr7NsW"
      },
      "id": "NEcgZkmr7NsW"
    },
    {
      "cell_type": "markdown",
      "source": [
        "&ensp; **Нельзя**. Покажем это: в наборе $[1, 100]$ имеется **1)** 14 чисел с остатком 0; **2)** по 15 чисел, дающих в остатке 1 или 2; **3)** по 14 чисел, дающих в остатке 3, 4, 5, 6.  \n",
        "Мы перебрали все возможные остатки, и можно заметить, что ни один набор не содержит более 15 элементов $\\Rightarrow$ не существует 16 чисел, разность которых делится на 7. "
      ],
      "metadata": {
        "id": "lK3TNidGByxD"
      },
      "id": "lK3TNidGByxD"
    },
    {
      "cell_type": "markdown",
      "source": [
        "#### Сочетания-перестановки"
      ],
      "metadata": {
        "id": "kKvwPc3TQcsQ"
      },
      "id": "kKvwPc3TQcsQ"
    },
    {
      "cell_type": "markdown",
      "source": [
        "**1)** Сколько автомобилей в **одном регионе** можно обеспечить государственными регистрационными знаками, если каждый регистрационный знак состоит из кода региона, трёх букв, имеющих одинаковое начертание как в русском, так и в латинском алфавите (\"А\", \"В\", \"Е\", \"К\", \"М\", \"Н\", \"О\", \"Р\", \"С\", \"Т\", \"У\", \"Х\"), и трёх цифр?"
      ],
      "metadata": {
        "id": "BjTM71S_Qi1j"
      },
      "id": "BjTM71S_Qi1j"
    },
    {
      "cell_type": "markdown",
      "source": [
        "* 3 буквы: $12 \\cdot 12 \\cdot 12 = 12^3$  \n",
        "* 3 цифры: $10 \\cdot 10 \\cdot 10 = 10^3$  \n",
        "* Всего: $1 \\space 728 \\space 000$"
      ],
      "metadata": {
        "id": "dzvt0_qTRShw"
      },
      "id": "dzvt0_qTRShw"
    },
    {
      "cell_type": "markdown",
      "source": [
        "**2)** В сессию в течение 20 дней студенты одной группы должны сдать 5 экзаменов. Сколькими способами можно составить расписание экзаменов, если между двумя экзаменами должен пройти хотя бы один день для подготовки? [link, p. 36](https://books.google.ru/books?id=JiFVEAAAQBAJ&pg=PA36&lpg=PA36&dq=%D0%92+%D1%81%D0%B5%D1%81%D1%81%D0%B8%D1%8E+%D0%B2+%D1%82%D0%B5%D1%87%D0%B5%D0%BD%D0%B8%D0%B5+20+%D0%B4%D0%BD%D0%B5%D0%B9+%D1%81%D1%82%D1%83%D0%B4%D0%B5%D0%BD%D1%82%D1%8B+%D0%BE%D0%B4%D0%BD%D0%BE%D0%B9+%D0%B3%D1%80%D1%83%D0%BF%D0%BF%D1%8B+%D0%B4%D0%BE%D0%BB%D0%B6%D0%BD%D1%8B+%D1%81%D0%B4%D0%B0%D1%82%D1%8C+5+%D1%8D%D0%BA%D0%B7%D0%B0%D0%BC%D0%B5%D0%BD%D0%BE%D0%B2.+%D0%A1%D0%BA%D0%BE%D0%BB%D1%8C%D0%BA%D0%B8%D0%BC%D0%B8+%D1%81%D0%BF%D0%BE%D1%81%D0%BE%D0%B1%D0%B0%D0%BC%D0%B8+%D0%BC%D0%BE%D0%B6%D0%BD%D0%BE+%D1%81%D0%BE%D1%81%D1%82%D0%B0%D0%B2%D0%B8%D1%82%D1%8C+%D1%80%D0%B0%D1%81%D0%BF%D0%B8%D1%81%D0%B0%D0%BD%D0%B8%D0%B5+%D1%8D%D0%BA%D0%B7%D0%B0%D0%BC%D0%B5%D0%BD%D0%BE%D0%B2,+%D0%B5%D1%81%D0%BB%D0%B8+%D0%BC%D0%B5%D0%B6%D0%B4%D1%83+%D0%B4%D0%B2%D1%83%D0%BC%D1%8F+%D1%8D%D0%BA%D0%B7%D0%B0%D0%BC%D0%B5%D0%BD%D0%B0%D0%BC%D0%B8+%D0%B4%D0%BE%D0%BB%D0%B6%D0%B5%D0%BD+%D0%BF%D1%80%D0%BE%D0%B9%D1%82%D0%B8+%D1%85%D0%BE%D1%82%D1%8F+%D0%B1%D1%8B+%D0%BE%D0%B4%D0%B8%D0%BD+%D0%B4%D0%B5%D0%BD%D1%8C+%D0%B4%D0%BB%D1%8F+%D0%BF%D0%BE%D0%B4%D0%B3%D0%BE%D1%82%D0%BE%D0%B2%D0%BA%D0%B8&source=bl&ots=GII2lj9LGh&sig=ACfU3U2OutA1sh4GJNJU6PTZWwO4z3828Q&hl=ru&sa=X&ved=2ahUKEwjnwabnzL73AhXxoosKHZM_AHQQ6AF6BAgsEAM#v=onepage&q=%D0%92%20%D1%81%D0%B5%D1%81%D1%81%D0%B8%D1%8E%20%D0%B2%20%D1%82%D0%B5%D1%87%D0%B5%D0%BD%D0%B8%D0%B5%2020%20%D0%B4%D0%BD%D0%B5%D0%B9%20%D1%81%D1%82%D1%83%D0%B4%D0%B5%D0%BD%D1%82%D1%8B%20%D0%BE%D0%B4%D0%BD%D0%BE%D0%B9%20%D0%B3%D1%80%D1%83%D0%BF%D0%BF%D1%8B%20%D0%B4%D0%BE%D0%BB%D0%B6%D0%BD%D1%8B%20%D1%81%D0%B4%D0%B0%D1%82%D1%8C%205%20%D1%8D%D0%BA%D0%B7%D0%B0%D0%BC%D0%B5%D0%BD%D0%BE%D0%B2.%20%D0%A1%D0%BA%D0%BE%D0%BB%D1%8C%D0%BA%D0%B8%D0%BC%D0%B8%20%D1%81%D0%BF%D0%BE%D1%81%D0%BE%D0%B1%D0%B0%D0%BC%D0%B8%20%D0%BC%D0%BE%D0%B6%D0%BD%D0%BE%20%D1%81%D0%BE%D1%81%D1%82%D0%B0%D0%B2%D0%B8%D1%82%D1%8C%20%D1%80%D0%B0%D1%81%D0%BF%D0%B8%D1%81%D0%B0%D0%BD%D0%B8%D0%B5%20%D1%8D%D0%BA%D0%B7%D0%B0%D0%BC%D0%B5%D0%BD%D0%BE%D0%B2%2C%20%D0%B5%D1%81%D0%BB%D0%B8%20%D0%BC%D0%B5%D0%B6%D0%B4%D1%83%20%D0%B4%D0%B2%D1%83%D0%BC%D1%8F%20%D1%8D%D0%BA%D0%B7%D0%B0%D0%BC%D0%B5%D0%BD%D0%B0%D0%BC%D0%B8%20%D0%B4%D0%BE%D0%BB%D0%B6%D0%B5%D0%BD%20%D0%BF%D1%80%D0%BE%D0%B9%D1%82%D0%B8%20%D1%85%D0%BE%D1%82%D1%8F%20%D0%B1%D1%8B%20%D0%BE%D0%B4%D0%B8%D0%BD%20%D0%B4%D0%B5%D0%BD%D1%8C%20%D0%B4%D0%BB%D1%8F%20%D0%BF%D0%BE%D0%B4%D0%B3%D0%BE%D1%82%D0%BE%D0%B2%D0%BA%D0%B8&f=false)"
      ],
      "metadata": {
        "id": "LdoBp8TQXWUM"
      },
      "id": "LdoBp8TQXWUM"
    },
    {
      "cell_type": "markdown",
      "source": [
        "&ensp; Среди имеющихся 20 дней есть 4 дня, в которые *нельзя* проводить экзамен (после 1-4 экзаменов), но при этом каждый набор выглядит как размещение из 16 по 5 (с плавающими \"запретными\" днями), так как порядок проведения имеет значение. $A_{20-4}^{5} = \\frac{16!}{(16-11)!} = 524 160$  \n",
        "**ЗЫ:** пояснение, почему 5 подряд экзаменов в 16 днях не совсем то, чем кажутся.  Можно взять изначально 16 дней (без привязки к календарю и летоисчислению), как-то расставить 5 экзаменов, а потом после первых 4-х вставить day-off, чтобы добрать до 20 дней. Итого, в любой расстановке будет минимум 1 день для подготовки."
      ],
      "metadata": {
        "id": "wgX4lauOYRyD"
      },
      "id": "wgX4lauOYRyD"
    },
    {
      "cell_type": "markdown",
      "source": [
        "**3)** В конкурсе по 3 номинациям участвуют 10 кинофильмов. Вычислите число вариантов распределения призов, если призы в разных номинациях:  \n",
        "&ensp; **a)** различны;  \n",
        "&ensp; **б)** одинаковы."
      ],
      "metadata": {
        "id": "kMKc-si7SY5C"
      },
      "id": "kMKc-si7SY5C"
    },
    {
      "cell_type": "markdown",
      "source": [
        "а) Для различных призов имеет значение порядок $\\Rightarrow$ размещения: $10^3 = 1000$  \n",
        "б) Могут оказаться одинаковые, и отличающиеся друг от друга только составом элементов $\\Rightarrow$ Сочетаниями с повторениями из n элементов по k: $C_{n+k-1}^{k} = C_{12}^{3} = 220$"
      ],
      "metadata": {
        "id": "bt39HQCzS6pA"
      },
      "id": "bt39HQCzS6pA"
    },
    {
      "cell_type": "markdown",
      "id": "5756612d",
      "metadata": {
        "id": "5756612d"
      },
      "source": [
        "**3)** События $A, B, C$ имеют одинаковые вероятности $p$, попарно независимы, но не являются независимыми в совокупности,  \n",
        "$$ \\mathbb{P}(A \\cap B \\cap C) = 0 $$\n",
        "Каково наибольшее значение $p$?"
      ]
    },
    {
      "cell_type": "markdown",
      "id": "b3c1102e",
      "metadata": {
        "id": "b3c1102e"
      },
      "source": [
        "* $\\left\\{\n",
        "    \\begin{array}\\\\\n",
        "        \\mathbb{P}(A) = \\mathbb{P}(B) = \\mathbb{P}(C) = p \\\\\n",
        "        \\mathbb{P}(AB) = p^2 \\\\\n",
        "        \\mathbb{P}(ABC) = 0 \\neq p^3\n",
        "    \\end{array}\n",
        "\\right. $  \n",
        "* Задача состоит в $\\{ max(p^2) | p^3 \\neq 0, p \\neq 1 \\}$  \n",
        "* Воспользуемся свойством для объединения событий: $\\mathbb{P}(A \\cup B \\cup C) = \\sum_{j=1}^{3} p_{i}-\\sum_{j=1}^{3} p^2_{i}+\\mathbb{P}(A \\cap B \\cap C) = -3p^2+3p \\leq 1 \\Rightarrow 3p^2-3p+1 \\geq 0$\n",
        "* $max(3p^2-3p+1)$ через производную функции: $p = \\frac{1}{2}$ (подставим найденное решение в функцию и сравним с нулём: $\\frac{1}{4} > 0$)  \n",
        " **Ответ:** $p = \\frac{1}{2}$"
      ]
    },
    {
      "cell_type": "markdown",
      "source": [
        "[Statistics Lecture notes](https://www.stat.cmu.edu/~cshalizi/mreg/15/)"
      ],
      "metadata": {
        "id": "ldFUCMhLESsE"
      },
      "id": "ldFUCMhLESsE"
    },
    {
      "cell_type": "markdown",
      "source": [
        "### **[Задача о рассеянной секретарше](https://www.coursera.org/learn/theory-of-chances/lecture/FJtVC/1-10-zadacha-o-rassieiannoi-siekrietarshie).**"
      ],
      "metadata": {
        "id": "2HHgSu_Y5H_D"
      },
      "id": "2HHgSu_Y5H_D"
    },
    {
      "cell_type": "markdown",
      "source": [
        "&ensp; Есть $n$ писем и $n$ подписанных конвертов. Письма раскладываются в конверты наудачу по одному.\n",
        "Найти вероятность того, что хотя бы одно письмо попадёт в предназначенный ему конверт, и предел этой вероятности при $n \\rightarrow \\infty$."
      ],
      "metadata": {
        "id": "_zWI6yHY5SBN"
      },
      "id": "_zWI6yHY5SBN"
    },
    {
      "cell_type": "markdown",
      "source": [
        "&ensp; Введём события $A_i$, $i = 1, 2, 3, . . . , n$: $A_i = \\{$i-ое письмо попало в свой конверт$\\}$. Тогда $A = \\{$хотя бы одно письмо попало в свой конверт$\\}=A_1 \\cup A_2 \\cup ... \\cup A_n$. Так как события $A_i$ совместны - нужно воспользоваться формулой для объединения $n$ событий.  \n",
        "&ensp; По классическому определению вероятности вычислим вероятности всех событий $A_i$ и их пересечений. Элементарными исходами будут всевозможные перестановки (размещения) $n$ писем по $n$ конвертам. Их общее число равно  \n",
        "$$|\\Omega| = n!$$\n",
        "и событию Ai благоприятны $(n − 1)!$ из них, а именно любые перестановки всех писем, кроме $i$-го, лежащего в своём конверте. Поэтому для всех $i$ имеем:  \n",
        "$$\\mathbb{P}(A_i) = \\frac{(n − 1)!}{n!} = \\frac{1}{n}.$$  \n",
        "Совершенно так же получим, что при любых $i \\neq j$:  \n",
        "$$\\mathbb{P}(A_i A_j) = \\frac{(n − 2)!}{n!} = \\frac{1}{n(n-1)}.$$\n",
        "Вероятность пересечения любых трёх событий равна:\n",
        "$$\\mathbb{P}(A_i A_j A_k) = \\frac{(n − 3)!}{n!} = \\frac{1}{n(n-1)(n-2}.$$\n",
        "Аналогично посчитаем вероятности пересечений любого другого числа событий, в том числе:\n",
        "$$\\mathbb{P}(A_1 A_2 ... A_n) = \\frac{1}{n!}.$$\n",
        "Вычислим количество слагаемых в каждой сумме в формуле объединения. Например, в сумме по $1 \\leq i < j < k \\leq n$ получится $C_n ^ 3$ слагаемых - ровно столько трёхэлементных множеств можно образовать из n элементов, и каждое такое множество $\\{i, j, k\\}$ встречается в индексах данной суммы единожды:  \n",
        "$\\mathbb{P}(A) = n \\cdot \\frac{1}{n} - C_n ^2 \\cdot \\frac{1}{n(n-1)} + C_n ^3 \\cdot \\frac{1}{n(n-1)(n-2)} - ... + (-1)^{n-1} \\cdot \\frac{1}{n!} = 1-\\frac{1}{2!} + \\frac{1}{3!} - ... + (-1)^{n-1} \\cdot \\frac{1}{n!} \\longrightarrow 1 - e^{-1}$ при $n \\rightarrow \\infty$\n",
        "**ЗЫ:** добавление пересечений после соответствующего вычитания нужно, чтоюы заполнить \"пробел\" на пересечении всех предыдущих элементов (хорошо демонстрируется на примере пересечения 3-х событий)."
      ],
      "metadata": {
        "id": "ZyP0bKqI5ig9"
      },
      "id": "ZyP0bKqI5ig9"
    },
    {
      "cell_type": "markdown",
      "source": [
        "### **[Задача о поделенном выигрыше](https://www.coursera.org/learn/theory-of-chances/lecture/552AI/1-1-zadacha-o-razdielie-stavki)**"
      ],
      "metadata": {
        "id": "DqpFnsyKbib5"
      },
      "id": "DqpFnsyKbib5"
    },
    {
      "cell_type": "markdown",
      "source": [
        "&ensp; **Усложнённый вариант задачи, разобранной по ссылке выше**.  \n",
        "Петя и Маша часто играют друг с другом в бильярд (смотрят, как играет 3-е лицо), причём Петя выигрывает в два раза чаще, чем Маша. Исходя из этого, они оценили свои вероятности победить как $\\frac{2}{3}$ - для Пети (шар закатили в лунку) и $\\frac{1}{3}$ - для Маши (шар не закатили в лунку).  \n",
        "* каждый выигрыш даёт 1 очко;\n",
        "* Пете нужно набрать 12 очков для победы;\n",
        "* Маше нужно набрать 6 очков.  \n",
        "Игру останавливают при счёте 8:4. Кому присудить победу исходя из вероятности выигрыша?"
      ],
      "metadata": {
        "id": "jwSkHoRObrNK"
      },
      "id": "jwSkHoRObrNK"
    },
    {
      "cell_type": "markdown",
      "source": [
        "&ensp; Минимальное число ударов для **однозначного** определения победителя равно пяти (отсутствие спорных исходов; полностью доопределить подпростарнство событий). Маша выигрывает при 3-х попаданиях и 2-х промахах. Петя выигрывает при 4-х попаданиях и 1-м промахе (т.к попыток так или иначе 5, то случай 5 попаданий и 0 промахов тоже котируется):  \n",
        "$$\\mathbb{P}(выигрыш \\space Пети) = \\mathbb{P}(0 \\space или \\space 1 \\space выигрыш \\space Маши) = C_5 ^ 0 \\left(\\frac{1}{3} \\right)^0 \\left(\\frac{2}{3} \\right)^5 + C_5 ^1 \\left(\\frac{1}{3} \\right)^1 \\left(\\frac{2}{3} \\right)^4 = \\frac{112}{243}$$\n",
        "$$\\mathbb{P}(выигрыш \\space Маши) = 1 - \\mathbb{P}(выигрыш \\space Пети) = \\frac{131}{243} > \\frac{112}{243}$$\n",
        "Победу нужно присудить Маше."
      ],
      "metadata": {
        "id": "tQXNhEyRyeFF"
      },
      "id": "tQXNhEyRyeFF"
    },
    {
      "cell_type": "markdown",
      "source": [
        "# **[Теор вер 3](https://drive.google.com/file/d/1UNkvb5wZ7hEKt_9_3oYrJqR0gTYMVtoY/view?usp=sharing)**"
      ],
      "metadata": {
        "id": "VzEXN_AqlpPm"
      },
      "id": "VzEXN_AqlpPm"
    },
    {
      "cell_type": "markdown",
      "source": [
        "### **Алгебра событий (конечный набор)**"
      ],
      "metadata": {
        "id": "CQMR3of02k_7"
      },
      "id": "CQMR3of02k_7"
    },
    {
      "cell_type": "markdown",
      "source": [
        "&ensp; Доказать, что если $\\Omega$ содержит $n$ элементов, то множество всех его подмножеств состоит из $2^n$ элементов.  \n",
        "Множество из 4-х элементов: $\\{1, 2, 3, 4\\}$"
      ],
      "metadata": {
        "id": "PALJsDM6GXLU"
      },
      "id": "PALJsDM6GXLU"
    },
    {
      "cell_type": "markdown",
      "source": [
        "&ensp; Вообще говоря, каждый из элементов может быть либо включён в i-ое подмножество, либо нет, в совокупности это значит следующее: в каждый шаг 1 или 0, т.е всего $2^n$ элементов.  \n",
        "**ЗЫ:** можно проверить через число сочетаний, что для 4-х элементов 16 комбинаций."
      ],
      "metadata": {
        "id": "QyrvtdcDGsqj"
      },
      "id": "QyrvtdcDGsqj"
    },
    {
      "cell_type": "markdown",
      "source": [
        "### **$\\sigma$-Алгебра событий (счётный набор)**"
      ],
      "metadata": {
        "id": "OI5diCHuhX2C"
      },
      "id": "OI5diCHuhX2C"
    },
    {
      "cell_type": "markdown",
      "source": [
        "Докажите, что если $A \\in$ $\\mathcal{F}$ и $B \\in$ $\\mathcal{F}$, то $(A \\setminus B) \\in$ $\\mathcal{F}$."
      ],
      "metadata": {
        "id": "rJa37OZChdqo"
      },
      "id": "rJa37OZChdqo"
    },
    {
      "cell_type": "markdown",
      "source": [
        "**1)** Запишем $A \\setminus B$ как  $A \\cup \\bar B$.  \n",
        "**2)** По свойствам $\\sigma$-алгебры, если событие $A \\in \\mathcal{F}$, то и $\\bar A \\in \\mathcal{F}$. Аналогично для $B$.  \n",
        "**3)** вместе с любым счётным набором событий σ-алгебра содержит их объединение: $(A \\cup \\bar B) \\in \\mathcal{F} \\Leftrightarrow (A \\setminus B) \\in \\mathcal{F}$"
      ],
      "metadata": {
        "id": "3XhtMN3RioBD"
      },
      "id": "3XhtMN3RioBD"
    },
    {
      "cell_type": "markdown",
      "source": [
        "### **Боррелева $\\sigma$-алгебра в $\\mathbb{R}$**"
      ],
      "metadata": {
        "id": "bQnpNumOl_VQ"
      },
      "id": "bQnpNumOl_VQ"
    },
    {
      "cell_type": "markdown",
      "source": [
        "Докажите, что любое одноточечное множество $\\{ b \\in \\mathbb{R}\\}$ принадлежит $\\mathcal{B}(\\mathbb{R})$.  \n"
      ],
      "metadata": {
        "id": "5gL1E1wGf3jn"
      },
      "id": "5gL1E1wGf3jn"
    },
    {
      "cell_type": "markdown",
      "source": [
        "&ensp; Пусть множество $A$ подмножеств вещественной прямой $\\mathbb{R}$ состоит из всевозможных открытых интервалов $(a, b)$, где $a < b$:  \n",
        "$$\\mathcal{U} = \\{(a, b) | -\\infty < a < b < \\infty \\}$$  \n",
        "&ensp; Минимальная $\\sigma$-алгебра, содержащая множество $\\mathcal{U}$ всех интервалов на вещественной прямой, определённое выше, называется **борелевской $\\sigma$-алгеброй в $\\mathbb{R}$ и обозначают $\\mathcal{B}(\\mathbb{R})$**.  \n",
        "Рассмотрим промежуток $\\left(b, b + \\dfrac{1}{n} \\right)$ - принадлежит $\\mathcal{B}(\\mathbb{R}) \\space \\forall \\space n \\in \\mathbb{N}$.  \n",
        "Таким образом, она является и $\\sigma$-алгеброй - счётное пересечение её множеств лежит в $\\mathcal{B}(\\mathbb{R})$:  \n",
        "$$\\{b\\} = \\bigcap_{n=1}^{\\infty}\\left(b - \\dfrac{1}{n}, b + \\dfrac{1}{n} \\right) \\in \\mathcal{B}(\\mathbb{R})$$"
      ],
      "metadata": {
        "id": "-Z7OaYFLgnNX"
      },
      "id": "-Z7OaYFLgnNX"
    },
    {
      "cell_type": "markdown",
      "source": [
        "### **Геометрическая вероятность**"
      ],
      "metadata": {
        "id": "hp_ax1VESsEU"
      },
      "id": "hp_ax1VESsEU"
    },
    {
      "cell_type": "markdown",
      "source": [
        "**1)** На отрезок $AB$ длины $L$, брошена точка $M$ так, что любое её положение на отрезке равновозможно. Найти вероятность того, что меньший из отрезков ($AM$ или $MB$) имеет длину, большую чем $\\dfrac{L}{3}$."
      ],
      "metadata": {
        "id": "1j7I2u2MSxF_"
      },
      "id": "1j7I2u2MSxF_"
    },
    {
      "cell_type": "markdown",
      "source": [
        "&ensp; Для начала разделим отрезок пополам (точка перехода меньшего отрезка в больший).  \n",
        "&ensp; Если отрезок $AM$ - меньший, тогда он должен лежать между $\\frac{L}{3}$ и $\\frac{L}{2}$. И длина этого диапазона будет $\\frac{L}{6}$. При переходе через половину можно применить аналогичные рассуждения, но для $MB$ и получить также $\\frac{L}{6}$.  \n",
        "&ensp; **Итого**, $\\mathbb{P}($длина меньшего отрезка больше $\\frac{L}{3}) = \\left(2\\cdot\\frac{L}{3} \\right) \\cdot \\frac{1}{L} = \\frac{1}{3}$  \n"
      ],
      "metadata": {
        "id": "E4cUnrIBTi_F"
      },
      "id": "E4cUnrIBTi_F"
    },
    {
      "cell_type": "markdown",
      "source": [
        "**2)** Палку длиной 1 метр ломают случайно в двух точках. Определить вероятность того, что из полученных частей можно составить треугольник."
      ],
      "metadata": {
        "id": "Ic-snZV-gebs"
      },
      "id": "Ic-snZV-gebs"
    },
    {
      "cell_type": "markdown",
      "source": [
        "&ensp; Пусть $x, y, (l-x-y)$ - длины получившихся частей стержня.  \n",
        "&ensp; Первое логичное условие: $0 \\leq x+y \\leq l$ (условно говоря, нельзя получить из длины 1 длину 2). По этому критерию можно графически изобразить прямую $y = l-x$, которая вместе с осями координат даёт область возможных разбиений отрезка площади $S = \\frac{l^2}{2}$ (треугольник).  \n",
        "&ensp; Чтобы составить из полученных отрезков треугольник, нужно **1)** $x, y < \\frac{L}{2}$ (в разных половинах отрезка) и **2)** $x + y > \\frac{L}{2}$ (сумма 2-х меньших сторон больше 3-й). Данные два условия задают прямую раздела $y = \\frac{L}{2} - x$, которая вместе с осями координат ограничивает область $S_1 = \\frac{l^2}{8}$ (маленький треугольник), где *возможно составить треугольник из отрезков*.  \n",
        "Таким образом, $\\mathbb{P} = \\frac{l^2}{8} / \\frac{l^2}{2} = \\frac{1}{4}$."
      ],
      "metadata": {
        "id": "BsD5stZ7glZm"
      },
      "id": "BsD5stZ7glZm"
    },
    {
      "cell_type": "markdown",
      "id": "bf0354b4",
      "metadata": {
        "id": "bf0354b4"
      },
      "source": [
        "### section2\n",
        "<a id ='section2'></a>\n",
        "\n",
        "some text ..."
      ]
    }
  ],
  "metadata": {
    "kernelspec": {
      "display_name": "Python 3",
      "language": "python",
      "name": "python3"
    },
    "language_info": {
      "codemirror_mode": {
        "name": "ipython",
        "version": 3
      },
      "file_extension": ".py",
      "mimetype": "text/x-python",
      "name": "python",
      "nbconvert_exporter": "python",
      "pygments_lexer": "ipython3",
      "version": "3.8.8"
    },
    "colab": {
      "name": "YSoDA.ipynb",
      "provenance": [],
      "collapsed_sections": [
        "8e693690",
        "1aeb130b",
        "65cf2850",
        "a128b8e0",
        "48a7bf93",
        "5f039c4b",
        "a291f5d0",
        "9446e70f",
        "77c736d2",
        "831acfec"
      ],
      "toc_visible": true
    }
  },
  "nbformat": 4,
  "nbformat_minor": 5
}

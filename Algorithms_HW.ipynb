{
  "cells": [
    {
      "cell_type": "markdown",
      "metadata": {
        "id": "view-in-github",
        "colab_type": "text"
      },
      "source": [
        "<a href=\"https://colab.research.google.com/github/Felgaba/Math_Programming_Yandex_OZON/blob/main/Algorithms_HW.ipynb\" target=\"_parent\"><img src=\"https://colab.research.google.com/assets/colab-badge.svg\" alt=\"Open In Colab\"/></a>"
      ]
    },
    {
      "cell_type": "markdown",
      "source": [
        "#### **Разбор заданий из плейлиста [Ave Coder](https://www.youtube.com/playlist?list=PLPPIc-4tm3YSc6wN8Yhstdu-jucdWqL0_)**"
      ],
      "metadata": {
        "id": "b_ASSwN07m3i"
      }
    },
    {
      "cell_type": "markdown",
      "source": [
        "**Задание 1**  \n",
        "Написать функцию для определения, является ли предложенное слово [палиндромом](https://ru.wikipedia.org/wiki/%D0%9F%D0%B0%D0%BB%D0%B8%D0%BD%D0%B4%D1%80%D0%BE%D0%BC) (String).  \n",
        "**Вход:** слово или предложение (String);  \n",
        "**Выход:** Boolean (True/False);  \n",
        "**Условия:** Только буквы ('A-Z'), игнорируем регистр ('Z'=='z')."
      ],
      "metadata": {
        "id": "l577Iskt7vSS"
      }
    },
    {
      "cell_type": "code",
      "source": [
        "import re"
      ],
      "metadata": {
        "id": "QrwT_jL2Die-"
      },
      "execution_count": null,
      "outputs": []
    },
    {
      "cell_type": "code",
      "source": [
        "def is_palindrome(word):\n",
        "  forwards = ''.join(re.findall(r'[a-z]+', word.lower())) #найти от 1 и больше a-z, регистр и пробелы/апострофы не важны\n",
        "  backwards = forwards[::-1]\n",
        "  return forwards == backwards"
      ],
      "metadata": {
        "id": "mgypbXmzA_Sw"
      },
      "execution_count": null,
      "outputs": []
    },
    {
      "cell_type": "code",
      "source": [
        "is_palindrome('ave coder')"
      ],
      "metadata": {
        "colab": {
          "base_uri": "https://localhost:8080/"
        },
        "id": "nvmDl8B_DloV",
        "outputId": "6998eb13-f7c9-4d04-9bc7-e7961180f903"
      },
      "execution_count": null,
      "outputs": [
        {
          "output_type": "execute_result",
          "data": {
            "text/plain": [
              "False"
            ]
          },
          "metadata": {},
          "execution_count": 8
        }
      ]
    },
    {
      "cell_type": "markdown",
      "source": [
        "**Задание 2**  \n",
        "Написать функцию, задающую некоторый период времени и запускающую таймер после нажатия клавиши Enter.  \n",
        "После повторного нажатия Enter таймер останавливается и на экран выводится прошедшее время.  \n",
        "**1)** Если меньше заявленного времени - too fast;  \n",
        "**2)** Если больше - too slow;  \n",
        "**3)** Если время совпадает - on time. "
      ],
      "metadata": {
        "id": "xy0RQNNmEQJY"
      }
    },
    {
      "cell_type": "code",
      "source": [
        "import time\n",
        "import random"
      ],
      "metadata": {
        "id": "4Gu0gXDfKS87"
      },
      "execution_count": null,
      "outputs": []
    },
    {
      "cell_type": "code",
      "source": [
        "def on_time_game(left, right):\n",
        "  target = random.randint(left, right)\n",
        "  print('Your target time is {} seconds'.format(target))\n",
        "\n",
        "  input('--Press Enter to Begin--')\n",
        "  start = time.perf_counter() # \"включить\" секундомер\n",
        "\n",
        "  input('--Press Enter after {} seconds--'.format(target))\n",
        "  elapsed = time.perf_counter() - start\n",
        "\n",
        "  print('Elapsed time: {0:.3f} seconds'.format(elapsed))\n",
        "  diff = abs(elapsed-target)\n",
        "\n",
        "  if elapsed == target:\n",
        "    print('You are on time!')\n",
        "  elif elapsed < target:\n",
        "    print('{0:.3f} seconds too fast'.format(diff))\n",
        "  elif elapsed > target:\n",
        "    print('{0:.3f} seconds too slow'.format(diff))"
      ],
      "metadata": {
        "id": "iMfXdZ4QPbX8"
      },
      "execution_count": null,
      "outputs": []
    },
    {
      "cell_type": "code",
      "source": [
        "on_time_game(3, 6)"
      ],
      "metadata": {
        "colab": {
          "base_uri": "https://localhost:8080/"
        },
        "id": "1EpUkajpSIKz",
        "outputId": "a038bc82-1d3c-4808-de80-68295e16f817"
      },
      "execution_count": null,
      "outputs": [
        {
          "output_type": "stream",
          "name": "stdout",
          "text": [
            "Your target time is 6 seconds\n",
            "--Press Enter to Begin--\n",
            "--Press Enter after 6 seconds--\n",
            "Elapsed time: 0.823 seconds\n",
            "5.177 seconds too fast\n"
          ]
        }
      ]
    },
    {
      "cell_type": "markdown",
      "source": [
        "**Задача 3**  \n",
        "Простые множители (простые делители) целого числа.  \n",
        "**Вход:** целое число (Int);  \n",
        "**Выход:** список из простых множителей заданного числа.\n"
      ],
      "metadata": {
        "id": "jlqjJBt8SdoZ"
      }
    },
    {
      "cell_type": "code",
      "source": [
        "def prime_factors(n):\n",
        "    i = 2\n",
        "    factors = []\n",
        "    while i * i <= n: # достаточно посмотреть не более sqrt(n) делителей для данной итерации n, \n",
        "    # тк любое число можно представить как произведение условно \"меньшего\" и \"большего\" или двух одинаковых, которые в произведении должны быть не больше самого числа\n",
        "        if n % i: # если остаток не 0, увеличиваем делитель\n",
        "            i += 1\n",
        "        else:\n",
        "            n /= i # пересчитываем n (остаток после деления)\n",
        "            factors.append(i) # добавляем в список новый простой делитель\n",
        "    if n > 1: # добавим остаток в список\n",
        "        factors.append(n)\n",
        "    return factors"
      ],
      "metadata": {
        "id": "RW-Xx-4Dav1t"
      },
      "execution_count": null,
      "outputs": []
    },
    {
      "cell_type": "markdown",
      "source": [
        "`if` после `while` нужен, чтобы не единичный остаток не выпал, т.к проверка `while` не проходит (последний делитель больше корня или его квадрат больше самого числа): $3 > \\sqrt{5} \\Leftrightarrow 3^2 > 5$"
      ],
      "metadata": {
        "id": "0er9MtRrjrt4"
      }
    },
    {
      "cell_type": "code",
      "source": [
        "prime_factors(180)"
      ],
      "metadata": {
        "colab": {
          "base_uri": "https://localhost:8080/"
        },
        "id": "JJ9XEZmwcReQ",
        "outputId": "7ca566d2-e0d4-4865-fc21-f84acd6b2903"
      },
      "execution_count": null,
      "outputs": [
        {
          "output_type": "execute_result",
          "data": {
            "text/plain": [
              "[2, 2, 3, 3, 5]"
            ]
          },
          "metadata": {},
          "execution_count": 45
        }
      ]
    },
    {
      "cell_type": "markdown",
      "source": [
        "2 раза делим на 2 (вызываем `else`), потом 2 раза делим на 3 (также `else`).  \n",
        "При этом остаток от деления также нужно сравнивать с квадратом делителя (корнем из числа). "
      ],
      "metadata": {
        "id": "uPKLmVlljjx5"
      }
    },
    {
      "cell_type": "markdown",
      "source": [
        "**Задача 4**  \n",
        "Написать функцию для определения вероятности исхода броска кубика(-ов).  \n",
        "**Вход:** Количество граней у кубика (Integer).  \n",
        "**Выход:** Список, где каждому возможному исходу присвоена вероятность.  \n",
        "**Условия:** Может быть несколько кубиков, число граней может отличаться."
      ],
      "metadata": {
        "id": "8P7qCoQhks95"
      }
    },
    {
      "cell_type": "code",
      "source": [
        "from random import randint\n",
        "from collections import Counter"
      ],
      "metadata": {
        "id": "IldTR-CjoEL7"
      },
      "execution_count": null,
      "outputs": []
    },
    {
      "cell_type": "code",
      "source": [
        "def roll_dice(*dice, num_trials = 10**6): # 'dice' зафиксирован как итерируемый объект и как tuple (by default)\n",
        "  counts = Counter() # a !dict! subclass for counting hashable objects\n",
        "  for roll in range(num_trials):\n",
        "    counts[sum(randint(1, sides) for sides in dice)] += 1 # итерируем tuple и суммируем число выпавших очков на костях -> +1 к числу исходов\n",
        "  \n",
        "  print('OUTCOME\\tPROBABILITY')\n",
        "  for outcome in range(len(dice), sum(dice)+1): # сумма очков идёт от 1*\"число кубиков\" до \"число граней\"*\"число кубиков\" \n",
        "    print('{}\\t{:0.3f}%'.format(outcome, counts[outcome]*100/num_trials))"
      ],
      "metadata": {
        "id": "9QqJSOlQVrii"
      },
      "execution_count": null,
      "outputs": []
    },
    {
      "cell_type": "code",
      "source": [
        "roll_dice(6, 4)"
      ],
      "metadata": {
        "colab": {
          "base_uri": "https://localhost:8080/"
        },
        "id": "vVUNDZRaY_N0",
        "outputId": "040502e7-9c67-4f7e-e2fd-fc7d41a656ca"
      },
      "execution_count": null,
      "outputs": [
        {
          "output_type": "stream",
          "name": "stdout",
          "text": [
            "OUTCOME\tPROBABILITY\n",
            "2\t4.206%\n",
            "3\t8.316%\n",
            "4\t12.462%\n",
            "5\t16.631%\n",
            "6\t16.694%\n",
            "7\t16.701%\n",
            "8\t12.482%\n",
            "9\t8.335%\n",
            "10\t4.173%\n"
          ]
        }
      ]
    },
    {
      "cell_type": "markdown",
      "source": [
        "**Задача 5**  \n",
        "Написать функцию сортировки слов в алфавитном порядке.  \n",
        "**Вход:** Слова, разделенный запятыми (String).  \n",
        "**Выход:** Слова, разделенный запятыми, отсортированные в алфавитном порядке.  \n",
        "**Условия:** Игнорируем регистр при сортировке. НО регистр сохраняется на выходе."
      ],
      "metadata": {
        "id": "tjwruHQE-vI2"
      }
    },
    {
      "cell_type": "code",
      "source": [
        "def sort_words(input):\n",
        "  words = input.split()\n",
        "  words = [w.lower() + w for w in words] \n",
        "  words.sort()\n",
        "  words = [w[len(w)//2:] for w in words]\n",
        "  return ' '.join(words)"
      ],
      "metadata": {
        "id": "vngWU3OW_d9J"
      },
      "execution_count": null,
      "outputs": []
    },
    {
      "cell_type": "code",
      "source": [
        "sort_words('sHouta, ShoutA, sHouTa')"
      ],
      "metadata": {
        "colab": {
          "base_uri": "https://localhost:8080/",
          "height": 35
        },
        "id": "LyuJHoGQAJAf",
        "outputId": "34b8fc2e-4122-49c6-cc44-518ca7f9aa01"
      },
      "execution_count": null,
      "outputs": [
        {
          "output_type": "execute_result",
          "data": {
            "text/plain": [
              "'ShoutA, sHouta, sHouTa'"
            ],
            "application/vnd.google.colaboratory.intrinsic+json": {
              "type": "string"
            }
          },
          "metadata": {},
          "execution_count": 12
        }
      ]
    },
    {
      "cell_type": "markdown",
      "source": [
        "**ЗЫ:** в таком подходе одинаковые слова в нижнем регистре будут распознаваться с приоритетом для первой заглавной литеры. Случай чередования литер - приоритет случайный."
      ],
      "metadata": {
        "id": "ui45PPZ4GNry"
      }
    },
    {
      "cell_type": "markdown",
      "source": [
        "**Задача 6**  \n",
        "Посчитать уникальные слова в тексте.  \n",
        "**Вход:** Путь у текстовому файлу (.txt).  \n",
        "**Выход:** Общее число слов и 20 самых популярных слов.  \n",
        "**Условия:** Игнорируем регистр при сортировке. НО регистр сохраняется на выходе."
      ],
      "metadata": {
        "id": "gNsKR3t7Kxwy"
      }
    },
    {
      "cell_type": "code",
      "source": [
        "import re\n",
        "from collections import Counter"
      ],
      "metadata": {
        "id": "w5-e8DATL6G3"
      },
      "execution_count": null,
      "outputs": []
    },
    {
      "cell_type": "code",
      "source": [
        "def count_words(path):\n",
        "  with open(path, encoding = 'utf-8') as file:\n",
        "    all_words = re.findall(r'[0-9a-zA-Z]+', file.read())\n",
        "    all_words = [word.upper() for word in all_words]\n",
        "    print('TotalWords', len(all_words))\n",
        "\n",
        "    word_counts = Counter()\n",
        "    for word in all_words:\n",
        "      word_counts[word] += 1\n",
        "      \n",
        "    print('Top 20 words:')\n",
        "    for word in word_counts.most_common(20): # key-value pair from dict\n",
        "      print(word[0], '\\t', word[1])"
      ],
      "metadata": {
        "id": "W74r3qy0Mdkj"
      },
      "execution_count": null,
      "outputs": []
    },
    {
      "cell_type": "code",
      "source": [
        "count_words('shakespeare.txt')"
      ],
      "metadata": {
        "colab": {
          "base_uri": "https://localhost:8080/"
        },
        "id": "GrIfKOW1RdW6",
        "outputId": "63d8ddbc-f524-48a5-8a7a-eb83f1196bb0"
      },
      "execution_count": null,
      "outputs": [
        {
          "output_type": "stream",
          "name": "stdout",
          "text": [
            "TotalWords 3665\n",
            "Top 20 words:\n",
            "A \t 605\n",
            "NAME \t 288\n",
            "BR \t 224\n",
            "BLOCKQUOTE \t 128\n",
            "B \t 126\n",
            "I \t 68\n",
            "AND \t 53\n",
            "THE \t 47\n",
            "TO \t 40\n",
            "MY \t 39\n",
            "OF \t 30\n",
            "YOU \t 30\n",
            "KING \t 28\n",
            "THAT \t 26\n",
            "P \t 19\n",
            "IS \t 18\n",
            "IN \t 18\n",
            "ME \t 18\n",
            "S \t 17\n",
            "NOT \t 16\n"
          ]
        }
      ]
    },
    {
      "cell_type": "markdown",
      "source": [
        "**Задача 7**  \n",
        "Решение Судоку.  \n",
        "**Вход:** Матрица $9 \\times 9$.  \n",
        "**Выход:** Заполненная матрица $n \\times n$ по правилам игры (в каждой строке и столбце + квадратах $3 \\times 3$.  \n",
        "**ЗЫ:** пример в [видео](https://www.youtube.com/watch?v=Vi_0PnY1kUw&list=PLPPIc-4tm3YSc6wN8Yhstdu-jucdWqL0_&index=7)."
      ],
      "metadata": {
        "id": "n_u1wvl5cJQj"
      }
    },
    {
      "cell_type": "code",
      "source": [
        "from itertools import product"
      ],
      "metadata": {
        "id": "bEjfC42RdWpJ"
      },
      "execution_count": null,
      "outputs": []
    },
    {
      "cell_type": "code",
      "source": [
        "def solve_sudolu(puzzle):\n",
        "  for (row, column) in product(range(0, 9), repeat = 2):\n",
        "    if puzzle[row][col] == 0: #если ячейка ещё не заполнена\n",
        "      #проверка на всю строку и столбец\n",
        "      for num in range(1, 9 + 1):\n",
        "        allowed = True #default value\n",
        "        for i in range(0, 9):\n",
        "          if (puzzle[i][col] == num) or (puzzle[row][i] == num):\n",
        "            allowed = False; break\n",
        "        #проверка на квадраты\n",
        "        for (i, j) in product(range(0,3), repeat = 2):\n",
        "          if puzzle[row - row%3 + i][col - col%3 + j] == num: # остаток от деления на 3 - сдвигает до начал ближайшего квадрата\n",
        "            allowed = False; break\n",
        "        \n",
        "        if allowed:\n",
        "          puzzle[row][col] = num\n",
        "          trial = solve_suddoku(puzzle)\n",
        "          if trial: # если после заполнения ячейки, функция дальше норм заполнила; trial := solve_suddoku(puzzle)\n",
        "            return trial # возвращаем итог\n",
        "          else:\n",
        "            puzzle[row][col] = 0 # уберём выбранное число\n",
        "      return False # если для этой ячейки не подошло ни одно число, тогда заполнить нельзя и результат False\n",
        "  return puzzle "
      ],
      "metadata": {
        "id": "_MxmobD9d9HV"
      },
      "execution_count": null,
      "outputs": []
    },
    {
      "cell_type": "code",
      "source": [
        "solve_sudolu()"
      ],
      "metadata": {
        "id": "6SvzDe8Dmyme"
      },
      "execution_count": null,
      "outputs": []
    },
    {
      "cell_type": "markdown",
      "source": [
        "`repeat` возвращает произведение на само себя в кол-ве, заданном переменной. `repeat = 1` не вернет ничего, т.к у нас только один iterable - не на что умножить. [Примеры](https://pythonz.net/references/named/itertools.product/)."
      ],
      "metadata": {
        "id": "-V8F86J6fQ34"
      }
    },
    {
      "cell_type": "markdown",
      "source": [
        "#### **Бинарный поиск (Python Binary Search)**"
      ],
      "metadata": {
        "id": "w0tATVEv0jqx"
      }
    },
    {
      "cell_type": "markdown",
      "source": [
        "Алгоритм сравнивает средний элемент отсортированного массива с элементом, который он ищет, чтобы решить, где продолжить поиск.\n",
        "\n",
        "Если целевой элемент больше среднего элемента – он не может быть расположен в первой половине коллекции, поэтому он отбрасывается. То же самое происходит и наоборот.\n",
        "* `array` - анализируемый массив;\n",
        "* `element` - искомый массив;\n",
        "* `start` - начальный номер элемента подмассива;\n",
        "* `end` - конечный номер элемента подмассива.\n"
      ],
      "metadata": {
        "id": "CxFKokFA0xdz"
      }
    },
    {
      "cell_type": "markdown",
      "source": [
        "##### Рекурсивный алгоритм"
      ],
      "metadata": {
        "id": "oHSUBlF25Rzf"
      }
    },
    {
      "cell_type": "code",
      "source": [
        "def binary_search_recursive(array, element, start, end):\n",
        "    if start > end: #если мы уже прошли ситуацию с 1-м элементом, который не равен - разбили дальше и вышли из рекурсии\n",
        "        return -1\n",
        "\n",
        "    mid = (start + end) // 2 #rounding to the closest integer\n",
        "\n",
        "    if element == array[mid]:\n",
        "        return mid\n",
        "    elif element < array[mid]: #если число потенциально находится в левой подгруппе\n",
        "        return binary_search_recursive(array, element, start, mid-1)\n",
        "    else: #если число потенциально находится в правой подгруппе\n",
        "        return binary_search_recursive(array, element, mid+1, end)"
      ],
      "metadata": {
        "id": "uQZOjouy15hG"
      },
      "execution_count": null,
      "outputs": []
    },
    {
      "cell_type": "code",
      "source": [
        "element = 18\n",
        "array = [1, 2, 5, 7, 13, 15, 16, 18, 24, 28, 29]\n",
        "\n",
        "assert array[binary_search_recursive(array, element, 0, len(array))] == element"
      ],
      "metadata": {
        "id": "CPYvkJSQ4_I3"
      },
      "execution_count": null,
      "outputs": []
    },
    {
      "cell_type": "markdown",
      "source": [
        "##### Итеративный подход"
      ],
      "metadata": {
        "id": "Q7vsM_eg5VuX"
      }
    },
    {
      "cell_type": "markdown",
      "source": [
        "Итеративный подход очень прост и похож на рекурсивный. Здесь мы просто выполняем проверки в цикле `while`: "
      ],
      "metadata": {
        "id": "Owu7ZKhe6QH5"
      }
    },
    {
      "cell_type": "code",
      "source": [
        "def binary_search_iterative(array, element):\n",
        "    mid = 0\n",
        "    start = 0\n",
        "    end = len(array)\n",
        "    step = 0\n",
        "\n",
        "    while (start <= end):\n",
        "        print(\"Subarray in step {}: {}\".format(step, str(array[start:end+1]))) #it can be commented\n",
        "        step = step+1\n",
        "        mid = (start + end) // 2\n",
        "\n",
        "        if element == array[mid]:\n",
        "            return mid\n",
        "\n",
        "        if element < array[mid]:\n",
        "            end = mid - 1\n",
        "        else:\n",
        "            start = mid + 1\n",
        "    return -1\n"
      ],
      "metadata": {
        "id": "8LAGmnCW5-Jo"
      },
      "execution_count": null,
      "outputs": []
    },
    {
      "cell_type": "code",
      "source": [
        "assert array[binary_search_iterative(array, element)] == element"
      ],
      "metadata": {
        "colab": {
          "base_uri": "https://localhost:8080/"
        },
        "id": "1bE9XGlK6WJi",
        "outputId": "7909f09a-de48-4b9a-d244-8985607226ac"
      },
      "execution_count": null,
      "outputs": [
        {
          "output_type": "stream",
          "name": "stdout",
          "text": [
            "Subarray in step 0: [1, 2, 5, 7, 13, 15, 16, 18, 24, 28, 29]\n",
            "Subarray in step 1: [16, 18, 24, 28, 29]\n",
            "Subarray in step 2: [16, 18]\n",
            "Subarray in step 3: [18]\n"
          ]
        }
      ]
    },
    {
      "cell_type": "markdown",
      "source": [
        "#### **Алгоритм Дейкстры**"
      ],
      "metadata": {
        "id": "M_MXdndAPDHL"
      }
    },
    {
      "cell_type": "markdown",
      "source": [
        "https://habr.com/ru/post/111361/  \n",
        "\n",
        "https://waksoft.susu.ru/2021/10/21/realizacziya-algoritma-dejkstry-na-python/#:~:text=%D0%90%D0%BB%D0%B3%D0%BE%D1%80%D0%B8%D1%82%D0%BC%20%D0%94%D0%B5%D0%B9%D0%BA%D1%81%D1%82%D1%80%D1%8B%20%E2%80%94%20%D1%8D%D1%82%D0%BE%20%D0%BF%D0%BE%D0%BF%D1%83%D0%BB%D1%8F%D1%80%D0%BD%D1%8B%D0%B9%20%D0%B0%D0%BB%D0%B3%D0%BE%D1%80%D0%B8%D1%82%D0%BC,%D1%80%D1%91%D0%B1%D1%80%D0%B0%20%D0%BF%D1%80%D0%B5%D0%B4%D1%81%D1%82%D0%B0%D0%B2%D0%BB%D1%8F%D0%BB%D0%B8%20%D0%B4%D0%BE%D1%80%D0%BE%D0%B3%D0%B8%20%D0%BC%D0%B5%D0%B6%D0%B4%D1%83%20%D0%B3%D0%BE%D1%80%D0%BE%D0%B4%D0%B0%D0%BC%D0%B8."
      ],
      "metadata": {
        "id": "vqVz_aSZPKB7"
      }
    },
    {
      "cell_type": "markdown",
      "source": [
        "#### **Задачи на обработку stdin $\\rightarrow$ stdout**"
      ],
      "metadata": {
        "id": "xqW55px9KeZF"
      }
    },
    {
      "cell_type": "markdown",
      "source": [
        "**Задание 1**  \n",
        "Когда Антон прочитал «Войну и мир», ему стало интересно, сколько слов и в каком количестве используется в этой книге.\n",
        "\n",
        "Помогите Антону написать упрощённую версию такой программы, которая сможет подсчитать слова, разделённые пробелом и вывести получившуюся статистику.\n",
        "\n",
        "Программа должна считывать одну строку со стандартного ввода и выводить для каждого уникального слова в этой строке число его повторений (**без учёта регистра**) в формате \"слово количество\" (см. пример вывода).\n",
        "Порядок вывода слов может быть произвольным, каждое уникальное слово должно выводиться только один раз.\n",
        "\n"
      ],
      "metadata": {
        "id": "M47M6yh8Kncc"
      }
    },
    {
      "cell_type": "code",
      "source": [
        "s = input().lower().split()\n",
        "\n",
        "d_dct = dict.fromkeys(set(s))\n",
        "for i in s:\n",
        "    if d_dct[i] == None:\n",
        "        d_dct[i] = 1\n",
        "    else:\n",
        "        d_dct[i] += 1\n",
        "\n",
        "for j in d_dct.items():\n",
        "    print(*j)"
      ],
      "metadata": {
        "id": "lqUrtw2iKv98"
      },
      "execution_count": null,
      "outputs": []
    },
    {
      "cell_type": "markdown",
      "source": [
        "**Задание 2**\n",
        "Напишите программу, которая считывает строку с числом $n$, которое задаёт *количество чисел, которые нужно считать*.  \n",
        "Далее считывает $n$ строк с числами $x_i$​, по одному числу в каждой строке. Итого будет $n+1$ строк.\n",
        "\n",
        "При считывании числа $x_i$ программа должна на отдельной строке вывести значение\n",
        "$f(x_i)$. Функция $f(x)$ уже реализована и доступна для вызова (пусть будет $x^2+5$).  \n",
        "\n",
        "Для того, чтобы уложиться в ограничение по времени, нужно избежать повторного вычисления значений.\n",
        "\n"
      ],
      "metadata": {
        "id": "mzGNS3b7KzR8"
      }
    },
    {
      "cell_type": "code",
      "source": [
        "s = int(input())\n",
        "j = 0\n",
        "v = []\n",
        "o = {}\n",
        "while j < s:\n",
        "  e = int(input())\n",
        "  v.append(e)\n",
        "  o[e] = None\n",
        "  j += 1\n",
        "\n",
        "for i in v:\n",
        "  if o[i] != None:\n",
        "    print(o[i])\n",
        "  else:\n",
        "    o[i] = i^2+5\n",
        "    print(o[i])"
      ],
      "metadata": {
        "id": "cSISWUxdR0Dv"
      },
      "execution_count": null,
      "outputs": []
    },
    {
      "cell_type": "markdown",
      "source": [
        "### Algorithms HSE"
      ],
      "metadata": {
        "id": "bEk2VuJdyL8H"
      }
    },
    {
      "cell_type": "code",
      "source": [
        "for a, b in product(range(0, 9), repeat = 2):\n",
        "  print(a, b)"
      ],
      "metadata": {
        "id": "5HB7ija_e-dx"
      },
      "execution_count": null,
      "outputs": []
    },
    {
      "cell_type": "code",
      "execution_count": null,
      "metadata": {
        "id": "vVssMJdvx-K1",
        "outputId": "a1f74062-90f1-425a-cde8-83633e621432"
      },
      "outputs": [
        {
          "name": "stdout",
          "output_type": "stream",
          "text": [
            "-2 0\n",
            "-2 0\n"
          ]
        }
      ],
      "source": [
        "a = [int(i) for i in input().split()]\n",
        "\n",
        "if (len(a) < 2):\n",
        "    print(\"No pairs exists\")\n",
        "elif (len(a) == 2):\n",
        "    if a[0] > a[1]:\n",
        "        print(a[1], a[0])\n",
        "    else:\n",
        "        print(a[0], a[1])\n",
        "    \n",
        "else:\n",
        "    a_max = 0\n",
        "    b_max = 0\n",
        " \n",
        "    a_min = 0\n",
        "    b_min = 0\n",
        "\n",
        "    for i in range(len(a)):\n",
        "\n",
        "        if (a[i] > a_max):\n",
        "            b_max = a_max\n",
        "            a_max = a[i]\n",
        "         \n",
        "        elif (a[i] > b_max):\n",
        "            b_max = a[i]\n",
        " \n",
        "        if (a[i] < 0 and abs(a[i]) > abs(a_min)):\n",
        "            b_min = a_min\n",
        "            a_min = a[i]\n",
        "         \n",
        "        elif(a[i] < 0 and abs(a[i]) > abs(b_min)):\n",
        "            b_min = a[i]\n",
        "\n",
        "    if (a_min * b_min > a_max * b_max):\n",
        "        print(a_min, b_min)\n",
        "    else:\n",
        "        print(b_max, a_max)"
      ]
    },
    {
      "cell_type": "code",
      "execution_count": null,
      "metadata": {
        "scrolled": true,
        "id": "aUejZldSx-K5",
        "outputId": "43bba334-a0b6-478f-a6b5-d77787414d9a"
      },
      "outputs": [
        {
          "name": "stdout",
          "output_type": "stream",
          "text": [
            "0\n",
            "-3\n",
            "Division by zero\n"
          ]
        }
      ],
      "source": [
        "a = float(input())\n",
        "n = int(input())\n",
        "\n",
        "if n == 0 or a == 1:\n",
        "    print(1)\n",
        "elif a == 0 and n < 0:\n",
        "    print('Division by zero')\n",
        "elif n % 2 == 0:\n",
        "    print(((a**2)**(n/2)))\n",
        "else:\n",
        "    print((a*(a**2)**((n-1)/2)))"
      ]
    },
    {
      "cell_type": "code",
      "execution_count": null,
      "metadata": {
        "id": "_VTLsUw3x-K5"
      },
      "outputs": [],
      "source": [
        "n = int(input())\n",
        "\n",
        "def IsPrime(n):\n",
        "    if n < 2:\n",
        "        return\n",
        "    elif n == 2:\n",
        "        return True\n",
        "    else: \n",
        "        i = 2\n",
        "        while i <= n**0.5:\n",
        "            if n % i == 0:\n",
        "                return False\n",
        "            i += 1\n",
        "        return True\n",
        "\n",
        "if IsPrime(n) == 1:\n",
        "    print('YES')\n",
        "elif IsPrime(n) == 0:\n",
        "    print('NO')"
      ]
    },
    {
      "cell_type": "code",
      "execution_count": null,
      "metadata": {
        "id": "oh_P5l3px-K6",
        "outputId": "b43957c2-ce86-4ba2-cdfb-9589e4c1a9c0"
      },
      "outputs": [
        {
          "name": "stdout",
          "output_type": "stream",
          "text": [
            "aa\n"
          ]
        },
        {
          "ename": "ValueError",
          "evalue": "invalid literal for int() with base 10: 'aa'",
          "output_type": "error",
          "traceback": [
            "\u001b[0;31m---------------------------------------------------------------------------\u001b[0m",
            "\u001b[0;31mValueError\u001b[0m                                Traceback (most recent call last)",
            "\u001b[0;32m<ipython-input-41-df08166d6a28>\u001b[0m in \u001b[0;36m<module>\u001b[0;34m\u001b[0m\n\u001b[1;32m     11\u001b[0m         \u001b[0;32melse\u001b[0m\u001b[0;34m:\u001b[0m\u001b[0;34m\u001b[0m\u001b[0;34m\u001b[0m\u001b[0m\n\u001b[1;32m     12\u001b[0m             \u001b[0;32mreturn\u001b[0m \u001b[0mn\u001b[0m\u001b[0;34m\u001b[0m\u001b[0;34m\u001b[0m\u001b[0m\n\u001b[0;32m---> 13\u001b[0;31m \u001b[0mprint\u001b[0m\u001b[0;34m(\u001b[0m\u001b[0mC\u001b[0m\u001b[0;34m(\u001b[0m\u001b[0mint\u001b[0m\u001b[0;34m(\u001b[0m\u001b[0minput\u001b[0m\u001b[0;34m(\u001b[0m\u001b[0;34m)\u001b[0m\u001b[0;34m)\u001b[0m\u001b[0;34m,\u001b[0m \u001b[0mint\u001b[0m\u001b[0;34m(\u001b[0m\u001b[0minput\u001b[0m\u001b[0;34m(\u001b[0m\u001b[0;34m)\u001b[0m\u001b[0;34m)\u001b[0m\u001b[0;34m)\u001b[0m\u001b[0;34m)\u001b[0m\u001b[0;34m\u001b[0m\u001b[0;34m\u001b[0m\u001b[0m\n\u001b[0m",
            "\u001b[0;31mValueError\u001b[0m: invalid literal for int() with base 10: 'aa'"
          ]
        }
      ],
      "source": [
        "def C(n, k):\n",
        "    \n",
        "    if (k == 0) or (k == n):\n",
        "        return 1 \n",
        "    elif k != 1: \n",
        "        return C(n-1, k-1) + C(n-1, k)\n",
        "    else:\n",
        "        return n\n",
        "print(C(int(input()), int(input())))"
      ]
    },
    {
      "cell_type": "code",
      "execution_count": null,
      "metadata": {
        "id": "CXZbr_hbx-K6",
        "outputId": "7acb2103-26f6-4488-8db0-624925686aec"
      },
      "outputs": [
        {
          "name": "stdout",
          "output_type": "stream",
          "text": [
            "5\n",
            "2\n"
          ]
        }
      ],
      "source": [
        "from math import sqrt\n",
        "\n",
        "def IsPrime(n):\n",
        "    if n < 2:\n",
        "        return\n",
        "    elif n == 2:\n",
        "        return True\n",
        "    else: \n",
        "        i = 2\n",
        "        while i <= sqrt(n):\n",
        "            if n % i == 0:\n",
        "                return False\n",
        "            i += 1\n",
        "        return True\n",
        "\n",
        "a = int(input())\n",
        "if a > 1:\n",
        "    x = []\n",
        "    for j in range(2, a):\n",
        "        if IsPrime(j) == True:\n",
        "            x.append(j)\n",
        "    print(*x)\n",
        "else:\n",
        "    print('error')"
      ]
    },
    {
      "cell_type": "code",
      "execution_count": null,
      "metadata": {
        "id": "eGlXQ10ux-K7",
        "outputId": "52969b2d-c8b0-4587-83c4-52abcb55fde6"
      },
      "outputs": [
        {
          "name": "stdout",
          "output_type": "stream",
          "text": [
            "0\n",
            "5\n",
            "a and b must be non-zero elements\n",
            "None\n"
          ]
        }
      ],
      "source": [
        "a = int(input())\n",
        "b = int(input())\n",
        "\n",
        "def gcd(a, b):\n",
        "    if a < b:\n",
        "        temp = a\n",
        "        a = b\n",
        "        b = temp\n",
        "        return b if a%b == 0 else gcd(b, a%b)\n",
        "    else:\n",
        "        return b if a%b == 0 else gcd(b, a%b)\n"
      ]
    },
    {
      "cell_type": "code",
      "execution_count": null,
      "metadata": {
        "id": "fwJ9qDMxx-K7",
        "outputId": "ce8ade06-2935-4f39-bad9-3361d9333f6c"
      },
      "outputs": [
        {
          "name": "stdout",
          "output_type": "stream",
          "text": [
            "6 11\n",
            "1 1 4 4 8 120\n",
            "1 2 3 4 5 6 7 8 63 64 65\n",
            "1\n",
            "1\n",
            "4\n",
            "4\n",
            "4\n",
            "4\n",
            "8\n",
            "8\n",
            "8\n",
            "8\n",
            "120\n"
          ]
        }
      ],
      "source": [
        "n, k = map(int, input().split())\n",
        " \n",
        "a = list(map(int, input().split()))\n",
        "b = list(map(int, input().split()))\n",
        "\n",
        " \n",
        "for i in b:\n",
        "    if (i >= a[n - 1]):\n",
        "        print(a[n - 1])\n",
        "    elif (i <= a[0]):\n",
        "        print(a[0])\n",
        "    else:\n",
        "        left_border = 0\n",
        "        right_border = n - 1\n",
        "        while right_border - left_border > 1:\n",
        "            avg = (right_border + left_border) // 2\n",
        "            if a[avg] < i:\n",
        "                left_border = avg\n",
        "            else:\n",
        "                right_border = avg\n",
        "        if i - a[left_border] <= a[right_border] - i:\n",
        "            print(a[left_border])\n",
        "        else:\n",
        "            print(a[right_border])"
      ]
    },
    {
      "cell_type": "code",
      "execution_count": null,
      "metadata": {
        "id": "r-qRuCTEx-K8",
        "outputId": "9ed01867-17fb-4771-c785-753f57580e59"
      },
      "outputs": [
        {
          "name": "stdout",
          "output_type": "stream",
          "text": [
            "6 11\n",
            "1 1 4 4 8 120\n",
            "1 2 3 4 5 6 7 8 63 64 65\n",
            "1\n",
            "4\n",
            "1\n",
            "4\n",
            "8\n",
            "4\n",
            "4\n",
            "8\n",
            "120\n",
            "8\n",
            "8\n"
          ]
        }
      ],
      "source": [
        "n, k = map(int, input().split())\n",
        " \n",
        "a = list(map(int, input().split()))\n",
        "b = list(map(int, input().split()))\n",
        "\n",
        "def get_closest_value(arr, target):\n",
        "    n = len(arr)\n",
        "    left = 0\n",
        "    right = n - 1\n",
        "    mid = 0\n",
        "\n",
        "    # edge case - last or above all\n",
        "    if target >= arr[n - 1]:\n",
        "        return arr[n - 1]\n",
        "    # edge case - first or below all\n",
        "    if target <= arr[0]:\n",
        "        return arr[0]\n",
        "    # BSearch solution: Time & Space: Log(N)\n",
        "\n",
        "    while left < right:\n",
        "        mid = (left + right) // 2  # find the mid\n",
        "        if target < arr[mid]:\n",
        "            right = mid\n",
        "        elif target > arr[mid]:\n",
        "            left = mid + 1\n",
        "        else:\n",
        "            return arr[mid]\n",
        "\n",
        "    if target < arr[mid]:\n",
        "        return find_closest(arr[mid - 1], arr[mid], target)\n",
        "    else:\n",
        "        return find_closest(arr[mid], arr[mid + 1], target)\n",
        "\n",
        "def find_closest(val1, val2, target):\n",
        "    return val1 if target - val1 >= val2 - target else val2\n",
        "for i in b:\n",
        "    print(get_closest_value(a, i))"
      ]
    },
    {
      "cell_type": "code",
      "execution_count": null,
      "metadata": {
        "id": "yP8uqwvqx-K9"
      },
      "outputs": [],
      "source": [
        "5 5\n",
        "1 3 5 7 9\n",
        "2 4 8 1 6\n",
        "\n",
        "6 11\n",
        "1 1 4 4 8 120 \n",
        "1 2 3 4 5 6 7 8 63 64 65 "
      ]
    },
    {
      "cell_type": "markdown",
      "metadata": {
        "id": "g_MXi3jKx-K9"
      },
      "source": [
        "### Очередь с приоритетами (максимум)\n",
        "Напишите программу, которая будет обрабатывать последовательность запросов таких видов:\n",
        "\n",
        "CLEAR — сделать очередь с приоритетами пустой (если в очереди уже были какие-то элементы, удалить все). Действие происходит только с данными в памяти, на экран ничего не выводится.\n",
        "\n",
        "ADD n — добавить в очередь с приоритетами число n (вмещается в стандартный тип int). Действие происходит только с данными в памяти, на экран ничего не выводится.\n",
        "\n",
        "EXTRACT — вынуть из очереди с приоритетами максимальное значение. Следует и изменить данные в памяти, и вывести на экран или найденное максимальное значение, или, если очередь была пустой, слово \"CANNOT\" (большими буквами)."
      ]
    },
    {
      "cell_type": "markdown",
      "metadata": {
        "id": "TglsAvm-x-K_"
      },
      "source": [
        "class BinHeap:\n",
        "    def __init__(self):\n",
        "        self.heapList = []\n",
        "        self.currentSize = -1\n",
        "    # a function to put up a newly added element\n",
        "    def percUp(self,i):\n",
        "        while i // 2 >= 0:\n",
        "            if self.heapList[i-1] > self.heapList[(i-1) // 2]:\n",
        "                tmp = self.heapList[(i-1) // 2]\n",
        "                self.heapList[(i-1) // 2] = self.heapList[i]\n",
        "                self.heapList[i-1] = tmp\n",
        "        i = i // 2\n",
        "    # a function to insert an element\n",
        "    def insert(self,k):\n",
        "        self.heapList.append(k)\n",
        "        self.currentSize = self.currentSize + 1\n",
        "        if self.currentSize > 1:\n",
        "            self.percUp(self.currentSize)\n",
        "    # a function to push max element down\n",
        "    def percDown(self,i):\n",
        "        while (i * 2) <= self.currentSize:\n",
        "            mc = self.maxChild(i)\n",
        "            if self.heapList[i] < self.heapList[mc]:\n",
        "                tmp = self.heapList[i]\n",
        "                self.heapList[i] = self.heapList[mc]\n",
        "                self.heapList[mc] = tmp\n",
        "            i = mc\n",
        "    # a function to determine a max child\n",
        "    def maxChild(self,i):\n",
        "        if i * 2 + 1 > self.currentSize:\n",
        "            return i * 2\n",
        "        else:\n",
        "            if self.heapList[i*2] > self.heapList[i*2+1]:\n",
        "                return i * 2\n",
        "            else:\n",
        "                return i * 2 + 1\n",
        "    # a function to delete a first element and return max value at the same time\n",
        "    def delMax(self):\n",
        "        if self.heapList == []:\n",
        "            return 'CANNOT'\n",
        "        else:\n",
        "            retval = self.heapList[1]\n",
        "            self.heapList[1] = self.heapList[self.currentSize]\n",
        "            self.currentSize = self.currentSize - 1\n",
        "            self.heapList.pop()\n",
        "            self.percDown(1)\n",
        "            return retval\n",
        "    def clear(self):\n",
        "        self.heapList = []"
      ]
    },
    {
      "cell_type": "markdown",
      "metadata": {
        "id": "ivVN_4ppx-LA"
      },
      "source": [
        "### BinHeap for min (working)"
      ]
    },
    {
      "cell_type": "code",
      "execution_count": null,
      "metadata": {
        "id": "So-NxftQx-LA"
      },
      "outputs": [],
      "source": [
        "class BinHeapMin:\n",
        "    def __init__(self):\n",
        "        self.heapList = []\n",
        "        self.currentSize = 0\n",
        "    def percUp(self,i): # +++\n",
        "        while i // 2 > 0:\n",
        "            if self.heapList[i-1] < self.heapList[(i-1) // 2]:\n",
        "                tmp = self.heapList[(i-1) // 2]\n",
        "                self.heapList[(i-1) // 2] = self.heapList[i-1]\n",
        "                self.heapList[i-1] = tmp\n",
        "            i = i // 2\n",
        "    def insert(self,k): # +++\n",
        "        self.heapList.append(k)\n",
        "        self.currentSize = self.currentSize + 1\n",
        "        self.percUp(self.currentSize)\n",
        "    def percDown(self,i):\n",
        "        while (i * 2) <= self.currentSize:\n",
        "            mc = self.minChild(i)\n",
        "            if self.heapList[i-1] > self.heapList[mc-1]:\n",
        "                tmp = self.heapList[i-1]\n",
        "                self.heapList[i-1] = self.heapList[mc-1]\n",
        "                self.heapList[mc-1] = tmp\n",
        "            i = mc\n",
        "\n",
        "    def minChild(self,i):\n",
        "        if i * 2 + 1 > self.currentSize:\n",
        "            return i * 2\n",
        "        else:\n",
        "            if self.heapList[i*2-1] < self.heapList[i*2+1-1]:\n",
        "                return i * 2\n",
        "            else:\n",
        "                return i * 2 + 1\n",
        "    def delMin(self):\n",
        "        if self.heapList == []:\n",
        "            return 'CANNOT'\n",
        "        elif len(self.heapList) == 1:\n",
        "            retval = self.heapList[0]\n",
        "            self.currentSize = self.currentSize - 1\n",
        "            self.heapList.pop()\n",
        "            return retval\n",
        "        else:\n",
        "            retval = self.heapList[0]\n",
        "            self.heapList[0] = self.heapList[self.currentSize-1]\n",
        "            self.currentSize = self.currentSize - 1\n",
        "            self.heapList.pop()\n",
        "            self.percDown(1)\n",
        "            return retval\n",
        "    def Clear(self):\n",
        "        self.heapList = []\n",
        "        self.currentSize = 0"
      ]
    },
    {
      "cell_type": "code",
      "execution_count": null,
      "metadata": {
        "id": "T1JS4TqRx-LB",
        "outputId": "5b3eded0-9d9b-415d-d726-3f751816d5e3"
      },
      "outputs": [
        {
          "data": {
            "text/plain": [
              "45"
            ]
          },
          "execution_count": 15,
          "metadata": {},
          "output_type": "execute_result"
        }
      ],
      "source": [
        "bh_min = BinHeapMin()\n",
        "bh_min.insert(60)\n",
        "bh_min.insert(40)\n",
        "bh_min.insert(45)\n",
        "bh_min.delMin()\n",
        "bh_min.insert(50)\n",
        "bh_min.delMin()"
      ]
    },
    {
      "cell_type": "code",
      "execution_count": null,
      "metadata": {
        "id": "e2r7my45x-LB"
      },
      "outputs": [],
      "source": [
        "class BinHeapMax:\n",
        "    def __init__(self):\n",
        "        self.heapList = []\n",
        "        self.currentSize = 0\n",
        "    def percUp(self,i): # +++\n",
        "        while i // 2 > 0:\n",
        "            if self.heapList[i-1] > self.heapList[(i-1) // 2]:\n",
        "                tmp = self.heapList[(i-1) // 2]\n",
        "                self.heapList[(i-1) // 2] = self.heapList[i-1]\n",
        "                self.heapList[i-1] = tmp\n",
        "            i = i // 2\n",
        "    def insert(self,k): # +++\n",
        "        self.heapList.append(k)\n",
        "        self.currentSize = self.currentSize + 1\n",
        "        self.percUp(self.currentSize)\n",
        "    def percDown(self,i):\n",
        "        while (i * 2) <= self.currentSize:\n",
        "            mc = self.maxChild(i)\n",
        "            #print('mc', mc)\n",
        "            if self.heapList[i-1] < self.heapList[mc-1]:\n",
        "                tmp = self.heapList[i-1]\n",
        "                self.heapList[i-1] = self.heapList[mc-1]\n",
        "                self.heapList[mc-1] = tmp\n",
        "                #print('heapList', heapList[0])\n",
        "            i = mc\n",
        "\n",
        "    def maxChild(self,i):\n",
        "        if i * 2 + 1 > self.currentSize:\n",
        "            return i * 2\n",
        "        else:\n",
        "            if self.heapList[i*2-1] > self.heapList[i*2+1-1]:\n",
        "                return i * 2\n",
        "            else:\n",
        "                return i * 2 + 1\n",
        "    def delMax(self):\n",
        "        if self.heapList == []:\n",
        "            return 'CANNOT'\n",
        "        else:\n",
        "            retval = self.heapList[0]\n",
        "            self.heapList[0] = self.heapList[self.currentSize-1]\n",
        "            self.currentSize = self.currentSize - 1\n",
        "            self.heapList.pop()\n",
        "            self.percDown(1)\n",
        "            return int(retval)\n",
        "    def Clear(self):\n",
        "        self.heapList.clear()\n",
        "        self.currentSize = 0"
      ]
    },
    {
      "cell_type": "code",
      "execution_count": null,
      "metadata": {
        "id": "zHHEuZVZx-LB",
        "outputId": "2b97179b-0140-49bd-ece1-3a895586708b"
      },
      "outputs": [
        {
          "name": "stdout",
          "output_type": "stream",
          "text": [
            "192168812\n",
            "321\n",
            "555\n",
            "7\n",
            "CANNOT\n"
          ]
        }
      ],
      "source": [
        "bh_max = BinHeapMax()\n",
        "bh_max.insert(192168812)\n",
        "bh_max.insert(125)\n",
        "bh_max.insert(321)\n",
        "print(bh_max.delMax())\n",
        "print(bh_max.delMax())\n",
        "bh_max.Clear()\n",
        "bh_max.insert(555)\n",
        "bh_max.insert(7)\n",
        "print(bh_max.delMax())\n",
        "print(bh_max.delMax())\n",
        "print(bh_max.delMax())"
      ]
    },
    {
      "cell_type": "markdown",
      "metadata": {
        "id": "cLYvQ1MNx-LC"
      },
      "source": [
        "EXTRACT\n",
        "ADD 1921\n",
        "ADD 321\n",
        "ADD 125\n",
        "EXTRACT\n",
        "EXTRACT\n",
        "CLEAR\n",
        "ADD 7\n",
        "ADD 555\n",
        "EXTRACT\n",
        "EXTRACT\n",
        "EXTRACT\n",
        "CLEAR\n",
        "ADD 125\n",
        "ADD 321\n",
        "EXTRACT"
      ]
    },
    {
      "cell_type": "code",
      "execution_count": null,
      "metadata": {
        "scrolled": false,
        "id": "ociHueCDx-LD",
        "outputId": "78de22ef-ca22-420c-efc3-c44aac234ce0"
      },
      "outputs": [
        {
          "name": "stdout",
          "output_type": "stream",
          "text": [
            "CANNOT\n",
            "5\n",
            "-10\n",
            "555\n",
            "7\n",
            "CANNOT\n",
            "555\n"
          ]
        }
      ],
      "source": [
        "bh_max = BinHeapMax()\n",
        "for line in open('input.txt', \"r\"):\n",
        "    command = line.split()\n",
        "    #print(command)\n",
        "    if command[0] == 'ADD':\n",
        "        try:\n",
        "            command[1] = int(command[1])\n",
        "            bh_max.insert(command[1])\n",
        "        except:\n",
        "            print('error')\n",
        "    if command[0] == 'CLEAR':\n",
        "        bh_max.Clear()\n",
        "    elif command[0] == 'EXTRACT':\n",
        "        print(bh_max.delMax())"
      ]
    },
    {
      "cell_type": "markdown",
      "metadata": {
        "id": "t2vhew2Nx-LD"
      },
      "source": [
        "### Минимум на отрезке (+)\n",
        "Рассмотрим последовательность целых чисел длины n. По ней с шагом 1 двигается «окно» длины k, то есть сначала в «окне» видны первые k чисел, на следующем шаге в «окне» уже будут находиться k чисел, начиная со второго, и так далее до конца последовательности. Требуется для каждого положения «окна» определить минимум в нём."
      ]
    },
    {
      "cell_type": "code",
      "execution_count": null,
      "metadata": {
        "id": "nd3yFZs-x-LD"
      },
      "outputs": [],
      "source": [
        "7 3\n",
        "1 3 2 4 5 3 1\n",
        "0 0 0 0 0 0 0"
      ]
    },
    {
      "cell_type": "code",
      "execution_count": null,
      "metadata": {
        "scrolled": true,
        "id": "MpC2m5VKx-LE"
      },
      "outputs": [],
      "source": [
        "def segment_tree(segtree, a, n):\n",
        "    for i in range(n):\n",
        "        segtree[n + i] = a[i];\n",
        "\n",
        "    for i in range(n-1, 0, -1):\n",
        "        segtree[i] = min(segtree[2 * i],\n",
        "                         segtree[2 * i + 1])\n",
        "\n",
        "def range_query(segtree, left, right, n):\n",
        "    left += n\n",
        "    right += n+1\n",
        "\n",
        "    mi = 10**7\n",
        "    while (left < right):\n",
        "        #print('left, right', left, right)\n",
        "        if (left % 2 != 0): # if left index in odd\n",
        "                mi = min(mi, segtree[left])\n",
        "                left = left + 1\n",
        "                #print('left:', left, mi)\n",
        "        if (right % 2 != 0): # if right index in odd\n",
        "                right -= 1\n",
        "                mi = min(mi, segtree[right])\n",
        "                #print('right:', right, mi)\n",
        "                 \n",
        "        left = left // 2\n",
        "        right = right // 2\n",
        "    return mi"
      ]
    },
    {
      "cell_type": "code",
      "execution_count": null,
      "metadata": {
        "id": "YLC7tjemx-LE",
        "outputId": "8968103f-f37a-48fd-bcf0-91f16bfb5df9"
      },
      "outputs": [
        {
          "name": "stdout",
          "output_type": "stream",
          "text": [
            "8 2\n",
            "6 1 3 2 4 5 3 1\n",
            "1\n",
            "1\n",
            "2\n",
            "2\n",
            "4\n",
            "3\n",
            "1\n"
          ]
        }
      ],
      "source": [
        "n, k = input().split()\n",
        "n = int(n)\n",
        "k = int(k)\n",
        "a = [int(i) for i in input().split()]\n",
        "segtree = [0 for i in range(2*n)]\n",
        "segment_tree(segtree, a, n)\n",
        "for i in range(n-k+1):\n",
        "    #print(i)\n",
        "    print(range_query(segtree, i, i+k-1, n))"
      ]
    },
    {
      "cell_type": "code",
      "execution_count": null,
      "metadata": {
        "id": "EdxeuAFLx-LE",
        "outputId": "029346b8-8c46-4a37-d5d1-6037c13e3ad8"
      },
      "outputs": [
        {
          "name": "stdout",
          "output_type": "stream",
          "text": [
            "8 3\n",
            "6 1 3 2 4 5 3 1\n",
            "1\n",
            "1\n",
            "2\n",
            "2\n",
            "3\n",
            "1\n"
          ]
        }
      ],
      "source": [
        "def segment_tree(segtree, a, n):\n",
        "    for i in range(n):\n",
        "        segtree[n + i] = a[i];\n",
        "\n",
        "    for i in range(n-1, 0, -1):\n",
        "        segtree[i] = min(segtree[2 * i],\n",
        "                         segtree[2 * i + 1])\n",
        "\n",
        "def range_query(segtree, left, right, n):\n",
        "    left += n\n",
        "    right += n+1\n",
        "\n",
        "    mi = 10**7\n",
        "    while (left < right):\n",
        "        #print('left, right', left, right)\n",
        "        if (left % 2 != 0): # if left index in odd\n",
        "                mi = min(mi, segtree[left])\n",
        "                left = left + 1\n",
        "                #print('left:', left, mi)\n",
        "        if (right % 2 != 0): # if right index in odd\n",
        "                right -= 1\n",
        "                mi = min(mi, segtree[right])\n",
        "                #print('right:', right, mi)\n",
        "                 \n",
        "        left = left // 2\n",
        "        right = right // 2\n",
        "    return mi\n",
        "\n",
        "n, k = input().split()\n",
        "n = int(n)\n",
        "k = int(k)\n",
        "a = [int(i) for i in input().split()]\n",
        "segtree = [0 for i in range(2*n)]\n",
        "segment_tree(segtree, a, n)\n",
        "for i in range(n-k+1):\n",
        "    #print(i)\n",
        "    print(range_query(segtree, i, i+k-1, n))"
      ]
    },
    {
      "cell_type": "markdown",
      "metadata": {
        "id": "gL0dSD_6x-LF"
      },
      "source": [
        "https://www.geeksforgeeks.org/segment-tree-set-1-range-minimum-query/ <br>\n",
        "https://www.algotree.org/algorithms/sparse_table/ <br>\n",
        "https://www.geeksforgeeks.org/iterative-segment-tree-range-minimum-query/"
      ]
    },
    {
      "cell_type": "markdown",
      "metadata": {
        "id": "XMCbj-LUx-LF"
      },
      "source": [
        "### Теорема Лагранжа (+)\n",
        "Теорема Лагранжа утверждает, что любое натуральное число можно представить в виде суммы четырех точных квадратов. По данному числу n найдите такое представление: напечатайте от 1 до 4 натуральных чисел, квадраты которых дают в сумме данное число."
      ]
    },
    {
      "cell_type": "code",
      "execution_count": null,
      "metadata": {
        "id": "u2jXW3ujx-LF",
        "outputId": "d4080740-7737-4c13-b731-c92e2124e5ae"
      },
      "outputs": [
        {
          "name": "stdout",
          "output_type": "stream",
          "text": [
            "310\n",
            "17 4 2 1\n"
          ]
        }
      ],
      "source": [
        "from math import sqrt\n",
        "n = int(input())\n",
        "squares_numb = 4\n",
        "\n",
        "\n",
        "def four_squares(n, squares_numb):\n",
        "    #print('n = ', n)\n",
        "    if sqrt(n) == int(sqrt(n)):\n",
        "        return [int(sqrt(n))]\n",
        "    elif squares_numb == 1:\n",
        "        if sqrt(n) == int(sqrt(n)):\n",
        "            return [int(sqrt(n))]\n",
        "        return False\n",
        "    a = 1\n",
        "    while a * a < n:\n",
        "        x = four_squares(n - a * a, squares_numb - 1) # the recursion starts here after the end of the I-st end \n",
        "        #print('x = ', x)\n",
        "        if x:\n",
        "            return x + [a] # end of the first recursion round; at this place the whole iteration ends\n",
        "        a += 1\n",
        "        #print('a = ', a)\n",
        "    #return False\n",
        "print(*four_squares(n, squares_numb))"
      ]
    },
    {
      "cell_type": "code",
      "execution_count": null,
      "metadata": {
        "id": "CMBoTxH9x-LF",
        "outputId": "ff80f814-1249-492e-d66a-3175e7958f67"
      },
      "outputs": [
        {
          "name": "stdout",
          "output_type": "stream",
          "text": [
            "8 5\n",
            "1 2 1 2 1 1 1\n",
            "2\n",
            "4\n",
            "6\n",
            "NO\n"
          ]
        }
      ],
      "source": [
        "n, t = input().split()\n",
        "a = [int(i) for i in input().split()] \n",
        "n = int(n)\n",
        "t = int(t)\n",
        "k = 1\n",
        "while k < t:\n",
        "    k = k + a[k-1]\n",
        "    print(k)\n",
        "if k == t:\n",
        "    print('\"YES\"')\n",
        "else:\n",
        "    print('\"NO\"')"
      ]
    },
    {
      "cell_type": "code",
      "execution_count": null,
      "metadata": {
        "id": "3E9aTE01x-LG",
        "outputId": "ca4f70b8-e365-4ca3-fdae-c016e22a3bc8"
      },
      "outputs": [
        {
          "name": "stdout",
          "output_type": "stream",
          "text": [
            "5 5 5 6\n",
            "1 0 1\n"
          ]
        }
      ],
      "source": [
        "r1, c1, r2, c2 = input().split()\n",
        "r1 = int(r1)\n",
        "c1 = int(c1)\n",
        "r2 = int(r2)\n",
        "c2 = int(c2)\n",
        "\n",
        "#diffs and sums\n",
        "dc = abs(c2-c1)\n",
        "dr = abs(r2-r1)\n",
        "sc = abs(c2+c1)\n",
        "sr = abs(r2+r1)\n",
        "\n",
        "if r1 == r2 or c1==c2:\n",
        "    l = 1\n",
        "else:\n",
        "    l = 2\n",
        "\n",
        "if ((r1+c1)%2 == 0 and (r2+c2)%2 == 0) or ((r1+c1)%2 != 0 and (r2+c2)%2 != 0):\n",
        "    if dr == dc:\n",
        "        s = 1\n",
        "    else:\n",
        "        s = 2\n",
        "else:\n",
        "    s = 0\n",
        "\n",
        "if r1 == r2:\n",
        "    k = dc\n",
        "elif c1 == c2:\n",
        "    k = dr\n",
        "elif (c2 != c1 and dc != dr) or (r2 != r1 and dc != dr):\n",
        "    k = max(dc, dr)\n",
        "else:\n",
        "    k = int((dc+dr)/2)\n",
        "    \n",
        "# ладья, слон, король\n",
        "print(l, s, k)"
      ]
    },
    {
      "cell_type": "markdown",
      "metadata": {
        "id": "871AYsrFx-LG"
      },
      "source": [
        "[link](https://codeforces.com/problemset/problem/520/B/?locale=ru)"
      ]
    },
    {
      "cell_type": "code",
      "execution_count": null,
      "metadata": {
        "id": "kVTH_i-7x-LG",
        "outputId": "250af26b-a6e9-49d1-e6d8-5b5a7daf054b"
      },
      "outputs": [
        {
          "name": "stdout",
          "output_type": "stream",
          "text": [
            "4 6\n",
            "even 3.0\n",
            "4.0\n",
            "2\n"
          ]
        }
      ],
      "source": [
        "n, m = input().split()\n",
        "n = int(n)\n",
        "m = int(m)\n",
        "r = 0 #red (*2) button presses counter\n",
        "b = 0 #blue (-1) button presses counter\n",
        "while n != m:\n",
        "    if n < 0 or m < 0:\n",
        "        print('error')\n",
        "    if n < m:\n",
        "        if m % 2 == 0: #consider ations upside down\n",
        "            m = m/2\n",
        "            r += 1\n",
        "            #print('even', m)\n",
        "        else:\n",
        "            m = (m+1)/2\n",
        "            b += 1\n",
        "            r += 1\n",
        "            #print('noneven', m)\n",
        "    elif m < n: #consider ations upside down\n",
        "        while n > m:\n",
        "            m = m + 1\n",
        "            b += 1\n",
        "            #print(m)\n",
        "print(b+r)  "
      ]
    },
    {
      "cell_type": "markdown",
      "metadata": {
        "id": "las-Y426x-LG"
      },
      "source": [
        "#### A. Пётр и кодовый замок  \n",
        "[Link](https://codeforces.com/gym/364792/problem/A)"
      ]
    },
    {
      "cell_type": "code",
      "execution_count": null,
      "metadata": {
        "id": "M9BOYAsix-LG",
        "outputId": "7fb9e078-35e0-4ac7-b68c-d064522ac074"
      },
      "outputs": [
        {
          "name": "stdout",
          "output_type": "stream",
          "text": [
            "3\n",
            "10\n",
            "20\n",
            "30\n",
            "YES\n"
          ]
        }
      ],
      "source": [
        "n = int(input()) # number of rotations\n",
        "lst = [int(input()) for i in range(n)] # i-th rotation\n",
        "lst.append(0)\n",
        "temp = lst[0]\n",
        "lst[0] = lst[-1]\n",
        "lst[-1] = temp # the substitution is done to allign 1st turn with the same index in the list\n",
        "\n",
        "def recur(count, angle):\n",
        "    if count == n:\n",
        "        return angle%360 == 0\n",
        "    return recur(count+1, angle + lst[count+1]) or recur(count+1, angle - lst[count+1])\n",
        "\n",
        "if recur(0, 0):\n",
        "    print('YES')\n",
        "else:\n",
        "    print('NO')"
      ]
    },
    {
      "cell_type": "markdown",
      "metadata": {
        "id": "jQmA3Z6Mx-LH"
      },
      "source": [
        "#### B. Кефа и первые шаги  \n",
        "[Link](https://codeforces.com/gym/364792/problem/B)"
      ]
    },
    {
      "cell_type": "code",
      "execution_count": null,
      "metadata": {
        "id": "4Ob-ZYxyx-LH",
        "outputId": "44c02c5a-02f1-45f5-d885-86056b07ef98"
      },
      "outputs": [
        {
          "name": "stdout",
          "output_type": "stream",
          "text": [
            "3\n",
            "2 2 9\n",
            "3\n"
          ]
        }
      ],
      "source": [
        "n = int(input())\n",
        "lst = [int(i) for i in input().split()]\n",
        "res = 1 # result\n",
        "maxim = 1 # max length\n",
        "for i in range(n-1): # (n-1) is because on the next step we compare i and i+1\n",
        "    if lst[i] <= lst[i+1]:\n",
        "        res += 1\n",
        "    else:\n",
        "        if maxim <= res:\n",
        "            maxim = res\n",
        "        res = 1\n",
        "        \n",
        "print(max(res, maxim))"
      ]
    },
    {
      "cell_type": "code",
      "execution_count": null,
      "metadata": {
        "id": "fSyj77_Yx-LH"
      },
      "outputs": [],
      "source": [
        "6\n",
        "2 2 1 3 4 1\n",
        "\n",
        "3\n",
        "2 2 9"
      ]
    },
    {
      "cell_type": "markdown",
      "metadata": {
        "id": "ym9cJzZMx-LH"
      },
      "source": [
        "#### C. Разрежь ленточку  \n",
        "[Link](https://codeforces.com/gym/364792/problem/C)"
      ]
    },
    {
      "cell_type": "code",
      "execution_count": null,
      "metadata": {
        "id": "kRNMvbhfx-LH",
        "outputId": "a6abca92-6964-4db9-b549-0d95b36f1795"
      },
      "outputs": [
        {
          "name": "stdout",
          "output_type": "stream",
          "text": [
            "7 3 5 2\n",
            "3\n"
          ]
        }
      ],
      "source": [
        "nums = list(map(int,input().strip().split())) # n, a, b, c\n",
        "n = nums.pop(0)\n",
        "res = [-1 for x in range(n+1)] # list of '-1's\n",
        "res[0] = 0 # in order to start from i = 1\n",
        "for i in range(1,n+1):\n",
        "    for num in nums: #try to cut off the length of 'num' of the the ribbon \n",
        "        #print(i, num)\n",
        "        if(i>=num):\n",
        "            res[i] = max(res[i],res[i-num]) # find the max number of pieces to have left if the current cut is done\n",
        "            #print(1, res)\n",
        "    if(res[i] != -1): # if the cut is possible subject to constraints\n",
        "        res[i]+=1 # to add the current piece that was cut off\n",
        "        #print(2, res)\n",
        "print(res[n])"
      ]
    },
    {
      "cell_type": "markdown",
      "metadata": {
        "id": "WR29Ue9hx-LI"
      },
      "source": [
        "#### E. Баскетбольная зарядка  \n",
        "[Link](https://codeforces.com/gym/364792/problem/E)"
      ]
    },
    {
      "cell_type": "code",
      "execution_count": null,
      "metadata": {
        "id": "7_rcyGZBx-LI",
        "outputId": "a79ce826-8b2c-46d4-fa71-ff2f40038bcd"
      },
      "outputs": [
        {
          "name": "stdout",
          "output_type": "stream",
          "text": [
            "5\n",
            "9 3 5 7 3\n",
            "5 8 1 4 5\n",
            "[9, 5] [0, 0]\n",
            "[9, 17] [9, 5]\n",
            "[22, 17] [9, 17]\n",
            "[24, 26] [22, 17]\n",
            "[29, 29] [24, 26]\n",
            "29\n"
          ]
        }
      ],
      "source": [
        "n = int(input())\n",
        "line1 = [int(i) for i in input().split()]\n",
        "line2 = [int(i) for i in input().split()]\n",
        "max_height = [0, 0]\n",
        "for i in range(n):\n",
        "    prelim = max_height[:]\n",
        "    prelim[0] = max(prelim[0], max_height[1] + line1[i])\n",
        "    prelim[1] = max(prelim[1], max_height[0] + line2[i])\n",
        "    #print(prelim, max_height)\n",
        "    max_height = prelim\n",
        "print(max(max_height))"
      ]
    },
    {
      "cell_type": "code",
      "execution_count": null,
      "metadata": {
        "id": "-Dp_6yO3x-LI"
      },
      "outputs": [],
      "source": [
        "5\n",
        "9 3 5 7 3\n",
        "5 8 1 4 5"
      ]
    },
    {
      "cell_type": "markdown",
      "metadata": {
        "id": "TiOx-DdTx-LI"
      },
      "source": [
        "### F. Булочки\n",
        "[Link](https://codeforces.com/gym/364792/problem/F)"
      ]
    },
    {
      "cell_type": "code",
      "execution_count": null,
      "metadata": {
        "scrolled": true,
        "id": "shFHu-wlx-LI",
        "outputId": "ff266f67-5e88-4929-fae6-555ca92c6919"
      },
      "outputs": [
        {
          "name": "stdout",
          "output_type": "stream",
          "text": [
            "10 2 2 1\n",
            "7 3 2 100\n",
            "12 3 1 10\n"
          ]
        },
        {
          "ename": "TypeError",
          "evalue": "can only concatenate str (not \"int\") to str",
          "output_type": "error",
          "traceback": [
            "\u001b[0;31m---------------------------------------------------------------------------\u001b[0m",
            "\u001b[0;31mTypeError\u001b[0m                                 Traceback (most recent call last)",
            "\u001b[0;32m<ipython-input-65-5ae8efc726d5>\u001b[0m in \u001b[0;36m<module>\u001b[0;34m\u001b[0m\n\u001b[1;32m      6\u001b[0m \u001b[0;32mfor\u001b[0m \u001b[0mi\u001b[0m \u001b[0;32min\u001b[0m \u001b[0mrange\u001b[0m\u001b[0;34m(\u001b[0m\u001b[0mn\u001b[0m\u001b[0;34m+\u001b[0m\u001b[0;36m1\u001b[0m\u001b[0;34m)\u001b[0m\u001b[0;34m:\u001b[0m\u001b[0;34m\u001b[0m\u001b[0;34m\u001b[0m\u001b[0m\n\u001b[1;32m      7\u001b[0m     \u001b[0;32mfor\u001b[0m \u001b[0mj\u001b[0m \u001b[0;32min\u001b[0m \u001b[0mrange\u001b[0m\u001b[0;34m(\u001b[0m\u001b[0;36m1\u001b[0m\u001b[0;34m,\u001b[0m \u001b[0mm\u001b[0m\u001b[0;34m+\u001b[0m\u001b[0;36m1\u001b[0m\u001b[0;34m)\u001b[0m\u001b[0;34m:\u001b[0m\u001b[0;34m\u001b[0m\u001b[0;34m\u001b[0m\u001b[0m\n\u001b[0;32m----> 8\u001b[0;31m         \u001b[0mdp\u001b[0m\u001b[0;34m[\u001b[0m\u001b[0mi\u001b[0m\u001b[0;34m]\u001b[0m\u001b[0;34m[\u001b[0m\u001b[0mj\u001b[0m\u001b[0;34m]\u001b[0m \u001b[0;34m=\u001b[0m \u001b[0mmax\u001b[0m\u001b[0;34m(\u001b[0m\u001b[0;34m[\u001b[0m\u001b[0;34m(\u001b[0m\u001b[0mdp\u001b[0m\u001b[0;34m[\u001b[0m\u001b[0mi\u001b[0m\u001b[0;34m-\u001b[0m\u001b[0mtopp\u001b[0m\u001b[0;34m[\u001b[0m\u001b[0mj\u001b[0m\u001b[0;34m]\u001b[0m\u001b[0;34m[\u001b[0m\u001b[0;36m2\u001b[0m\u001b[0;34m]\u001b[0m\u001b[0;34m*\u001b[0m\u001b[0mz\u001b[0m\u001b[0;34m]\u001b[0m\u001b[0;34m[\u001b[0m\u001b[0mj\u001b[0m\u001b[0;34m-\u001b[0m\u001b[0;36m1\u001b[0m\u001b[0;34m]\u001b[0m\u001b[0;34m+\u001b[0m\u001b[0mtopp\u001b[0m\u001b[0;34m[\u001b[0m\u001b[0mj\u001b[0m\u001b[0;34m]\u001b[0m\u001b[0;34m[\u001b[0m\u001b[0;36m3\u001b[0m\u001b[0;34m]\u001b[0m\u001b[0;34m*\u001b[0m\u001b[0mz\u001b[0m\u001b[0;34m)\u001b[0m \u001b[0;32mfor\u001b[0m \u001b[0mz\u001b[0m \u001b[0;32min\u001b[0m \u001b[0mrange\u001b[0m\u001b[0;34m(\u001b[0m\u001b[0mtopp\u001b[0m\u001b[0;34m[\u001b[0m\u001b[0mj\u001b[0m\u001b[0;34m]\u001b[0m\u001b[0;34m[\u001b[0m\u001b[0;36m0\u001b[0m\u001b[0;34m]\u001b[0m\u001b[0;34m//\u001b[0m\u001b[0mtopp\u001b[0m\u001b[0;34m[\u001b[0m\u001b[0mj\u001b[0m\u001b[0;34m]\u001b[0m\u001b[0;34m[\u001b[0m\u001b[0;36m1\u001b[0m\u001b[0;34m]\u001b[0m\u001b[0;34m)\u001b[0m \u001b[0;32mif\u001b[0m \u001b[0mi\u001b[0m\u001b[0;34m-\u001b[0m\u001b[0mtopp\u001b[0m\u001b[0;34m[\u001b[0m\u001b[0mj\u001b[0m\u001b[0;34m]\u001b[0m\u001b[0;34m[\u001b[0m\u001b[0;36m2\u001b[0m\u001b[0;34m]\u001b[0m\u001b[0;34m*\u001b[0m\u001b[0mz\u001b[0m \u001b[0;34m>=\u001b[0m \u001b[0;36m0\u001b[0m\u001b[0;34m]\u001b[0m\u001b[0;34m)\u001b[0m\u001b[0;34m\u001b[0m\u001b[0;34m\u001b[0m\u001b[0m\n\u001b[0m\u001b[1;32m      9\u001b[0m \u001b[0;34m\u001b[0m\u001b[0m\n\u001b[1;32m     10\u001b[0m \u001b[0mdp\u001b[0m\u001b[0;34m\u001b[0m\u001b[0;34m\u001b[0m\u001b[0m\n",
            "\u001b[0;32m<ipython-input-65-5ae8efc726d5>\u001b[0m in \u001b[0;36m<listcomp>\u001b[0;34m(.0)\u001b[0m\n\u001b[1;32m      6\u001b[0m \u001b[0;32mfor\u001b[0m \u001b[0mi\u001b[0m \u001b[0;32min\u001b[0m \u001b[0mrange\u001b[0m\u001b[0;34m(\u001b[0m\u001b[0mn\u001b[0m\u001b[0;34m+\u001b[0m\u001b[0;36m1\u001b[0m\u001b[0;34m)\u001b[0m\u001b[0;34m:\u001b[0m\u001b[0;34m\u001b[0m\u001b[0;34m\u001b[0m\u001b[0m\n\u001b[1;32m      7\u001b[0m     \u001b[0;32mfor\u001b[0m \u001b[0mj\u001b[0m \u001b[0;32min\u001b[0m \u001b[0mrange\u001b[0m\u001b[0;34m(\u001b[0m\u001b[0;36m1\u001b[0m\u001b[0;34m,\u001b[0m \u001b[0mm\u001b[0m\u001b[0;34m+\u001b[0m\u001b[0;36m1\u001b[0m\u001b[0;34m)\u001b[0m\u001b[0;34m:\u001b[0m\u001b[0;34m\u001b[0m\u001b[0;34m\u001b[0m\u001b[0m\n\u001b[0;32m----> 8\u001b[0;31m         \u001b[0mdp\u001b[0m\u001b[0;34m[\u001b[0m\u001b[0mi\u001b[0m\u001b[0;34m]\u001b[0m\u001b[0;34m[\u001b[0m\u001b[0mj\u001b[0m\u001b[0;34m]\u001b[0m \u001b[0;34m=\u001b[0m \u001b[0mmax\u001b[0m\u001b[0;34m(\u001b[0m\u001b[0;34m[\u001b[0m\u001b[0;34m(\u001b[0m\u001b[0mdp\u001b[0m\u001b[0;34m[\u001b[0m\u001b[0mi\u001b[0m\u001b[0;34m-\u001b[0m\u001b[0mtopp\u001b[0m\u001b[0;34m[\u001b[0m\u001b[0mj\u001b[0m\u001b[0;34m]\u001b[0m\u001b[0;34m[\u001b[0m\u001b[0;36m2\u001b[0m\u001b[0;34m]\u001b[0m\u001b[0;34m*\u001b[0m\u001b[0mz\u001b[0m\u001b[0;34m]\u001b[0m\u001b[0;34m[\u001b[0m\u001b[0mj\u001b[0m\u001b[0;34m-\u001b[0m\u001b[0;36m1\u001b[0m\u001b[0;34m]\u001b[0m\u001b[0;34m+\u001b[0m\u001b[0mtopp\u001b[0m\u001b[0;34m[\u001b[0m\u001b[0mj\u001b[0m\u001b[0;34m]\u001b[0m\u001b[0;34m[\u001b[0m\u001b[0;36m3\u001b[0m\u001b[0;34m]\u001b[0m\u001b[0;34m*\u001b[0m\u001b[0mz\u001b[0m\u001b[0;34m)\u001b[0m \u001b[0;32mfor\u001b[0m \u001b[0mz\u001b[0m \u001b[0;32min\u001b[0m \u001b[0mrange\u001b[0m\u001b[0;34m(\u001b[0m\u001b[0mtopp\u001b[0m\u001b[0;34m[\u001b[0m\u001b[0mj\u001b[0m\u001b[0;34m]\u001b[0m\u001b[0;34m[\u001b[0m\u001b[0;36m0\u001b[0m\u001b[0;34m]\u001b[0m\u001b[0;34m//\u001b[0m\u001b[0mtopp\u001b[0m\u001b[0;34m[\u001b[0m\u001b[0mj\u001b[0m\u001b[0;34m]\u001b[0m\u001b[0;34m[\u001b[0m\u001b[0;36m1\u001b[0m\u001b[0;34m]\u001b[0m\u001b[0;34m)\u001b[0m \u001b[0;32mif\u001b[0m \u001b[0mi\u001b[0m\u001b[0;34m-\u001b[0m\u001b[0mtopp\u001b[0m\u001b[0;34m[\u001b[0m\u001b[0mj\u001b[0m\u001b[0;34m]\u001b[0m\u001b[0;34m[\u001b[0m\u001b[0;36m2\u001b[0m\u001b[0;34m]\u001b[0m\u001b[0;34m*\u001b[0m\u001b[0mz\u001b[0m \u001b[0;34m>=\u001b[0m \u001b[0;36m0\u001b[0m\u001b[0;34m]\u001b[0m\u001b[0;34m)\u001b[0m\u001b[0;34m\u001b[0m\u001b[0;34m\u001b[0m\u001b[0m\n\u001b[0m\u001b[1;32m      9\u001b[0m \u001b[0;34m\u001b[0m\u001b[0m\n\u001b[1;32m     10\u001b[0m \u001b[0mdp\u001b[0m\u001b[0;34m\u001b[0m\u001b[0;34m\u001b[0m\u001b[0m\n",
            "\u001b[0;31mTypeError\u001b[0m: can only concatenate str (not \"int\") to str"
          ]
        }
      ],
      "source": [
        "n, m, c_0, d_0 = list(map(int,input().strip().split()))\n",
        "topp = []\n",
        "for i in range(m):\n",
        "    topp.append(list(map(int,input().strip().split())))\n",
        "dp = [[0 if m == 0 else '' for i in range(m+1)] for j in range(n+1)]\n",
        "for i in range(n+1):\n",
        "    for j in range(1, m+1):\n",
        "        dp[i][j] = max([(dp[i-topp[j][2]*z][j-1]+topp[j][3]*z) for z in range(topp[j][0]//topp[j][1]) if i-topp[j][2]*z >= 0])\n",
        "\n",
        "dp\n",
        "        \n",
        "        \n",
        "        \n",
        "        \n",
        "        \n",
        "        \n",
        "        \n",
        "        "
      ]
    },
    {
      "cell_type": "raw",
      "metadata": {
        "id": "1lWNhUA2x-LI"
      },
      "source": [
        "Создадим массив dp размера n на m. dp[i][j] будет означать максимальное количество денег, которое мы получим если используем i единиц теста и испечем булочки с начинками типов 1..j.\n",
        "\n",
        "Изначально dp[i][0] = 0 для всех i.\n",
        "\n",
        "Пересчитать данную динамику несложно:\n",
        "dp[i][j] = max{ dp[i-c[j]*k][j-1] + d[j]*k } по всем k от 0 до a[j]/b[j], для которых  i-c[j]*k>=0\n",
        "\n",
        "Ответом будет max{ dp[k][m] + ((n-k)/c0)*d0 } по всем k от 0 до n.\n",
        "\n",
        "Конечно же, в разборе данной задачи деление везде целочисленное.\n",
        "\n",
        "Полученное решение работает за O(nma), где a - максимум по a_i."
      ]
    },
    {
      "cell_type": "code",
      "execution_count": null,
      "metadata": {
        "id": "bOjhFrs5x-LJ"
      },
      "outputs": [],
      "source": [
        "10 2 2 1\n",
        "7 3 2 100\n",
        "12 3 1 10"
      ]
    },
    {
      "cell_type": "code",
      "execution_count": null,
      "metadata": {
        "id": "-tMYv7kWx-LJ",
        "outputId": "482c9214-ac11-4975-e289-b90de496c68e"
      },
      "outputs": [
        {
          "name": "stdout",
          "output_type": "stream",
          "text": [
            "1 3\n",
            "3\n",
            "3 3 2\n",
            "-2 3 6\n",
            "-2 7 10\n",
            "0.5\n"
          ]
        }
      ],
      "source": [
        "a, b = [int(i) for i in input().split()]\n",
        "n = int(input())\n",
        "xyv = []\n",
        "res = []\n",
        "for i in range(n):\n",
        "    xyv += [[int(j) for j in input().split()]]\n",
        "    res += [((a-xyv[i][0])**2+(b-xyv[i][1])**2)/xyv[i][2]**2]\n",
        "print(min(res)**0.5)"
      ]
    },
    {
      "cell_type": "code",
      "execution_count": null,
      "metadata": {
        "id": "MejcMTT3x-LJ"
      },
      "outputs": [],
      "source": [
        "1 3\n",
        "3\n",
        "3 3 2\n",
        "-2 3 6\n",
        "-2 7 10"
      ]
    },
    {
      "cell_type": "code",
      "execution_count": null,
      "metadata": {
        "scrolled": true,
        "id": "3x6ShcbMx-LJ",
        "outputId": "3a2063a9-e4cf-4a4c-d2be-69be2515b9a4"
      },
      "outputs": [
        {
          "name": "stdout",
          "output_type": "stream",
          "text": [
            "3\n",
            "1 4\n",
            "4 1\n",
            "4 4\n",
            "[{1}, {4}, {4}] [{4}, {1}, {4}]\n",
            "i 0 [{1}, {4}, {4}] [{4}, {1}, {4}]\n",
            "j 1 [{1}, {4}, {4}] [{4}, {1}, {4}]\n",
            "j 2 [{1}, {4}, {4}] [{4}, {1}, {4}]\n",
            "j 2 [{1}, {4}, {1, 4}] [{4}, {1}, {4}]\n",
            "i 1 [{1}, {4}, {1, 4}] [{4}, {1}, {4}]\n",
            "j 2 [{1}, {4}, {1, 4}] [{4}, {1}, {4}]\n",
            "j 2 [{1}, {4}, {1, 4}] [{4}, {1}, {1, 4}]\n",
            "0\n"
          ]
        }
      ],
      "source": [
        "n=int(input())\n",
        "ans=1\n",
        "xl=[];yl=[]\n",
        "for i in range(n):\n",
        "    a,b=map(int,input().split())\n",
        "    xl.append({a});yl.append({b})\n",
        "print(xl, yl)\n",
        "for i in range(n-1):\n",
        "    print('i', i, xl, yl)\n",
        "    for j in range(i+1,n): # go through each pair of dots\n",
        "        print('j', j, xl, yl)\n",
        "        if xl[j]&xl[i] or yl[j]&yl[i]: # if there is a common coordinate between the current two\n",
        "            xl[j]|=xl[i]\n",
        "            yl[j]|=yl[i]\n",
        "            print('j', j, xl, yl) # make a union of their sets in the 'second' dot, cause it will be the dot to be compared \n",
        "            # with the others\n",
        "            ans+=1 #number of existing connections\n",
        "            #break\n",
        "print(n-ans)"
      ]
    },
    {
      "cell_type": "markdown",
      "metadata": {
        "id": "nEJQPPeUx-LJ"
      },
      "source": [
        "For example, there is a triangle, where one dot (b) has the same x with the 1st (a) and the samy y with the 2nd (c). Therefore, no additional dots are needed to complete the path.  \n",
        "Step 1: 1st (a) and the 2nd (b) are compared. The new link (y coord) in our case is put in the set. Hence, when the 2nd is compared with the 3rd there is already a match on the y coord (from the 1st comparison) and the 2nd line is 'drawn'.  \n",
        "All in all, max dots == n-1, which can be reduced by the existing connections. In this example (n-(1+1+1) = 0)."
      ]
    },
    {
      "cell_type": "code",
      "execution_count": null,
      "metadata": {
        "id": "HzecOYySx-LK",
        "outputId": "1efb6f66-5875-4cb8-c7ca-971c8bcc80a3"
      },
      "outputs": [
        {
          "data": {
            "text/plain": [
              "{1, 2}"
            ]
          },
          "execution_count": 8,
          "metadata": {},
          "output_type": "execute_result"
        }
      ],
      "source": [
        "xl[0] |= yl[0]\n",
        "xl[0]"
      ]
    },
    {
      "cell_type": "code",
      "execution_count": null,
      "metadata": {
        "id": "ki24aQ1Bx-LK",
        "outputId": "801f021a-6c5a-4310-d648-f09bc7229136"
      },
      "outputs": [
        {
          "name": "stdout",
          "output_type": "stream",
          "text": [
            "[{2}]\n"
          ]
        }
      ],
      "source": [
        "2\n",
        "2 1\n",
        "1 2"
      ]
    },
    {
      "cell_type": "code",
      "execution_count": null,
      "metadata": {
        "id": "8OndfpQwx-LK",
        "outputId": "a2dceb41-8607-4009-f5b3-001806b8225e"
      },
      "outputs": [
        {
          "name": "stdout",
          "output_type": "stream",
          "text": [
            "net\n"
          ]
        }
      ],
      "source": [
        "if {2}&{1, 4}:\n",
        "    print('da')\n",
        "else:\n",
        "    print('net')"
      ]
    },
    {
      "cell_type": "markdown",
      "metadata": {
        "id": "mbAwO8IIx-LK"
      },
      "source": [
        "[News Distribution](https://codeforces.com/blog/entry/67058)  \n",
        "Основная суть: принимаем в каждой группе первого введённого пользователя как админа (компонента связности для \"детей\").  \n",
        "Далее для всех детей устанавливаем родителя - вышеназванный админ. Если админ одной группы одновременно ребёнок в другой, админом становится первый, кто был упомянут (вышестоящий).  \n",
        "Считаем число получателей, если постил админ.  \n",
        "Получена таблица, где заполнены только админы. Для детей будет тот же ответ, что и для их родителя."
      ]
    },
    {
      "cell_type": "code",
      "execution_count": null,
      "metadata": {
        "id": "dd85keFUx-LK",
        "outputId": "e2ec667b-b7e2-47c8-e8b5-a5cb8f412906"
      },
      "outputs": [
        {
          "name": "stdout",
          "output_type": "stream",
          "text": [
            "7 5\n",
            "3 5 4 2\n",
            "0\n",
            "2 2 1\n",
            "1 1\n",
            "2 6 7\n",
            "5\n",
            "5\n",
            "3\n",
            "5\n",
            "5\n",
            "6\n",
            "6\n",
            "4 4 1 4 4 2 2\n"
          ]
        }
      ],
      "source": [
        "def find(u):\n",
        "    if parent[u] == u:\n",
        "        return u\n",
        "    parent[u] = find(parent[u])\n",
        "    return parent[u]\n",
        " \n",
        "n, m = map(int, input().split())\n",
        "parent = [i for i in range(n+1)]\n",
        "ans = [0 for i in range(n+1)]\n",
        "for i in range(1,m+1):\n",
        "    a = [int(u) for u in input().split()][1:]\n",
        "    #print(a)\n",
        "    if(len(a)==0):\n",
        "        continue\n",
        "    x = find(a[0])\n",
        "    #print(x)\n",
        "    for y in a[1:]:\n",
        "        parent[find(y)] = x # link the children with the 'head'\n",
        "    #print(parent)\n",
        "\n",
        "for i in range(1,n+1):\n",
        "    print(find(i))\n",
        "    ans[find(i)]+=1 #the number of users who know about the post if the 'head' user posted it\n",
        "    \n",
        "print(' '.join(map(str, [ans[find(u)] for u in range(1, n + 1)]))) \n",
        "#all the children within the 'head' will have the same answer, so print the number from the head given the user posts"
      ]
    },
    {
      "cell_type": "code",
      "execution_count": null,
      "metadata": {
        "id": "ejOQDHGUx-LL"
      },
      "outputs": [],
      "source": [
        "7 5\n",
        "3 2 5 4\n",
        "0\n",
        "2 1 2\n",
        "1 1\n",
        "2 6 7\n",
        "\n",
        "7 5\n",
        "3 5 4 2\n",
        "0\n",
        "2 2 1\n",
        "1 1\n",
        "2 6 7"
      ]
    },
    {
      "cell_type": "code",
      "execution_count": null,
      "metadata": {
        "id": "ZY3mDwKVx-LL",
        "outputId": "f47c28ed-42a0-4d48-f837-c2acd12d5acc"
      },
      "outputs": [
        {
          "name": "stdout",
          "output_type": "stream",
          "text": [
            "[0, 5, 5, 3, 5, 5, 6, 6]\n",
            "[0, 0, 0, 1, 0, 4, 2, 0]\n"
          ]
        }
      ],
      "source": [
        "print(parent)\n",
        "print(ans)"
      ]
    }
  ],
  "metadata": {
    "kernelspec": {
      "display_name": "Python 3",
      "language": "python",
      "name": "python3"
    },
    "language_info": {
      "codemirror_mode": {
        "name": "ipython",
        "version": 3
      },
      "file_extension": ".py",
      "mimetype": "text/x-python",
      "name": "python",
      "nbconvert_exporter": "python",
      "pygments_lexer": "ipython3",
      "version": "3.7.6"
    },
    "colab": {
      "provenance": [],
      "collapsed_sections": [
        "w0tATVEv0jqx",
        "oHSUBlF25Rzf",
        "Q7vsM_eg5VuX",
        "bEk2VuJdyL8H",
        "g_MXi3jKx-K9",
        "t2vhew2Nx-LD",
        "XMCbj-LUx-LF",
        "las-Y426x-LG",
        "jQmA3Z6Mx-LH",
        "ym9cJzZMx-LH",
        "WR29Ue9hx-LI",
        "TiOx-DdTx-LI"
      ],
      "toc_visible": true,
      "include_colab_link": true
    }
  },
  "nbformat": 4,
  "nbformat_minor": 0
}
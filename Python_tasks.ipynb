{
  "nbformat": 4,
  "nbformat_minor": 0,
  "metadata": {
    "colab": {
      "provenance": [],
      "collapsed_sections": [],
      "authorship_tag": "ABX9TyPqFgopbIJPHSB5zreuV4wW",
      "include_colab_link": true
    },
    "kernelspec": {
      "name": "python3",
      "display_name": "Python 3"
    },
    "language_info": {
      "name": "python"
    }
  },
  "cells": [
    {
      "cell_type": "markdown",
      "metadata": {
        "id": "view-in-github",
        "colab_type": "text"
      },
      "source": [
        "<a href=\"https://colab.research.google.com/github/Felgaba/Math_Programming_Yandex_OZON/blob/main/Python_tasks.ipynb\" target=\"_parent\"><img src=\"https://colab.research.google.com/assets/colab-badge.svg\" alt=\"Open In Colab\"/></a>"
      ]
    },
    {
      "cell_type": "markdown",
      "source": [
        "#### **Разбор заданий из плейлиста [Ave Coder](https://www.youtube.com/playlist?list=PLPPIc-4tm3YSc6wN8Yhstdu-jucdWqL0_)**"
      ],
      "metadata": {
        "id": "b_ASSwN07m3i"
      }
    },
    {
      "cell_type": "markdown",
      "source": [
        "**Задание 1**  \n",
        "Написать функцию для определения, является ли предложенное слово [палиндромом](https://ru.wikipedia.org/wiki/%D0%9F%D0%B0%D0%BB%D0%B8%D0%BD%D0%B4%D1%80%D0%BE%D0%BC) (String).  \n",
        "**Вход:** слово или предложение (String);  \n",
        "**Выход:** Boolean (True/False);  \n",
        "**Условия:** Только буквы ('A-Z'), игнорируем регистр ('Z'=='z')."
      ],
      "metadata": {
        "id": "l577Iskt7vSS"
      }
    },
    {
      "cell_type": "code",
      "source": [
        "import re"
      ],
      "metadata": {
        "id": "QrwT_jL2Die-"
      },
      "execution_count": null,
      "outputs": []
    },
    {
      "cell_type": "code",
      "source": [
        "def is_palindrome(word):\n",
        "  forwards = ''.join(re.findall(r'[a-z]+', word.lower())) #найти от 1 и больше a-z, регистр и пробелы/апострофы не важны\n",
        "  backwards = forwards[::-1]\n",
        "  return forwards == backwards"
      ],
      "metadata": {
        "id": "mgypbXmzA_Sw"
      },
      "execution_count": null,
      "outputs": []
    },
    {
      "cell_type": "code",
      "source": [
        "is_palindrome('ave coder')"
      ],
      "metadata": {
        "colab": {
          "base_uri": "https://localhost:8080/"
        },
        "id": "nvmDl8B_DloV",
        "outputId": "6998eb13-f7c9-4d04-9bc7-e7961180f903"
      },
      "execution_count": null,
      "outputs": [
        {
          "output_type": "execute_result",
          "data": {
            "text/plain": [
              "False"
            ]
          },
          "metadata": {},
          "execution_count": 8
        }
      ]
    },
    {
      "cell_type": "markdown",
      "source": [
        "**Задание 2**  \n",
        "Написать функцию, задающую некоторый период времени и запускающую таймер после нажатия клавиши Enter. После повторного нажатия Enter таймер останавливается и на экран выводится прошедшее время.  \n",
        "**1)** Если меньше заявленного времени - too fast;  \n",
        "**2)** Если больше - too slow;  \n",
        "**3)** Если время совпадает - on time. "
      ],
      "metadata": {
        "id": "xy0RQNNmEQJY"
      }
    },
    {
      "cell_type": "code",
      "source": [
        "import time\n",
        "import random"
      ],
      "metadata": {
        "id": "4Gu0gXDfKS87"
      },
      "execution_count": null,
      "outputs": []
    },
    {
      "cell_type": "code",
      "source": [
        "def on_time_game(left, right):\n",
        "  target = random.randint(left, right)\n",
        "  print('Your target time is {} seconds'.format(target))\n",
        "\n",
        "  input('--Press Enter to Begin--')\n",
        "  start = time.perf_counter() # \"включить\" секундомер\n",
        "\n",
        "  input('--Press Enter after {} seconds--'.format(target))\n",
        "  elapsed = time.perf_counter() - start\n",
        "\n",
        "  print('Elapsed time: {0:.3f} seconds'.format(elapsed))\n",
        "  diff = abs(elapsed-target)\n",
        "\n",
        "  if elapsed == target:\n",
        "    print('You are on time!')\n",
        "  elif elapsed < target:\n",
        "    print('{0:.3f} seconds too fast'.format(diff))\n",
        "  elif elapsed > target:\n",
        "    print('{0:.3f} seconds too slow'.format(diff))"
      ],
      "metadata": {
        "id": "iMfXdZ4QPbX8"
      },
      "execution_count": null,
      "outputs": []
    },
    {
      "cell_type": "code",
      "source": [
        "on_time_game(3, 6)"
      ],
      "metadata": {
        "colab": {
          "base_uri": "https://localhost:8080/"
        },
        "id": "1EpUkajpSIKz",
        "outputId": "a038bc82-1d3c-4808-de80-68295e16f817"
      },
      "execution_count": null,
      "outputs": [
        {
          "output_type": "stream",
          "name": "stdout",
          "text": [
            "Your target time is 6 seconds\n",
            "--Press Enter to Begin--\n",
            "--Press Enter after 6 seconds--\n",
            "Elapsed time: 0.823 seconds\n",
            "5.177 seconds too fast\n"
          ]
        }
      ]
    },
    {
      "cell_type": "markdown",
      "source": [
        "**Задача 3**  \n",
        "Простые множители (простые делители) целого числа.  \n",
        "**Вход:** целое число (Int);  \n",
        "**Выход:** список из простых множителей заданного числа.\n"
      ],
      "metadata": {
        "id": "jlqjJBt8SdoZ"
      }
    },
    {
      "cell_type": "code",
      "source": [
        "def prime_factors(n):\n",
        "    i = 2\n",
        "    factors = []\n",
        "    while i * i <= n: # достаточно посмотреть не более sqrt(n) делителей для данной итерации n, \n",
        "    # тк любое число можно представить как произведение условно \"меньшего\" и \"большего\" или двух одинаковых, которые в произведении должны быть не больше самого числа\n",
        "        if n % i: # если остаток не 0, увеличиваем делитель\n",
        "            i += 1\n",
        "        else:\n",
        "            n /= i # пересчитываем n (остаток после деления)\n",
        "            factors.append(i) # добавляем в список новый простой делитель\n",
        "    if n > 1: # добавим остаток в список\n",
        "        factors.append(n)\n",
        "    return factors"
      ],
      "metadata": {
        "id": "RW-Xx-4Dav1t"
      },
      "execution_count": null,
      "outputs": []
    },
    {
      "cell_type": "markdown",
      "source": [
        "`if` после `while` нужен, чтобы не единичный остаток не выпал, т.к проверка `while` не проходит (последний делитель больше корня или его квадрат больше самого числа): $3 > \\sqrt{5} \\Leftrightarrow 3^2 > 5$"
      ],
      "metadata": {
        "id": "0er9MtRrjrt4"
      }
    },
    {
      "cell_type": "code",
      "source": [
        "prime_factors(180)"
      ],
      "metadata": {
        "colab": {
          "base_uri": "https://localhost:8080/"
        },
        "id": "JJ9XEZmwcReQ",
        "outputId": "7ca566d2-e0d4-4865-fc21-f84acd6b2903"
      },
      "execution_count": null,
      "outputs": [
        {
          "output_type": "execute_result",
          "data": {
            "text/plain": [
              "[2, 2, 3, 3, 5]"
            ]
          },
          "metadata": {},
          "execution_count": 45
        }
      ]
    },
    {
      "cell_type": "markdown",
      "source": [
        "2 раза делим на 2 (вызываем `else`), потом 2 раза делим на 3 (также `else`). При этом остаток от деления также нужно сравнивать с квадратом делителя (корнем из числа). "
      ],
      "metadata": {
        "id": "uPKLmVlljjx5"
      }
    },
    {
      "cell_type": "markdown",
      "source": [
        "**Задача 4**  \n",
        "Написать функцию для определения вероятности исхода броска кубика(-ов).  \n",
        "**Вход:** Количество граней у кубика (Integer).  \n",
        "**Выход:** Список, где каждому возможному исходу присвоена вероятность.  \n",
        "**Условия:** Может быть несколько кубиков, число граней может отличаться."
      ],
      "metadata": {
        "id": "8P7qCoQhks95"
      }
    },
    {
      "cell_type": "code",
      "source": [
        "from random import randint\n",
        "from collections import Counter"
      ],
      "metadata": {
        "id": "IldTR-CjoEL7"
      },
      "execution_count": null,
      "outputs": []
    },
    {
      "cell_type": "code",
      "source": [
        "def roll_dice(*dice, num_trials = 10**6): # 'dice' зафиксирован как итерируемый объект и как tuple (by default)\n",
        "  counts = Counter() # a !dict! subclass for counting hashable objects\n",
        "  for roll in range(num_trials):\n",
        "    counts[sum(randint(1, sides) for sides in dice)] += 1 # итерируем tuple и суммируем число выпавших очков на костях -> +1 к числу исходов\n",
        "  \n",
        "  print('OUTCOME\\tPROBABILITY')\n",
        "  for outcome in range(len(dice), sum(dice)+1): # сумма очков идёт от 1*\"число кубиков\" до \"число граней\"*\"число кубиков\" \n",
        "    print('{}\\t{:0.3f}%'.format(outcome, counts[outcome]*100/num_trials))"
      ],
      "metadata": {
        "id": "9QqJSOlQVrii"
      },
      "execution_count": null,
      "outputs": []
    },
    {
      "cell_type": "code",
      "source": [
        "roll_dice(6, 4)"
      ],
      "metadata": {
        "colab": {
          "base_uri": "https://localhost:8080/"
        },
        "id": "vVUNDZRaY_N0",
        "outputId": "040502e7-9c67-4f7e-e2fd-fc7d41a656ca"
      },
      "execution_count": null,
      "outputs": [
        {
          "output_type": "stream",
          "name": "stdout",
          "text": [
            "OUTCOME\tPROBABILITY\n",
            "2\t4.206%\n",
            "3\t8.316%\n",
            "4\t12.462%\n",
            "5\t16.631%\n",
            "6\t16.694%\n",
            "7\t16.701%\n",
            "8\t12.482%\n",
            "9\t8.335%\n",
            "10\t4.173%\n"
          ]
        }
      ]
    },
    {
      "cell_type": "markdown",
      "source": [
        "**Задача 5**  \n",
        "Написать функцию сортировки слов в алфавитном порядке.  \n",
        "**Вход:** Слова, разделенный запятыми (String).  \n",
        "**Выход:** Слова, разделенный запятыми, отсортированные в алфавитном порядке.  \n",
        "**Условия:** Игнорируем регистр при сортировке. НО регистр сохраняется на выходе."
      ],
      "metadata": {
        "id": "tjwruHQE-vI2"
      }
    },
    {
      "cell_type": "code",
      "source": [
        "def sort_words(input):\n",
        "  words = input.split()\n",
        "  words = [w.lower() + w for w in words] \n",
        "  words.sort()\n",
        "  words = [w[len(w)//2:] for w in words]\n",
        "  return ' '.join(words)"
      ],
      "metadata": {
        "id": "vngWU3OW_d9J"
      },
      "execution_count": null,
      "outputs": []
    },
    {
      "cell_type": "code",
      "source": [
        "sort_words('sHouta, ShoutA, sHouTa')"
      ],
      "metadata": {
        "colab": {
          "base_uri": "https://localhost:8080/",
          "height": 35
        },
        "id": "LyuJHoGQAJAf",
        "outputId": "34b8fc2e-4122-49c6-cc44-518ca7f9aa01"
      },
      "execution_count": null,
      "outputs": [
        {
          "output_type": "execute_result",
          "data": {
            "text/plain": [
              "'ShoutA, sHouta, sHouTa'"
            ],
            "application/vnd.google.colaboratory.intrinsic+json": {
              "type": "string"
            }
          },
          "metadata": {},
          "execution_count": 12
        }
      ]
    },
    {
      "cell_type": "markdown",
      "source": [
        "**ЗЫ:** в таком подходе одинаковые слова в нижнем регистре будут распознаваться с приоритетом для первой заглавной литеры. Случай чередования литер - приоритет случайный."
      ],
      "metadata": {
        "id": "ui45PPZ4GNry"
      }
    },
    {
      "cell_type": "markdown",
      "source": [
        "**Задача 6**  \n",
        "Посчитать уникальные слова в тексте.  \n",
        "**Вход:** Путь у текстовому файлу (.txt).  \n",
        "**Выход:** Общее число слов и 20 самых популярных слов.  \n",
        "**Условия:** Игнорируем регистр при сортировке. НО регистр сохраняется на выходе."
      ],
      "metadata": {
        "id": "gNsKR3t7Kxwy"
      }
    },
    {
      "cell_type": "code",
      "source": [
        "import re\n",
        "from collections import Counter"
      ],
      "metadata": {
        "id": "w5-e8DATL6G3"
      },
      "execution_count": null,
      "outputs": []
    },
    {
      "cell_type": "code",
      "source": [
        "def count_words(path):\n",
        "  with open(path, encoding = 'utf-8') as file:\n",
        "    all_words = re.findall(r'[0-9a-zA-Z]+', file.read())\n",
        "    all_words = [word.upper() for word in all_words]\n",
        "    print('TotalWords', len(all_words))\n",
        "\n",
        "    word_counts = Counter()\n",
        "    for word in all_words:\n",
        "      word_counts[word] += 1\n",
        "      \n",
        "    print('Top 20 words:')\n",
        "    for word in word_counts.most_common(20): # key-value pair from dict\n",
        "      print(word[0], '\\t', word[1])"
      ],
      "metadata": {
        "id": "W74r3qy0Mdkj"
      },
      "execution_count": null,
      "outputs": []
    },
    {
      "cell_type": "code",
      "source": [
        "count_words('shakespeare.txt')"
      ],
      "metadata": {
        "colab": {
          "base_uri": "https://localhost:8080/"
        },
        "id": "GrIfKOW1RdW6",
        "outputId": "63d8ddbc-f524-48a5-8a7a-eb83f1196bb0"
      },
      "execution_count": null,
      "outputs": [
        {
          "output_type": "stream",
          "name": "stdout",
          "text": [
            "TotalWords 3665\n",
            "Top 20 words:\n",
            "A \t 605\n",
            "NAME \t 288\n",
            "BR \t 224\n",
            "BLOCKQUOTE \t 128\n",
            "B \t 126\n",
            "I \t 68\n",
            "AND \t 53\n",
            "THE \t 47\n",
            "TO \t 40\n",
            "MY \t 39\n",
            "OF \t 30\n",
            "YOU \t 30\n",
            "KING \t 28\n",
            "THAT \t 26\n",
            "P \t 19\n",
            "IS \t 18\n",
            "IN \t 18\n",
            "ME \t 18\n",
            "S \t 17\n",
            "NOT \t 16\n"
          ]
        }
      ]
    },
    {
      "cell_type": "markdown",
      "source": [
        "**Задача 7**  \n",
        "Решение Судоку.  \n",
        "**Вход:** Матрица $9 \\times 9$.  \n",
        "**Выход:** Заполненная матрица $n \\times n$ по правилам игры (в каждой строке и столбце + квадратах $3 \\times 3$.  \n",
        "**ЗЫ:** пример в [видео](https://www.youtube.com/watch?v=Vi_0PnY1kUw&list=PLPPIc-4tm3YSc6wN8Yhstdu-jucdWqL0_&index=7)."
      ],
      "metadata": {
        "id": "n_u1wvl5cJQj"
      }
    },
    {
      "cell_type": "code",
      "source": [
        "from itertools import product"
      ],
      "metadata": {
        "id": "bEjfC42RdWpJ"
      },
      "execution_count": null,
      "outputs": []
    },
    {
      "cell_type": "code",
      "source": [
        "def solve_sudolu(puzzle):\n",
        "  for (row, column) in product(range(0, 9), repeat = 2):\n",
        "    if puzzle[row][col] == 0: #если ячейка ещё не заполнена\n",
        "      #проверка на всю строку и столбец\n",
        "      for num in range(1, 9 + 1):\n",
        "        allowed = True #default value\n",
        "        for i in range(0, 9):\n",
        "          if (puzzle[i][col] == num) or (puzzle[row][i] == num):\n",
        "            allowed = False; break\n",
        "        #проверка на квадраты\n",
        "        for (i, j) in product(range(0,3), repeat = 2):\n",
        "          if puzzle[row - row%3 + i][col - col%3 + j] == num: # остаток от деления на 3 - сдвигает до начал ближайшего квадрата\n",
        "            allowed = False; break\n",
        "        \n",
        "        if allowed:\n",
        "          puzzle[row][col] = num\n",
        "          trial = solve_suddoku(puzzle)\n",
        "          if trial: # если после заполнения ячейки, функция дальше норм заполнила; trial := solve_suddoku(puzzle)\n",
        "            return trial # возвращаем итог\n",
        "          else:\n",
        "            puzzle[row][col] = 0 # уберём выбранное число\n",
        "      return False # если для этой ячейки не подошло ни одно число, тогда заполнить нельзя и результат False\n",
        "  return puzzle "
      ],
      "metadata": {
        "id": "_MxmobD9d9HV"
      },
      "execution_count": 2,
      "outputs": []
    },
    {
      "cell_type": "code",
      "source": [
        "solve_sudolu()"
      ],
      "metadata": {
        "id": "6SvzDe8Dmyme"
      },
      "execution_count": null,
      "outputs": []
    },
    {
      "cell_type": "markdown",
      "source": [
        "`repeat` возвращает произведение на само себя в кол-ве, заданном переменной. `repeat = 1` не вернет ничего, т.к у нас только один iterable - не на что умножить. [Примеры](https://pythonz.net/references/named/itertools.product/)."
      ],
      "metadata": {
        "id": "-V8F86J6fQ34"
      }
    },
    {
      "cell_type": "code",
      "source": [
        "for a, b in product(range(0, 9), repeat = 2):\n",
        "  print(a, b)"
      ],
      "metadata": {
        "id": "5HB7ija_e-dx"
      },
      "execution_count": null,
      "outputs": []
    }
  ]
}
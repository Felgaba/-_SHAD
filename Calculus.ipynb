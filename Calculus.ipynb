{
  "nbformat": 4,
  "nbformat_minor": 0,
  "metadata": {
    "colab": {
      "provenance": [],
      "authorship_tag": "ABX9TyOoxb37IJq4nEzNKh9dAUjm",
      "include_colab_link": true
    },
    "kernelspec": {
      "name": "python3",
      "display_name": "Python 3"
    },
    "language_info": {
      "name": "python"
    }
  },
  "cells": [
    {
      "cell_type": "markdown",
      "metadata": {
        "id": "view-in-github",
        "colab_type": "text"
      },
      "source": [
        "<a href=\"https://colab.research.google.com/github/Felgaba/Math_Programming_Yandex_OZON/blob/main/Calculus.ipynb\" target=\"_parent\"><img src=\"https://colab.research.google.com/assets/colab-badge.svg\" alt=\"Open In Colab\"/></a>"
      ]
    },
    {
      "cell_type": "markdown",
      "source": [
        "**1)** Доказать:  \n",
        "$$ \\lim_\\limits{n \\rightarrow \\infty} \\sqrt[n]{n} = 1.$$"
      ],
      "metadata": {
        "id": "CJW4L_5KF02E"
      }
    },
    {
      "cell_type": "markdown",
      "source": [
        "$n = (\\sqrt[n]{n})^n = (1 + (\\sqrt[n]{n} - 1))^n = \\mbox{воспользуемся формулой Бинома Ньютона} = 1 + С_n^1 \\cdot 1 \\cdot (\\sqrt[n]{n} - 1)) + C_n^2 \\cdot 1 \\cdot (\\sqrt[n]{n} - 1))^2 + ... + (\\sqrt[n]{n} - 1)^n$  \n",
        "\n",
        "&ensp; Из полученного разложения нужно взять такой член (который сам по себе булет очевидно меньше $n$), чтобы в пределе $(\\sqrt[n]{n} - 1) \\rightarrow 0$:  \n",
        "$$n > C_n^2 \\cdot 1 \\cdot (\\sqrt[n]{n} - 1))^2 \\Rightarrow \\frac{2}{n-1} > (\\sqrt[n]{n} - 1)^2$$  \n",
        "**1)** левая и правая части > 0  \n",
        "**2)** если $a>b$, то $\\sqrt{a} > \\sqrt{b}$  \n",
        "Извлечем корень по абсолютной величине: $\\sqrt{\\dfrac{2}{n-1}} > |\\sqrt[n]{n} - 1| \\in [0, +\\infty)$. При $\\lim_\\limits{n \\rightarrow \\infty}\\sqrt{\\dfrac{2}{n-1}} \\rightarrow 0 \\space \\Rightarrow \\space 0_{+} > |\\sqrt[n]{n} - 1|$  \n",
        "\n",
        "> **Итого:** $\\sqrt[n]{n} \\rightarrow 1$."
      ],
      "metadata": {
        "id": "Y74fTRvEGGLA"
      }
    },
    {
      "cell_type": "markdown",
      "source": [
        "**2)** Найти предел:  \n",
        "$$\\lim\\limits_{x \\rightarrow a} \\frac{\\sin x - \\sin a}{x-a}, \\space a\\in \\mathbb{R}$$"
      ],
      "metadata": {
        "id": "1Dn4pcoKLsS5"
      }
    },
    {
      "cell_type": "markdown",
      "source": [
        "$\\lim\\limits_{x \\rightarrow a} \\dfrac{\\sin x - \\sin a}{x-a} = \\lim\\limits_{x \\rightarrow a} \\dfrac{2\\sin \\frac{x-a}{2} \\cos \\dfrac{x+a}{2}}{x-a} = \\lim\\limits_{x \\rightarrow a} \\dfrac{\\sin \\frac{x-a}{2}}{\\frac{x-a}{2}} \\cdot  \\lim\\limits_{x \\rightarrow a} \\cos \\dfrac{x+a}{2} = *$  \n",
        "\n",
        "* Заменим $b = \\dfrac{x-a}{2}, \\space \\lim b = \\lim\\limits_{x \\rightarrow a} \\dfrac{x-a}{2} = 0$.  \n",
        "\n",
        "$* = \\lim\\limits_{b \\rightarrow 0} \\dfrac{\\sin b}{b} \\cdot \\lim\\limits_{x \\rightarrow a} \\cos \\dfrac{x+a}{2} = 1 \\cdot \\cos a = \\cos a$"
      ],
      "metadata": {
        "id": "io3nj28qNfOn"
      }
    },
    {
      "cell_type": "markdown",
      "source": [
        "**3)** Найти предел:  \n",
        "$$\\lim\\limits_{x \\rightarrow \\infty} \\left( \\sin \\frac1x + \\cos \\frac1x \\right)^x.$$"
      ],
      "metadata": {
        "id": "TWxkgPToRtPh"
      }
    },
    {
      "cell_type": "markdown",
      "source": [
        "1. Произведем замену $y = \\dfrac1x \\Rightarrow x \\rightarrow \\infty \\Leftrightarrow y \\rightarrow 0$  \n",
        "2. $\\lim\\limits_{y \\rightarrow 0} (\\sin y + \\cos y)^{1/y} = \\mbox{разложим в ряд Тейлора до 2-го слагаемого} = \\lim\\limits_{y \\rightarrow 0} (y + \\frac{y^3}{3!} + 1 + \\frac{y^2}{2!})^{1/y}$\n",
        "3. Пренебрегая слагаемыми высшего порядка: $\\lim\\limits_{y \\rightarrow 0} (y+1)^{1/y}$\n",
        "4. По 2-му Замечательному Пределу и замене на исходную переменную получаем: $\\lim\\limits_{x \\rightarrow \\infty} (\\frac1x+1)^{x} = e.$"
      ],
      "metadata": {
        "id": "oOpy-UMzNHBK"
      }
    },
    {
      "cell_type": "markdown",
      "source": [
        "**4)** Найти предел функции:  \n",
        "$$\\lim\\limits_{n \\rightarrow \\infty} \\left( \\cos \\frac{x}{2} \\cdot \\cos \\frac{x}{4} \\cdot ... \\cdot \\cos \\frac{x}{2^n}\\right), \\hspace{1 cm} x \\neq 0.$$"
      ],
      "metadata": {
        "id": "lZc_vOyTFiQd"
      }
    },
    {
      "cell_type": "markdown",
      "source": [
        "По формуле синуса двойного угла: $\\sin 2x = 2 \\sin x \\cos x$ преобразуем дробь:  \n",
        "$$\\frac{\\sin x}{2 \\sin \\left(\\frac{x}{2} \\right)} \\cdot \\frac{\\sin \\left(\\frac{x}{2} \\right)}{2 \\sin \\left(\\frac{x}{4} \\right)} \\cdot \\frac{\\sin \\left(\\frac{x}{4} \\right)}{2 \\sin \\left(\\frac{x}{8} \\right)} \\cdot ... \\cdot  \\cdot \\frac{\\sin \\left(\\frac{x}{2^{n-1}} \\right)}{2 \\sin \\left(\\frac{x}{2^n} \\right)}$$  \n",
        "После поочередного сокращения одинаковых членов числителя и знаменателя остается только:  \n",
        "$$\\frac{\\sin x}{2^n \\sin \\left(\\frac{x}{2^n} \\right)}$$  \n",
        "\n",
        "Т.о $\\lim\\limits_{n \\rightarrow \\infty} \\left( \\cos \\dfrac{x}{2} \\cdot \\cos \\dfrac{x}{4} \\cdot ... \\cdot \\cos \\dfrac{x}{2^n}\\right) = \\lim\\limits_{n \\rightarrow \\infty} \\dfrac{\\sin x}{2^n \\sin \\left(\\frac{x}{2^n} \\right)} = \\lim\\limits_{n \\rightarrow \\infty} \\dfrac{\\sin x}{x \\cdot \\dfrac{\\sin \\left( \\dfrac{x}{2^n}\\right)}{\\dfrac{x}{2^n}}} = \\dfrac{\\sin x}{x} \\cdot \\lim\\limits_{n \\rightarrow \\infty} \\dfrac{\\dfrac{x}{2^n}}{\\sin \\left( \\dfrac{x}{2^n}\\right)} = \\dfrac{\\sin x}{x}$  \n",
        "\n",
        "**ЗЫ:** [1-й замечательный предел](https://function-x.ru/pervyi_zamechatelnyi_predel.html)."
      ],
      "metadata": {
        "id": "ZOLkiIr2MefO"
      }
    },
    {
      "cell_type": "markdown",
      "source": [
        "**5)** Найти предел функции:  \n",
        "$$\\lim\\limits_{n \\rightarrow \\infty} \\sum\\limits_{k=0}^{n} \\sin\\frac{ka}{n^2}.$$"
      ],
      "metadata": {
        "id": "_gIeFWwkAZFb"
      }
    },
    {
      "cell_type": "markdown",
      "source": [
        "&ensp; Перепишем предел суммы как: $\\lim\\limits_{x \\rightarrow \\infty} \\sum\\limits_{k=0}^{n} \\sin\\dfrac{ka}{n^2} = \\lim\\limits_{n \\rightarrow \\infty} \\left( \\sin\\dfrac{a}{n^2} + \\sin\\dfrac{2a}{n^2} + ... + \\sin\\dfrac{(n-1)a}{n^2} + \\sin\\dfrac{a}{n} \\right).$  \n",
        "&ensp; Предел суммы равен сумме пределов; аргумент синуса в числителе имеет некоторую констант и знаменатель, стремящийся к бесконечности: предел таких слагаемых (вообще говоря, всех) равен 0.  \n",
        "&ensp; Проверим слагаемое типа $\\lim\\limits_{n \\rightarrow \\infty} \\left( \\sin\\dfrac{(n-1)a}{n^2} \\right)$ на равенство нулю: $\\lim\\limits_{n \\rightarrow \\infty} \\left( \\sin\\dfrac{(n-1)a}{n^2} \\right) = \\lim\\limits_{n \\rightarrow \\infty} \\left[ \\sin \\left(\\dfrac{a}{n} - \\dfrac{a}{n^2} \\right) \\right] = \\lim\\limits_{n \\rightarrow \\infty} \\left[\\sin\\dfrac{a}{n} \\cos\\dfrac{a}{n^2} - \\cos\\dfrac{a}{n} \\sin\\dfrac{a}{n^2} \\right] = 0 \\cdot 1 - 1 \\cdot 0 = 0$.  \n",
        "\n",
        "&ensp; **Таким образом** $\\lim\\limits_{x \\rightarrow \\infty} \\sum\\limits_{k=0}^{n} \\sin\\dfrac{ka}{n^2} = \\lim\\limits_{n \\rightarrow \\infty} \\left( \\sin\\dfrac{a}{n^2} + \\sin\\dfrac{2a}{n^2} + ... + \\sin\\dfrac{(n-1)a}{n^2} + \\sin\\dfrac{a}{n} \\right) = 0.$"
      ],
      "metadata": {
        "id": "04DHOqv8Bcy2"
      }
    },
    {
      "cell_type": "markdown",
      "source": [
        "**6)** Найти предел функции:  \n",
        "$$\\lim \\limits_{n\\to \\infty} n^2\\sum_{k=0}^{n-1} \\sin\\left(\\frac{2\\pi k}n\\right)$$"
      ],
      "metadata": {
        "id": "XrkV43S9Estt"
      }
    },
    {
      "cell_type": "markdown",
      "source": [
        "$\\sum \\limits_{k=0}^{n-1}\\sin \\left(\\dfrac{2\\pi k}{n} \\right)$ - мнимая часть $\\sum \\limits_{k=0}^{n-1} e^{i2\\pi k/n}$. Мы можем оценить последнюю сумму напрямую, поскольку это [усеченный степенной ряд](https://math.stackexchange.com/questions/29023/values-of-sum-n-0-infty-xn-and-sum-n-0n-xn):  \n",
        "$$\\sum_{k=0}^{n-1}z^k = \\frac{z^n - 1}{z-1},$$\n",
        "при условии, что $z \\neq 1$:  \n",
        "$$\\sum_{k=0}^{n-1}e^{i2\\pi k/n} = \\frac{e^{i 2\\pi} - 1}{e^{i 2\\pi / n} - 1} = \\frac{1 - 1}{e^{i 2\\pi / n} - 1} = 0.$$  \n",
        "\n",
        "&ensp; По [Формуле Эйлера](https://ru.wikipedia.org/wiki/Формула_Эйлера): $\\sum \\limits_{k=0}^{n-1}e^{i2\\pi k/n} =  \\sum \\limits_{k=0}^{n-1} \\cos \\left(\\dfrac{2\\pi k}{n} \\right) + i \\sum \\limits_{k=0}^{n-1}\\sin \\left(\\dfrac{2\\pi k}{n} \\right) = 0.$ Т.е нулю равны и действительная, и мнимая части:  \n",
        "$$\\sum \\limits_{k=0}^{n-1}\\sin \\left(\\dfrac{2\\pi k}{n} \\right),$$\n",
        "при любом положительном целом $n$.  \n",
        "\n",
        "&ensp; Итого, ф-ия под пределом сводится к виду $0 \\cdot n^2$, где $0$ - это не значение предела, а точное число, которому равна сумма синусов, поэтому нельзя сказать, что имеем дело с неопределенностью вида $(0 \\cdot \\infty)$:  \n",
        "$$\\lim_{n \\to \\infty}n^2 \\sum_{k=0}^{n-1}\\sin(2\\pi k/n) = \\lim_{n \\to \\infty} (n^2 \\cdot 0) = \\lim_{n \\to \\infty} 0 = 0$$"
      ],
      "metadata": {
        "id": "xWEM1YwOF1wY"
      }
    },
    {
      "cell_type": "markdown",
      "source": [
        "**7)** Найти предел:\n",
        "$$\\lim_\\limits{x \\rightarrow \\infty} \\left(\\sqrt[6]{x^6 + x^5} - \\sqrt[6]{x^6 - x^5} \\right).$$"
      ],
      "metadata": {
        "id": "1gN-A5PLqI7s"
      }
    },
    {
      "cell_type": "markdown",
      "source": [
        "&ensp; Имеем неопределённость $(\\infty - \\infty)$. Для избавления от корня воспользуемся формулой разности/суммы кубов и квадратов:  \n",
        "\n",
        "* $a^3 \\pm b^3 = (a \\pm b)(a^2 \\mp ab + b^2)$\n",
        "* $a^2 - b^2 = (a-b)(a+b)$  \n",
        "\n",
        "Также заменим:  \n",
        "\n",
        "* $\\sqrt[6]{x^6 + x^5} = \\sqrt[6]{+}$\n",
        "* $\\sqrt[6]{x^6 - x^5} = \\sqrt[6]{-}$  \n",
        "\n",
        "&ensp; Тогда $(\\sqrt[6]{+})^3 \\pm (\\sqrt[6]{-})^3 = \\sqrt{+} \\pm \\sqrt{-}$ $\\Rightarrow$ $(\\sqrt{+} + \\sqrt{-})(\\sqrt{+} - \\sqrt{-}) = (\\sqrt{+})^2 - (\\sqrt{-})^2$ - таким образом, избавимся от иррациональности.  \n",
        "\n",
        "&ensp; Домножим выражение под знаком предела на сопряженное, чтобы избавиться от корня: $x^6 + x^5 - x^6 + x^5 = 2x^5$. Предел трансформируется в:  \n",
        "$$\\lim_\\limits{x \\rightarrow \\infty} \\left(\\sqrt[6]{x^6 + x^5} - \\sqrt[6]{x^6 - x^5} \\right) = \\lim_\\limits{x \\rightarrow \\infty} \\left( \\dfrac{2x^5}{(\\sqrt[6]{+} + \\sqrt[6]{-}) ( (\\sqrt[6]{+})^2 - \\sqrt[6]{+}\\sqrt[6]{-} + (\\sqrt[6]{-})^2)( (\\sqrt[6]{+})^2 + \\sqrt[6]{+}\\sqrt[6]{-} + (\\sqrt[6]{-})^2)}  \\right) = \\mbox{после раскрытия скобок в знаменателе и делении на $x^5$ получим} = \\lim_\\limits{x \\rightarrow \\infty} \\left( \\dfrac{2}{\\sqrt[6]{\\left(\\frac1x + 1 \\right)^5} + \\sqrt[6]{1 - \\frac1x}\\sqrt[6]{\\frac1x + 1} + ...}  \\right) = \\mbox{при стремлении к $\\infty$ элементы от $x$ устремятся к 0 и останется сумма единиц} = \\lim_\\limits{x \\rightarrow \\infty} \\dfrac{2}{1+1+1+1+1+1} = \\dfrac13$$"
      ],
      "metadata": {
        "id": "7UdGS_5mq1Se"
      }
    },
    {
      "cell_type": "markdown",
      "source": [
        "**PS:** покажем, например, как получить первое слагаемое в знаменателе: $\\sqrt[6]{x^5(x+1)}\\sqrt[6]{x^{10}(x+1)^2}\\sqrt[6]{x^{10}(x+1)^2} = \\sqrt[6]{x^{25}(x+1)^5} = \\mbox{поделим на $x^5$} = \\dfrac{\\sqrt[6]{x^{25}(x+1)^5}}{\\sqrt[6]{x^{30}}} = \\sqrt[6]{\\left( \\dfrac{x+1}{x} \\right)^5} = \\sqrt[6]{\\left( \\dfrac{1}{x} + 1 \\right)^5}$"
      ],
      "metadata": {
        "id": "FI3m_4cGCpNG"
      }
    }
  ]
}
{
  "nbformat": 4,
  "nbformat_minor": 0,
  "metadata": {
    "colab": {
      "provenance": [],
      "authorship_tag": "ABX9TyOWjC5AK8MKIKPHGKN3u8Y+",
      "include_colab_link": true
    },
    "kernelspec": {
      "name": "python3",
      "display_name": "Python 3"
    },
    "language_info": {
      "name": "python"
    }
  },
  "cells": [
    {
      "cell_type": "markdown",
      "metadata": {
        "id": "view-in-github",
        "colab_type": "text"
      },
      "source": [
        "<a href=\"https://colab.research.google.com/github/Felgaba/Math_Programming_Yandex_OZON/blob/main/Calculus.ipynb\" target=\"_parent\"><img src=\"https://colab.research.google.com/assets/colab-badge.svg\" alt=\"Open In Colab\"/></a>"
      ]
    },
    {
      "cell_type": "markdown",
      "source": [
        "**1)** Доказать:  \n",
        "$$ \\lim_\\limits{n \\rightarrow \\infty} \\sqrt[n]{n} = 1.$$"
      ],
      "metadata": {
        "id": "CJW4L_5KF02E"
      }
    },
    {
      "cell_type": "markdown",
      "source": [
        "$n = (\\sqrt[n]{n})^n = (1 + (\\sqrt[n]{n} - 1))^n = \\mbox{воспользуемся формулой Бинома Ньютона} = 1 + С_n^1 \\cdot 1 \\cdot (\\sqrt[n]{n} - 1)) + C_n^2 \\cdot 1 \\cdot (\\sqrt[n]{n} - 1))^2 + ... + (\\sqrt[n]{n} - 1)^n$  \n",
        "\n",
        "&ensp; Из полученного разложения нужно взять такой член (который сам по себе булет очевидно меньше $n$), чтобы в пределе $(\\sqrt[n]{n} - 1) \\rightarrow 0$:  \n",
        "$$n > C_n^2 \\cdot 1 \\cdot (\\sqrt[n]{n} - 1))^2 \\Rightarrow \\frac{2}{n-1} > (\\sqrt[n]{n} - 1)^2$$  \n",
        "**1)** левая и правая части > 0  \n",
        "**2)** если $a>b$, то $\\sqrt{a} > \\sqrt{b}$  \n",
        "Извлечем корень по абсолютной величине: $\\sqrt{\\dfrac{2}{n-1}} > |\\sqrt[n]{n} - 1| \\in [0, +\\infty)$. При $\\lim_\\limits{n \\rightarrow \\infty}\\sqrt{\\dfrac{2}{n-1}} \\rightarrow 0 \\space \\Rightarrow \\space 0_{+} > |\\sqrt[n]{n} - 1|$  \n",
        "\n",
        "> **Итого:** $\\sqrt[n]{n} \\rightarrow 1$."
      ],
      "metadata": {
        "id": "Y74fTRvEGGLA"
      }
    },
    {
      "cell_type": "markdown",
      "source": [
        "**2)** Найти предел:  \n",
        "$$\\lim\\limits_{x \\rightarrow a} \\frac{\\sin x - \\sin a}{x-a}, \\space a\\in \\mathbb{R}$$"
      ],
      "metadata": {
        "id": "1Dn4pcoKLsS5"
      }
    },
    {
      "cell_type": "markdown",
      "source": [
        "$\\lim\\limits_{x \\rightarrow a} \\dfrac{\\sin x - \\sin a}{x-a} = \\lim\\limits_{x \\rightarrow a} \\dfrac{2\\sin \\frac{x-a}{2} \\cos \\dfrac{x+a}{2}}{x-a} = \\lim\\limits_{x \\rightarrow a} \\dfrac{\\sin \\frac{x-a}{2}}{\\frac{x-a}{2}} \\cdot  \\lim\\limits_{x \\rightarrow a} \\cos \\dfrac{x+a}{2} = *$  \n",
        "\n",
        "* Заменим $b = \\dfrac{x-a}{2}, \\space \\lim b = \\lim\\limits_{x \\rightarrow a} \\dfrac{x-a}{2} = 0$.  \n",
        "\n",
        "$* = \\lim\\limits_{b \\rightarrow 0} \\dfrac{\\sin b}{b} \\cdot \\lim\\limits_{x \\rightarrow a} \\cos \\dfrac{x+a}{2} = 1 \\cdot \\cos a = \\cos a$"
      ],
      "metadata": {
        "id": "io3nj28qNfOn"
      }
    },
    {
      "cell_type": "markdown",
      "source": [
        "**3)** Найти предел:  \n",
        "$$\\lim\\limits_{x \\rightarrow \\infty} \\left( \\sin \\frac1x + \\cos \\frac1x \\right)^x.$$"
      ],
      "metadata": {
        "id": "TWxkgPToRtPh"
      }
    },
    {
      "cell_type": "markdown",
      "source": [
        "1. Произведем замену $y = \\dfrac1x \\Rightarrow x \\rightarrow \\infty \\Leftrightarrow y \\rightarrow 0$  \n",
        "2. $\\lim\\limits_{y \\rightarrow 0} (\\sin y + \\cos y)^{1/y} = \\mbox{разложим в ряд Тейлора до 2-го слагаемого} = \\lim\\limits_{y \\rightarrow 0} (y + \\frac{y^3}{3!} + 1 + \\frac{y^2}{2!})^{1/y}$\n",
        "3. Пренебрегая слагаемыми высшего порядка: $\\lim\\limits_{y \\rightarrow 0} (y+1)^{1/y}$\n",
        "4. По 2-му Замечательному Пределу и замене на исходную переменную получаем: $\\lim\\limits_{x \\rightarrow \\infty} (\\frac1x+1)^{x} = e.$"
      ],
      "metadata": {
        "id": "oOpy-UMzNHBK"
      }
    }
  ]
}
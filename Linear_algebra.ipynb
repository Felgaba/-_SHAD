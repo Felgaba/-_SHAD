{
  "nbformat": 4,
  "nbformat_minor": 0,
  "metadata": {
    "colab": {
      "name": "Linear_algebra.ipynb",
      "provenance": [],
      "collapsed_sections": [],
      "toc_visible": true,
      "authorship_tag": "ABX9TyPYX7UwRQApQzBuKsYu931f",
      "include_colab_link": true
    },
    "kernelspec": {
      "name": "python3",
      "display_name": "Python 3"
    },
    "language_info": {
      "name": "python"
    }
  },
  "cells": [
    {
      "cell_type": "markdown",
      "metadata": {
        "id": "view-in-github",
        "colab_type": "text"
      },
      "source": [
        "<a href=\"https://colab.research.google.com/github/Felgaba/Yandex_SHAD-OZON_Masters/blob/main/Linear_algebra.ipynb\" target=\"_parent\"><img src=\"https://colab.research.google.com/assets/colab-badge.svg\" alt=\"Open In Colab\"/></a>"
      ]
    },
    {
      "cell_type": "markdown",
      "metadata": {
        "id": "1d906bb3"
      },
      "source": [
        "## Иные задачи"
      ]
    },
    {
      "cell_type": "markdown",
      "metadata": {
        "id": "5f039c4b"
      },
      "source": [
        "#### **1)** Решить уравнение \n",
        "$$ X^{2021} = X, $$\n",
        "где  \n",
        "$$ X = \\begin{pmatrix}\n",
        "0 & x\\\\\n",
        "y & 0\n",
        "\\end{pmatrix} $$"
      ]
    },
    {
      "cell_type": "markdown",
      "metadata": {
        "id": "3c76a2ab"
      },
      "source": [
        "$$ X^2 = \\begin{pmatrix}\n",
        "xy & 0\\\\\n",
        "0 & xy\n",
        "\\end{pmatrix} \n",
        "\\Rightarrow \n",
        "X^3 = \\begin{pmatrix}\n",
        "0 & x^2y\\\\\n",
        "xy^2 & 0\n",
        "\\end{pmatrix}\n",
        "\\Rightarrow\n",
        "X^4 = \\begin{pmatrix}\n",
        "x^2y^2 & 0\\\\\n",
        "0 & x^2y^2\n",
        "\\end{pmatrix} $$"
      ]
    },
    {
      "cell_type": "markdown",
      "metadata": {
        "id": "7f625e6a"
      },
      "source": [
        "$$ \\begin{pmatrix}\n",
        "0 & x^2y\\\\\n",
        "xy^2 & 0\n",
        "\\end{pmatrix}\n",
        "\\begin{pmatrix}\n",
        "0 & x\\\\\n",
        "y & 0\n",
        "\\end{pmatrix} = \\space \\to \\dots \\to \\space X^{2020} = \n",
        "\\begin{pmatrix}\n",
        "(xy)^{2018} & 0\\\\\n",
        "0 & (xy)^{2018}\n",
        "\\end{pmatrix}$$  "
      ]
    },
    {
      "cell_type": "markdown",
      "metadata": {
        "id": "1ef0599d"
      },
      "source": [
        "$ X^{2021} - X= \\begin{pmatrix}\n",
        "0 & x^{2019}y^{2018}-x\\\\\n",
        "x^{2018}y^{2019}-y & 0\n",
        "\\end{pmatrix} \\space = \\space 0$  \n",
        "\n",
        "$\n",
        "\\left\\{\n",
        "    \\begin{array}\\\\\n",
        "        x[(xy)^{2018}-1] = 0 \\\\\n",
        "        y[(xy)^{2018}-1] = 0 \\\\\n",
        "    \\end{array}\n",
        "\\right.\n",
        "\\Rightarrow \n",
        "\\left\\{\n",
        "    \\begin{array}\\\\\n",
        "        x[(xy)^{2018}-1] = 0 \\\\\n",
        "        y[(xy)^{2018}-1] = 0 \\\\\n",
        "        [x \\pm y][(xy)^{2018}-1] = 0\n",
        "    \\end{array}\n",
        "\\right.\n",
        "\\Rightarrow\n",
        "\\left\\{\n",
        "    \\begin{array}\\\\\n",
        "        x=0 \\Leftrightarrow y=0 \\\\\n",
        "        x \\space and \\space y \\neq 0 \\Rightarrow x = \\pm y \\Rightarrow y = \\pm1 \\space and \\space x = \\pm \\mp 1\\\\\n",
        "        x = \\pm \\frac{1}{y}\n",
        "    \\end{array}\n",
        "\\right.$"
      ]
    },
    {
      "cell_type": "markdown",
      "metadata": {
        "id": "a291f5d0"
      },
      "source": [
        "#### **2)** Даны [блочные матрицы § 2.4.](https://elar.urfu.ru/bitstream/10995/82505/1/978-5-7996-2947-2_2020.pdf):"
      ]
    },
    {
      "cell_type": "markdown",
      "metadata": {
        "id": "9cf74b5c"
      },
      "source": [
        "$A = \\left(\\begin{array}{@{}c|c@{}}\n",
        "  \\begin{matrix}\n",
        "  2 & 3\n",
        "  \\end{matrix}\n",
        "  & 4 \\\\\n",
        "\\hline\n",
        "  \\begin{matrix}\n",
        "  3 & 4 \\\\\n",
        "  4 & 5\n",
        "  \\end{matrix}\n",
        "  &\n",
        "  \\begin{matrix}\n",
        "  5 \\\\\n",
        "  6\n",
        "  \\end{matrix}\n",
        "\\end{array}\\right)$ = \n",
        "$\\left(\\begin{array}{@{}c|c@{}}\n",
        "  A_{11} & A_{12} \\\\\n",
        "\\hline\n",
        "  A_{21} & A_{22} \\\\\n",
        "\\end{array}\\right) \\space$ и\n",
        "$\\space B = \\left(\\begin{array}{@{}c|c@{}}\n",
        "  \\begin{matrix}\n",
        "  1 & 1\n",
        "  \\end{matrix}\n",
        "  & 0 \\\\\n",
        "\\hline\n",
        "  \\begin{matrix}\n",
        "  2 & 1 \\\\\n",
        "  3 & 0\n",
        "  \\end{matrix}\n",
        "  &\n",
        "  \\begin{matrix}\n",
        "  2 \\\\\n",
        "  1\n",
        "  \\end{matrix}\n",
        "\\end{array}\\right)$ = \n",
        "$\\left(\\begin{array}{@{}c|c@{}}\n",
        "  B_{11} & B_{12} \\\\\n",
        "\\hline\n",
        "  B_{21} & B_{22} \\\\\n",
        "\\end{array}\\right)$"
      ]
    },
    {
      "cell_type": "markdown",
      "metadata": {
        "id": "0a5152f7"
      },
      "source": [
        "Найти матрицы:\n",
        "$$ C = A + B, D = 5B, E = B^T $$"
      ]
    },
    {
      "cell_type": "markdown",
      "metadata": {
        "id": "e65b667e"
      },
      "source": [
        "$C = \\left(\\begin{array}{@{}c|c@{}}\n",
        "  \\begin{matrix}\n",
        "  3 & 4\n",
        "  \\end{matrix}\n",
        "  & 4 \\\\\n",
        "\\hline\n",
        "  \\begin{matrix}\n",
        "  5 & 5 \\\\\n",
        "  7 & 5\n",
        "  \\end{matrix}\n",
        "  &\n",
        "  \\begin{matrix}\n",
        "  7 \\\\\n",
        "  7\n",
        "  \\end{matrix}\n",
        "\\end{array}\\right)$ ; \n",
        "$D = \\left(\\begin{array}{@{}c|c@{}}\n",
        "  \\begin{matrix}\n",
        "  5 & 5\n",
        "  \\end{matrix}\n",
        "  & 0 \\\\\n",
        "\\hline\n",
        "  \\begin{matrix}\n",
        "  10 & 5 \\\\\n",
        "  15 & 0\n",
        "  \\end{matrix}\n",
        "  &\n",
        "  \\begin{matrix}\n",
        "  10 \\\\\n",
        "  5\n",
        "  \\end{matrix}\n",
        "\\end{array}\\right)$ ; \n",
        "$E = \\left(\\begin{array}{@{}c|c@{}}\n",
        "  B_{11} & B_{21} \\\\\n",
        "\\hline\n",
        "  B_{12} & B_{22} \\\\\n",
        "\\end{array}\\right) \\space$ = \n",
        "$ \\left(\\begin{array}{@{}c|c@{}}\n",
        "  \\begin{matrix}\n",
        "  1 \\\\\n",
        "  1\n",
        "  \\end{matrix}\n",
        "  &\n",
        "    \\begin{matrix}\n",
        "  2 & 3 \\\\\n",
        "  1 & 0\n",
        "  \\end{matrix}\\\\\n",
        "\\hline\n",
        "  0\n",
        "  &\n",
        "  \\begin{matrix}\n",
        "  2 & 1\n",
        "  \\end{matrix}\n",
        "\\end{array}\\right)$"
      ]
    },
    {
      "cell_type": "markdown",
      "metadata": {
        "id": "9446e70f"
      },
      "source": [
        "#### **3)** Вычислить определители n-го порядка:  "
      ]
    },
    {
      "cell_type": "markdown",
      "metadata": {
        "id": "14ce9ade"
      },
      "source": [
        "**a)** $ \\begin{vmatrix}\n",
        "1 & 1 & 1 & ... & 1 & 1\\\\\n",
        "0 & 2 & 2 & ... & 2 & 2\\\\\n",
        "0 & 0 & 3 & ... & 3 & 3\\\\\n",
        "\\vdots & \\vdots & \\vdots &  & \\vdots & \\vdots\\\\\n",
        "0 & 0 & 0 & ... & n-1 & n-1\\\\\n",
        "n & n & n & ... & n & 2n\n",
        "\\end{vmatrix} $ = *вычтем из n-й строки первую, умноженную на n* = $ \\begin{vmatrix}\n",
        "1 & 1 & 1 & ... & 1 & 1\\\\\n",
        "0 & 2 & 2 & ... & 2 & 2\\\\\n",
        "0 & 0 & 3 & ... & 3 & 3\\\\\n",
        "\\vdots & \\vdots & \\vdots &  & \\vdots & \\vdots\\\\\n",
        "0 & 0 & 0 & ... & n-1 & n-1\\\\\n",
        "0 & 0 & 0 & ... & 0 & n\n",
        "\\end{vmatrix} $ =  \n",
        "= *по последней строке* = $ n(n-1)(n-2)\\cdot ... \\cdot 2 \\cdot 1 = n! $"
      ]
    },
    {
      "cell_type": "markdown",
      "metadata": {
        "id": "7e29f9ab"
      },
      "source": [
        "**b)** $ \\begin{vmatrix}\n",
        "1 & 1 & ... & 1 & 1\\\\\n",
        "2 & 1 & ... & 1 & 1\\\\\n",
        "3 & 3 & ... & 1 & 1\\\\\n",
        "\\vdots & \\vdots &  & \\vdots & \\vdots\\\\\n",
        "n-1 & n-1 & ... & 1 & 1\\\\\n",
        "n & n & ... & n & 1\n",
        "\\end{vmatrix} $ = *поочерёдно вычтем 1-ю строку из остальных, умножив её на 2, 3 и тд.* = \n",
        "\n",
        "$ \\begin{vmatrix}\n",
        "1 & 1 & ... & 1 & 1\\\\\n",
        "0 & -1 & ... & -1 & -1\\\\\n",
        "0 & 0 & ... & -2 & -2\\\\\n",
        "\\vdots & \\vdots &  & \\vdots & \\vdots\\\\\n",
        "n-1 & n-1 & ... & -(n-2) & -(n-2)\\\\\n",
        "0 & 0 & ... & 0 & -(n-1)\n",
        "\\end{vmatrix} $ = *по последней строке* = \n",
        "$ [-(n-1)][-(n-2)]\\cdot ... \\cdot (-1)\\cdot 1 = (-1)^{n-1}\\cdot (n-1)!$"
      ]
    },
    {
      "cell_type": "markdown",
      "metadata": {
        "id": "8194ed49"
      },
      "source": [
        "**c)** $ \\begin{vmatrix}\n",
        "0 & 1 & 0 & \\dots & 0\\\\\n",
        "0 & 0 & 1 & \\dots & 0\\\\\n",
        "\\vdots & \\vdots & \\ddots & \\dots & \\vdots\\\\\n",
        "0 & 0 & 0 & \\vdots & 1\\\\\n",
        "1 & 2 & 3 & \\dots & n\n",
        "\\end{vmatrix} $ = * по первому столбцу * = $1\\cdot (-1)^{n+1}\\cdot detE = (-1)^{n+1}$"
      ]
    },
    {
      "cell_type": "markdown",
      "metadata": {
        "id": "77c736d2"
      },
      "source": [
        "#### **4)** Вычислить определитель n-го порядка, элементы которого\n",
        "$$ a_{ij} = max\\{i, j\\}: \\space \\Delta_n = \n",
        "\\begin{vmatrix}\n",
        "1 & 2 & 3 & \\dots & n\\\\\n",
        "2 & 2 & 3 & \\dots & n\\\\\n",
        "3 & 3 & 3 & \\dots & n\\\\\n",
        "\\vdots & \\vdots & \\ddots & \\dots & \\vdots\\\\\n",
        "n & n & n & \\dots & n\n",
        "\\end{vmatrix} $$"
      ]
    },
    {
      "cell_type": "markdown",
      "metadata": {
        "id": "11d084c4"
      },
      "source": [
        "$ \\begin{vmatrix}\n",
        "1 & 2 & 3 & \\dots & n\\\\\n",
        "2 & 2 & 3 & \\dots & n\\\\\n",
        "3 & 3 & 3 & \\dots & n\\\\\n",
        "\\vdots & \\vdots & \\ddots & \\dots & \\vdots\\\\\n",
        "n & n & n & \\dots & n\n",
        "\\end{vmatrix} $ = *вычтем первую строку из остальных* = $\n",
        "\\begin{vmatrix}\n",
        "1 & 2 & 3 & \\dots & n\\\\\n",
        "1 & 0 & 0 & \\dots & 0\\\\\n",
        "2 & 1 & 0 & \\dots & 0\\\\\n",
        "\\vdots & \\vdots & \\ddots & \\dots & \\vdots\\\\\n",
        "n-1 & n-2 & n-3 & \\dots & 0\n",
        "\\end{vmatrix}$ =  \n",
        "= по последнему столбцу = $(-1)^{1+n}\\cdot n \\cdot detE = (-1)^{n+1}n$"
      ]
    },
    {
      "cell_type": "markdown",
      "metadata": {
        "id": "831acfec"
      },
      "source": [
        "#### 5) Подобие матриц 3-го порядка:  \n",
        "$$ A = \\begin{pmatrix}\n",
        "1 & 1 & -1\\\\\n",
        "0 & 1 & 2\\\\\n",
        "0 & 0 & 1\n",
        "\\end{pmatrix}, \\space \n",
        "B = \\begin{pmatrix}\n",
        "3 & -2 & 1\\\\\n",
        "2 & -1 & 2\\\\\n",
        "0 & 0 & 1\n",
        "\\end{pmatrix}, \\space\n",
        "C = \\begin{pmatrix}\n",
        "3 & 1 & -1\\\\\n",
        "-2 & 0 & 1\\\\\n",
        "2 & 1 & 0\n",
        "\\end{pmatrix}$$"
      ]
    },
    {
      "cell_type": "markdown",
      "metadata": {
        "id": "0b72a33d"
      },
      "source": [
        "Подобие подразумевает равенство их [жордановых форм](http://math.phys.msu.ru/archive/2019_2020/25/JF.pdf):  \n",
        "\n",
        "**1)** $det(A-\\lambda E) = 0 \\Rightarrow \\lambda_1 = 1 \\space (m=3)$\n",
        "\n",
        "$A-\\lambda E = \\begin{pmatrix}\n",
        "0 & 1 & 0\\\\\n",
        "0 & 0 & 1\\\\\n",
        "0 & 0 & 0\n",
        "\\end{pmatrix} \\Rightarrow \\bar{v_1} = C_1 \\begin{pmatrix} 1 \\\\ 0 \\\\ 0 \\end{pmatrix} $ (собственный вектор; s=1) m-s = 2 присоединённых вектора.  "
      ]
    },
    {
      "cell_type": "markdown",
      "metadata": {
        "id": "1ac7f8f0"
      },
      "source": [
        "**2)** $det(B-\\lambda E) = 0 \\Rightarrow \\lambda_1 = 1 \\space (m=3)$\n",
        "\n",
        "$B-\\lambda E = \\begin{pmatrix}\n",
        "2 & -2 & 1\\\\\n",
        "2 & -2 & 2\\\\\n",
        "0 & 0 & -2\n",
        "\\end{pmatrix} \\rightarrow \n",
        "\\begin{pmatrix}\n",
        "1 & -1 & 0\\\\\n",
        "0 & 0 & 0\\\\\n",
        "0 & 0 & -1\n",
        "\\end{pmatrix}\n",
        "\\Rightarrow \\bar{v_2} = C_2 \\begin{pmatrix} 1 \\\\ 1 \\\\ 0 \\end{pmatrix} $ (собственный вектор; s=1) m-s = 2 присоединённых вектора.  "
      ]
    },
    {
      "cell_type": "markdown",
      "metadata": {
        "id": "5e182d40"
      },
      "source": [
        "**3)** $det(C-\\lambda E) = 0 \\Rightarrow \\lambda_1 = 1 \\space (m=3)$\n",
        "\n",
        "$C-\\lambda E = \\begin{pmatrix}\n",
        "2 & 1 & -1\\\\\n",
        "-2 & -1 & 1\\\\\n",
        "2 & 1 & -1\n",
        "\\end{pmatrix} \\rightarrow \n",
        "\\begin{pmatrix}\n",
        "2 \\\\ 1 \\\\ -1\n",
        "\\end{pmatrix}\n",
        "\\Rightarrow \\bar{v_3} = C_3 \\begin{pmatrix} 1 \\\\ 0 \\\\ 2 \\end{pmatrix} + C'_3 \\begin{pmatrix} -1 \\\\ 2 \\\\ 0 \\end{pmatrix}$ (собственный вектор; s=2) m-s = 1 присоединённый вектор.  "
      ]
    },
    {
      "cell_type": "markdown",
      "metadata": {
        "id": "59c1f343"
      },
      "source": [
        "**Жордановы формы:**  \n",
        "$$ A_J = \\begin{pmatrix}\n",
        "1 & 1 & 0\\\\\n",
        "0 & 1 & 1\\\\\n",
        "0 & 0 & 1\n",
        "\\end{pmatrix} \\space \n",
        "B_J = \\begin{pmatrix}\n",
        "1 & 1 & 0\\\\\n",
        "0 & 1 & 1\\\\\n",
        "0 & 0 & 1\n",
        "\\end{pmatrix} \\space \n",
        "C_J = \\begin{pmatrix}\n",
        "1 & 1 & 0\\\\\n",
        "0 & 1 & 1\\\\\n",
        "0 & 0 & 1\n",
        "\\end{pmatrix}$$"
      ]
    },
    {
      "cell_type": "markdown",
      "metadata": {
        "id": "ae1b6d4d"
      },
      "source": [
        "$$ (m=3, s=1) \\space (m=3, s=1) \\space (m=3, s=2) $$"
      ]
    },
    {
      "cell_type": "markdown",
      "metadata": {
        "id": "9f61c45a"
      },
      "source": [
        "$$ A \\sim B \\nsim C $$"
      ]
    },
    {
      "cell_type": "markdown",
      "source": [
        "#### **6)** Привести примеры таких матриц порядка $2$, для которых верны следующие равенства:  \n",
        "1. $A^2 = I$;  \n",
        "2. $B^2 = O$ и $B \\neq O$;  "
      ],
      "metadata": {
        "id": "DNeXYMfib65P"
      }
    },
    {
      "cell_type": "markdown",
      "source": [
        "**1.** $A^2 = I$  \n",
        "**a)** $A$ - единичная ($\\pm$)  \n",
        "**б)** $\\begin{pmatrix}\n",
        "a & b\\\\\n",
        "c & d\n",
        "\\end{pmatrix} ^2 = \n",
        "\\begin{pmatrix}\n",
        "1 & 0\\\\\n",
        "0 & 1\n",
        "\\end{pmatrix}$\n",
        "\n",
        "$ \\left\\{\n",
        "    \\begin{array}\\\\\n",
        "        a^2 + bc = 1 \\\\\n",
        "        (a+d)b = 0 \\\\\n",
        "        (a+d)c = 0 \\\\\n",
        "        bc + d^2 = 1 \n",
        "    \\end{array} \n",
        "  \\right. \n",
        "\\Rightarrow  \n",
        "\\left\\{\n",
        "    \\begin{array}\\\\\n",
        "        a^2 = d^2 \\\\\n",
        "        (a+d)b = 0 \\\\\n",
        "        (a+d)c = 0\n",
        "    \\end{array} \n",
        "  \\right.\n",
        "\\Rightarrow \n",
        "\\left\\{\n",
        "    \\begin{array}\\\\\n",
        "        a = \\pm d \\\\\n",
        "        (a+d)(b \\pm c) = 0 \\\\\n",
        "        (a+d)bc = 0\n",
        "    \\end{array} \n",
        "  \\right.\n",
        "\\Rightarrow\n",
        "\\left\\{\n",
        "    \\begin{array}\\\\\n",
        "        a = \\pm d \\\\\n",
        "        b = \\pm c, \\space bc = 0 \\Rightarrow b=c=0, \\space при \\space a+d \\neq 0\\\\\n",
        "        b = \\pm c, \\space bc \\neq 0 \\space (=1), \\space a+d = 0 \\Leftrightarrow a = d = 0\n",
        "    \\end{array} \n",
        "  \\right.$  \n",
        "* $d = 1, \\space a = \\pm 1, \\space b=c=0: \\begin{pmatrix}\n",
        "\\pm 1 & 0\\\\\n",
        "0 & \\pm 1\n",
        "\\end{pmatrix}$  \n",
        "* $d = 0, \\space a = 0, \\space b=c=\\pm1: \\begin{pmatrix}\n",
        "0 & \\pm 1\\\\\n",
        "\\pm 1 & 0\n",
        "\\end{pmatrix}$"
      ],
      "metadata": {
        "id": "SOKrv8wndnw9"
      }
    },
    {
      "cell_type": "markdown",
      "source": [
        "**2.** $B^2 = O$ и $B \\neq O$\n",
        "\n",
        "$\\begin{pmatrix}\n",
        "a & b\\\\\n",
        "c & d\n",
        "\\end{pmatrix} ^ 2 = \n",
        "\\begin{pmatrix}\n",
        "0 & 0\\\\\n",
        "0 & 0\n",
        "\\end{pmatrix}$\n",
        "\n",
        "$ \\left\\{\n",
        "    \\begin{array}\\\\\n",
        "        a^2 + bc = 0 \\\\\n",
        "        (a+d)b = 0 \\\\\n",
        "        (a+d)c = 0 \\\\\n",
        "        bc + d^2 = 0 \n",
        "    \\end{array} \n",
        "  \\right. \\Rightarrow a^2 - d^2 = 0$\n",
        "\n",
        "$a=d: \\space \\left\\{\n",
        "    \\begin{array}\\\\\n",
        "        2ab = 0, \\space (1)\\space при \\space a=d=0\\\\\n",
        "        2ac = 0, \\space (2)\\space при \\space a=d\\neq0\n",
        "    \\end{array} \n",
        "\\right.$\n",
        "\n",
        "$(1) \\left\\{\n",
        "    \\begin{array}\\\\\n",
        "        bc = 0 \\\\\n",
        "        0b = 0 \\\\\n",
        "        0c = 0 \n",
        "    \\end{array} \n",
        "  \\right. \\Rightarrow \n",
        "  \\left\\{\n",
        "    \\begin{array}\\\\\n",
        "        b = 0, c \\neq 0 \\\\\n",
        "        b \\neq 0, c = 0 \n",
        "    \\end{array} \n",
        "  \\right. \\Rightarrow\n",
        "  \\begin{pmatrix}\n",
        "0 & b\\\\\n",
        "0 & 0\n",
        "\\end{pmatrix}; \\space\n",
        "\\begin{pmatrix}\n",
        "0 & 0\\\\\n",
        "c & 0\n",
        "\\end{pmatrix}$ \n",
        "\n",
        "$(2) \\left\\{\n",
        "    \\begin{array}\\\\\n",
        "        b=c=0 \\\\\n",
        "        a^2 + 0 = 0 \n",
        "    \\end{array} \n",
        "  \\right. \\Rightarrow \n",
        "a=b=c=d=0\n",
        " \\Rightarrow\n",
        "\\begin{pmatrix}\n",
        "0 & 0\\\\\n",
        "0 & 0\n",
        "\\end{pmatrix}$  \n",
        "\n",
        "$a=-d: \\space \\left\\{\n",
        "    \\begin{array}\\\\\n",
        "        2d^2 +2bc = 0 \\\\\n",
        "        0b = 0 \\\\\n",
        "        0c = 0 \n",
        "    \\end{array} \n",
        "\\right.\n",
        "\\Rightarrow \n",
        "\\left\\{\n",
        "    \\begin{array}\\\\\n",
        "        a = -d = 0 \\\\\n",
        "        0b = 0 \\\\\n",
        "        0c = 0 \\\\\n",
        "        bc = 0\n",
        "    \\end{array} \n",
        "\\right. \\Rightarrow \n",
        "\\left\\{\n",
        "    \\begin{array}\\\\\n",
        "        a = d = 0 \\\\\n",
        "        b = 0 \\space или \\space b \\neq 0 \\space или \\space b = 0\\\\\n",
        "        c \\neq 0 \\space или \\space c = 0 \\space или \\space c = 0\n",
        "    \\end{array} \n",
        "\\right. \\Rightarrow\n",
        "  \\begin{pmatrix}\n",
        "0 & b\\\\\n",
        "0 & 0\n",
        "\\end{pmatrix}; \\space\n",
        "\\begin{pmatrix}\n",
        "0 & 0\\\\\n",
        "c & 0\n",
        "\\end{pmatrix}; \\space \n",
        "\\begin{pmatrix}\n",
        "0 & 0\\\\\n",
        "0 & 0\n",
        "\\end{pmatrix}$  \n",
        "$\\left\\{\n",
        "    \\begin{array}\\\\\n",
        "        a = -d \\neq 0 \\\\\n",
        "        0b = 0 \\\\\n",
        "        0c = 0 \\\\\n",
        "        d^2 + bc = 0\n",
        "    \\end{array} \n",
        "\\right. \\Rightarrow \n",
        "\\left\\{\n",
        "    \\begin{array}\\\\\n",
        "        a = -d \\neq 0 \\\\\n",
        "        b \\neq 0, \\space c = -\\frac{d^2}{b} \\\\\n",
        "        c \\neq 0, \\space b = -\\frac{d^2}{c} \n",
        "    \\end{array} \n",
        "\\right. \\Rightarrow \n",
        "\\begin{pmatrix}\n",
        "d & b\\\\\n",
        "-\\frac{d^2}{b} & -d\n",
        "\\end{pmatrix}; \\space \n",
        "\\begin{pmatrix}\n",
        "d & -\\frac{d^2}{c}\\\\\n",
        "c & -d\n",
        "\\end{pmatrix}$"
      ],
      "metadata": {
        "id": "fPM5R5SmyU_m"
      }
    },
    {
      "cell_type": "markdown",
      "metadata": {
        "id": "383cc6a6"
      },
      "source": [
        "#### Линейные пространства"
      ]
    },
    {
      "cell_type": "markdown",
      "metadata": {
        "id": "1c998c21"
      },
      "source": [
        "&emsp; **1)** Найти размерности и базисы пересечения $A \\cap B$ и суммы $A+B$ подпространства $A \\subset \\mathbb{R}^4$, $B \\subset \\mathbb{R}^4$, если они заданы однородными системами уравнений (внешнее описание): "
      ]
    },
    {
      "cell_type": "markdown",
      "metadata": {
        "id": "7f03ca66"
      },
      "source": [
        "$$ A = \\left\\{\n",
        "    \\begin{array}\\\\\n",
        "        x_1 + x_2 + 2x_3 + x_4 = 0 \\\\\n",
        "        2x_1 + 3x_2 + x_4 = 0 \\\\\n",
        "        3x_1 + 4x_2 + 2x_3 + 2x_4 = 0\n",
        "    \\end{array}\n",
        "\\right. \n",
        "B = \\left\\{\n",
        "    \\begin{array}\\\\\n",
        "        x_1 + x_2 + x_3 = 0 \\\\\n",
        "        2x_1 + 3x_2 + x_3 + x_4 = 0 \\\\\n",
        "        x_1 + 2x_2 + 2x_4 = 0\n",
        "    \\end{array}\n",
        "\\right. $$"
      ]
    },
    {
      "cell_type": "markdown",
      "metadata": {
        "id": "33e438fc"
      },
      "source": [
        "**1)** $\\begin{matrix}\n",
        "A = \\{Ax = 0\\}\\\\\n",
        "B = \\{Bx = 0\\}\n",
        "\\end{matrix} \\Rightarrow $ переход к внутреннему описанию $ \\Rightarrow $  подпространства заданы линейными оболочками своих образующих  \n",
        "(внутреннее описание): $A = Lin(a_1, a_2, . . . , a_{k1}), B = Lin(b_1, b_2, . . . , b_{k2}).$"
      ]
    },
    {
      "cell_type": "markdown",
      "metadata": {
        "id": "ee8cf408"
      },
      "source": [
        "**2)** решить СЛАУ $Ax = 0$ и $Bx = 0$ любым методом (например, методом Гаусса):"
      ]
    },
    {
      "cell_type": "markdown",
      "metadata": {
        "id": "3135cff7"
      },
      "source": [
        "**A** ~ $ = \\left(\\begin{array}{@{}c|c@{}}\n",
        "  \\begin{matrix}\n",
        "  1 & 0 & 6 & 2\n",
        "  \\end{matrix}\n",
        "  & 0 \\\\\n",
        "  \\begin{matrix}\n",
        "  0 & 1 & -4 & -1\n",
        "  \\end{matrix}\n",
        "  & 0 \\\\\n",
        "  \\begin{matrix}\n",
        "  0 & 0 & 0 & 0\n",
        "  \\end{matrix}\n",
        "  & 0 \\\\\n",
        "\\end{array}\\right) \\space \\space \\space$ **B** ~ $ = \\left(\\begin{array}{@{}c|c@{}}\n",
        "  \\begin{matrix}\n",
        "  1 & 0 & 2 & -2\n",
        "  \\end{matrix}\n",
        "  & 0 \\\\\n",
        "  \\begin{matrix}\n",
        "  0 & 1 & -1 & 2\n",
        "  \\end{matrix}\n",
        "  & 0 \\\\\n",
        "  \\begin{matrix}\n",
        "  0 & 0 & 0 & 0\n",
        "  \\end{matrix}\n",
        "  & 0 \\\\\n",
        "\\end{array}\\right)$"
      ]
    },
    {
      "cell_type": "markdown",
      "metadata": {
        "id": "d49df129"
      },
      "source": [
        "$A: \\left\\{\n",
        "    \\begin{array}\\\\\n",
        "        x_1 = -6x_3 - 2x_4 \\\\\n",
        "        x_2 = 4x_3 + x_4\n",
        "    \\end{array}\n",
        "\\right. $\n",
        "$B: \\left\\{\n",
        "    \\begin{array}\\\\\n",
        "        x_1 = -2x_3 + 2x_4 \\\\\n",
        "        x_2 = 1x_3 - 2x_4\n",
        "    \\end{array}\n",
        "\\right.$"
      ]
    },
    {
      "cell_type": "markdown",
      "metadata": {
        "id": "d1517db5"
      },
      "source": [
        "$A: \\left\\{\n",
        "    \\begin{array}\\\\\n",
        "        x_3 = 1 \\\\\n",
        "        x_4 = 0\n",
        "    \\end{array}\n",
        "\\right. \\space \\varphi_1 = \\begin{pmatrix}\n",
        "-6 \\\\\n",
        "4 \\\\\n",
        "1 \\\\\n",
        "0\n",
        "\\end{pmatrix};$  $\\left\\{\n",
        "    \\begin{array}\\\\\n",
        "        x_3 = 0 \\\\\n",
        "        x_4 = 1\n",
        "    \\end{array}\n",
        "\\right. \\space \\varphi_1 = \\begin{pmatrix}\n",
        "-2 \\\\\n",
        "1 \\\\\n",
        "0 \\\\\n",
        "1\n",
        "\\end{pmatrix} \\Rightarrow Ф_A = \n",
        "\\begin{pmatrix}\n",
        "-6 & -2 \\\\\n",
        "4 & 1 \\\\\n",
        "1 & 0 \\\\\n",
        "0 & 1\n",
        "\\end{pmatrix}$ - фундаментальная система решений для Ax = 0;  \n",
        "$B: \\left\\{\n",
        "    \\begin{array}\\\\\n",
        "        x_3 = 1 \\\\\n",
        "        x_4 = 0\n",
        "    \\end{array}\n",
        "\\right. \\space \\varphi_1 = \\begin{pmatrix}\n",
        "-2 \\\\\n",
        "0 \\\\\n",
        "1 \\\\\n",
        "0\n",
        "\\end{pmatrix};$  $\\left\\{\n",
        "    \\begin{array}\\\\\n",
        "        x_3 = 0 \\\\\n",
        "        x_4 = 1\n",
        "    \\end{array}\n",
        "\\right. \\space \\varphi_1 = \\begin{pmatrix}\n",
        "0 \\\\\n",
        "-2 \\\\\n",
        "0 \\\\\n",
        "1\n",
        "\\end{pmatrix} \\Rightarrow Ф_A = \n",
        "\\begin{pmatrix}\n",
        "-2 & 0 \\\\\n",
        "0 & -2 \\\\\n",
        "1 & 0 \\\\\n",
        "0 & 1\n",
        "\\end{pmatrix}$ - фундаментальная система решений для Bx = 0."
      ]
    },
    {
      "cell_type": "markdown",
      "metadata": {
        "id": "c6807d36"
      },
      "source": [
        "**3)** $\\begin{matrix}\n",
        "A = Lin(a_1, a_2)\\\\\n",
        "B = Lin(b_1, b_2)\n",
        "\\end{matrix}$ "
      ]
    },
    {
      "cell_type": "markdown",
      "metadata": {
        "id": "acea9777"
      },
      "source": [
        "**4)** $A+B = Lin(a_1, a_2, b_1, b_2)$ базис $A+B$: \n",
        "$\\begin{pmatrix}\n",
        "-6 & -2 & -2 & 0\\\\\n",
        "4 & 1 & 0 & -2\\\\\n",
        "1 & 0 & 1 & 0\\\\\n",
        "0 & 1 & 0 & 1\n",
        "\\end{pmatrix}$ ~\n",
        "$\\begin{pmatrix}\n",
        "3 & 1 & 1 & 0\\\\\n",
        "0 & 1 & 0 & 1\\\\\n",
        "0 & 0 & 4 & 5\\\\\n",
        "0 & 0 & 0 & 1\n",
        "\\end{pmatrix}$"
      ]
    },
    {
      "cell_type": "markdown",
      "metadata": {
        "id": "8b4e486e"
      },
      "source": [
        "столбцы 3 и 4 - базис: $(ab)_1 = \\begin{pmatrix}\n",
        "1 \\\\\n",
        "0 \\\\\n",
        "4 \\\\\n",
        "5\n",
        "\\end{pmatrix} \\space (ab)_2 = \\begin{pmatrix}\n",
        "0 \\\\\n",
        "1 \\\\\n",
        "5 \\\\\n",
        "1\n",
        "\\end{pmatrix} \\Rightarrow dim(A+B) = 2$"
      ]
    },
    {
      "cell_type": "markdown",
      "metadata": {
        "id": "a6bcd301"
      },
      "source": [
        "**5)** $A \\cap B$: \n",
        "$\\left\\{\n",
        "    \\begin{array}\\\\\n",
        "        Ax = 0 \\\\\n",
        "        Bx = 0\n",
        "    \\end{array}\n",
        "\\right. \\Rightarrow \n",
        "\\begin{vmatrix}\n",
        "A\\\\\n",
        "B\n",
        "\\end{vmatrix}x = 0$ ~ метод Гаусса ~\n",
        "$ \\left(\\begin{array}{@{}c|c@{}}\n",
        "  \\begin{matrix}\n",
        "  1 & 1 & 2 & 1\n",
        "  \\end{matrix}\n",
        "  & 0 \\\\\n",
        "  \\begin{matrix}\n",
        "  0 & 1 & -4 & -1\n",
        "  \\end{matrix}\n",
        "  & 0 \\\\\n",
        "  \\begin{matrix}\n",
        "  0 & 0 & 1 & 1\n",
        "  \\end{matrix}\n",
        "  & 0 \\\\\n",
        "  \\begin{matrix}\n",
        "  0 & 0 & 0 & 0\n",
        "  \\end{matrix}\n",
        "  & 0 \\\\\n",
        "\\end{array}\\right) $"
      ]
    },
    {
      "cell_type": "markdown",
      "metadata": {
        "id": "f94792f2"
      },
      "source": [
        "$\\left\\{\n",
        "    \\begin{array}\\\\\n",
        "        x_1 = -x_2 - 2x_3 - x_4 \\\\\n",
        "        x_2 = 4x_3 + x_4 \\\\\n",
        "        x_3 = - x_4\n",
        "    \\end{array}\n",
        "\\right. \n",
        "\\Rightarrow\n",
        "\\left\\{\n",
        "    \\begin{array}\\\\\n",
        "        x_1 = -2x_4 \\\\\n",
        "        x_2 = -3x_4 \\\\\n",
        "        x_3 = -x_4\n",
        "    \\end{array}\n",
        "\\right.$"
      ]
    },
    {
      "cell_type": "markdown",
      "metadata": {
        "id": "b88b91ad"
      },
      "source": [
        "* при $x_4 = 1 \\space \n",
        "\\varphi_1 = \\begin{pmatrix}\n",
        "-2 \\\\\n",
        "-3 \\\\\n",
        "-1 \\\\\n",
        "1\n",
        "\\end{pmatrix} \\space$, откуда\n",
        "$Ф_A = \n",
        "\\begin{pmatrix}\n",
        "-2 \\\\\n",
        "-3 \\\\\n",
        "-1 \\\\\n",
        "1\n",
        "\\end{pmatrix} \\Rightarrow dim(A \\cap B) = 1$  \n",
        "* базис $(ab)_1 = \\begin{pmatrix}\n",
        "-2 \\\\\n",
        "-3 \\\\\n",
        "-1 \\\\\n",
        "1\n",
        "\\end{pmatrix}$ "
      ]
    },
    {
      "cell_type": "markdown",
      "source": [
        "&emsp; **2)** Образуют ли многочлены $p_1(x)=x^3+x^2-1, p_2(x)=x^2-2x, p_3(x)=x^3+x, p_4(x)=x^2-3$ базис в пространстве $P_3$ (многочленов не старше третьей степени)?"
      ],
      "metadata": {
        "id": "NnSUWKp3ZBB5"
      }
    },
    {
      "cell_type": "markdown",
      "source": [
        "&emsp; Нужно показать, что коэффициенты линейной комбинации, составленной из многочленов равен нулю *только с тривиальным набором коэффициентов (равных 0)*:\n",
        "$$c_1p_1(x)+c_2p_2(x)+c_3p_3(x)+c_4p_4(x) = 0$$\n",
        "&emsp; Заменим $p_i$ на соответствующие им многочлены: $c_1(x^3+x^2-1)+c_2(x^2-2x)+c_3(x^3+x)+c_4(x^2-3) = 0$. Приравняем коэффициенты при одинаковых степенях $x$ в правой и левой частях равенства: $(c_1+c_3)x^3+(c_1+c_2+c_4)x^2+(-2c_2+c_3)x+(-c_1-3c_4)x^0 = 0$."
      ],
      "metadata": {
        "id": "TM8YWOnc0rrX"
      }
    },
    {
      "cell_type": "markdown",
      "source": [
        "$\\left\\{\n",
        "    \\begin{array}\\\\\n",
        "        c_1 + c_3 = 0 \\\\\n",
        "        c_1 + c_2 + c_4 = 0 \\\\\n",
        "        -2c_2 + c_3 = 0 \\\\\n",
        "        -c_1 - 3c_4 = 0\n",
        "    \\end{array}\n",
        "\\right.$ - решаем систему любым способом -\n",
        "$\\Rightarrow\n",
        "\\left\\{\n",
        "    \\begin{array}\\\\\n",
        "        c_1 = 0 \\\\\n",
        "        c_2 = 0 \\\\\n",
        "        c_3 = 0 \\\\\n",
        "        c_4 = 0\n",
        "    \\end{array}\n",
        "\\right.$"
      ],
      "metadata": {
        "id": "hqOwxn-u6Ji1"
      }
    },
    {
      "cell_type": "markdown",
      "source": [
        "Система имеет единственное решение - нетривиальное. Таким образом, данные многочлены **образуют базис в пространстве $P_3$**."
      ],
      "metadata": {
        "id": "Mxgw-7lm7rdw"
      }
    },
    {
      "cell_type": "markdown",
      "source": [
        "&emsp; **3)** Образует ли линейное подпространство пространства $R^4$ множество $V$, заданное по правилу:  \n",
        "**а)** $V = \\{(x_1, x_2,x_3,x_4): x_1-2x_3=0 \\}$  \n",
        "**б)** $V = \\{(x_1, x_2,x_3,x_4): x_3+x_4=1 \\}$"
      ],
      "metadata": {
        "id": "n7GvkLv7-Jin"
      }
    },
    {
      "cell_type": "markdown",
      "source": [
        "<a id ='Определение'></a>\n",
        "**Определение.**\n",
        "\n",
        "&emsp; Непустое подмножество $L$ линейного пространства $V$ называется линейным подпространством пространства $V$ , если\n",
        "\n",
        "1. $\\forall u, v \\in L: \\space (u + v) \\in L$ (подпространство замкнуто по отношению к операции сложения);\n",
        "\n",
        "2. $\\forall v \\in L, \\space \\forall \\lambda \\in \\mathbb{R}: \\space (\\lambda v) \\in L$ (подпространство замкнуто по отношению к операции умножения вектора на число)."
      ],
      "metadata": {
        "id": "a_XP5vEA_yl0"
      }
    },
    {
      "cell_type": "markdown",
      "source": [
        "&emsp; **а)** Если $x_1 -2x_3 = 0$ или $x_1 = 2x_3$, тогда $V = \\{(2x_3, x_2,x_3,x_4): x_1-2x_3=0 \\}$. Возьмем произвольные элементы множества $V:$ $t = (2t_3, t_2,t_3,t_4), \\space p = (2p_3, p_2, p_3, p_4)$.  \n",
        "1. Операция сложения: $t+p = (2(t_3+p_3), t_2+p_2,t_3+p_3,t_4+p_4) \\in \\mathbb{R^4}$. По сути, $t+p$ можно заменить на некий новый элемент $k$, который, как видно, также принадлежит $\\mathbb{R^4}$.\n",
        "2. Операция умножения вектора на число: $\\lambda t = (2\\lambda t_3, \\lambda t_2,\\lambda t_3, \\lambda t_4) \\in \\mathbb{R^4}$. Аналогично рассуждая,  можно сказать, что $\\lambda t_i$ - это просто отмасштабированный элемент, \"структура\" которого сохраняется для множества $V$.\n",
        "  \n",
        "Таким образом, множество $V$ является линейным подпространством пространства $R^4$. "
      ],
      "metadata": {
        "id": "dFKG4XvcBMGo"
      }
    },
    {
      "cell_type": "markdown",
      "source": [
        "&emsp; **б)** Если $x_3 + x_4 = 1$ или $x_3 = 1 - x_4$, тогда $V = \\{(x_1, x_2,1-x_4,x_4): x_1-2x_3=0 \\}$. Возьмем произвольные элементы множества $V:$ $t = (t_1, t_2,1-t_4,t_4), \\space p = (p_1, p_2, 1-p_4, p_4)$.  \n",
        "1. Операция сложения: $t+p = (t_1+p_1, t_2+p_2,1-t_4+1-p_4,t_4+p_4) \\in \\mathbb{R^4}$. В этом случае рассуждения из **а)** уже не получатся, т.к третий аргумент не подчиняется заданному правилу: $1-t_4+1-p_4 \\neq 1-(t_4+p_4)$, для правой части выполняется рассуждении о замене на новую переменную, для которой элементы $V$ аналогичны.  \n",
        "\n",
        "Таким образом, множество $V$ **не** является линейным подпространством пространства $R^4$. "
      ],
      "metadata": {
        "id": "H_in2_IxPzpX"
      }
    },
    {
      "cell_type": "markdown",
      "source": [
        "**4)** Доказать, что матрицы вида $\\begin{pmatrix}\n",
        "2a & a+3b-2c \\\\\n",
        "b & 5c\n",
        "\\end{pmatrix}$, образуют линейное подпространство в пространстве $M_{22}$. Найти его базис и размерность. Дополнить базис подпространства до базиса всего пространства. "
      ],
      "metadata": {
        "id": "tqsRJKGUv7mD"
      }
    },
    {
      "cell_type": "markdown",
      "source": [
        "[По определению](#Определение) нужно показать выполнение свойств аддитивности и умножения на число (масштабирования).  \n",
        "1. Операция сложения: \n",
        "$x = \\begin{pmatrix}\n",
        "2a_1 & a_1+3b_1-2c_1 \\\\\n",
        "b_1 & 5c_1\n",
        "\\end{pmatrix}, \\space\n",
        "y = \\begin{pmatrix}\n",
        "2a_2 & a_2+3b_2-2c_2 \\\\\n",
        "b_2 & 5c_2\n",
        "\\end{pmatrix}$ - два произвольныз элементв из искомого множества матриц $M_{22}$ тогда \n",
        "$x+y = \\begin{pmatrix}\n",
        "2(a_1+a_2) & (a_1+a_2)+3(b_1+b_2)-2(c_1+c_2) \\\\\n",
        "(b_1+b_2) & 5(c_1+c_2)\n",
        "\\end{pmatrix} = \n",
        "\\begin{pmatrix}\n",
        "2a_3 & a_3+3b_3-2c_3 \\\\\n",
        "b_3 & 5c_3\n",
        "\\end{pmatrix} \\in \\mathbb{R^4}$.  \n",
        "2. Операция умножения вектора на число: \n",
        "$x = \\begin{pmatrix}\n",
        "2a_1 & a_1+3b_1-2c_1 \\\\\n",
        "b_1 & 5c_1\n",
        "\\end{pmatrix}$, произвольный элемент множества $M_{22}$, $\\alpha$ - произвольное число. Тогда $\\alpha x = \\begin{pmatrix}\n",
        "2\\alpha a_1 & \\alpha a_1+3\\alpha b_1-2\\alpha c_1 \\\\\n",
        "\\alpha b_1 & 5\\alpha c_1\n",
        "\\end{pmatrix} = \\begin{pmatrix}\n",
        "2a_4 & a_4+3b_4-2c_4 \\\\\n",
        "b_4 & 5c_4\n",
        "\\end{pmatrix} \\in \\mathbb{R^4}$."
      ],
      "metadata": {
        "id": "qDHFySAJxnTS"
      }
    },
    {
      "cell_type": "markdown",
      "source": [
        "Найти его базис и размерность. Элемент пространства $M_{22}$ можно представить как $a\\begin{pmatrix}\n",
        "2 & 1 \\\\\n",
        "0 & 0\n",
        "\\end{pmatrix} +\n",
        "b\\begin{pmatrix}\n",
        "0 & 3 \\\\\n",
        "1 & 0\n",
        "\\end{pmatrix} +\n",
        "c\\begin{pmatrix}\n",
        "0 & -2 \\\\\n",
        "0 & 5\n",
        "\\end{pmatrix}$ - линейная комбинация матриц $2 \\times 2$. Из данных матриц по аналогии с векторами можно составить систему, откуда получим только нетривиальное решение: $a=b=c=0$. Следовательно, марицы, приведённые выше в разложении *образуют базис в пространстве $M_{22}, \\space dimM_{22} = 3$."
      ],
      "metadata": {
        "id": "unSWS5jW2kpv"
      }
    },
    {
      "cell_type": "markdown",
      "metadata": {
        "id": "a4dc6120"
      },
      "source": [
        "## [Задачи Олимпиадные](http://www.mathnet.ru/links/a6bacfb39d75891b7b9e7e465e42b296/mo679.pdf)"
      ]
    },
    {
      "cell_type": "markdown",
      "metadata": {
        "id": "df09a3be"
      },
      "source": [
        "**4)** Дана матрица $ A_n = \\begin{pmatrix}\n",
        "1 & 2/n & 6/n \\\\\n",
        "3/n & 1 & 0 \\\\\n",
        "-1/n & 0 & 1\n",
        "\\end{pmatrix}$. Вычислите $\\lim_{x \\to \\infty}A_n^n$"
      ]
    },
    {
      "cell_type": "markdown",
      "metadata": {
        "id": "5b272d2b"
      },
      "source": [
        "Пусть $B_n = A_n - I$. Тогда \n",
        "$$ B_n = \\begin{pmatrix}\n",
        "0 & 2/n & 6/n \\\\\n",
        "3/n & 0 & 0 \\\\\n",
        "-1/n & 0 & 0\n",
        "\\end{pmatrix}, \\space B_n^2 = \\begin{pmatrix}\n",
        "0 & 0 & 0 \\\\\n",
        "0 & 6/n^2 & 18/n^2 \\\\\n",
        "0 & -2/n^2 & -6/n^2\n",
        "\\end{pmatrix}, \\space B_n^3 = 0.$$\n",
        "Значит при $k \\leq 3 \\Rightarrow \\space B_n^k = O$"
      ]
    },
    {
      "cell_type": "markdown",
      "metadata": {
        "id": "d43f2d95"
      },
      "source": [
        "Поэтому по формуле бинома Ньютона (учитывая коммутирование матриц $I$ и $B_n$):\n",
        "$$ A_n^n = (I+B_n)^n = I + nB_n + \\frac{n(n-1)}{2}B_n^2 = \n",
        "\\begin{pmatrix} \n",
        "1 & 2 & 6 \\\\\n",
        "3 & 4 & 9 \\\\\n",
        "-1 & -1 & -2\n",
        "\\end{pmatrix}\n",
        "$$"
      ]
    },
    {
      "cell_type": "markdown",
      "source": [
        "**5)** Найдите $A^n$, если $A = \n",
        "\\begin{pmatrix} \n",
        "4 & 0 & -1 \\\\\n",
        "0 & 6 & -3 \\\\\n",
        "-4 & 12 & -5\n",
        "\\end{pmatrix}$."
      ],
      "metadata": {
        "id": "05OmyIw_dpms"
      }
    },
    {
      "cell_type": "markdown",
      "source": [
        "&emsp; Найдём собственные значения матрицы $A$: "
      ],
      "metadata": {
        "id": "JX0EV8A2h6gI"
      }
    },
    {
      "cell_type": "code",
      "source": [
        "from numpy import linalg as LA\n",
        "A = [[4, 0, -1], [0, 6, -3], [-4, 12, -5]]\n",
        "w, v = LA.eig(A)\n",
        "w #eigenvalues"
      ],
      "metadata": {
        "colab": {
          "base_uri": "https://localhost:8080/"
        },
        "id": "sBsOyOmElKTR",
        "outputId": "a255598d-0e2e-41b9-d8b0-1746a0129a54"
      },
      "execution_count": 3,
      "outputs": [
        {
          "output_type": "execute_result",
          "data": {
            "text/plain": [
              "array([ 3.00000000e+00,  2.00000000e+00, -6.37952864e-15])"
            ]
          },
          "metadata": {},
          "execution_count": 3
        }
      ]
    },
    {
      "cell_type": "markdown",
      "source": [
        "&emsp; Собственных значений $3$, и они разные: $3, 2, 0$. Столбцы матрицы перехода к диагональному виду состоят из собственных векторов (подставим поочерёдно каждое собственное значение и найдём частное решение, для $\\lambda = 3: \\space (1, 1, 1)$ ):  \n",
        "$$T = \n",
        "\\begin{pmatrix} \n",
        "1 & 2 & 1 \\\\\n",
        "1 & 3 & 2 \\\\\n",
        "1 & 4 & 4\n",
        "\\end{pmatrix}.$$  \n",
        "&emsp; Используя матрицу перехода, можно получить диагонализированную матрицу (из собственных значений) как $T^{-1}AT = D$, тогда исходную можно выразить как $A = TDT^{-1}$.  \n",
        "&emsp; По ассоциативности произведения матриц $A^n = (TDT^{-1})^n = (TDT^{-1})\\cdot(TDT^{-1}) ... (TDT^{-1}) = T D^n T^{-1} = T \n",
        "\\begin{pmatrix} \n",
        "3^n & 0 & 0 \\\\\n",
        "0 & 2^n & 0 \\\\\n",
        "0 & 0 & 0\n",
        "\\end{pmatrix} T^{-1}$. "
      ],
      "metadata": {
        "id": "oDxc6hmPlnDn"
      }
    },
    {
      "cell_type": "markdown",
      "metadata": {
        "id": "d45422e7"
      },
      "source": [
        "**8)** [Из ШАД 07.06.2015](#ШАД_06.2015) "
      ]
    },
    {
      "cell_type": "markdown",
      "metadata": {
        "id": "b758529f"
      },
      "source": [
        "**28)** А и B - квадратные матрицы одинакового размера. Обязательно ли **а)** tr(AB) = tr(BA); **[б)](https://www.quora.com/If-A-is-invertible-how-can-I-show-that-rank-AB-rank-B-rank-BA)** rk(AB) = rk(BA)?"
      ]
    },
    {
      "cell_type": "markdown",
      "metadata": {
        "id": "bf7dcc8f"
      },
      "source": [
        "1) Пусть $\\exists \\space A^{-1} \\space и \\space B^{-1}$ (обратимые и квадратные полного ранга), и, допуская, существование AB и BA имеем $ dimA = dimB = n $.  \n",
        "Согласно [теореме](https://en.wikipedia.org/wiki/Rank%E2%80%93nullity_theorem), если ядра имеют равные размерности, - у них одинаковый ранг: $ rank(A) = rank(A^T) = rank(B) $.\n",
        "2) Пусть К - ядро АВ, тогда АВК = 0. Домножим слева $ A^{-1}\\cdot \\Rightarrow BK = 0 \\Rightarrow B \\space $ также вложено в ядро **К** и  \n",
        "**rankAB = rankB**. \n",
        "<br>\n",
        "3) $ A^TB^T  = (BA)^T  - ядро \\space K': A^TB^TK' = 0 \\space |(A^T)^{-1}\\cdot $  \n",
        "$B^TK' = 0 \\Rightarrow B^T $ имеет такое же ядро и ранг как $ A^TB^T $.\n",
        "$$ rank(A^TB^T) = rank((BA)^T) = rank(BA) = rank(B^T) = rank(B) = rank(AB)$$"
      ]
    },
    {
      "cell_type": "markdown",
      "metadata": {
        "id": "7c544198"
      },
      "source": [
        "**29)** [Из ШАД 09.06.2013](#ШАД_06.2013)"
      ]
    },
    {
      "cell_type": "markdown",
      "metadata": {
        "id": "38121eef"
      },
      "source": [
        "**30)** Пусть *А* - вырожденная матрица. Докажите, что матрица, составленная из алгебраическая доаолнений элементов *А*, имеет ранг не больше 1. "
      ]
    },
    {
      "cell_type": "markdown",
      "metadata": {
        "id": "22c2155a"
      },
      "source": [
        "det**A** = 0  \n",
        "**а)** пусть r**A** = n - 1, тогда пусть $ row_j \\equiv 0 $, минор  $- \\space \\delta_{ik} $, где $ i \\neq j $, а при $ i = j: $  \n",
        "$ \\exists\\delta_{ik} \\neq 0 $ (т.к оставшиеся строки ЛНЗ): $rA_{\\delta} = 1$ - матрица миноров.  \n",
        "**б)** r**A** < n - 1: $ \\forall \\space row \\space \\delta_{ik} = 0 $, т.к миноры содержат \"0\"-ю строку и $ rA_{\\delta} = 0 $."
      ]
    },
    {
      "cell_type": "markdown",
      "metadata": {
        "id": "40e67c71"
      },
      "source": [
        "**32)** Матрица размером **m × n** имеет ранг **r**. Нужно дополнить её до квадратной так, чтобы полученная матрица стала невырожденной. Каков наименьший размер полученной квадратной матрицы?"
      ]
    },
    {
      "cell_type": "markdown",
      "metadata": {
        "id": "01933fd5"
      },
      "source": [
        "&emsp; Пусть искомая матрица имеет размерность **k × k**, тогда не хватает **(k-n)** столбцов до искомого количества.  \n",
        "Остаётся **m** строк, которые теперь Л.Н ранг полученной матрицы **A':** $ rA' = m $.  \n",
        "&emsp; С другой стороны, изначально было *r* Л.Н столбцов, тогда нужно, как минимум, **m-r** столбцов (rA = r, rA' = m, тогда не хватает именно m-r Л.Н столбцов). Последнее возможно, если вообще возможно добавить *столько* столбцов: $ k-n \\geq m-r $  \n",
        "&emsp; Теперь добавим строки: из первой части получено **m** Л.Н строк, тогда можно найти ещё **m-k** таких строк. Итого, ключевое условие из первой части - это $ k \\geq m+n-r $. При исходном условии о *невырожденности* получаемой матрицы."
      ]
    },
    {
      "cell_type": "markdown",
      "source": [
        "**54)** Существует ли вещественная матрица $X$ такая, что\n",
        "$$X^2 +\n",
        "\\begin{pmatrix}\n",
        "1 & 1\\\\\n",
        "1 & 1\n",
        "\\end{pmatrix} \t\n",
        "X + X\n",
        "\\begin{pmatrix}\n",
        "1 & 1\\\\\n",
        "1 & 1\n",
        "\\end{pmatrix} \t\n",
        "=\n",
        "\\begin{pmatrix}\n",
        "1 & 2\\\\\n",
        "3 & 4\n",
        "\\end{pmatrix}\t?$$"
      ],
      "metadata": {
        "id": "9xi2diCGT1J9"
      }
    },
    {
      "cell_type": "markdown",
      "source": [
        "Пусть $E = \\begin{pmatrix}\n",
        "1 & 1\\\\\n",
        "1 & 1\n",
        "\\end{pmatrix} $. Прибавим к обеим частям уравнения $E^2 = \\begin{pmatrix}\n",
        "2 & 2\\\\\n",
        "2 & 2\n",
        "\\end{pmatrix} $: \n",
        "$$X^2 +EX + XE + E^2\t\n",
        "=\n",
        "\\begin{pmatrix}\n",
        "3 & 4\\\\\n",
        "5 & 6\n",
        "\\end{pmatrix}\t$$\n",
        "выражение слева - это представление квадрата суммы для матриц (без удвоенного, т.к. order matters). С учётом этого: $(X+E)^2 = \\begin{pmatrix}\n",
        "3 & 4\\\\\n",
        "5 & 6\n",
        "\\end{pmatrix}\t$.  \n",
        "Определитель справа: $det = -2$, при этом определитель слева можно представить как $det(A^2) = det(A \\cdot A) = detA \\cdot detA = (detA)^2 \\Rightarrow$ он нетрицательный. Противоречие.  \n",
        "**Ответ:** нет, не может."
      ],
      "metadata": {
        "id": "1q4OhlwnUZEh"
      }
    },
    {
      "cell_type": "markdown",
      "source": [
        "**55)** Пусть квадратная матрица $A$ — невырожденная, а матрица $X$ удовлетворяет уравнению\n",
        "$AX + XA = 0$. Докажите, что след матрицы $X$ равен нулю."
      ],
      "metadata": {
        "id": "R51j0yMNX9Hx"
      }
    },
    {
      "cell_type": "markdown",
      "source": [
        "* Выразим $X$: $(-X) = A^{-1}XA$;\n",
        "* Общий вид [подобных матриц](https://en.wikipedia.org/wiki/Matrix_similarity): $B = P^{-1}CP \\mbox{ где } P$ $\\mbox{ матрица перехода от одной системе к другой}$;  \n",
        "* У подобных матриц совпадают *ранг, определитель, след, собственные значения и тд.* $\\Rightarrow tr(-X) = tr(X)$, откуда $trX = 0$.  \n",
        "\n",
        "**PS:** для удобства понимания можно записать $(-X) = B$, тогда $B = P^{-1}XP$."
      ],
      "metadata": {
        "id": "c5wAcR0TYFzm"
      }
    }
  ]
}